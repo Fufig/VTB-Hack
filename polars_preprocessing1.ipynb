{
  "metadata": {
    "kernelspec": {
      "language": "python",
      "display_name": "Python 3",
      "name": "python3"
    },
    "language_info": {
      "name": "python",
      "version": "3.10.12",
      "mimetype": "text/x-python",
      "codemirror_mode": {
        "name": "ipython",
        "version": 3
      },
      "pygments_lexer": "ipython3",
      "nbconvert_exporter": "python",
      "file_extension": ".py"
    },
    "kaggle": {
      "accelerator": "gpu",
      "dataSources": [
        {
          "sourceId": 11243701,
          "sourceType": "datasetVersion",
          "datasetId": 7018501
        }
      ],
      "dockerImageVersionId": 30918,
      "isInternetEnabled": true,
      "language": "python",
      "sourceType": "notebook",
      "isGpuEnabled": true
    },
    "colab": {
      "provenance": []
    }
  },
  "nbformat_minor": 0,
  "nbformat": 4,
  "cells": [
    {
      "cell_type": "markdown",
      "source": [
        "# ДАННЫЕ"
      ],
      "metadata": {
        "id": "iQP9iqr1fKNc"
      }
    },
    {
      "cell_type": "code",
      "source": [
        "import polars as pl\n",
        "import polars.selectors as cs\n",
        "import numpy as np"
      ],
      "metadata": {
        "_uuid": "8f2839f25d086af736a60e9eeb907d3b93b6e0e5",
        "_cell_guid": "b1076dfc-b9ad-4769-8c92-a6c4dae69d19",
        "trusted": true,
        "execution": {
          "iopub.status.busy": "2025-04-06T19:22:00.498825Z",
          "iopub.execute_input": "2025-04-06T19:22:00.499017Z",
          "iopub.status.idle": "2025-04-06T19:22:00.503043Z",
          "shell.execute_reply.started": "2025-04-06T19:22:00.498999Z",
          "shell.execute_reply": "2025-04-06T19:22:00.502318Z"
        },
        "id": "N9RONgRyfKNj"
      },
      "outputs": [],
      "execution_count": null
    },
    {
      "cell_type": "code",
      "source": [
        "import holidays\n",
        "\n",
        "\n",
        "def calendar_preprocess(dir):\n",
        "    calendar = pl.scan_csv(dir + \"calendar_extended.csv\")\n",
        "    ua_holidays = holidays.RU(years=[2022, 2023, 2024, 2025, 2026])\n",
        "\n",
        "    calendar = calendar.with_columns(\n",
        "        pl.col(\"date\").str.strptime(pl.Date, format=\"%Y-%m-%d\").alias(\"date_dt\"),\n",
        "        pl.col(\"date\").map_elements(lambda x: int(x in ua_holidays)).alias(\"is_holiday\"))\n",
        "    calendar = calendar.with_columns(\n",
        "        pl.col(\"date_dt\").dt.weekday().is_in([6, 7]).cast(pl.Int8).alias(\"is_weekend\"),\n",
        "        pl.col(\"date_dt\").dt.weekday().alias(\"week_day\")\n",
        "    )\n",
        "\n",
        "\n",
        "\n",
        "    calendar = calendar.with_columns(\n",
        "        # pl.col(\"date_dt\").dt.day().alias(\"day_of_month\"),\n",
        "        pl.col(\"date_dt\").dt.month().alias(\"month\"),\n",
        "        pl.col(\"date_dt\").dt.year().alias(\"year\"),\n",
        "        ((pl.col(\"date_dt\").dt.day() - 1) // 7 + 1).alias(\"week_of_month\"),\n",
        "        pl.col(\"is_holiday\").sum().over(\"week\").alias(\"holidays_in_week\"),\n",
        "        pl.col(\"is_weekend\").sum().over(\"week\").alias(\"weekends_in_week\"),\n",
        "        # pl.col(\"date_dt\").dt.ordinal_day().alias(\"day_of_year\"),\n",
        "        pl.col(\"date_dt\").dt.quarter().alias(\"quarter\")\n",
        "    )\n",
        "\n",
        "    calendar = calendar.drop([\"part\", \"is_holiday\", \"is_weekend\", 'week_day']).with_columns(\n",
        "        pl.col(\"week\").cast(pl.Int16),\n",
        "        pl.col(\"month\").cast(pl.Int8),\n",
        "        pl.col(\"week_of_month\").cast(pl.Int8),\n",
        "        pl.col(\"holidays_in_week\").cast(pl.Int8),\n",
        "        pl.col(\"quarter\").cast(pl.Int8)\n",
        "    )\n",
        "\n",
        "    calendar = calendar.group_by(\"week\").agg(\n",
        "                pl.col(\"month\").mode().first().alias(\"month\"),\n",
        "                pl.col(\"year\").mode().first().alias(\"year\"),\n",
        "                pl.col(\"week_of_month\").mode().first().alias(\"week_of_month\"),\n",
        "                pl.col(\"quarter\").mode().first().alias(\"quarter\"),\n",
        "\n",
        "                pl.col(\"holidays_in_week\").first(),\n",
        "                pl.col(\"weekends_in_week\").first()\n",
        "            ).with_columns(pl.concat_str(pl.col(\"month\"), pl.col(\"week_of_month\"), separator=\"-\").alias(\"month_week\"))\n",
        "    return calendar\n"
      ],
      "metadata": {
        "trusted": true,
        "execution": {
          "iopub.status.busy": "2025-04-06T19:22:01.099194Z",
          "iopub.execute_input": "2025-04-06T19:22:01.099552Z",
          "iopub.status.idle": "2025-04-06T19:22:01.117906Z",
          "shell.execute_reply.started": "2025-04-06T19:22:01.099524Z",
          "shell.execute_reply": "2025-04-06T19:22:01.116977Z"
        },
        "id": "b4ZU-1bWfKNn"
      },
      "outputs": [],
      "execution_count": null
    },
    {
      "cell_type": "code",
      "source": [
        "# calendar_preprocess(dir).collect().filter(pl.col('week') >= 118).sort(['year', 'month', 'week_of_month'])"
      ],
      "metadata": {
        "trusted": true,
        "execution": {
          "iopub.status.busy": "2025-04-06T19:22:04.362709Z",
          "iopub.execute_input": "2025-04-06T19:22:04.362990Z",
          "iopub.status.idle": "2025-04-06T19:22:04.366442Z",
          "shell.execute_reply.started": "2025-04-06T19:22:04.362970Z",
          "shell.execute_reply": "2025-04-06T19:22:04.365499Z"
        },
        "id": "lInDbQ0PfKNr"
      },
      "outputs": [],
      "execution_count": null
    },
    {
      "cell_type": "code",
      "source": [
        "# calendar_preprocess(dir).collect().filter(pl.col('week') == 106).sort(['year', 'month', 'week_of_month'])"
      ],
      "metadata": {
        "trusted": true,
        "execution": {
          "iopub.status.busy": "2025-04-06T19:22:04.713784Z",
          "iopub.execute_input": "2025-04-06T19:22:04.714090Z",
          "iopub.status.idle": "2025-04-06T19:22:04.717056Z",
          "shell.execute_reply.started": "2025-04-06T19:22:04.714058Z",
          "shell.execute_reply": "2025-04-06T19:22:04.716331Z"
        },
        "id": "11v4w_33fKNs"
      },
      "outputs": [],
      "execution_count": null
    },
    {
      "cell_type": "code",
      "source": [],
      "metadata": {
        "trusted": true,
        "id": "ySp3xbrHfKNt"
      },
      "outputs": [],
      "execution_count": null
    },
    {
      "cell_type": "code",
      "source": [],
      "metadata": {
        "trusted": true,
        "id": "V3SL0ZfWfKNu"
      },
      "outputs": [],
      "execution_count": null
    },
    {
      "cell_type": "code",
      "source": [],
      "metadata": {
        "trusted": true,
        "id": "w00law48fKNu"
      },
      "outputs": [],
      "execution_count": null
    },
    {
      "cell_type": "code",
      "source": [
        "def out_preprocessor(dir):\n",
        "    inns = pl.read_csv(dir + \"sample_submit_extended.csv\",schema_overrides={\"predict\": pl.Float64})['inn_id'].unique()\n",
        "    out_vtb_full=pl.scan_parquet(f\"{dir}transactions_?.parquet\").filter(pl.col(\"doc_payer_inn\").is_in(inns)\n",
        "                                                ).filter(pl.col(\"doc_payer_bank_name_flag\")==1\n",
        "                                                ).with_columns(pl.col(\"date\").dt.date().alias(\"day\"))\n",
        "    out_vtb_full=out_vtb_full.join(pl.scan_csv(dir + \"calendar_extended.csv\").with_columns(pl.col('date').str.strptime(pl.Date, format=\"%Y-%m-%d\").alias(\"date_dt\")),\n",
        "                        left_on=[\"day\"],\n",
        "                        right_on=[\"date_dt\"],\n",
        "                        how=\"left\" )\n",
        "    out_vtb = out_vtb_full.group_by(\"doc_payer_inn\").agg(\n",
        "                        pl.col(\"trns_count\").sum().alias(\"out_vtb_trns_count_w\"),\n",
        "                        # pl.col(\"trns_amount\").sum().alias(\"out_vtb_trns_amount_w\"),\n",
        "                        # (pl.col(\"trns_amount\").sum() / pl.col(\"trns_count\").sum()).alias(\"out_vtb_avg_amount_w\"),\n",
        "                        pl.col(\"date\").n_unique().alias(\"out_vtb_date_w\"),\n",
        "                        pl.col(\"doc_payee_inn\").n_unique().alias(\"out_vtb_cinn_w\"),\n",
        "                        pl.col(\"trns_class_encoded\").n_unique().alias(\"out_vtb_trns_class_encoded_w\"),\n",
        "                        pl.col(\"doc_payer_bank_name_encoded\").n_unique().alias(\"out_vtb_doc_payer_bank_name_encoded_w\"),\n",
        "                        pl.col(\"trns_count\").last().alias(\"outl_vtb_trns_count_w\"),\n",
        "                    )\n",
        "\n",
        "\n",
        "\n",
        "    return out_vtb\n",
        ""
      ],
      "metadata": {
        "trusted": true,
        "execution": {
          "iopub.status.busy": "2025-04-06T19:22:06.135596Z",
          "iopub.execute_input": "2025-04-06T19:22:06.135885Z",
          "iopub.status.idle": "2025-04-06T19:22:06.141502Z",
          "shell.execute_reply.started": "2025-04-06T19:22:06.135862Z",
          "shell.execute_reply": "2025-04-06T19:22:06.140725Z"
        },
        "id": "2avvHQMhfKNv"
      },
      "outputs": [],
      "execution_count": null
    },
    {
      "cell_type": "code",
      "source": [
        "def in_preprocessor(dir):\n",
        "    inns = pl.read_csv(dir + \"sample_submit_extended.csv\",schema_overrides={\"predict\": pl.Float64})['inn_id'].unique()\n",
        "    in_vtb_full = (\n",
        "    pl.scan_parquet(f\"{dir}transactions_?.parquet\")\n",
        "    .filter(pl.col(\"doc_payee_inn\").is_in(inns))\n",
        "    .filter(pl.col(\"doc_payee_bank_name_flag\") == 1)\n",
        "    .with_columns(pl.col(\"date\").dt.date().alias(\"day\"))\n",
        "    )\n",
        "\n",
        "    in_vtb_full = in_vtb_full.join(\n",
        "        pl.scan_csv(dir + \"calendar_extended.csv\").with_columns(pl.col('date').str.strptime(pl.Date, format=\"%Y-%m-%d\").alias(\"date_dt\")),\n",
        "        left_on=[\"day\"],\n",
        "        right_on=[\"date_dt\"],\n",
        "        how=\"left\"\n",
        "    )\n",
        "\n",
        "    in_vtb = (\n",
        "        in_vtb_full.group_by(\"doc_payee_inn\")\n",
        "        .agg(\n",
        "            pl.col(\"trns_count\").sum().alias(\"in_vtb_trns_count_w\"),\n",
        "            pl.col(\"date\").n_unique().alias(\"in_vtb_date_w\"),\n",
        "            pl.col(\"doc_payer_inn\").n_unique().alias(\"in_vtb_cinn_w\"),\n",
        "            pl.col(\"trns_class_encoded\").n_unique().alias(\"in_vtb_trns_class_encoded_w\"),\n",
        "            pl.col(\"doc_payee_bank_name_encoded\").n_unique().alias(\"in_vtb_doc_payee_bank_name_encoded_w\"),\n",
        "            pl.col(\"trns_count\").last().alias(\"inl_vtb_trns_count_w\"),\n",
        "        )\n",
        "    )\n",
        "\n",
        "\n",
        "    return in_vtb\n",
        ""
      ],
      "metadata": {
        "trusted": true,
        "execution": {
          "iopub.status.busy": "2025-04-06T19:22:07.833793Z",
          "iopub.execute_input": "2025-04-06T19:22:07.834108Z",
          "iopub.status.idle": "2025-04-06T19:22:07.839886Z",
          "shell.execute_reply.started": "2025-04-06T19:22:07.834083Z",
          "shell.execute_reply": "2025-04-06T19:22:07.838973Z"
        },
        "id": "X_OgF6c8fKNw"
      },
      "outputs": [],
      "execution_count": null
    },
    {
      "cell_type": "code",
      "source": [
        "def prepare_all(dir, calendar):\n",
        "    inns = pl.read_csv(dir + \"sample_submit_extended.csv\",schema_overrides={\"predict\": pl.Float64})['inn_id'].unique()\n",
        "    full = pl.concat([pl.scan_parquet('/kaggle/input/iatvoirotblat/target_series_extended.parquet'), pl.scan_parquet('/kaggle/input/iatvoirotblat/target_series (1).parquet')]\n",
        "                    ).with_columns(pl.col(\"week\").cast(pl.Int16)\n",
        "                    ).filter(pl.col('inn_id').is_in(inns))\n",
        "    full = full.join(calendar, on='week', how='left').unique()\n",
        "    # full = full.join(pl.scan_parquet('/kaggle/input/iatvoirotblat/innweekstartsum.parquet').with_columns(pl.col(\"week\").cast(pl.Int16)), on=['week', 'inn_id'], how='left')\n",
        "\n",
        "\n",
        "    test = pl.scan_csv(dir + \"sample_submit_extended.csv\",schema_overrides={\"predict\": pl.Float64}).with_columns(pl.col(\"week\").cast(pl.Int16)).rename({'predict': 'target'})\n",
        "    test = test.join(calendar, on='week', how='left').unique()\n",
        "\n",
        "    full = pl.concat([full, test])\n",
        "\n",
        "\n",
        "    full = full.sort('week')\n",
        "\n",
        "    full = full.with_columns(pl.col('target').log1p())\n",
        "\n",
        "\n",
        "    return full"
      ],
      "metadata": {
        "trusted": true,
        "execution": {
          "iopub.status.busy": "2025-04-06T19:22:10.103641Z",
          "iopub.execute_input": "2025-04-06T19:22:10.103974Z",
          "iopub.status.idle": "2025-04-06T19:22:10.109914Z",
          "shell.execute_reply.started": "2025-04-06T19:22:10.103947Z",
          "shell.execute_reply": "2025-04-06T19:22:10.109104Z"
        },
        "id": "zewaYf0ifKNx"
      },
      "outputs": [],
      "execution_count": null
    },
    {
      "cell_type": "code",
      "source": [
        "def pinf(dir, train):\n",
        "    profiles = pl.scan_parquet(dir + \"profiles_extended.parquet\")\n",
        "    age={\"1m\":1, \"2_3m\":3, \"3_6m\":6, \"6_12m\":12, \"1_2y\":24, \"2_4y\":48, \"4_8y\":96, \"8_12y\":144, \"more_12y\":192}\n",
        "    ipul={\"ip\":0,\"ul\":1,}\n",
        "    profiles = profiles.with_columns(\n",
        "        pl.col(\"report_date\").str.to_date(),\n",
        "        pl.col(\"diff_datopen_report_date_flg\").replace(age, default=np.NAN),\n",
        "        pl.col(\"ipul\").replace(ipul).cast(pl.Int8),\n",
        "        pl.col(\"id_region\").fill_null(\"-\"),\n",
        "        pl.col(\"main_okved_group\").fill_null(\"-\"),\n",
        "        pl.col(\"inn_id\").str.replace(\"inn\",\"\").cast(pl.Int32).alias(\"inn\"),\n",
        "    )\n",
        "    profiles = profiles.sort(\"report_date\").group_by(\"inn_id\"\n",
        "                                        ).agg(pl.col(\"ipul\").first(),\n",
        "                                            pl.col(\"id_region\").first().alias(\"id_region_f\"),\n",
        "                                              pl.col(\"id_region\").last().alias('id_region_l'),\n",
        "                                              pl.col(\"id_region\").n_unique().alias('id_region_u'),\n",
        "                                            pl.col(\"main_okved_group\").last(),\n",
        "                                            pl.col(\"diff_datopen_report_date_flg\").max(),\n",
        "                                            pl.col(\"diff_datopen_report_date_flg\").min().alias(\"diff_datopen_report_date_flg_min\"),\n",
        "                                           ).join(profiles.group_by(\"inn_id\"\n",
        "                                                                   ).agg(\n",
        "                                            pl.col(\"report_date\").min().alias(\"report_date_min\"),\n",
        "                                                                         ),\n",
        "                                                  on=\"inn_id\",\n",
        "                                                  how=\"left\")\n",
        "    train = train.join(profiles, on='inn_id', how='left')\n",
        "    return train"
      ],
      "metadata": {
        "trusted": true,
        "execution": {
          "iopub.status.busy": "2025-04-06T19:22:11.837108Z",
          "iopub.execute_input": "2025-04-06T19:22:11.837408Z",
          "iopub.status.idle": "2025-04-06T19:22:11.844061Z",
          "shell.execute_reply.started": "2025-04-06T19:22:11.837361Z",
          "shell.execute_reply": "2025-04-06T19:22:11.843127Z"
        },
        "id": "Ra0Fvn-HfKNy"
      },
      "outputs": [],
      "execution_count": null
    },
    {
      "cell_type": "code",
      "source": [
        "def groupper2(train, groups, mode, postfix):\n",
        "    groupped = train.group_by(groups).agg(\n",
        "        pl.col(\"target\").mean().alias(f\"{mode}_avg_amount_{postfix}\"),\n",
        "        pl.col(\"target\").median().alias(f\"{mode}_median_amount_{postfix}\"),\n",
        "        pl.col(\"target\").quantile(0.9).alias(f\"{mode}_p90_amount_{postfix}\"),\n",
        "        pl.col(\"target\").quantile(0.75).alias(f\"{mode}_p75_amount_{postfix}\"),\n",
        "        pl.col(\"target\").quantile(0.5).alias(f\"{mode}_p5_amount_{postfix}\"),\n",
        "        pl.col(\"target\").quantile(0.25).alias(f\"{mode}_p25_amount_{postfix}\"),\n",
        "        pl.col(\"target\").quantile(0.1).alias(f\"{mode}_p10_amount_{postfix}\"),\n",
        "\n",
        "        (pl.col(\"target\") > 500_000).sum().alias(f\"{mode}_large_trns_count_{postfix}\"),\n",
        "        (pl.col(\"target\") < 2_000).sum().alias(f\"{mode}_small_trns_count_{postfix}\"),\n",
        "        (pl.col(\"target\") > 500_000).mean().alias(f\"{mode}_large_trns_p_{postfix}\"),\n",
        "        (pl.col(\"target\") < 2_000).mean().alias(f\"{mode}_small_trns_p_{postfix}\"),\n",
        "        )\n",
        "    return groupped"
      ],
      "metadata": {
        "trusted": true,
        "execution": {
          "iopub.status.busy": "2025-04-06T19:22:13.460379Z",
          "iopub.execute_input": "2025-04-06T19:22:13.460715Z",
          "iopub.status.idle": "2025-04-06T19:22:13.466479Z",
          "shell.execute_reply.started": "2025-04-06T19:22:13.460688Z",
          "shell.execute_reply": "2025-04-06T19:22:13.465645Z"
        },
        "id": "PMtMB9K4fKNz"
      },
      "outputs": [],
      "execution_count": null
    },
    {
      "cell_type": "code",
      "source": [
        "def target_cumsum_grouper(dir, train):\n",
        "    train_inn = groupper2(train, [\"inn_id\", \"week\"], 'week', 'inn').sort('week')\n",
        "    cols = ['week_avg_amount_inn','week_median_amount_inn','week_p90_amount_inn','week_p75_amount_inn','week_p5_amount_inn','week_p25_amount_inn','week_p10_amount_inn','week_large_trns_count_inn','week_small_trns_count_inn','week_large_trns_p_inn','week_small_trns_p_inn']\n",
        "    train_inn = train_inn.with_columns(cs.by_name(cols).shift(1).over(\"inn_id\").name.suffix(\"_1\"),\n",
        "                                       cs.by_name(cols).shift(2).over(\"inn_id\").name.suffix(\"_2\"),\n",
        "                                       cs.by_name(cols).shift(3).over(\"inn_id\").name.suffix(\"_3\"),\n",
        "                                       # cs.by_name(cols).shift(4).over(\"inn_id\").name.suffix(\"_4\"),\n",
        "                                       # cs.by_name(cols).shift(5).over(\"inn_id\").name.suffix(\"_5\"),\n",
        "                                       # cs.by_name(cols).shift(6).over(\"inn_id\").name.suffix(\"_6\"),\n",
        "                                       # cs.by_name(cols).shift(7).over(\"inn_id\").name.suffix(\"_7\"),\n",
        "                                       # cs.by_name(cols).shift(8).over(\"inn_id\").name.suffix(\"_8\"),\n",
        "                                       # cs.by_name(cols).shift(9).over(\"inn_id\").name.suffix(\"_9\"),\n",
        "                                       # cs.by_name(cols).shift(10).over(\"inn_id\").name.suffix(\"_10\"),\n",
        "                                       # cs.by_name(cols).shift(11).over(\"inn_id\").name.suffix(\"_11\"),\n",
        "                                       # cs.by_name(cols).shift(12).over(\"inn_id\").name.suffix(\"_12\"),\n",
        "                                       # cs.by_name(cols).shift(13).over(\"inn_id\").name.suffix(\"_13\"),\n",
        "                                       # cs.by_name(cols).shift(14).over(\"inn_id\").name.suffix(\"_14\"),\n",
        "                                       # cs.by_name(cols).shift(15).over(\"inn_id\").name.suffix(\"_15\"),\n",
        "                                       # cs.by_name(cols).shift(16).over(\"inn_id\").name.suffix(\"_16\"),\n",
        "                                       # cs.by_name(cols).shift(17).over(\"inn_id\").name.suffix(\"_17\"),\n",
        "                                       # cs.by_name(cols).shift(18).over(\"inn_id\").name.suffix(\"_18\"),\n",
        "                                       # cs.by_name(cols).shift(19).over(\"inn_id\").name.suffix(\"_19\"),\n",
        "                                       # cs.by_name(cols).shift(20).over(\"inn_id\").name.suffix(\"_20\"),\n",
        "                                        ).drop(cols)\n",
        "    train = train.join(train_inn, on=['inn_id', 'week'], how='left')\n",
        "\n",
        "    train_inn = groupper2(train, [\"inn_id\", \"week_of_month\"], 'week_of_month', 'inn').sort('week_of_month')\n",
        "    cols = ['week_of_month_avg_amount_inn','week_of_month_median_amount_inn','week_of_month_p90_amount_inn','week_of_month_p75_amount_inn','week_of_month_p5_amount_inn','week_of_month_p25_amount_inn','week_of_month_p10_amount_inn','week_of_month_large_trns_count_inn','week_of_month_small_trns_count_inn','week_of_month_large_trns_p_inn','week_of_month_small_trns_p_inn']\n",
        "    train_inn = train_inn.with_columns(cs.by_name(cols).shift(1).over(\"inn_id\").name.suffix(\"_1\"),\n",
        "                                       # cs.by_name(cols).shift(2).over(\"inn_id\").name.suffix(\"_2\"),\n",
        "                                       # cs.by_name(cols).shift(3).over(\"inn_id\").name.suffix(\"_3\"),\n",
        "                                       # cs.by_name(cols).shift(4).over(\"inn_id\").name.suffix(\"_4\"),\n",
        "                                       # cs.by_name(cols).shift(5).over(\"inn_id\").name.suffix(\"_5\"),\n",
        "                                       # cs.by_name(cols).shift(6).over(\"inn_id\").name.suffix(\"_6\"),\n",
        "                                       # cs.by_name(cols).shift(7).over(\"inn_id\").name.suffix(\"_7\"),\n",
        "                                       # cs.by_name(cols).shift(8).over(\"inn_id\").name.suffix(\"_8\"),\n",
        "                                       # cs.by_name(cols).shift(9).over(\"inn_id\").name.suffix(\"_9\"),\n",
        "                                       # cs.by_name(cols).shift(10).over(\"inn_id\").name.suffix(\"_10\"),\n",
        "                                       # cs.by_name(cols).shift(11).over(\"inn_id\").name.suffix(\"_11\"),\n",
        "                                       # cs.by_name(cols).shift(12).over(\"inn_id\").name.suffix(\"_12\"),\n",
        "                                        ).drop(cols)\n",
        "    train = train.join(train_inn, on=['inn_id', 'week_of_month'], how='left')\n",
        "\n",
        "    train_inn = groupper2(train, [\"inn_id\", \"month\"], 'month', 'inn').sort('month')\n",
        "    cols = ['month_avg_amount_inn','month_median_amount_inn','month_p90_amount_inn','month_p75_amount_inn','month_p5_amount_inn','month_p25_amount_inn','month_p10_amount_inn','month_large_trns_count_inn','month_small_trns_count_inn','month_large_trns_p_inn','month_small_trns_p_inn']\n",
        "    train_inn = train_inn.with_columns(cs.by_name(cols).shift(1).over(\"inn_id\").name.suffix(\"_1\"),)\n",
        "    train = train.join(train_inn, on=['inn_id', 'month'], how='left')\n",
        "\n",
        "\n",
        "\n",
        "\n",
        "    # train_inn = groupper2(train.sort('week'), [\"inn_id\", \"month_week\"], 'wmonth', 'inn')\n",
        "    # cols = ['wmonth_avg_amount_inn','wmonth_median_amount_inn','wmonth_p90_amount_inn','wmonth_p75_amount_inn','wmonth_p5_amount_inn','wmonth_p25_amount_inn','wmonth_p10_amount_inn','wmonth_large_trns_count_inn','wmonth_small_trns_count_inn','wmonth_large_trns_p_inn','wmonth_small_trns_p_inn']\n",
        "    train = train.with_columns(\n",
        "                                cs.by_name(cols).shift(1).over([\"inn_id\", \"month_week\"]).name.suffix(\"_1\"),\n",
        "                                )\n",
        "    # train_inn = groupper2(train.sort('week'), [\"inn_id\", \"week\"], 'xweek', 'inn').sort('xweek')\n",
        "    # cols = ['xweek_avg_amount_inn','xweek_median_amount_inn','xweek_p90_amount_inn','xweek_p75_amount_inn','xweek_p5_amount_inn','xweek_p25_amount_inn','xweek_p10_amount_inn','xweek_large_trns_count_inn','xweek_small_trns_count_inn','xweek_large_trns_p_inn','xweek_small_trns_p_inn']\n",
        "    train = train.with_columns(\n",
        "                                cs.by_name('target').shift(1).over([\"inn_id\"]).name.suffix(\"_1\"),\n",
        "                                cs.by_name('target').shift(2).over([\"inn_id\"]).name.suffix(\"_2\"),\n",
        "                                cs.by_name('target').shift(3).over([\"inn_id\"]).name.suffix(\"_3\"),\n",
        "                                )\n",
        "\n",
        "\n",
        "\n",
        "\n",
        "\n",
        "    train_inn = groupper2(train, [\"week\"], 'week', 'full').sort('week')\n",
        "    cols = ['week_avg_amount_full','week_median_amount_full','week_p90_amount_full','week_p75_amount_full','week_p5_amount_full','week_p25_amount_full','week_p10_amount_full','week_large_trns_count_full','week_small_trns_count_full','week_large_trns_p_full','week_small_trns_p_full']\n",
        "    train_inn = train_inn.with_columns(cs.by_name(cols).shift(1).name.suffix(\"_1\"),\n",
        "                               cs.by_name(cols).shift(2).name.suffix(\"_2\"),\n",
        "                               cs.by_name(cols).shift(3).name.suffix(\"_3\"),\n",
        "                               # cs.by_name(cols).shift(4).name.suffix(\"_4\"),\n",
        "                               # cs.by_name(cols).shift(5).name.suffix(\"_5\"),\n",
        "                               # cs.by_name(cols).shift(6).name.suffix(\"_6\"),\n",
        "                               # cs.by_name(cols).shift(7).name.suffix(\"_7\"),\n",
        "                               # cs.by_name(cols).shift(8).name.suffix(\"_8\"),\n",
        "                               # cs.by_name(cols).shift(9).name.suffix(\"_9\"),\n",
        "                               # cs.by_name(cols).shift(10).name.suffix(\"_10\"),\n",
        "                               # cs.by_name(cols).shift(11).name.suffix(\"_11\"),\n",
        "                               # cs.by_name(cols).shift(12).name.suffix(\"_12\"),\n",
        "                               # cs.by_name(cols).shift(13).name.suffix(\"_13\"),\n",
        "                               # cs.by_name(cols).shift(14).name.suffix(\"_14\"),\n",
        "                               # cs.by_name(cols).shift(15).name.suffix(\"_15\"),\n",
        "                               # cs.by_name(cols).shift(16).name.suffix(\"_16\"),\n",
        "                               # cs.by_name(cols).shift(17).name.suffix(\"_17\"),\n",
        "                               # cs.by_name(cols).shift(18).name.suffix(\"_18\"),\n",
        "                               # cs.by_name(cols).shift(19).name.suffix(\"_19\"),\n",
        "                               # cs.by_name(cols).shift(20).name.suffix(\"_20\"),\n",
        "                                )\n",
        "    train = train.join(train_inn, on=['week'], how='left')\n",
        "\n",
        "    train_inn = groupper2(train, [\"week_of_month\"], 'week_of_month', 'full').sort('week_of_month')\n",
        "    cols = ['week_of_month_avg_amount_full','week_of_month_median_amount_full','week_of_month_p90_amount_full','week_of_month_p75_amount_full','week_of_month_p5_amount_full','week_of_month_p25_amount_full','week_of_month_p10_amount_full','week_of_month_large_trns_count_full','week_of_month_small_trns_count_full','week_of_month_large_trns_p_full','week_of_month_small_trns_p_full']\n",
        "    train_inn = train_inn.with_columns(cs.by_name(cols).shift(1).name.suffix(\"_1\"),\n",
        "                               # cs.by_name(cols).shift(2).name.suffix(\"_2\"),\n",
        "                               # cs.by_name(cols).shift(3).name.suffix(\"_3\"),\n",
        "                               # cs.by_name(cols).shift(4).name.suffix(\"_4\"),\n",
        "                               # cs.by_name(cols).shift(5).name.suffix(\"_5\"),\n",
        "                               # cs.by_name(cols).shift(6).name.suffix(\"_6\"),\n",
        "                               # cs.by_name(cols).shift(7).name.suffix(\"_7\"),\n",
        "                               # cs.by_name(cols).shift(8).name.suffix(\"_8\"),\n",
        "                               # cs.by_name(cols).shift(9).name.suffix(\"_9\"),\n",
        "                               # cs.by_name(cols).shift(10).name.suffix(\"_10\"),\n",
        "                               # cs.by_name(cols).shift(11).name.suffix(\"_11\"),\n",
        "                               # cs.by_name(cols).shift(12).name.suffix(\"_12\"),\n",
        "                                )\n",
        "    train = train.join(train_inn, on=['week_of_month'], how='left')\n",
        "\n",
        "    train_inn = groupper2(train, [\"month\"], 'month', 'full').sort('month')\n",
        "    cols = ['month_avg_amount_full','month_median_amount_full','month_p90_amount_full','month_p75_amount_full','month_p5_amount_full','month_p25_amount_full','month_p10_amount_full','month_large_trns_count_full','month_small_trns_count_full','month_large_trns_p_full','month_small_trns_p_full']\n",
        "    train_inn = train_inn.with_columns(cs.by_name(cols).shift(1).name.suffix(\"_1\"))\n",
        "    train = train.join(train_inn, on=['month'], how='left')\n",
        "\n",
        "\n",
        "    return train"
      ],
      "metadata": {
        "trusted": true,
        "execution": {
          "iopub.status.busy": "2025-04-06T19:22:13.952849Z",
          "iopub.execute_input": "2025-04-06T19:22:13.953129Z",
          "iopub.status.idle": "2025-04-06T19:22:13.965243Z",
          "shell.execute_reply.started": "2025-04-06T19:22:13.953107Z",
          "shell.execute_reply": "2025-04-06T19:22:13.964181Z"
        },
        "id": "dK4qB338fKNz"
      },
      "outputs": [],
      "execution_count": null
    },
    {
      "cell_type": "code",
      "source": [
        "# pl.scan_csv(dir + \"calendar_extended.csv\").with_columns(pl.col('date').str.strptime(pl.Date, format=\"%Y-%m-%d\").alias(\"date_dt\")).collect()"
      ],
      "metadata": {
        "trusted": true,
        "execution": {
          "iopub.status.busy": "2025-04-06T19:22:17.825329Z",
          "iopub.execute_input": "2025-04-06T19:22:17.825676Z",
          "iopub.status.idle": "2025-04-06T19:22:17.829051Z",
          "shell.execute_reply.started": "2025-04-06T19:22:17.825650Z",
          "shell.execute_reply": "2025-04-06T19:22:17.828085Z"
        },
        "id": "-9y3_vOlfKN1"
      },
      "outputs": [],
      "execution_count": null
    },
    {
      "cell_type": "code",
      "source": [
        "dir = '/kaggle/input/iatvoirotblat/'\n",
        "# year, month, day = 2000, 10, 1"
      ],
      "metadata": {
        "trusted": true,
        "execution": {
          "iopub.status.busy": "2025-04-06T19:22:18.117784Z",
          "iopub.execute_input": "2025-04-06T19:22:18.118038Z",
          "iopub.status.idle": "2025-04-06T19:22:18.121537Z",
          "shell.execute_reply.started": "2025-04-06T19:22:18.118018Z",
          "shell.execute_reply": "2025-04-06T19:22:18.120645Z"
        },
        "id": "aKtflI6RfKN2"
      },
      "outputs": [],
      "execution_count": null
    },
    {
      "cell_type": "code",
      "source": [
        "%%time\n",
        "calendar = calendar_preprocess(dir)\n",
        "train = prepare_all(dir, calendar)\n",
        "train = pinf(dir, train).drop('report_date_min')\n",
        "outer = out_preprocessor(dir)\n",
        "inner = in_preprocessor(dir)\n",
        "train = train.join(outer, left_on=['inn_id'], right_on=['doc_payer_inn']).join(inner, left_on=['inn_id'], right_on=['doc_payee_inn'])\n",
        "train = target_cumsum_grouper(dir, train)\n",
        "\n",
        "train = train.collect()"
      ],
      "metadata": {
        "trusted": true,
        "execution": {
          "iopub.status.busy": "2025-04-06T19:22:20.980577Z",
          "iopub.execute_input": "2025-04-06T19:22:20.980907Z",
          "iopub.status.idle": "2025-04-06T19:46:29.726806Z",
          "shell.execute_reply.started": "2025-04-06T19:22:20.980877Z",
          "shell.execute_reply": "2025-04-06T19:46:29.725896Z"
        },
        "scrolled": true,
        "id": "sNhWuHrsfKN3",
        "outputId": "21733ae0-b381-4ca0-d2fb-9cb03cbc4f71"
      },
      "outputs": [
        {
          "name": "stderr",
          "text": "<ipython-input-10-cc44d698ab99>:7: DeprecationWarning: The `default` parameter for `replace` is deprecated. Use `replace_strict` instead to set a default while replacing values.\n  pl.col(\"diff_datopen_report_date_flg\").replace(age, default=np.NAN),\nsys:1: MapWithoutReturnDtypeWarning: Calling `map_elements` without specifying `return_dtype` can lead to unpredictable results. Specify `return_dtype` to silence this warning.\nsys:1: MapWithoutReturnDtypeWarning: Calling `map_elements` without specifying `return_dtype` can lead to unpredictable results. Specify `return_dtype` to silence this warning.\nsys:1: MapWithoutReturnDtypeWarning: Calling `map_elements` without specifying `return_dtype` can lead to unpredictable results. Specify `return_dtype` to silence this warning.\nsys:1: MapWithoutReturnDtypeWarning: Calling `map_elements` without specifying `return_dtype` can lead to unpredictable results. Specify `return_dtype` to silence this warning.\nsys:1: MapWithoutReturnDtypeWarning: Calling `map_elements` without specifying `return_dtype` can lead to unpredictable results. Specify `return_dtype` to silence this warning.\nsys:1: MapWithoutReturnDtypeWarning: Calling `map_elements` without specifying `return_dtype` can lead to unpredictable results. Specify `return_dtype` to silence this warning.\nsys:1: MapWithoutReturnDtypeWarning: Calling `map_elements` without specifying `return_dtype` can lead to unpredictable results. Specify `return_dtype` to silence this warning.\nsys:1: MapWithoutReturnDtypeWarning: Calling `map_elements` without specifying `return_dtype` can lead to unpredictable results. Specify `return_dtype` to silence this warning.\nsys:1: MapWithoutReturnDtypeWarning: Calling `map_elements` without specifying `return_dtype` can lead to unpredictable results. Specify `return_dtype` to silence this warning.\nsys:1: MapWithoutReturnDtypeWarning: Calling `map_elements` without specifying `return_dtype` can lead to unpredictable results. Specify `return_dtype` to silence this warning.\nsys:1: MapWithoutReturnDtypeWarning: Calling `map_elements` without specifying `return_dtype` can lead to unpredictable results. Specify `return_dtype` to silence this warning.\nsys:1: MapWithoutReturnDtypeWarning: Calling `map_elements` without specifying `return_dtype` can lead to unpredictable results. Specify `return_dtype` to silence this warning.\nsys:1: MapWithoutReturnDtypeWarning: Calling `map_elements` without specifying `return_dtype` can lead to unpredictable results. Specify `return_dtype` to silence this warning.\nsys:1: MapWithoutReturnDtypeWarning: Calling `map_elements` without specifying `return_dtype` can lead to unpredictable results. Specify `return_dtype` to silence this warning.\nsys:1: MapWithoutReturnDtypeWarning: Calling `map_elements` without specifying `return_dtype` can lead to unpredictable results. Specify `return_dtype` to silence this warning.\nsys:1: MapWithoutReturnDtypeWarning: Calling `map_elements` without specifying `return_dtype` can lead to unpredictable results. Specify `return_dtype` to silence this warning.\nsys:1: MapWithoutReturnDtypeWarning: Calling `map_elements` without specifying `return_dtype` can lead to unpredictable results. Specify `return_dtype` to silence this warning.\nsys:1: MapWithoutReturnDtypeWarning: Calling `map_elements` without specifying `return_dtype` can lead to unpredictable results. Specify `return_dtype` to silence this warning.\nsys:1: MapWithoutReturnDtypeWarning: Calling `map_elements` without specifying `return_dtype` can lead to unpredictable results. Specify `return_dtype` to silence this warning.\nsys:1: MapWithoutReturnDtypeWarning: Calling `map_elements` without specifying `return_dtype` can lead to unpredictable results. Specify `return_dtype` to silence this warning.\nsys:1: MapWithoutReturnDtypeWarning: Calling `map_elements` without specifying `return_dtype` can lead to unpredictable results. Specify `return_dtype` to silence this warning.\nsys:1: MapWithoutReturnDtypeWarning: Calling `map_elements` without specifying `return_dtype` can lead to unpredictable results. Specify `return_dtype` to silence this warning.\nsys:1: MapWithoutReturnDtypeWarning: Calling `map_elements` without specifying `return_dtype` can lead to unpredictable results. Specify `return_dtype` to silence this warning.\nsys:1: MapWithoutReturnDtypeWarning: Calling `map_elements` without specifying `return_dtype` can lead to unpredictable results. Specify `return_dtype` to silence this warning.\nsys:1: MapWithoutReturnDtypeWarning: Calling `map_elements` without specifying `return_dtype` can lead to unpredictable results. Specify `return_dtype` to silence this warning.\nsys:1: MapWithoutReturnDtypeWarning: Calling `map_elements` without specifying `return_dtype` can lead to unpredictable results. Specify `return_dtype` to silence this warning.\nsys:1: MapWithoutReturnDtypeWarning: Calling `map_elements` without specifying `return_dtype` can lead to unpredictable results. Specify `return_dtype` to silence this warning.\nsys:1: MapWithoutReturnDtypeWarning: Calling `map_elements` without specifying `return_dtype` can lead to unpredictable results. Specify `return_dtype` to silence this warning.\nsys:1: MapWithoutReturnDtypeWarning: Calling `map_elements` without specifying `return_dtype` can lead to unpredictable results. Specify `return_dtype` to silence this warning.\nsys:1: MapWithoutReturnDtypeWarning: Calling `map_elements` without specifying `return_dtype` can lead to unpredictable results. Specify `return_dtype` to silence this warning.\nsys:1: MapWithoutReturnDtypeWarning: Calling `map_elements` without specifying `return_dtype` can lead to unpredictable results. Specify `return_dtype` to silence this warning.\nsys:1: MapWithoutReturnDtypeWarning: Calling `map_elements` without specifying `return_dtype` can lead to unpredictable results. Specify `return_dtype` to silence this warning.\nsys:1: MapWithoutReturnDtypeWarning: Calling `map_elements` without specifying `return_dtype` can lead to unpredictable results. Specify `return_dtype` to silence this warning.\nsys:1: MapWithoutReturnDtypeWarning: Calling `map_elements` without specifying `return_dtype` can lead to unpredictable results. Specify `return_dtype` to silence this warning.\nsys:1: MapWithoutReturnDtypeWarning: Calling `map_elements` without specifying `return_dtype` can lead to unpredictable results. Specify `return_dtype` to silence this warning.\nsys:1: MapWithoutReturnDtypeWarning: Calling `map_elements` without specifying `return_dtype` can lead to unpredictable results. Specify `return_dtype` to silence this warning.\nsys:1: MapWithoutReturnDtypeWarning: Calling `map_elements` without specifying `return_dtype` can lead to unpredictable results. Specify `return_dtype` to silence this warning.\nsys:1: MapWithoutReturnDtypeWarning: Calling `map_elements` without specifying `return_dtype` can lead to unpredictable results. Specify `return_dtype` to silence this warning.\nsys:1: MapWithoutReturnDtypeWarning: Calling `map_elements` without specifying `return_dtype` can lead to unpredictable results. Specify `return_dtype` to silence this warning.\nsys:1: MapWithoutReturnDtypeWarning: Calling `map_elements` without specifying `return_dtype` can lead to unpredictable results. Specify `return_dtype` to silence this warning.\nsys:1: MapWithoutReturnDtypeWarning: Calling `map_elements` without specifying `return_dtype` can lead to unpredictable results. Specify `return_dtype` to silence this warning.\nsys:1: MapWithoutReturnDtypeWarning: Calling `map_elements` without specifying `return_dtype` can lead to unpredictable results. Specify `return_dtype` to silence this warning.\nsys:1: MapWithoutReturnDtypeWarning: Calling `map_elements` without specifying `return_dtype` can lead to unpredictable results. Specify `return_dtype` to silence this warning.\nsys:1: MapWithoutReturnDtypeWarning: Calling `map_elements` without specifying `return_dtype` can lead to unpredictable results. Specify `return_dtype` to silence this warning.\nsys:1: MapWithoutReturnDtypeWarning: Calling `map_elements` without specifying `return_dtype` can lead to unpredictable results. Specify `return_dtype` to silence this warning.\nsys:1: MapWithoutReturnDtypeWarning: Calling `map_elements` without specifying `return_dtype` can lead to unpredictable results. Specify `return_dtype` to silence this warning.\nsys:1: MapWithoutReturnDtypeWarning: Calling `map_elements` without specifying `return_dtype` can lead to unpredictable results. Specify `return_dtype` to silence this warning.\nsys:1: MapWithoutReturnDtypeWarning: Calling `map_elements` without specifying `return_dtype` can lead to unpredictable results. Specify `return_dtype` to silence this warning.\nsys:1: MapWithoutReturnDtypeWarning: Calling `map_elements` without specifying `return_dtype` can lead to unpredictable results. Specify `return_dtype` to silence this warning.\nsys:1: MapWithoutReturnDtypeWarning: Calling `map_elements` without specifying `return_dtype` can lead to unpredictable results. Specify `return_dtype` to silence this warning.\nsys:1: MapWithoutReturnDtypeWarning: Calling `map_elements` without specifying `return_dtype` can lead to unpredictable results. Specify `return_dtype` to silence this warning.\nsys:1: MapWithoutReturnDtypeWarning: Calling `map_elements` without specifying `return_dtype` can lead to unpredictable results. Specify `return_dtype` to silence this warning.\nsys:1: MapWithoutReturnDtypeWarning: Calling `map_elements` without specifying `return_dtype` can lead to unpredictable results. Specify `return_dtype` to silence this warning.\nsys:1: MapWithoutReturnDtypeWarning: Calling `map_elements` without specifying `return_dtype` can lead to unpredictable results. Specify `return_dtype` to silence this warning.\nsys:1: MapWithoutReturnDtypeWarning: Calling `map_elements` without specifying `return_dtype` can lead to unpredictable results. Specify `return_dtype` to silence this warning.\nsys:1: MapWithoutReturnDtypeWarning: Calling `map_elements` without specifying `return_dtype` can lead to unpredictable results. Specify `return_dtype` to silence this warning.\nsys:1: MapWithoutReturnDtypeWarning: Calling `map_elements` without specifying `return_dtype` can lead to unpredictable results. Specify `return_dtype` to silence this warning.\nsys:1: MapWithoutReturnDtypeWarning: Calling `map_elements` without specifying `return_dtype` can lead to unpredictable results. Specify `return_dtype` to silence this warning.\nsys:1: MapWithoutReturnDtypeWarning: Calling `map_elements` without specifying `return_dtype` can lead to unpredictable results. Specify `return_dtype` to silence this warning.\nsys:1: MapWithoutReturnDtypeWarning: Calling `map_elements` without specifying `return_dtype` can lead to unpredictable results. Specify `return_dtype` to silence this warning.\nsys:1: MapWithoutReturnDtypeWarning: Calling `map_elements` without specifying `return_dtype` can lead to unpredictable results. Specify `return_dtype` to silence this warning.\nsys:1: MapWithoutReturnDtypeWarning: Calling `map_elements` without specifying `return_dtype` can lead to unpredictable results. Specify `return_dtype` to silence this warning.\nsys:1: MapWithoutReturnDtypeWarning: Calling `map_elements` without specifying `return_dtype` can lead to unpredictable results. Specify `return_dtype` to silence this warning.\nsys:1: MapWithoutReturnDtypeWarning: Calling `map_elements` without specifying `return_dtype` can lead to unpredictable results. Specify `return_dtype` to silence this warning.\nsys:1: MapWithoutReturnDtypeWarning: Calling `map_elements` without specifying `return_dtype` can lead to unpredictable results. Specify `return_dtype` to silence this warning.\nsys:1: MapWithoutReturnDtypeWarning: Calling `map_elements` without specifying `return_dtype` can lead to unpredictable results. Specify `return_dtype` to silence this warning.\nsys:1: MapWithoutReturnDtypeWarning: Calling `map_elements` without specifying `return_dtype` can lead to unpredictable results. Specify `return_dtype` to silence this warning.\nsys:1: MapWithoutReturnDtypeWarning: Calling `map_elements` without specifying `return_dtype` can lead to unpredictable results. Specify `return_dtype` to silence this warning.\nsys:1: MapWithoutReturnDtypeWarning: Calling `map_elements` without specifying `return_dtype` can lead to unpredictable results. Specify `return_dtype` to silence this warning.\nsys:1: MapWithoutReturnDtypeWarning: Calling `map_elements` without specifying `return_dtype` can lead to unpredictable results. Specify `return_dtype` to silence this warning.\nsys:1: MapWithoutReturnDtypeWarning: Calling `map_elements` without specifying `return_dtype` can lead to unpredictable results. Specify `return_dtype` to silence this warning.\nsys:1: MapWithoutReturnDtypeWarning: Calling `map_elements` without specifying `return_dtype` can lead to unpredictable results. Specify `return_dtype` to silence this warning.\nsys:1: MapWithoutReturnDtypeWarning: Calling `map_elements` without specifying `return_dtype` can lead to unpredictable results. Specify `return_dtype` to silence this warning.\nsys:1: MapWithoutReturnDtypeWarning: Calling `map_elements` without specifying `return_dtype` can lead to unpredictable results. Specify `return_dtype` to silence this warning.\nsys:1: MapWithoutReturnDtypeWarning: Calling `map_elements` without specifying `return_dtype` can lead to unpredictable results. Specify `return_dtype` to silence this warning.\nsys:1: MapWithoutReturnDtypeWarning: Calling `map_elements` without specifying `return_dtype` can lead to unpredictable results. Specify `return_dtype` to silence this warning.\nsys:1: MapWithoutReturnDtypeWarning: Calling `map_elements` without specifying `return_dtype` can lead to unpredictable results. Specify `return_dtype` to silence this warning.\nsys:1: MapWithoutReturnDtypeWarning: Calling `map_elements` without specifying `return_dtype` can lead to unpredictable results. Specify `return_dtype` to silence this warning.\nsys:1: MapWithoutReturnDtypeWarning: Calling `map_elements` without specifying `return_dtype` can lead to unpredictable results. Specify `return_dtype` to silence this warning.\nsys:1: MapWithoutReturnDtypeWarning: Calling `map_elements` without specifying `return_dtype` can lead to unpredictable results. Specify `return_dtype` to silence this warning.\nsys:1: MapWithoutReturnDtypeWarning: Calling `map_elements` without specifying `return_dtype` can lead to unpredictable results. Specify `return_dtype` to silence this warning.\nsys:1: MapWithoutReturnDtypeWarning: Calling `map_elements` without specifying `return_dtype` can lead to unpredictable results. Specify `return_dtype` to silence this warning.\nsys:1: MapWithoutReturnDtypeWarning: Calling `map_elements` without specifying `return_dtype` can lead to unpredictable results. Specify `return_dtype` to silence this warning.\nsys:1: MapWithoutReturnDtypeWarning: Calling `map_elements` without specifying `return_dtype` can lead to unpredictable results. Specify `return_dtype` to silence this warning.\nsys:1: MapWithoutReturnDtypeWarning: Calling `map_elements` without specifying `return_dtype` can lead to unpredictable results. Specify `return_dtype` to silence this warning.\nsys:1: MapWithoutReturnDtypeWarning: Calling `map_elements` without specifying `return_dtype` can lead to unpredictable results. Specify `return_dtype` to silence this warning.\nsys:1: MapWithoutReturnDtypeWarning: Calling `map_elements` without specifying `return_dtype` can lead to unpredictable results. Specify `return_dtype` to silence this warning.\nsys:1: MapWithoutReturnDtypeWarning: Calling `map_elements` without specifying `return_dtype` can lead to unpredictable results. Specify `return_dtype` to silence this warning.\nsys:1: MapWithoutReturnDtypeWarning: Calling `map_elements` without specifying `return_dtype` can lead to unpredictable results. Specify `return_dtype` to silence this warning.\nsys:1: MapWithoutReturnDtypeWarning: Calling `map_elements` without specifying `return_dtype` can lead to unpredictable results. Specify `return_dtype` to silence this warning.\nsys:1: MapWithoutReturnDtypeWarning: Calling `map_elements` without specifying `return_dtype` can lead to unpredictable results. Specify `return_dtype` to silence this warning.\nsys:1: MapWithoutReturnDtypeWarning: Calling `map_elements` without specifying `return_dtype` can lead to unpredictable results. Specify `return_dtype` to silence this warning.\nsys:1: MapWithoutReturnDtypeWarning: Calling `map_elements` without specifying `return_dtype` can lead to unpredictable results. Specify `return_dtype` to silence this warning.\nsys:1: MapWithoutReturnDtypeWarning: Calling `map_elements` without specifying `return_dtype` can lead to unpredictable results. Specify `return_dtype` to silence this warning.\nsys:1: MapWithoutReturnDtypeWarning: Calling `map_elements` without specifying `return_dtype` can lead to unpredictable results. Specify `return_dtype` to silence this warning.\nsys:1: MapWithoutReturnDtypeWarning: Calling `map_elements` without specifying `return_dtype` can lead to unpredictable results. Specify `return_dtype` to silence this warning.\nsys:1: MapWithoutReturnDtypeWarning: Calling `map_elements` without specifying `return_dtype` can lead to unpredictable results. Specify `return_dtype` to silence this warning.\nsys:1: MapWithoutReturnDtypeWarning: Calling `map_elements` without specifying `return_dtype` can lead to unpredictable results. Specify `return_dtype` to silence this warning.\nsys:1: MapWithoutReturnDtypeWarning: Calling `map_elements` without specifying `return_dtype` can lead to unpredictable results. Specify `return_dtype` to silence this warning.\nsys:1: MapWithoutReturnDtypeWarning: Calling `map_elements` without specifying `return_dtype` can lead to unpredictable results. Specify `return_dtype` to silence this warning.\nsys:1: MapWithoutReturnDtypeWarning: Calling `map_elements` without specifying `return_dtype` can lead to unpredictable results. Specify `return_dtype` to silence this warning.\nsys:1: MapWithoutReturnDtypeWarning: Calling `map_elements` without specifying `return_dtype` can lead to unpredictable results. Specify `return_dtype` to silence this warning.\nsys:1: MapWithoutReturnDtypeWarning: Calling `map_elements` without specifying `return_dtype` can lead to unpredictable results. Specify `return_dtype` to silence this warning.\nsys:1: MapWithoutReturnDtypeWarning: Calling `map_elements` without specifying `return_dtype` can lead to unpredictable results. Specify `return_dtype` to silence this warning.\nsys:1: MapWithoutReturnDtypeWarning: Calling `map_elements` without specifying `return_dtype` can lead to unpredictable results. Specify `return_dtype` to silence this warning.\nsys:1: MapWithoutReturnDtypeWarning: Calling `map_elements` without specifying `return_dtype` can lead to unpredictable results. Specify `return_dtype` to silence this warning.\nsys:1: MapWithoutReturnDtypeWarning: Calling `map_elements` without specifying `return_dtype` can lead to unpredictable results. Specify `return_dtype` to silence this warning.\nsys:1: MapWithoutReturnDtypeWarning: Calling `map_elements` without specifying `return_dtype` can lead to unpredictable results. Specify `return_dtype` to silence this warning.\nsys:1: MapWithoutReturnDtypeWarning: Calling `map_elements` without specifying `return_dtype` can lead to unpredictable results. Specify `return_dtype` to silence this warning.\nsys:1: MapWithoutReturnDtypeWarning: Calling `map_elements` without specifying `return_dtype` can lead to unpredictable results. Specify `return_dtype` to silence this warning.\nsys:1: MapWithoutReturnDtypeWarning: Calling `map_elements` without specifying `return_dtype` can lead to unpredictable results. Specify `return_dtype` to silence this warning.\nsys:1: MapWithoutReturnDtypeWarning: Calling `map_elements` without specifying `return_dtype` can lead to unpredictable results. Specify `return_dtype` to silence this warning.\nsys:1: MapWithoutReturnDtypeWarning: Calling `map_elements` without specifying `return_dtype` can lead to unpredictable results. Specify `return_dtype` to silence this warning.\nsys:1: MapWithoutReturnDtypeWarning: Calling `map_elements` without specifying `return_dtype` can lead to unpredictable results. Specify `return_dtype` to silence this warning.\nsys:1: MapWithoutReturnDtypeWarning: Calling `map_elements` without specifying `return_dtype` can lead to unpredictable results. Specify `return_dtype` to silence this warning.\nsys:1: MapWithoutReturnDtypeWarning: Calling `map_elements` without specifying `return_dtype` can lead to unpredictable results. Specify `return_dtype` to silence this warning.\nsys:1: MapWithoutReturnDtypeWarning: Calling `map_elements` without specifying `return_dtype` can lead to unpredictable results. Specify `return_dtype` to silence this warning.\nsys:1: MapWithoutReturnDtypeWarning: Calling `map_elements` without specifying `return_dtype` can lead to unpredictable results. Specify `return_dtype` to silence this warning.\nsys:1: MapWithoutReturnDtypeWarning: Calling `map_elements` without specifying `return_dtype` can lead to unpredictable results. Specify `return_dtype` to silence this warning.\nsys:1: MapWithoutReturnDtypeWarning: Calling `map_elements` without specifying `return_dtype` can lead to unpredictable results. Specify `return_dtype` to silence this warning.\nsys:1: MapWithoutReturnDtypeWarning: Calling `map_elements` without specifying `return_dtype` can lead to unpredictable results. Specify `return_dtype` to silence this warning.\nsys:1: MapWithoutReturnDtypeWarning: Calling `map_elements` without specifying `return_dtype` can lead to unpredictable results. Specify `return_dtype` to silence this warning.\nsys:1: MapWithoutReturnDtypeWarning: Calling `map_elements` without specifying `return_dtype` can lead to unpredictable results. Specify `return_dtype` to silence this warning.\nsys:1: MapWithoutReturnDtypeWarning: Calling `map_elements` without specifying `return_dtype` can lead to unpredictable results. Specify `return_dtype` to silence this warning.\nsys:1: MapWithoutReturnDtypeWarning: Calling `map_elements` without specifying `return_dtype` can lead to unpredictable results. Specify `return_dtype` to silence this warning.\nsys:1: MapWithoutReturnDtypeWarning: Calling `map_elements` without specifying `return_dtype` can lead to unpredictable results. Specify `return_dtype` to silence this warning.\nsys:1: MapWithoutReturnDtypeWarning: Calling `map_elements` without specifying `return_dtype` can lead to unpredictable results. Specify `return_dtype` to silence this warning.\nsys:1: MapWithoutReturnDtypeWarning: Calling `map_elements` without specifying `return_dtype` can lead to unpredictable results. Specify `return_dtype` to silence this warning.\n",
          "output_type": "stream"
        },
        {
          "name": "stdout",
          "text": "CPU times: user 57min 17s, sys: 13min 17s, total: 1h 10min 34s\nWall time: 24min 8s\n",
          "output_type": "stream"
        }
      ],
      "execution_count": null
    },
    {
      "cell_type": "code",
      "source": [
        "train"
      ],
      "metadata": {
        "trusted": true,
        "execution": {
          "iopub.status.busy": "2025-04-06T19:46:29.728013Z",
          "iopub.execute_input": "2025-04-06T19:46:29.728259Z",
          "iopub.status.idle": "2025-04-06T19:46:29.746415Z",
          "shell.execute_reply.started": "2025-04-06T19:46:29.728237Z",
          "shell.execute_reply": "2025-04-06T19:46:29.745521Z"
        },
        "id": "DduyWQ8ofKN6",
        "outputId": "ea162c23-6222-4f36-8595-cc20149dfe30"
      },
      "outputs": [
        {
          "execution_count": 16,
          "output_type": "execute_result",
          "data": {
            "text/plain": "shape: (6_217_380, 186)\n┌────────────┬──────┬───────────┬───────┬───┬─────────────┬─────────────┬─────────────┬────────────┐\n│ inn_id     ┆ week ┆ target    ┆ month ┆ … ┆ month_large ┆ month_small ┆ month_large ┆ month_smal │\n│ ---        ┆ ---  ┆ ---       ┆ ---   ┆   ┆ _trns_count ┆ _trns_count ┆ _trns_p_ful ┆ l_trns_p_f │\n│ str        ┆ i16  ┆ f64       ┆ i8    ┆   ┆ _full_1     ┆ _full_1     ┆ l_1         ┆ ull_1      │\n│            ┆      ┆           ┆       ┆   ┆ ---         ┆ ---         ┆ ---         ┆ ---        │\n│            ┆      ┆           ┆       ┆   ┆ u32         ┆ u32         ┆ f64         ┆ f64        │\n╞════════════╪══════╪═══════════╪═══════╪═══╪═════════════╪═════════════╪═════════════╪════════════╡\n│ inn3985525 ┆ 0    ┆ 14.001552 ┆ 7     ┆ … ┆ 0           ┆ 430434      ┆ 0.0         ┆ 1.0        │\n│ inn2124852 ┆ 0    ┆ 15.805398 ┆ 7     ┆ … ┆ 0           ┆ 430434      ┆ 0.0         ┆ 1.0        │\n│ inn1842381 ┆ 0    ┆ 10.804235 ┆ 7     ┆ … ┆ 0           ┆ 430434      ┆ 0.0         ┆ 1.0        │\n│ inn1758437 ┆ 0    ┆ 15.824165 ┆ 7     ┆ … ┆ 0           ┆ 430434      ┆ 0.0         ┆ 1.0        │\n│ inn2256320 ┆ 0    ┆ 0.0       ┆ 7     ┆ … ┆ 0           ┆ 430434      ┆ 0.0         ┆ 1.0        │\n│ …          ┆ …    ┆ …         ┆ …     ┆ … ┆ …           ┆ …           ┆ …           ┆ …          │\n│ inn1125328 ┆ 129  ┆ 14.185445 ┆ 1     ┆ … ┆ null        ┆ null        ┆ null        ┆ null       │\n│ inn2871423 ┆ 129  ┆ 13.542835 ┆ 1     ┆ … ┆ null        ┆ null        ┆ null        ┆ null       │\n│ inn1090976 ┆ 129  ┆ 13.463813 ┆ 1     ┆ … ┆ null        ┆ null        ┆ null        ┆ null       │\n│ inn1088141 ┆ 129  ┆ 14.493907 ┆ 1     ┆ … ┆ null        ┆ null        ┆ null        ┆ null       │\n│ inn4494867 ┆ 129  ┆ 14.952065 ┆ 1     ┆ … ┆ null        ┆ null        ┆ null        ┆ null       │\n└────────────┴──────┴───────────┴───────┴───┴─────────────┴─────────────┴─────────────┴────────────┘",
            "text/html": "<div><style>\n.dataframe > thead > tr,\n.dataframe > tbody > tr {\n  text-align: right;\n  white-space: pre-wrap;\n}\n</style>\n<small>shape: (6_217_380, 186)</small><table border=\"1\" class=\"dataframe\"><thead><tr><th>inn_id</th><th>week</th><th>target</th><th>month</th><th>year</th><th>week_of_month</th><th>quarter</th><th>holidays_in_week</th><th>weekends_in_week</th><th>month_week</th><th>ipul</th><th>id_region_f</th><th>id_region_l</th><th>id_region_u</th><th>main_okved_group</th><th>diff_datopen_report_date_flg</th><th>diff_datopen_report_date_flg_min</th><th>out_vtb_trns_count_w</th><th>out_vtb_date_w</th><th>out_vtb_cinn_w</th><th>out_vtb_trns_class_encoded_w</th><th>out_vtb_doc_payer_bank_name_encoded_w</th><th>outl_vtb_trns_count_w</th><th>in_vtb_trns_count_w</th><th>in_vtb_date_w</th><th>in_vtb_cinn_w</th><th>in_vtb_trns_class_encoded_w</th><th>in_vtb_doc_payee_bank_name_encoded_w</th><th>inl_vtb_trns_count_w</th><th>week_avg_amount_inn_1</th><th>week_median_amount_inn_1</th><th>week_p90_amount_inn_1</th><th>week_p75_amount_inn_1</th><th>week_p5_amount_inn_1</th><th>week_p25_amount_inn_1</th><th>week_p10_amount_inn_1</th><th>week_large_trns_count_inn_1</th><th>&hellip;</th><th>week_of_month_large_trns_count_full</th><th>week_of_month_small_trns_count_full</th><th>week_of_month_large_trns_p_full</th><th>week_of_month_small_trns_p_full</th><th>week_of_month_avg_amount_full_1</th><th>week_of_month_median_amount_full_1</th><th>week_of_month_p90_amount_full_1</th><th>week_of_month_p75_amount_full_1</th><th>week_of_month_p5_amount_full_1</th><th>week_of_month_p25_amount_full_1</th><th>week_of_month_p10_amount_full_1</th><th>week_of_month_large_trns_count_full_1</th><th>week_of_month_small_trns_count_full_1</th><th>week_of_month_large_trns_p_full_1</th><th>week_of_month_small_trns_p_full_1</th><th>month_avg_amount_full</th><th>month_median_amount_full</th><th>month_p90_amount_full</th><th>month_p75_amount_full</th><th>month_p5_amount_full</th><th>month_p25_amount_full</th><th>month_p10_amount_full</th><th>month_large_trns_count_full</th><th>month_small_trns_count_full</th><th>month_large_trns_p_full</th><th>month_small_trns_p_full</th><th>month_avg_amount_full_1</th><th>month_median_amount_full_1</th><th>month_p90_amount_full_1</th><th>month_p75_amount_full_1</th><th>month_p5_amount_full_1</th><th>month_p25_amount_full_1</th><th>month_p10_amount_full_1</th><th>month_large_trns_count_full_1</th><th>month_small_trns_count_full_1</th><th>month_large_trns_p_full_1</th><th>month_small_trns_p_full_1</th></tr><tr><td>str</td><td>i16</td><td>f64</td><td>i8</td><td>i32</td><td>i8</td><td>i8</td><td>i8</td><td>i64</td><td>str</td><td>i8</td><td>str</td><td>str</td><td>u32</td><td>str</td><td>f64</td><td>f64</td><td>f64</td><td>u32</td><td>u32</td><td>u32</td><td>u32</td><td>f64</td><td>f64</td><td>u32</td><td>u32</td><td>u32</td><td>u32</td><td>f64</td><td>f64</td><td>f64</td><td>f64</td><td>f64</td><td>f64</td><td>f64</td><td>f64</td><td>u32</td><td>&hellip;</td><td>u32</td><td>u32</td><td>f64</td><td>f64</td><td>f64</td><td>f64</td><td>f64</td><td>f64</td><td>f64</td><td>f64</td><td>f64</td><td>u32</td><td>u32</td><td>f64</td><td>f64</td><td>f64</td><td>f64</td><td>f64</td><td>f64</td><td>f64</td><td>f64</td><td>f64</td><td>u32</td><td>u32</td><td>f64</td><td>f64</td><td>f64</td><td>f64</td><td>f64</td><td>f64</td><td>f64</td><td>f64</td><td>f64</td><td>u32</td><td>u32</td><td>f64</td><td>f64</td></tr></thead><tbody><tr><td>&quot;inn3985525&quot;</td><td>0</td><td>14.001552</td><td>7</td><td>2022</td><td>4</td><td>3</td><td>0</td><td>2</td><td>&quot;7-4&quot;</td><td>1</td><td>&quot;1&quot;</td><td>&quot;1&quot;</td><td>1</td><td>&quot;41&quot;</td><td>96.0</td><td>96.0</td><td>764.0</td><td>291</td><td>125</td><td>9</td><td>2</td><td>1.0</td><td>927.0</td><td>377</td><td>113</td><td>11</td><td>3</td><td>1.0</td><td>null</td><td>null</td><td>null</td><td>null</td><td>null</td><td>null</td><td>null</td><td>null</td><td>&hellip;</td><td>0</td><td>1626084</td><td>0.0</td><td>1.0</td><td>12.429082</td><td>13.155168</td><td>15.46232</td><td>14.449855</td><td>13.15517</td><td>11.735994</td><td>9.832377</td><td>0</td><td>1434780</td><td>0.0</td><td>1.0</td><td>12.471947</td><td>13.169111</td><td>15.463917</td><td>14.458606</td><td>13.169123</td><td>11.756901</td><td>9.888787</td><td>0</td><td>430434</td><td>0.0</td><td>1.0</td><td>12.64034</td><td>13.238802</td><td>15.498859</td><td>14.506629</td><td>13.238805</td><td>11.874318</td><td>10.2062</td><td>0</td><td>430434</td><td>0.0</td><td>1.0</td></tr><tr><td>&quot;inn2124852&quot;</td><td>0</td><td>15.805398</td><td>7</td><td>2022</td><td>4</td><td>3</td><td>0</td><td>2</td><td>&quot;7-4&quot;</td><td>1</td><td>&quot;75&quot;</td><td>&quot;75&quot;</td><td>1</td><td>&quot;46&quot;</td><td>144.0</td><td>144.0</td><td>1163.0</td><td>453</td><td>113</td><td>5</td><td>2</td><td>6.0</td><td>1638.0</td><td>544</td><td>331</td><td>6</td><td>3</td><td>3.0</td><td>null</td><td>null</td><td>null</td><td>null</td><td>null</td><td>null</td><td>null</td><td>null</td><td>&hellip;</td><td>0</td><td>1626084</td><td>0.0</td><td>1.0</td><td>12.429082</td><td>13.155168</td><td>15.46232</td><td>14.449855</td><td>13.15517</td><td>11.735994</td><td>9.832377</td><td>0</td><td>1434780</td><td>0.0</td><td>1.0</td><td>12.471947</td><td>13.169111</td><td>15.463917</td><td>14.458606</td><td>13.169123</td><td>11.756901</td><td>9.888787</td><td>0</td><td>430434</td><td>0.0</td><td>1.0</td><td>12.64034</td><td>13.238802</td><td>15.498859</td><td>14.506629</td><td>13.238805</td><td>11.874318</td><td>10.2062</td><td>0</td><td>430434</td><td>0.0</td><td>1.0</td></tr><tr><td>&quot;inn1842381&quot;</td><td>0</td><td>10.804235</td><td>7</td><td>2022</td><td>4</td><td>3</td><td>0</td><td>2</td><td>&quot;7-4&quot;</td><td>1</td><td>&quot;22&quot;</td><td>&quot;22&quot;</td><td>1</td><td>&quot;45&quot;</td><td>192.0</td><td>192.0</td><td>699.0</td><td>363</td><td>94</td><td>3</td><td>4</td><td>2.0</td><td>175.0</td><td>110</td><td>28</td><td>3</td><td>1</td><td>1.0</td><td>null</td><td>null</td><td>null</td><td>null</td><td>null</td><td>null</td><td>null</td><td>null</td><td>&hellip;</td><td>0</td><td>1626084</td><td>0.0</td><td>1.0</td><td>12.429082</td><td>13.155168</td><td>15.46232</td><td>14.449855</td><td>13.15517</td><td>11.735994</td><td>9.832377</td><td>0</td><td>1434780</td><td>0.0</td><td>1.0</td><td>12.471947</td><td>13.169111</td><td>15.463917</td><td>14.458606</td><td>13.169123</td><td>11.756901</td><td>9.888787</td><td>0</td><td>430434</td><td>0.0</td><td>1.0</td><td>12.64034</td><td>13.238802</td><td>15.498859</td><td>14.506629</td><td>13.238805</td><td>11.874318</td><td>10.2062</td><td>0</td><td>430434</td><td>0.0</td><td>1.0</td></tr><tr><td>&quot;inn1758437&quot;</td><td>0</td><td>15.824165</td><td>7</td><td>2022</td><td>4</td><td>3</td><td>0</td><td>2</td><td>&quot;7-4&quot;</td><td>1</td><td>&quot;20&quot;</td><td>&quot;20&quot;</td><td>1</td><td>&quot;10&quot;</td><td>192.0</td><td>192.0</td><td>8797.0</td><td>658</td><td>371</td><td>8</td><td>3</td><td>3.0</td><td>3057.0</td><td>601</td><td>90</td><td>6</td><td>3</td><td>1.0</td><td>null</td><td>null</td><td>null</td><td>null</td><td>null</td><td>null</td><td>null</td><td>null</td><td>&hellip;</td><td>0</td><td>1626084</td><td>0.0</td><td>1.0</td><td>12.429082</td><td>13.155168</td><td>15.46232</td><td>14.449855</td><td>13.15517</td><td>11.735994</td><td>9.832377</td><td>0</td><td>1434780</td><td>0.0</td><td>1.0</td><td>12.471947</td><td>13.169111</td><td>15.463917</td><td>14.458606</td><td>13.169123</td><td>11.756901</td><td>9.888787</td><td>0</td><td>430434</td><td>0.0</td><td>1.0</td><td>12.64034</td><td>13.238802</td><td>15.498859</td><td>14.506629</td><td>13.238805</td><td>11.874318</td><td>10.2062</td><td>0</td><td>430434</td><td>0.0</td><td>1.0</td></tr><tr><td>&quot;inn2256320&quot;</td><td>0</td><td>0.0</td><td>7</td><td>2022</td><td>4</td><td>3</td><td>0</td><td>2</td><td>&quot;7-4&quot;</td><td>0</td><td>&quot;38&quot;</td><td>&quot;38&quot;</td><td>1</td><td>&quot;47&quot;</td><td>24.0</td><td>12.0</td><td>1692.0</td><td>430</td><td>65</td><td>4</td><td>1</td><td>1.0</td><td>1423.0</td><td>431</td><td>14</td><td>4</td><td>1</td><td>3.0</td><td>null</td><td>null</td><td>null</td><td>null</td><td>null</td><td>null</td><td>null</td><td>null</td><td>&hellip;</td><td>0</td><td>1626084</td><td>0.0</td><td>1.0</td><td>12.429082</td><td>13.155168</td><td>15.46232</td><td>14.449855</td><td>13.15517</td><td>11.735994</td><td>9.832377</td><td>0</td><td>1434780</td><td>0.0</td><td>1.0</td><td>12.471947</td><td>13.169111</td><td>15.463917</td><td>14.458606</td><td>13.169123</td><td>11.756901</td><td>9.888787</td><td>0</td><td>430434</td><td>0.0</td><td>1.0</td><td>12.64034</td><td>13.238802</td><td>15.498859</td><td>14.506629</td><td>13.238805</td><td>11.874318</td><td>10.2062</td><td>0</td><td>430434</td><td>0.0</td><td>1.0</td></tr><tr><td>&hellip;</td><td>&hellip;</td><td>&hellip;</td><td>&hellip;</td><td>&hellip;</td><td>&hellip;</td><td>&hellip;</td><td>&hellip;</td><td>&hellip;</td><td>&hellip;</td><td>&hellip;</td><td>&hellip;</td><td>&hellip;</td><td>&hellip;</td><td>&hellip;</td><td>&hellip;</td><td>&hellip;</td><td>&hellip;</td><td>&hellip;</td><td>&hellip;</td><td>&hellip;</td><td>&hellip;</td><td>&hellip;</td><td>&hellip;</td><td>&hellip;</td><td>&hellip;</td><td>&hellip;</td><td>&hellip;</td><td>&hellip;</td><td>&hellip;</td><td>&hellip;</td><td>&hellip;</td><td>&hellip;</td><td>&hellip;</td><td>&hellip;</td><td>&hellip;</td><td>&hellip;</td><td>&hellip;</td><td>&hellip;</td><td>&hellip;</td><td>&hellip;</td><td>&hellip;</td><td>&hellip;</td><td>&hellip;</td><td>&hellip;</td><td>&hellip;</td><td>&hellip;</td><td>&hellip;</td><td>&hellip;</td><td>&hellip;</td><td>&hellip;</td><td>&hellip;</td><td>&hellip;</td><td>&hellip;</td><td>&hellip;</td><td>&hellip;</td><td>&hellip;</td><td>&hellip;</td><td>&hellip;</td><td>&hellip;</td><td>&hellip;</td><td>&hellip;</td><td>&hellip;</td><td>&hellip;</td><td>&hellip;</td><td>&hellip;</td><td>&hellip;</td><td>&hellip;</td><td>&hellip;</td><td>&hellip;</td><td>&hellip;</td><td>&hellip;</td><td>&hellip;</td><td>&hellip;</td><td>&hellip;</td></tr><tr><td>&quot;inn1125328&quot;</td><td>129</td><td>14.185445</td><td>1</td><td>2025</td><td>3</td><td>1</td><td>0</td><td>2</td><td>&quot;1-3&quot;</td><td>1</td><td>&quot;28&quot;</td><td>&quot;28&quot;</td><td>1</td><td>&quot;27&quot;</td><td>192.0</td><td>192.0</td><td>4041.0</td><td>580</td><td>289</td><td>8</td><td>6</td><td>1.0</td><td>4686.0</td><td>615</td><td>782</td><td>12</td><td>4</td><td>4.0</td><td>14.185445</td><td>14.185445</td><td>14.185445</td><td>14.185445</td><td>14.185445</td><td>14.185445</td><td>14.185445</td><td>0</td><td>&hellip;</td><td>0</td><td>1434780</td><td>0.0</td><td>1.0</td><td>12.344928</td><td>13.083172</td><td>15.406107</td><td>14.38578</td><td>13.083173</td><td>11.658533</td><td>9.706682</td><td>0</td><td>1434780</td><td>0.0</td><td>1.0</td><td>10.765839</td><td>12.564663</td><td>15.231135</td><td>14.088001</td><td>12.564663</td><td>10.293335</td><td>0.0</td><td>0</td><td>526086</td><td>0.0</td><td>1.0</td><td>null</td><td>null</td><td>null</td><td>null</td><td>null</td><td>null</td><td>null</td><td>null</td><td>null</td><td>null</td><td>null</td></tr><tr><td>&quot;inn2871423&quot;</td><td>129</td><td>13.542835</td><td>1</td><td>2025</td><td>3</td><td>1</td><td>0</td><td>2</td><td>&quot;1-3&quot;</td><td>1</td><td>&quot;92&quot;</td><td>&quot;92&quot;</td><td>1</td><td>&quot;06&quot;</td><td>192.0</td><td>192.0</td><td>650.0</td><td>205</td><td>94</td><td>11</td><td>1</td><td>4.0</td><td>279.0</td><td>128</td><td>28</td><td>8</td><td>2</td><td>1.0</td><td>13.542835</td><td>13.542835</td><td>13.542835</td><td>13.542835</td><td>13.542835</td><td>13.542835</td><td>13.542835</td><td>0</td><td>&hellip;</td><td>0</td><td>1434780</td><td>0.0</td><td>1.0</td><td>12.344928</td><td>13.083172</td><td>15.406107</td><td>14.38578</td><td>13.083173</td><td>11.658533</td><td>9.706682</td><td>0</td><td>1434780</td><td>0.0</td><td>1.0</td><td>10.765839</td><td>12.564663</td><td>15.231135</td><td>14.088001</td><td>12.564663</td><td>10.293335</td><td>0.0</td><td>0</td><td>526086</td><td>0.0</td><td>1.0</td><td>null</td><td>null</td><td>null</td><td>null</td><td>null</td><td>null</td><td>null</td><td>null</td><td>null</td><td>null</td><td>null</td></tr><tr><td>&quot;inn1090976&quot;</td><td>129</td><td>13.463813</td><td>1</td><td>2025</td><td>3</td><td>1</td><td>0</td><td>2</td><td>&quot;1-3&quot;</td><td>1</td><td>&quot;29&quot;</td><td>&quot;29&quot;</td><td>1</td><td>&quot;28&quot;</td><td>144.0</td><td>144.0</td><td>3244.0</td><td>509</td><td>285</td><td>9</td><td>4</td><td>1.0</td><td>984.0</td><td>405</td><td>244</td><td>10</td><td>3</td><td>1.0</td><td>13.463813</td><td>13.463813</td><td>13.463813</td><td>13.463813</td><td>13.463813</td><td>13.463813</td><td>13.463813</td><td>0</td><td>&hellip;</td><td>0</td><td>1434780</td><td>0.0</td><td>1.0</td><td>12.344928</td><td>13.083172</td><td>15.406107</td><td>14.38578</td><td>13.083173</td><td>11.658533</td><td>9.706682</td><td>0</td><td>1434780</td><td>0.0</td><td>1.0</td><td>10.765839</td><td>12.564663</td><td>15.231135</td><td>14.088001</td><td>12.564663</td><td>10.293335</td><td>0.0</td><td>0</td><td>526086</td><td>0.0</td><td>1.0</td><td>null</td><td>null</td><td>null</td><td>null</td><td>null</td><td>null</td><td>null</td><td>null</td><td>null</td><td>null</td><td>null</td></tr><tr><td>&quot;inn1088141&quot;</td><td>129</td><td>14.493907</td><td>1</td><td>2025</td><td>3</td><td>1</td><td>0</td><td>2</td><td>&quot;1-3&quot;</td><td>1</td><td>&quot;14&quot;</td><td>&quot;14&quot;</td><td>1</td><td>&quot;46&quot;</td><td>144.0</td><td>144.0</td><td>801.0</td><td>372</td><td>68</td><td>5</td><td>3</td><td>2.0</td><td>800.0</td><td>341</td><td>30</td><td>5</td><td>2</td><td>1.0</td><td>14.493907</td><td>14.493907</td><td>14.493907</td><td>14.493907</td><td>14.493907</td><td>14.493907</td><td>14.493907</td><td>0</td><td>&hellip;</td><td>0</td><td>1434780</td><td>0.0</td><td>1.0</td><td>12.344928</td><td>13.083172</td><td>15.406107</td><td>14.38578</td><td>13.083173</td><td>11.658533</td><td>9.706682</td><td>0</td><td>1434780</td><td>0.0</td><td>1.0</td><td>10.765839</td><td>12.564663</td><td>15.231135</td><td>14.088001</td><td>12.564663</td><td>10.293335</td><td>0.0</td><td>0</td><td>526086</td><td>0.0</td><td>1.0</td><td>null</td><td>null</td><td>null</td><td>null</td><td>null</td><td>null</td><td>null</td><td>null</td><td>null</td><td>null</td><td>null</td></tr><tr><td>&quot;inn4494867&quot;</td><td>129</td><td>14.952065</td><td>1</td><td>2025</td><td>3</td><td>1</td><td>0</td><td>2</td><td>&quot;1-3&quot;</td><td>1</td><td>&quot;4&quot;</td><td>&quot;4&quot;</td><td>1</td><td>&quot;46&quot;</td><td>144.0</td><td>96.0</td><td>2255.0</td><td>557</td><td>164</td><td>3</td><td>1</td><td>1.0</td><td>8191.0</td><td>676</td><td>743</td><td>6</td><td>4</td><td>1.0</td><td>14.952065</td><td>14.952065</td><td>14.952065</td><td>14.952065</td><td>14.952065</td><td>14.952065</td><td>14.952065</td><td>0</td><td>&hellip;</td><td>0</td><td>1434780</td><td>0.0</td><td>1.0</td><td>12.344928</td><td>13.083172</td><td>15.406107</td><td>14.38578</td><td>13.083173</td><td>11.658533</td><td>9.706682</td><td>0</td><td>1434780</td><td>0.0</td><td>1.0</td><td>10.765839</td><td>12.564663</td><td>15.231135</td><td>14.088001</td><td>12.564663</td><td>10.293335</td><td>0.0</td><td>0</td><td>526086</td><td>0.0</td><td>1.0</td><td>null</td><td>null</td><td>null</td><td>null</td><td>null</td><td>null</td><td>null</td><td>null</td><td>null</td><td>null</td><td>null</td></tr></tbody></table></div>"
          },
          "metadata": {}
        }
      ],
      "execution_count": null
    },
    {
      "cell_type": "code",
      "source": [
        "train.write_parquet('train_final_final_full.parquet')"
      ],
      "metadata": {
        "trusted": true,
        "execution": {
          "iopub.status.busy": "2025-04-06T19:46:29.747669Z",
          "iopub.execute_input": "2025-04-06T19:46:29.747920Z",
          "iopub.status.idle": "2025-04-06T19:46:53.858305Z",
          "shell.execute_reply.started": "2025-04-06T19:46:29.747900Z",
          "shell.execute_reply": "2025-04-06T19:46:53.857371Z"
        },
        "id": "jGn1JcfDfKN7"
      },
      "outputs": [],
      "execution_count": null
    },
    {
      "cell_type": "code",
      "source": [
        "train"
      ],
      "metadata": {
        "trusted": true,
        "execution": {
          "iopub.status.busy": "2025-04-06T19:46:53.859284Z",
          "iopub.execute_input": "2025-04-06T19:46:53.859541Z",
          "iopub.status.idle": "2025-04-06T19:46:53.872071Z",
          "shell.execute_reply.started": "2025-04-06T19:46:53.859520Z",
          "shell.execute_reply": "2025-04-06T19:46:53.871306Z"
        },
        "id": "NFpCBAHNfKN7",
        "outputId": "eaccfb60-feda-4bd3-e485-291c6d8fe247"
      },
      "outputs": [
        {
          "execution_count": 18,
          "output_type": "execute_result",
          "data": {
            "text/plain": "shape: (6_217_380, 186)\n┌────────────┬──────┬───────────┬───────┬───┬─────────────┬─────────────┬─────────────┬────────────┐\n│ inn_id     ┆ week ┆ target    ┆ month ┆ … ┆ month_large ┆ month_small ┆ month_large ┆ month_smal │\n│ ---        ┆ ---  ┆ ---       ┆ ---   ┆   ┆ _trns_count ┆ _trns_count ┆ _trns_p_ful ┆ l_trns_p_f │\n│ str        ┆ i16  ┆ f64       ┆ i8    ┆   ┆ _full_1     ┆ _full_1     ┆ l_1         ┆ ull_1      │\n│            ┆      ┆           ┆       ┆   ┆ ---         ┆ ---         ┆ ---         ┆ ---        │\n│            ┆      ┆           ┆       ┆   ┆ u32         ┆ u32         ┆ f64         ┆ f64        │\n╞════════════╪══════╪═══════════╪═══════╪═══╪═════════════╪═════════════╪═════════════╪════════════╡\n│ inn3985525 ┆ 0    ┆ 14.001552 ┆ 7     ┆ … ┆ 0           ┆ 430434      ┆ 0.0         ┆ 1.0        │\n│ inn2124852 ┆ 0    ┆ 15.805398 ┆ 7     ┆ … ┆ 0           ┆ 430434      ┆ 0.0         ┆ 1.0        │\n│ inn1842381 ┆ 0    ┆ 10.804235 ┆ 7     ┆ … ┆ 0           ┆ 430434      ┆ 0.0         ┆ 1.0        │\n│ inn1758437 ┆ 0    ┆ 15.824165 ┆ 7     ┆ … ┆ 0           ┆ 430434      ┆ 0.0         ┆ 1.0        │\n│ inn2256320 ┆ 0    ┆ 0.0       ┆ 7     ┆ … ┆ 0           ┆ 430434      ┆ 0.0         ┆ 1.0        │\n│ …          ┆ …    ┆ …         ┆ …     ┆ … ┆ …           ┆ …           ┆ …           ┆ …          │\n│ inn1125328 ┆ 129  ┆ 14.185445 ┆ 1     ┆ … ┆ null        ┆ null        ┆ null        ┆ null       │\n│ inn2871423 ┆ 129  ┆ 13.542835 ┆ 1     ┆ … ┆ null        ┆ null        ┆ null        ┆ null       │\n│ inn1090976 ┆ 129  ┆ 13.463813 ┆ 1     ┆ … ┆ null        ┆ null        ┆ null        ┆ null       │\n│ inn1088141 ┆ 129  ┆ 14.493907 ┆ 1     ┆ … ┆ null        ┆ null        ┆ null        ┆ null       │\n│ inn4494867 ┆ 129  ┆ 14.952065 ┆ 1     ┆ … ┆ null        ┆ null        ┆ null        ┆ null       │\n└────────────┴──────┴───────────┴───────┴───┴─────────────┴─────────────┴─────────────┴────────────┘",
            "text/html": "<div><style>\n.dataframe > thead > tr,\n.dataframe > tbody > tr {\n  text-align: right;\n  white-space: pre-wrap;\n}\n</style>\n<small>shape: (6_217_380, 186)</small><table border=\"1\" class=\"dataframe\"><thead><tr><th>inn_id</th><th>week</th><th>target</th><th>month</th><th>year</th><th>week_of_month</th><th>quarter</th><th>holidays_in_week</th><th>weekends_in_week</th><th>month_week</th><th>ipul</th><th>id_region_f</th><th>id_region_l</th><th>id_region_u</th><th>main_okved_group</th><th>diff_datopen_report_date_flg</th><th>diff_datopen_report_date_flg_min</th><th>out_vtb_trns_count_w</th><th>out_vtb_date_w</th><th>out_vtb_cinn_w</th><th>out_vtb_trns_class_encoded_w</th><th>out_vtb_doc_payer_bank_name_encoded_w</th><th>outl_vtb_trns_count_w</th><th>in_vtb_trns_count_w</th><th>in_vtb_date_w</th><th>in_vtb_cinn_w</th><th>in_vtb_trns_class_encoded_w</th><th>in_vtb_doc_payee_bank_name_encoded_w</th><th>inl_vtb_trns_count_w</th><th>week_avg_amount_inn_1</th><th>week_median_amount_inn_1</th><th>week_p90_amount_inn_1</th><th>week_p75_amount_inn_1</th><th>week_p5_amount_inn_1</th><th>week_p25_amount_inn_1</th><th>week_p10_amount_inn_1</th><th>week_large_trns_count_inn_1</th><th>&hellip;</th><th>week_of_month_large_trns_count_full</th><th>week_of_month_small_trns_count_full</th><th>week_of_month_large_trns_p_full</th><th>week_of_month_small_trns_p_full</th><th>week_of_month_avg_amount_full_1</th><th>week_of_month_median_amount_full_1</th><th>week_of_month_p90_amount_full_1</th><th>week_of_month_p75_amount_full_1</th><th>week_of_month_p5_amount_full_1</th><th>week_of_month_p25_amount_full_1</th><th>week_of_month_p10_amount_full_1</th><th>week_of_month_large_trns_count_full_1</th><th>week_of_month_small_trns_count_full_1</th><th>week_of_month_large_trns_p_full_1</th><th>week_of_month_small_trns_p_full_1</th><th>month_avg_amount_full</th><th>month_median_amount_full</th><th>month_p90_amount_full</th><th>month_p75_amount_full</th><th>month_p5_amount_full</th><th>month_p25_amount_full</th><th>month_p10_amount_full</th><th>month_large_trns_count_full</th><th>month_small_trns_count_full</th><th>month_large_trns_p_full</th><th>month_small_trns_p_full</th><th>month_avg_amount_full_1</th><th>month_median_amount_full_1</th><th>month_p90_amount_full_1</th><th>month_p75_amount_full_1</th><th>month_p5_amount_full_1</th><th>month_p25_amount_full_1</th><th>month_p10_amount_full_1</th><th>month_large_trns_count_full_1</th><th>month_small_trns_count_full_1</th><th>month_large_trns_p_full_1</th><th>month_small_trns_p_full_1</th></tr><tr><td>str</td><td>i16</td><td>f64</td><td>i8</td><td>i32</td><td>i8</td><td>i8</td><td>i8</td><td>i64</td><td>str</td><td>i8</td><td>str</td><td>str</td><td>u32</td><td>str</td><td>f64</td><td>f64</td><td>f64</td><td>u32</td><td>u32</td><td>u32</td><td>u32</td><td>f64</td><td>f64</td><td>u32</td><td>u32</td><td>u32</td><td>u32</td><td>f64</td><td>f64</td><td>f64</td><td>f64</td><td>f64</td><td>f64</td><td>f64</td><td>f64</td><td>u32</td><td>&hellip;</td><td>u32</td><td>u32</td><td>f64</td><td>f64</td><td>f64</td><td>f64</td><td>f64</td><td>f64</td><td>f64</td><td>f64</td><td>f64</td><td>u32</td><td>u32</td><td>f64</td><td>f64</td><td>f64</td><td>f64</td><td>f64</td><td>f64</td><td>f64</td><td>f64</td><td>f64</td><td>u32</td><td>u32</td><td>f64</td><td>f64</td><td>f64</td><td>f64</td><td>f64</td><td>f64</td><td>f64</td><td>f64</td><td>f64</td><td>u32</td><td>u32</td><td>f64</td><td>f64</td></tr></thead><tbody><tr><td>&quot;inn3985525&quot;</td><td>0</td><td>14.001552</td><td>7</td><td>2022</td><td>4</td><td>3</td><td>0</td><td>2</td><td>&quot;7-4&quot;</td><td>1</td><td>&quot;1&quot;</td><td>&quot;1&quot;</td><td>1</td><td>&quot;41&quot;</td><td>96.0</td><td>96.0</td><td>764.0</td><td>291</td><td>125</td><td>9</td><td>2</td><td>1.0</td><td>927.0</td><td>377</td><td>113</td><td>11</td><td>3</td><td>1.0</td><td>null</td><td>null</td><td>null</td><td>null</td><td>null</td><td>null</td><td>null</td><td>null</td><td>&hellip;</td><td>0</td><td>1626084</td><td>0.0</td><td>1.0</td><td>12.429082</td><td>13.155168</td><td>15.46232</td><td>14.449855</td><td>13.15517</td><td>11.735994</td><td>9.832377</td><td>0</td><td>1434780</td><td>0.0</td><td>1.0</td><td>12.471947</td><td>13.169111</td><td>15.463917</td><td>14.458606</td><td>13.169123</td><td>11.756901</td><td>9.888787</td><td>0</td><td>430434</td><td>0.0</td><td>1.0</td><td>12.64034</td><td>13.238802</td><td>15.498859</td><td>14.506629</td><td>13.238805</td><td>11.874318</td><td>10.2062</td><td>0</td><td>430434</td><td>0.0</td><td>1.0</td></tr><tr><td>&quot;inn2124852&quot;</td><td>0</td><td>15.805398</td><td>7</td><td>2022</td><td>4</td><td>3</td><td>0</td><td>2</td><td>&quot;7-4&quot;</td><td>1</td><td>&quot;75&quot;</td><td>&quot;75&quot;</td><td>1</td><td>&quot;46&quot;</td><td>144.0</td><td>144.0</td><td>1163.0</td><td>453</td><td>113</td><td>5</td><td>2</td><td>6.0</td><td>1638.0</td><td>544</td><td>331</td><td>6</td><td>3</td><td>3.0</td><td>null</td><td>null</td><td>null</td><td>null</td><td>null</td><td>null</td><td>null</td><td>null</td><td>&hellip;</td><td>0</td><td>1626084</td><td>0.0</td><td>1.0</td><td>12.429082</td><td>13.155168</td><td>15.46232</td><td>14.449855</td><td>13.15517</td><td>11.735994</td><td>9.832377</td><td>0</td><td>1434780</td><td>0.0</td><td>1.0</td><td>12.471947</td><td>13.169111</td><td>15.463917</td><td>14.458606</td><td>13.169123</td><td>11.756901</td><td>9.888787</td><td>0</td><td>430434</td><td>0.0</td><td>1.0</td><td>12.64034</td><td>13.238802</td><td>15.498859</td><td>14.506629</td><td>13.238805</td><td>11.874318</td><td>10.2062</td><td>0</td><td>430434</td><td>0.0</td><td>1.0</td></tr><tr><td>&quot;inn1842381&quot;</td><td>0</td><td>10.804235</td><td>7</td><td>2022</td><td>4</td><td>3</td><td>0</td><td>2</td><td>&quot;7-4&quot;</td><td>1</td><td>&quot;22&quot;</td><td>&quot;22&quot;</td><td>1</td><td>&quot;45&quot;</td><td>192.0</td><td>192.0</td><td>699.0</td><td>363</td><td>94</td><td>3</td><td>4</td><td>2.0</td><td>175.0</td><td>110</td><td>28</td><td>3</td><td>1</td><td>1.0</td><td>null</td><td>null</td><td>null</td><td>null</td><td>null</td><td>null</td><td>null</td><td>null</td><td>&hellip;</td><td>0</td><td>1626084</td><td>0.0</td><td>1.0</td><td>12.429082</td><td>13.155168</td><td>15.46232</td><td>14.449855</td><td>13.15517</td><td>11.735994</td><td>9.832377</td><td>0</td><td>1434780</td><td>0.0</td><td>1.0</td><td>12.471947</td><td>13.169111</td><td>15.463917</td><td>14.458606</td><td>13.169123</td><td>11.756901</td><td>9.888787</td><td>0</td><td>430434</td><td>0.0</td><td>1.0</td><td>12.64034</td><td>13.238802</td><td>15.498859</td><td>14.506629</td><td>13.238805</td><td>11.874318</td><td>10.2062</td><td>0</td><td>430434</td><td>0.0</td><td>1.0</td></tr><tr><td>&quot;inn1758437&quot;</td><td>0</td><td>15.824165</td><td>7</td><td>2022</td><td>4</td><td>3</td><td>0</td><td>2</td><td>&quot;7-4&quot;</td><td>1</td><td>&quot;20&quot;</td><td>&quot;20&quot;</td><td>1</td><td>&quot;10&quot;</td><td>192.0</td><td>192.0</td><td>8797.0</td><td>658</td><td>371</td><td>8</td><td>3</td><td>3.0</td><td>3057.0</td><td>601</td><td>90</td><td>6</td><td>3</td><td>1.0</td><td>null</td><td>null</td><td>null</td><td>null</td><td>null</td><td>null</td><td>null</td><td>null</td><td>&hellip;</td><td>0</td><td>1626084</td><td>0.0</td><td>1.0</td><td>12.429082</td><td>13.155168</td><td>15.46232</td><td>14.449855</td><td>13.15517</td><td>11.735994</td><td>9.832377</td><td>0</td><td>1434780</td><td>0.0</td><td>1.0</td><td>12.471947</td><td>13.169111</td><td>15.463917</td><td>14.458606</td><td>13.169123</td><td>11.756901</td><td>9.888787</td><td>0</td><td>430434</td><td>0.0</td><td>1.0</td><td>12.64034</td><td>13.238802</td><td>15.498859</td><td>14.506629</td><td>13.238805</td><td>11.874318</td><td>10.2062</td><td>0</td><td>430434</td><td>0.0</td><td>1.0</td></tr><tr><td>&quot;inn2256320&quot;</td><td>0</td><td>0.0</td><td>7</td><td>2022</td><td>4</td><td>3</td><td>0</td><td>2</td><td>&quot;7-4&quot;</td><td>0</td><td>&quot;38&quot;</td><td>&quot;38&quot;</td><td>1</td><td>&quot;47&quot;</td><td>24.0</td><td>12.0</td><td>1692.0</td><td>430</td><td>65</td><td>4</td><td>1</td><td>1.0</td><td>1423.0</td><td>431</td><td>14</td><td>4</td><td>1</td><td>3.0</td><td>null</td><td>null</td><td>null</td><td>null</td><td>null</td><td>null</td><td>null</td><td>null</td><td>&hellip;</td><td>0</td><td>1626084</td><td>0.0</td><td>1.0</td><td>12.429082</td><td>13.155168</td><td>15.46232</td><td>14.449855</td><td>13.15517</td><td>11.735994</td><td>9.832377</td><td>0</td><td>1434780</td><td>0.0</td><td>1.0</td><td>12.471947</td><td>13.169111</td><td>15.463917</td><td>14.458606</td><td>13.169123</td><td>11.756901</td><td>9.888787</td><td>0</td><td>430434</td><td>0.0</td><td>1.0</td><td>12.64034</td><td>13.238802</td><td>15.498859</td><td>14.506629</td><td>13.238805</td><td>11.874318</td><td>10.2062</td><td>0</td><td>430434</td><td>0.0</td><td>1.0</td></tr><tr><td>&hellip;</td><td>&hellip;</td><td>&hellip;</td><td>&hellip;</td><td>&hellip;</td><td>&hellip;</td><td>&hellip;</td><td>&hellip;</td><td>&hellip;</td><td>&hellip;</td><td>&hellip;</td><td>&hellip;</td><td>&hellip;</td><td>&hellip;</td><td>&hellip;</td><td>&hellip;</td><td>&hellip;</td><td>&hellip;</td><td>&hellip;</td><td>&hellip;</td><td>&hellip;</td><td>&hellip;</td><td>&hellip;</td><td>&hellip;</td><td>&hellip;</td><td>&hellip;</td><td>&hellip;</td><td>&hellip;</td><td>&hellip;</td><td>&hellip;</td><td>&hellip;</td><td>&hellip;</td><td>&hellip;</td><td>&hellip;</td><td>&hellip;</td><td>&hellip;</td><td>&hellip;</td><td>&hellip;</td><td>&hellip;</td><td>&hellip;</td><td>&hellip;</td><td>&hellip;</td><td>&hellip;</td><td>&hellip;</td><td>&hellip;</td><td>&hellip;</td><td>&hellip;</td><td>&hellip;</td><td>&hellip;</td><td>&hellip;</td><td>&hellip;</td><td>&hellip;</td><td>&hellip;</td><td>&hellip;</td><td>&hellip;</td><td>&hellip;</td><td>&hellip;</td><td>&hellip;</td><td>&hellip;</td><td>&hellip;</td><td>&hellip;</td><td>&hellip;</td><td>&hellip;</td><td>&hellip;</td><td>&hellip;</td><td>&hellip;</td><td>&hellip;</td><td>&hellip;</td><td>&hellip;</td><td>&hellip;</td><td>&hellip;</td><td>&hellip;</td><td>&hellip;</td><td>&hellip;</td><td>&hellip;</td></tr><tr><td>&quot;inn1125328&quot;</td><td>129</td><td>14.185445</td><td>1</td><td>2025</td><td>3</td><td>1</td><td>0</td><td>2</td><td>&quot;1-3&quot;</td><td>1</td><td>&quot;28&quot;</td><td>&quot;28&quot;</td><td>1</td><td>&quot;27&quot;</td><td>192.0</td><td>192.0</td><td>4041.0</td><td>580</td><td>289</td><td>8</td><td>6</td><td>1.0</td><td>4686.0</td><td>615</td><td>782</td><td>12</td><td>4</td><td>4.0</td><td>14.185445</td><td>14.185445</td><td>14.185445</td><td>14.185445</td><td>14.185445</td><td>14.185445</td><td>14.185445</td><td>0</td><td>&hellip;</td><td>0</td><td>1434780</td><td>0.0</td><td>1.0</td><td>12.344928</td><td>13.083172</td><td>15.406107</td><td>14.38578</td><td>13.083173</td><td>11.658533</td><td>9.706682</td><td>0</td><td>1434780</td><td>0.0</td><td>1.0</td><td>10.765839</td><td>12.564663</td><td>15.231135</td><td>14.088001</td><td>12.564663</td><td>10.293335</td><td>0.0</td><td>0</td><td>526086</td><td>0.0</td><td>1.0</td><td>null</td><td>null</td><td>null</td><td>null</td><td>null</td><td>null</td><td>null</td><td>null</td><td>null</td><td>null</td><td>null</td></tr><tr><td>&quot;inn2871423&quot;</td><td>129</td><td>13.542835</td><td>1</td><td>2025</td><td>3</td><td>1</td><td>0</td><td>2</td><td>&quot;1-3&quot;</td><td>1</td><td>&quot;92&quot;</td><td>&quot;92&quot;</td><td>1</td><td>&quot;06&quot;</td><td>192.0</td><td>192.0</td><td>650.0</td><td>205</td><td>94</td><td>11</td><td>1</td><td>4.0</td><td>279.0</td><td>128</td><td>28</td><td>8</td><td>2</td><td>1.0</td><td>13.542835</td><td>13.542835</td><td>13.542835</td><td>13.542835</td><td>13.542835</td><td>13.542835</td><td>13.542835</td><td>0</td><td>&hellip;</td><td>0</td><td>1434780</td><td>0.0</td><td>1.0</td><td>12.344928</td><td>13.083172</td><td>15.406107</td><td>14.38578</td><td>13.083173</td><td>11.658533</td><td>9.706682</td><td>0</td><td>1434780</td><td>0.0</td><td>1.0</td><td>10.765839</td><td>12.564663</td><td>15.231135</td><td>14.088001</td><td>12.564663</td><td>10.293335</td><td>0.0</td><td>0</td><td>526086</td><td>0.0</td><td>1.0</td><td>null</td><td>null</td><td>null</td><td>null</td><td>null</td><td>null</td><td>null</td><td>null</td><td>null</td><td>null</td><td>null</td></tr><tr><td>&quot;inn1090976&quot;</td><td>129</td><td>13.463813</td><td>1</td><td>2025</td><td>3</td><td>1</td><td>0</td><td>2</td><td>&quot;1-3&quot;</td><td>1</td><td>&quot;29&quot;</td><td>&quot;29&quot;</td><td>1</td><td>&quot;28&quot;</td><td>144.0</td><td>144.0</td><td>3244.0</td><td>509</td><td>285</td><td>9</td><td>4</td><td>1.0</td><td>984.0</td><td>405</td><td>244</td><td>10</td><td>3</td><td>1.0</td><td>13.463813</td><td>13.463813</td><td>13.463813</td><td>13.463813</td><td>13.463813</td><td>13.463813</td><td>13.463813</td><td>0</td><td>&hellip;</td><td>0</td><td>1434780</td><td>0.0</td><td>1.0</td><td>12.344928</td><td>13.083172</td><td>15.406107</td><td>14.38578</td><td>13.083173</td><td>11.658533</td><td>9.706682</td><td>0</td><td>1434780</td><td>0.0</td><td>1.0</td><td>10.765839</td><td>12.564663</td><td>15.231135</td><td>14.088001</td><td>12.564663</td><td>10.293335</td><td>0.0</td><td>0</td><td>526086</td><td>0.0</td><td>1.0</td><td>null</td><td>null</td><td>null</td><td>null</td><td>null</td><td>null</td><td>null</td><td>null</td><td>null</td><td>null</td><td>null</td></tr><tr><td>&quot;inn1088141&quot;</td><td>129</td><td>14.493907</td><td>1</td><td>2025</td><td>3</td><td>1</td><td>0</td><td>2</td><td>&quot;1-3&quot;</td><td>1</td><td>&quot;14&quot;</td><td>&quot;14&quot;</td><td>1</td><td>&quot;46&quot;</td><td>144.0</td><td>144.0</td><td>801.0</td><td>372</td><td>68</td><td>5</td><td>3</td><td>2.0</td><td>800.0</td><td>341</td><td>30</td><td>5</td><td>2</td><td>1.0</td><td>14.493907</td><td>14.493907</td><td>14.493907</td><td>14.493907</td><td>14.493907</td><td>14.493907</td><td>14.493907</td><td>0</td><td>&hellip;</td><td>0</td><td>1434780</td><td>0.0</td><td>1.0</td><td>12.344928</td><td>13.083172</td><td>15.406107</td><td>14.38578</td><td>13.083173</td><td>11.658533</td><td>9.706682</td><td>0</td><td>1434780</td><td>0.0</td><td>1.0</td><td>10.765839</td><td>12.564663</td><td>15.231135</td><td>14.088001</td><td>12.564663</td><td>10.293335</td><td>0.0</td><td>0</td><td>526086</td><td>0.0</td><td>1.0</td><td>null</td><td>null</td><td>null</td><td>null</td><td>null</td><td>null</td><td>null</td><td>null</td><td>null</td><td>null</td><td>null</td></tr><tr><td>&quot;inn4494867&quot;</td><td>129</td><td>14.952065</td><td>1</td><td>2025</td><td>3</td><td>1</td><td>0</td><td>2</td><td>&quot;1-3&quot;</td><td>1</td><td>&quot;4&quot;</td><td>&quot;4&quot;</td><td>1</td><td>&quot;46&quot;</td><td>144.0</td><td>96.0</td><td>2255.0</td><td>557</td><td>164</td><td>3</td><td>1</td><td>1.0</td><td>8191.0</td><td>676</td><td>743</td><td>6</td><td>4</td><td>1.0</td><td>14.952065</td><td>14.952065</td><td>14.952065</td><td>14.952065</td><td>14.952065</td><td>14.952065</td><td>14.952065</td><td>0</td><td>&hellip;</td><td>0</td><td>1434780</td><td>0.0</td><td>1.0</td><td>12.344928</td><td>13.083172</td><td>15.406107</td><td>14.38578</td><td>13.083173</td><td>11.658533</td><td>9.706682</td><td>0</td><td>1434780</td><td>0.0</td><td>1.0</td><td>10.765839</td><td>12.564663</td><td>15.231135</td><td>14.088001</td><td>12.564663</td><td>10.293335</td><td>0.0</td><td>0</td><td>526086</td><td>0.0</td><td>1.0</td><td>null</td><td>null</td><td>null</td><td>null</td><td>null</td><td>null</td><td>null</td><td>null</td><td>null</td><td>null</td><td>null</td></tr></tbody></table></div>"
          },
          "metadata": {}
        }
      ],
      "execution_count": null
    }
  ]
}