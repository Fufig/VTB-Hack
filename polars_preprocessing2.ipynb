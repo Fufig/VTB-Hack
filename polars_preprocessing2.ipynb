{
  "metadata": {
    "kernelspec": {
      "language": "python",
      "display_name": "Python 3",
      "name": "python3"
    },
    "language_info": {
      "name": "python",
      "version": "3.10.12",
      "mimetype": "text/x-python",
      "codemirror_mode": {
        "name": "ipython",
        "version": 3
      },
      "pygments_lexer": "ipython3",
      "nbconvert_exporter": "python",
      "file_extension": ".py"
    },
    "kaggle": {
      "accelerator": "gpu",
      "dataSources": [
        {
          "sourceId": 11243701,
          "sourceType": "datasetVersion",
          "datasetId": 7018501
        }
      ],
      "dockerImageVersionId": 30918,
      "isInternetEnabled": true,
      "language": "python",
      "sourceType": "notebook",
      "isGpuEnabled": true
    },
    "colab": {
      "provenance": []
    }
  },
  "nbformat_minor": 0,
  "nbformat": 4,
  "cells": [
    {
      "cell_type": "code",
      "source": [
        "import polars as pl\n",
        "import polars.selectors as cs"
      ],
      "metadata": {
        "_uuid": "8f2839f25d086af736a60e9eeb907d3b93b6e0e5",
        "_cell_guid": "b1076dfc-b9ad-4769-8c92-a6c4dae69d19",
        "trusted": true,
        "execution": {
          "iopub.status.busy": "2025-04-03T23:01:00.025801Z",
          "iopub.execute_input": "2025-04-03T23:01:00.026149Z",
          "iopub.status.idle": "2025-04-03T23:01:00.096503Z",
          "shell.execute_reply.started": "2025-04-03T23:01:00.026122Z",
          "shell.execute_reply": "2025-04-03T23:01:00.095587Z"
        },
        "id": "NYj7Znaqic9E"
      },
      "outputs": [],
      "execution_count": null
    },
    {
      "cell_type": "code",
      "source": [
        "dir = '/kaggle/input/iatvoirotblat/'\n",
        "year, month, day = 2023, 10, 1"
      ],
      "metadata": {
        "trusted": true,
        "execution": {
          "iopub.status.busy": "2025-04-03T23:01:00.234951Z",
          "iopub.execute_input": "2025-04-03T23:01:00.235195Z",
          "iopub.status.idle": "2025-04-03T23:01:00.238902Z",
          "shell.execute_reply.started": "2025-04-03T23:01:00.235176Z",
          "shell.execute_reply": "2025-04-03T23:01:00.237959Z"
        },
        "id": "gXh2JyJPic9G"
      },
      "outputs": [],
      "execution_count": null
    },
    {
      "cell_type": "code",
      "source": [
        "import holidays\n",
        "\n",
        "\n",
        "def calendar_preprocess(dir):\n",
        "    calendar = pl.scan_csv(dir + \"calendar_extended.csv\")\n",
        "    ua_holidays = holidays.RU(years=[2022, 2023, 2024, 2025, 2026])\n",
        "\n",
        "    calendar = calendar.with_columns(\n",
        "        pl.col(\"date\").str.strptime(pl.Date, format=\"%Y-%m-%d\").alias(\"date_dt\"),\n",
        "        pl.col(\"date\").map_elements(lambda x: int(x in ua_holidays)).alias(\"is_holiday\"))\n",
        "    calendar = calendar.with_columns(\n",
        "        pl.col(\"date_dt\").dt.weekday().is_in([6, 7]).cast(pl.Int8).alias(\"is_weekend\"),\n",
        "        pl.col(\"date_dt\").dt.weekday().alias(\"week_day\")\n",
        "    )\n",
        "\n",
        "\n",
        "\n",
        "    calendar = calendar.with_columns(\n",
        "        # pl.col(\"date_dt\").dt.day().alias(\"day_of_month\"),\n",
        "        pl.col(\"date_dt\").dt.month().alias(\"month\"),\n",
        "        pl.col(\"date_dt\").dt.year().alias(\"year\"),\n",
        "        ((pl.col(\"date_dt\").dt.day() - 1) // 7 + 1).alias(\"week_of_month\"),\n",
        "        pl.col(\"is_holiday\").sum().over(\"week\").alias(\"holidays_in_week\"),\n",
        "        pl.col(\"is_weekend\").sum().over(\"week\").alias(\"weekends_in_week\"),\n",
        "        # pl.col(\"date_dt\").dt.ordinal_day().alias(\"day_of_year\"),\n",
        "        pl.col(\"date_dt\").dt.quarter().alias(\"quarter\")\n",
        "    )\n",
        "\n",
        "    calendar = calendar.drop([\"part\", \"is_holiday\", \"is_weekend\", 'week_day']).with_columns(\n",
        "        pl.col(\"week\").cast(pl.Int16),\n",
        "        pl.col(\"month\").cast(pl.Int8),\n",
        "        pl.col(\"week_of_month\").cast(pl.Int8),\n",
        "        pl.col(\"holidays_in_week\").cast(pl.Int8),\n",
        "        pl.col(\"quarter\").cast(pl.Int8)\n",
        "    )\n",
        "\n",
        "    calendar = calendar.group_by(\"week\").agg(\n",
        "                pl.col(\"month\").mode().first().alias(\"month\"),\n",
        "                pl.col(\"year\").mode().first().alias(\"year\"),\n",
        "                pl.col(\"week_of_month\").mode().first().alias(\"week_of_month\"),\n",
        "                pl.col(\"quarter\").mode().first().alias(\"quarter\"),\n",
        "\n",
        "                pl.col(\"holidays_in_week\").first(),\n",
        "                pl.col(\"weekends_in_week\").first()\n",
        "            )\n",
        "    return calendar\n"
      ],
      "metadata": {
        "trusted": true,
        "execution": {
          "iopub.status.busy": "2025-04-03T23:01:00.423189Z",
          "iopub.execute_input": "2025-04-03T23:01:00.423485Z",
          "iopub.status.idle": "2025-04-03T23:01:00.448369Z",
          "shell.execute_reply.started": "2025-04-03T23:01:00.423464Z",
          "shell.execute_reply": "2025-04-03T23:01:00.447365Z"
        },
        "id": "9OOZgZ4Wic9H"
      },
      "outputs": [],
      "execution_count": null
    },
    {
      "cell_type": "code",
      "source": [
        "def prepare_train(dir, calendar):\n",
        "    inns = pl.read_csv(dir + \"sample_submit_extended.csv\",schema_overrides={\"predict\": pl.Float64})['inn_id'].unique()\n",
        "    train = pl.scan_parquet('/kaggle/input/iatvoirotblat/target_series (1).parquet'\n",
        "    ).with_columns(pl.col(\"week\").cast(pl.Int16)\n",
        "    ).filter(pl.col('inn_id').is_in(inns))\n",
        "    train = train.join(calendar, on='week', how='left').unique()\n",
        "\n",
        "    return train.filter((pl.col('year') >= year) & (pl.col('month') >= month) & (pl.col('week_of_month') >= day // 7 + 1))"
      ],
      "metadata": {
        "trusted": true,
        "execution": {
          "iopub.status.busy": "2025-04-03T23:01:00.675337Z",
          "iopub.execute_input": "2025-04-03T23:01:00.675686Z",
          "iopub.status.idle": "2025-04-03T23:01:00.679257Z",
          "shell.execute_reply.started": "2025-04-03T23:01:00.675657Z",
          "shell.execute_reply": "2025-04-03T23:01:00.678306Z"
        },
        "id": "8-bOrEk2ic9I"
      },
      "outputs": [],
      "execution_count": null
    },
    {
      "cell_type": "code",
      "source": [
        "def prepare_test(dir, calendar):\n",
        "    test = pl.scan_csv(dir + \"sample_submit_extended.csv\",schema_overrides={\"predict\": pl.Float64}).with_columns(pl.col(\"week\").cast(pl.Int16))\n",
        "    test = test.join(calendar, on='week', how='left').unique()\n",
        "    return test"
      ],
      "metadata": {
        "trusted": true,
        "execution": {
          "iopub.status.busy": "2025-04-03T23:01:00.798965Z",
          "iopub.execute_input": "2025-04-03T23:01:00.799183Z",
          "iopub.status.idle": "2025-04-03T23:01:00.803255Z",
          "shell.execute_reply.started": "2025-04-03T23:01:00.799165Z",
          "shell.execute_reply": "2025-04-03T23:01:00.802448Z"
        },
        "id": "ODxEJLowic9J"
      },
      "outputs": [],
      "execution_count": null
    },
    {
      "cell_type": "code",
      "source": [
        "def prepare_val(dir, calendar):\n",
        "    inns = pl.read_csv(dir + \"sample_submit_extended.csv\",schema_overrides={\"predict\": pl.Float64})['inn_id'].unique()\n",
        "    val = pl.scan_parquet('/kaggle/input/iatvoirotblat/target_series_extended.parquet'\n",
        "    ).with_columns(pl.col(\"week\").cast(pl.Int16)\n",
        "    ).filter(pl.col('inn_id').is_in(inns))\n",
        "    val = val.join(calendar, on='week', how='left').unique()\n",
        "\n",
        "    return val.filter((pl.col('year') >= year) & (pl.col('month') >= month) & (pl.col('week_of_month') >= day // 7 + 1))"
      ],
      "metadata": {
        "trusted": true,
        "execution": {
          "iopub.status.busy": "2025-04-03T23:01:00.903008Z",
          "iopub.execute_input": "2025-04-03T23:01:00.903214Z",
          "iopub.status.idle": "2025-04-03T23:01:00.906478Z",
          "shell.execute_reply.started": "2025-04-03T23:01:00.903196Z",
          "shell.execute_reply": "2025-04-03T23:01:00.905666Z"
        },
        "id": "h79IzIMUic9J"
      },
      "outputs": [],
      "execution_count": null
    },
    {
      "cell_type": "code",
      "source": [
        "def prepare_all(dir, calendar):\n",
        "    inns = pl.read_csv(dir + \"sample_submit_extended.csv\",schema_overrides={\"predict\": pl.Float64})['inn_id'].unique()\n",
        "    full = pl.concat([pl.scan_parquet('/kaggle/input/iatvoirotblat/target_series_extended.parquet'), pl.scan_parquet('/kaggle/input/iatvoirotblat/target_series (1).parquet')]\n",
        "                    ).with_columns(pl.col(\"week\").cast(pl.Int16)\n",
        "                    ).filter(pl.col('inn_id').is_in(inns))\n",
        "    full = full.join(calendar, on='week', how='left').unique()\n",
        "    full = full.join(pl.scan_parquet('/kaggle/input/iatvoirotblat/innweekstartsum.parquet').with_columns(pl.col(\"week\").cast(pl.Int16)), on=['week', 'inn_id'], how='left')\n",
        "    return full.filter((pl.col('year') >= year) & (pl.col('month') >= month) & (pl.col('week_of_month') >= day // 7 + 1))"
      ],
      "metadata": {
        "trusted": true,
        "execution": {
          "iopub.status.busy": "2025-04-03T23:01:00.967237Z",
          "iopub.execute_input": "2025-04-03T23:01:00.967468Z",
          "iopub.status.idle": "2025-04-03T23:01:00.972794Z",
          "shell.execute_reply.started": "2025-04-03T23:01:00.967449Z",
          "shell.execute_reply": "2025-04-03T23:01:00.971890Z"
        },
        "id": "8H8uXjD0ic9K"
      },
      "outputs": [],
      "execution_count": null
    },
    {
      "cell_type": "code",
      "source": [],
      "metadata": {
        "trusted": true,
        "id": "13sU1Yb6ic9K"
      },
      "outputs": [],
      "execution_count": null
    },
    {
      "cell_type": "code",
      "source": [
        "\n",
        "import numpy as np\n",
        "\n",
        "def pinf(dir, train):\n",
        "    profiles = pl.scan_parquet(dir + \"profiles_extended.parquet\")\n",
        "    age={\"1m\":1, \"2_3m\":3, \"3_6m\":6, \"6_12m\":12, \"1_2y\":24, \"2_4y\":48, \"4_8y\":96, \"8_12y\":144, \"more_12y\":192}\n",
        "    ipul={\"ip\":0,\"ul\":1,}\n",
        "    profiles = profiles.with_columns(\n",
        "        pl.col(\"report_date\").str.to_date(),\n",
        "        pl.col(\"diff_datopen_report_date_flg\").replace(age, default=np.NAN),\n",
        "        pl.col(\"ipul\").replace(ipul).cast(pl.Int8),\n",
        "        pl.col(\"id_region\").fill_null(\"-\"),\n",
        "        pl.col(\"main_okved_group\").fill_null(\"-\"),\n",
        "        pl.col(\"inn_id\").str.replace(\"inn\",\"\").cast(pl.Int32).alias(\"inn\"),\n",
        "    )\n",
        "    profiles = profiles.sort(\"report_date\").group_by(\"inn_id\"\n",
        "                                        ).agg(pl.col(\"ipul\").first(),\n",
        "                                            pl.col(\"id_region\").first().alias(\"id_region_f\"),\n",
        "                                              pl.col(\"id_region\").last().alias('id_region_l'),\n",
        "                                              pl.col(\"id_region\").n_unique().alias('id_region_u'),\n",
        "                                            pl.col(\"main_okved_group\").last(),\n",
        "                                            pl.col(\"diff_datopen_report_date_flg\").max(),\n",
        "                                            pl.col(\"diff_datopen_report_date_flg\").min().alias(\"diff_datopen_report_date_flg_min\"),\n",
        "                                           ).join(profiles.group_by(\"inn_id\"\n",
        "                                                                   ).agg(\n",
        "                                            pl.col(\"report_date\").min().alias(\"report_date_min\"),\n",
        "                                                                         ),\n",
        "                                                  on=\"inn_id\",\n",
        "                                                  how=\"left\")\n",
        "    train = train.join(profiles, on='inn_id', how='left')\n",
        "    return train"
      ],
      "metadata": {
        "trusted": true,
        "execution": {
          "iopub.status.busy": "2025-04-03T23:01:01.045182Z",
          "iopub.execute_input": "2025-04-03T23:01:01.045446Z",
          "iopub.status.idle": "2025-04-03T23:01:01.052237Z",
          "shell.execute_reply.started": "2025-04-03T23:01:01.045422Z",
          "shell.execute_reply": "2025-04-03T23:01:01.051329Z"
        },
        "id": "XCELH4Pbic9L"
      },
      "outputs": [],
      "execution_count": null
    },
    {
      "cell_type": "code",
      "source": [
        "def groupper(out_vtb_full, groups, postfix, mode):\n",
        "    groupped = out_vtb_full.group_by(groups).agg(\n",
        "        pl.col(\"trns_count\").sum().alias(f\"{mode}_vtb_trns_count_{postfix}\"),\n",
        "        pl.col(\"trns_amount\").sum().alias(f\"{mode}_vtb_trns_amount_{postfix}\"),\n",
        "        (pl.col(\"trns_amount\").sum() / pl.col(\"trns_count\").sum()).alias(f\"{mode}_vtb_avg_amount_{postfix}\"),\n",
        "\n",
        "        pl.col(\"trns_amount\").mean().alias(f\"{mode}_avg_amount_{postfix}\"),\n",
        "        pl.col(\"trns_amount\").std().alias(f\"{mode}_std_amount_{postfix}\"),\n",
        "        pl.col(\"trns_amount\").median().alias(f\"{mode}_median_amount_{postfix}\"),\n",
        "        pl.col(\"trns_amount\").quantile(0.9).alias(f\"{mode}_p90_amount_{postfix}\"),\n",
        "        pl.col(\"trns_amount\").quantile(0.75).alias(f\"{mode}_p75_amount_{postfix}\"),\n",
        "        pl.col(\"trns_amount\").quantile(0.5).alias(f\"{mode}_p5_amount_{postfix}\"),\n",
        "        pl.col(\"trns_amount\").quantile(0.25).alias(f\"{mode}_p25_amount_{postfix}\"),\n",
        "        pl.col(\"trns_amount\").quantile(0.1).alias(f\"{mode}_p10_amount_{postfix}\"),\n",
        "\n",
        "        pl.col(\"date\").n_unique().alias(f\"{mode}_active_days_{postfix}\"),\n",
        "\n",
        "        pl.col(\"trns_class_encoded\").n_unique().alias(f\"{mode}_trns_types_{postfix}\"),\n",
        "        pl.col(\"trns_class_encoded\").mode().first().alias(f\"{mode}_common_trns_type_{postfix}\"),\n",
        "\n",
        "        (pl.col(\"trns_amount\") > 500_000).sum().alias(f\"{mode}_large_trns_count_{postfix}\"),\n",
        "        (pl.col(\"trns_amount\") < 2_000).sum().alias(f\"{mode}_small_trns_count_{postfix}\"),\n",
        "\n",
        "        # pl.col(\"doc_payee_inn\").n_unique().cast(pl.UInt16).alias(f\"out_vtb_cinn_{postfix}\"),\n",
        "        pl.col(\"trns_class_encoded\").n_unique().alias(f\"{mode}_vtb_trns_class_encoded_{postfix}\"),\n",
        "        # pl.col(\"doc_payee_bank_name_encoded\").n_unique().alias(f\"{mode}_vtb_doc_payer_bank_name_encoded_{postfix}\"),\n",
        "        pl.col(\"date\").n_unique().cast(pl.UInt8).alias(f\"{mode}_vtb_date_{postfix}\"),\n",
        "    )\n",
        "    return groupped"
      ],
      "metadata": {
        "trusted": true,
        "execution": {
          "iopub.status.busy": "2025-04-03T23:01:01.188746Z",
          "iopub.execute_input": "2025-04-03T23:01:01.189091Z",
          "iopub.status.idle": "2025-04-03T23:01:01.196264Z",
          "shell.execute_reply.started": "2025-04-03T23:01:01.189069Z",
          "shell.execute_reply": "2025-04-03T23:01:01.195334Z"
        },
        "id": "o2v7fw9dic9M"
      },
      "outputs": [],
      "execution_count": null
    },
    {
      "cell_type": "code",
      "source": [
        "def out_groupper(dir, train, calendar):\n",
        "    inns = pl.read_csv(dir + \"sample_submit_extended.csv\",schema_overrides={\"predict\": pl.Float64})['inn_id'].unique()\n",
        "    out_vtb_full=pl.scan_parquet(f\"{dir}transactions_?.parquet\").filter(pl.col(\"doc_payer_inn\").is_in(inns)\n",
        "                                                ).filter(pl.col(\"doc_payer_bank_name_flag\")==1\n",
        "                                                ).with_columns(pl.col(\"date\").dt.date()\n",
        "                                                )#.filter(pl.col(\"day\") >= date)\n",
        "    out_vtb_full=out_vtb_full.join(pl.scan_csv(dir + \"calendar_extended.csv\").with_columns(pl.col(\"week\").cast(pl.Int16), pl.col(\"date\").str.strptime(pl.Date, format=\"%Y-%m-%d\")),\n",
        "                            left_on=[\"date\"],\n",
        "                            right_on=[\"date\"],\n",
        "                            how=\"left\" )\n",
        "\n",
        "    out_vtb_full=out_vtb_full.join(calendar,\n",
        "                        left_on=[\"week\"],\n",
        "                        right_on=[\"week\"],\n",
        "                        how=\"left\" )\n",
        "\n",
        "\n",
        "    # out_inn_week = groupper(out_vtb_full, [\"doc_payer_inn\", \"week\"], 'week', 'out')\n",
        "    # out_week = groupper(out_vtb_full, [\"week\"], 'week_full', 'out')\n",
        "    # out_full_week = out_inn_week.join(out_week, on=['week'], how='left').sort('week')\n",
        "\n",
        "    # cols = ['out_vtb_trns_count_week','out_vtb_trns_amount_week','out_vtb_avg_amount_week','out_avg_amount_week','out_std_amount_week','out_median_amount_week','out_p90_amount_week','out_p75_amount_week','out_p5_amount_week','out_p25_amount_week','out_p10_amount_week',\n",
        "    #         'out_active_days_week','out_trns_types_week','out_common_trns_type_week','out_large_trns_count_week','out_small_trns_count_week','out_vtb_trns_class_encoded_week','out_vtb_date_week','out_vtb_trns_count_week_full','out_vtb_trns_amount_week_full','out_vtb_avg_amount_week_full',\n",
        "    #         'out_avg_amount_week_full','out_std_amount_week_full','out_median_amount_week_full','out_p90_amount_week_full','out_p75_amount_week_full','out_p5_amount_week_full','out_p25_amount_week_full','out_p10_amount_week_full','out_active_days_week_full',\n",
        "    #         'out_trns_types_week_full','out_common_trns_type_week_full','out_large_trns_count_week_full','out_small_trns_count_week_full','out_vtb_trns_class_encoded_week_full','out_vtb_date_week_full']\n",
        "    # out_full_week = out_full_week.with_columns(cs.by_name(cols).shift(1).over(\"doc_payer_inn\").name.suffix(\"_1\"),\n",
        "    #                                            cs.by_name(cols).shift(2).over(\"doc_payer_inn\").name.suffix(\"_2\"),\n",
        "    #                                            cs.by_name(cols).shift(3).over(\"doc_payer_inn\").name.suffix(\"_3\"),\n",
        "    #                                            cs.by_name(cols).shift(4).over(\"doc_payer_inn\").name.suffix(\"_4\"),\n",
        "    #                                            cs.by_name(cols).shift(5).over(\"doc_payer_inn\").name.suffix(\"_5\"),\n",
        "    #                                            cs.by_name(cols).shift(6).over(\"doc_payer_inn\").name.suffix(\"_6\"),\n",
        "    #                                            cs.by_name(cols).shift(7).over(\"doc_payer_inn\").name.suffix(\"_7\"),\n",
        "    #                                            cs.by_name(cols).shift(8).over(\"doc_payer_inn\").name.suffix(\"_8\"),\n",
        "    #                                            cs.by_name(cols).shift(9).over(\"doc_payer_inn\").name.suffix(\"_9\"),\n",
        "    #                                            cs.by_name(cols).shift(10).over(\"doc_payer_inn\").name.suffix(\"_10\"),\n",
        "    #                                            cs.by_name(cols).shift(11).over(\"doc_payer_inn\").name.suffix(\"_11\"),\n",
        "    #                                            cs.by_name(cols).shift(12).over(\"doc_payer_inn\").name.suffix(\"_12\"),\n",
        "    #                                            cs.by_name(cols).shift(13).over(\"doc_payer_inn\").name.suffix(\"_13\"),\n",
        "    #                                            cs.by_name(cols).shift(14).over(\"doc_payer_inn\").name.suffix(\"_14\"),\n",
        "    #                                            cs.by_name(cols).shift(15).over(\"doc_payer_inn\").name.suffix(\"_15\"),\n",
        "    #                                            cs.by_name(cols).shift(16).over(\"doc_payer_inn\").name.suffix(\"_16\"),\n",
        "    #                                            cs.by_name(cols).shift(17).over(\"doc_payer_inn\").name.suffix(\"_17\"),\n",
        "    #                                            cs.by_name(cols).shift(18).over(\"doc_payer_inn\").name.suffix(\"_18\"),\n",
        "    #                                            cs.by_name(cols).shift(19).over(\"doc_payer_inn\").name.suffix(\"_19\"),\n",
        "    #                                            cs.by_name(cols).shift(20).over(\"doc_payer_inn\").name.suffix(\"_20\"),\n",
        "    #                                             )\n",
        "    # out_full_week = out_full_week.drop(cols)\n",
        "    # train = train.join(out_full_week, left_on=['inn_id', 'week'], right_on=['doc_payer_inn', 'week'], how='left')\n",
        "\n",
        "    out_inn_week_of_month = groupper(out_vtb_full, [\"doc_payer_inn\", \"week_of_month\"], 'week_of_month', 'out')\n",
        "    out_week_of_month = groupper(out_vtb_full, [\"week_of_month\"], 'week_of_month_full', 'out')\n",
        "    out_full_wom = out_inn_week_of_month.join(out_week_of_month, on=['week_of_month'], how='left')\n",
        "    # out_full_wom = out_inn_week_of_month\n",
        "    train = train.join(out_full_wom, left_on=['inn_id', 'week_of_month'], right_on=['doc_payer_inn', 'week_of_month'], how='left')\n",
        "\n",
        "    out_inn_month = groupper(out_vtb_full, [\"doc_payer_inn\", \"month\"], 'month', 'out')\n",
        "    out_month = groupper(out_vtb_full, [\"month\"], 'month_full', 'out')\n",
        "    out_full_month = out_inn_month.join(out_month, on=['month'], how='left')\n",
        "    train = train.join(out_full_month, left_on=['inn_id', 'month'], right_on=['doc_payer_inn', 'month'], how='left')\n",
        "\n",
        "    out_inn_quarter = groupper(out_vtb_full, [\"doc_payer_inn\", \"quarter\"], 'quarter', 'out')\n",
        "    out_quarter = groupper(out_vtb_full, [\"quarter\"], 'quarter_full', 'out')\n",
        "    out_full_quarter = out_inn_quarter.join(out_quarter, on=['quarter'], how='left')\n",
        "    train = train.join(out_full_quarter, left_on=['inn_id', 'quarter'], right_on=['doc_payer_inn', 'quarter'], how='left')\n",
        "\n",
        "    return train"
      ],
      "metadata": {
        "trusted": true,
        "execution": {
          "iopub.status.busy": "2025-04-03T23:01:01.345536Z",
          "iopub.execute_input": "2025-04-03T23:01:01.345845Z",
          "iopub.status.idle": "2025-04-03T23:01:01.353708Z",
          "shell.execute_reply.started": "2025-04-03T23:01:01.345814Z",
          "shell.execute_reply": "2025-04-03T23:01:01.352760Z"
        },
        "id": "J78fENPTic9N"
      },
      "outputs": [],
      "execution_count": null
    },
    {
      "cell_type": "code",
      "source": [],
      "metadata": {
        "trusted": true,
        "id": "i-U0WcRWic9O"
      },
      "outputs": [],
      "execution_count": null
    },
    {
      "cell_type": "code",
      "source": [
        "def in_groupper(dir, train, calendar):\n",
        "    inns = pl.read_csv(dir + \"sample_submit_extended.csv\",schema_overrides={\"predict\": pl.Float64})['inn_id'].unique()\n",
        "    out_vtb_full=pl.scan_parquet(f\"{dir}transactions_?.parquet\").filter(pl.col(\"doc_payee_inn\").is_in(inns)\n",
        "                                                ).filter(pl.col(\"doc_payee_bank_name_flag\")==1\n",
        "                                                ).with_columns(pl.col(\"date\").dt.date()\n",
        "                                                )#.filter(pl.col(\"day\") >= date)\n",
        "    out_vtb_full=out_vtb_full.join(pl.scan_csv(dir + \"calendar_extended.csv\").with_columns(pl.col(\"week\").cast(pl.Int16), pl.col(\"date\").str.strptime(pl.Date, format=\"%Y-%m-%d\")),\n",
        "                            left_on=[\"date\"],\n",
        "                            right_on=[\"date\"],\n",
        "                            how=\"left\" )\n",
        "\n",
        "    out_vtb_full=out_vtb_full.join(calendar,\n",
        "                        left_on=[\"week\"],\n",
        "                        right_on=[\"week\"],\n",
        "                        how=\"left\" )\n",
        "\n",
        "    # out_inn_week = groupper([\"doc_payer_inn\", \"week\"], 'week')\n",
        "    # out_week = groupper([\"week\"], 'week_full')\n",
        "    # out_full_week = out_inn_week.join(out_week, on=['week'], how='left')\n",
        "    # train = tain.join(out_full_week, on_left=[])\n",
        "\n",
        "    out_inn_week_of_month = groupper(out_vtb_full, [\"doc_payee_inn\", \"week_of_month\"], 'week_of_month', 'in')\n",
        "    out_week_of_month = groupper(out_vtb_full, [\"week_of_month\"], 'week_of_month_full', 'in')\n",
        "    out_full_wom = out_inn_week_of_month.join(out_week_of_month, on=['week_of_month'], how='left')\n",
        "    # out_full_wom = out_inn_week_of_month\n",
        "    train = train.join(out_full_wom, left_on=['inn_id', 'week_of_month'], right_on=['doc_payee_inn', 'week_of_month'], how='left')\n",
        "\n",
        "    out_inn_month = groupper(out_vtb_full, [\"doc_payee_inn\", \"month\"], 'month', 'in')\n",
        "    out_month = groupper(out_vtb_full, [\"month\"], 'month_full', 'in')\n",
        "    out_full_month = out_inn_month.join(out_month, on=['month'], how='left')\n",
        "    train = train.join(out_full_month, left_on=['inn_id', 'month'], right_on=['doc_payee_inn', 'month'], how='left')\n",
        "\n",
        "    out_inn_quarter = groupper(out_vtb_full, [\"doc_payee_inn\", \"quarter\"], 'quarter', 'in')\n",
        "    out_quarter = groupper(out_vtb_full, [\"quarter\"], 'quarter_full', 'in')\n",
        "    out_full_quarter = out_inn_quarter.join(out_quarter, on=['quarter'], how='left')\n",
        "    train = train.join(out_full_quarter, left_on=['inn_id', 'quarter'], right_on=['doc_payee_inn', 'quarter'], how='left')\n",
        "\n",
        "    return train"
      ],
      "metadata": {
        "trusted": true,
        "execution": {
          "iopub.status.busy": "2025-04-03T23:01:01.499491Z",
          "iopub.execute_input": "2025-04-03T23:01:01.499792Z",
          "iopub.status.idle": "2025-04-03T23:01:01.506814Z",
          "shell.execute_reply.started": "2025-04-03T23:01:01.499768Z",
          "shell.execute_reply": "2025-04-03T23:01:01.505984Z"
        },
        "id": "cU7MgBMaic9O"
      },
      "outputs": [],
      "execution_count": null
    },
    {
      "cell_type": "code",
      "source": [
        "def groupper2(train, groups, mode, postfix):\n",
        "    groupped = out_vtb_full.group_by(groups).agg(\n",
        "        pl.col(\"target\").mean().alias(f\"{mode}_avg_amount_{postfix}\"),\n",
        "        pl.col(\"target\").std().alias(f\"{mode}_std_amount_{postfix}\"),\n",
        "        pl.col(\"target\").median().alias(f\"{mode}_median_amount_{postfix}\"),\n",
        "        pl.col(\"target\").quantile(0.9).alias(f\"{mode}_p90_amount_{postfix}\"),\n",
        "        pl.col(\"target\").quantile(0.75).alias(f\"{mode}_p75_amount_{postfix}\"),\n",
        "        pl.col(\"target\").quantile(0.5).alias(f\"{mode}_p5_amount_{postfix}\"),\n",
        "        pl.col(\"target\").quantile(0.25).alias(f\"{mode}_p25_amount_{postfix}\"),\n",
        "        pl.col(\"target\").quantile(0.1).alias(f\"{mode}_p10_amount_{postfix}\"),\n",
        "\n",
        "        (pl.col(\"target\") > 500_000).sum().alias(f\"{mode}_large_trns_count_{postfix}\"),\n",
        "        (pl.col(\"target\") < 2_000).sum().alias(f\"{mode}_small_trns_count_{postfix}\"),\n",
        "        (pl.col(\"target\") > 500_000).mean().alias(f\"{mode}_large_trns_count_{postfix}\"),\n",
        "        (pl.col(\"target\") < 2_000).mean().alias(f\"{mode}_small_trns_count_{postfix}\"),\n",
        "\n",
        "\n",
        "        pl.col(\"cumsum\").mean().alias(f\"{mode}_avg_amount_{postfix}\"),\n",
        "        pl.col(\"cumsum\").std().alias(f\"{mode}_std_amount_{postfix}\"),\n",
        "        pl.col(\"cumsum\").median().alias(f\"{mode}_median_amount_{postfix}\"),\n",
        "        pl.col(\"cumsum\").quantile(0.9).alias(f\"{mode}_p90_amount_{postfix}\"),\n",
        "        pl.col(\"cumsum\").quantile(0.75).alias(f\"{mode}_p75_amount_{postfix}\"),\n",
        "        pl.col(\"cumsum\").quantile(0.5).alias(f\"{mode}_p5_amount_{postfix}\"),\n",
        "        pl.col(\"cumsum\").quantile(0.25).alias(f\"{mode}_p25_amount_{postfix}\"),\n",
        "        pl.col(\"cumsum\").quantile(0.1).alias(f\"{mode}_p10_amount_{postfix}\"),\n",
        "\n",
        "        (pl.col(\"cumsum\") > 500_000).sum().alias(f\"{mode}_large_trns_count_{postfix}\"),\n",
        "        (pl.col(\"cumsum\") < 2_000).sum().alias(f\"{mode}_small_trns_count_{postfix}\"),\n",
        "        (pl.col(\"cumsum\") > 500_000).mean().alias(f\"{mode}_large_trns_count_{postfix}\"),\n",
        "        (pl.col(\"cumsum\") < 2_000).mean().alias(f\"{mode}_small_trns_count_{postfix}\"),\n",
        "        )\n",
        "    return groupped"
      ],
      "metadata": {
        "trusted": true,
        "execution": {
          "iopub.status.busy": "2025-04-03T23:40:56.750189Z",
          "iopub.execute_input": "2025-04-03T23:40:56.750651Z",
          "iopub.status.idle": "2025-04-03T23:40:56.759685Z",
          "shell.execute_reply.started": "2025-04-03T23:40:56.750612Z",
          "shell.execute_reply": "2025-04-03T23:40:56.758671Z"
        },
        "id": "9FAanY9zic9P"
      },
      "outputs": [],
      "execution_count": null
    },
    {
      "cell_type": "code",
      "source": [],
      "metadata": {
        "trusted": true,
        "id": "RctXWlmYic9P"
      },
      "outputs": [],
      "execution_count": null
    },
    {
      "cell_type": "code",
      "source": [
        "def target_cumsum_grouper(dir, train):\n",
        "    out_inn_week_of_month = groupper(out_vtb_full, [\"doc_payee_inn\", \"week_of_month\"], 'week_of_month', 'in')\n",
        "    out_week_of_month = groupper(out_vtb_full, [\"week_of_month\"], 'week_of_month_full', 'in')\n",
        "    out_full_wom = out_inn_week_of_month.join(out_week_of_month, on=['week_of_month'], how='left')\n",
        "    # out_full_wom = out_inn_week_of_month\n",
        "    train = train.join(out_full_wom, left_on=['inn_id', 'week_of_month'], right_on=['doc_payee_inn', 'week_of_month'], how='left')\n"
      ],
      "metadata": {
        "trusted": true,
        "id": "tn9sCc9gic9Q"
      },
      "outputs": [],
      "execution_count": null
    },
    {
      "cell_type": "code",
      "source": [
        "def get_train(dir):\n",
        "    calendar = calendar_preprocess(dir).with_columns(pl.col(\"week\").cast(pl.Int16))\n",
        "    train = prepare_train(dir, calendar)\n",
        "    train = pinf(dir, train)\n",
        "    train = out_groupper(dir, train, calendar)\n",
        "    train = in_groupper(dir, train, calendar).drop('report_date_min')\n",
        "    train = train.collect()\n",
        "    for col in train.columns: train = train.with_columns(pl.col(col).shrink_dtype())\n",
        "    train = train.shrink_to_fit()\n",
        "    return train"
      ],
      "metadata": {
        "trusted": true,
        "execution": {
          "iopub.status.busy": "2025-04-03T23:01:01.619334Z",
          "iopub.execute_input": "2025-04-03T23:01:01.619633Z",
          "iopub.status.idle": "2025-04-03T23:01:01.623074Z",
          "shell.execute_reply.started": "2025-04-03T23:01:01.619610Z",
          "shell.execute_reply": "2025-04-03T23:01:01.622131Z"
        },
        "id": "BHOiJ-BOic9Q"
      },
      "outputs": [],
      "execution_count": null
    },
    {
      "cell_type": "code",
      "source": [
        "def get_val(dir):\n",
        "    calendar = calendar_preprocess(dir).with_columns(pl.col(\"week\").cast(pl.Int16))\n",
        "    train = prepare_val(dir, calendar)\n",
        "    train = pinf(dir, train)\n",
        "    train = out_groupper(dir, train, calendar)\n",
        "    train = in_groupper(dir, train, calendar).drop('report_date_min')\n",
        "    train = train.collect()\n",
        "    for col in train.columns: train = train.with_columns(pl.col(col).shrink_dtype())\n",
        "    train = train.shrink_to_fit()\n",
        "    return train"
      ],
      "metadata": {
        "trusted": true,
        "execution": {
          "iopub.status.busy": "2025-04-03T23:01:01.762487Z",
          "iopub.execute_input": "2025-04-03T23:01:01.762865Z",
          "iopub.status.idle": "2025-04-03T23:01:01.767786Z",
          "shell.execute_reply.started": "2025-04-03T23:01:01.762835Z",
          "shell.execute_reply": "2025-04-03T23:01:01.766738Z"
        },
        "id": "w-bi2Pzhic9R"
      },
      "outputs": [],
      "execution_count": null
    },
    {
      "cell_type": "code",
      "source": [
        "def get_test(dir):\n",
        "    calendar = calendar_preprocess(dir).with_columns(pl.col(\"week\").cast(pl.Int16))\n",
        "    train = prepare_test(dir, calendar)\n",
        "    train = pinf(dir, train)\n",
        "    train = out_groupper(dir, train, calendar)\n",
        "    train = in_groupper(dir, train, calendar).drop('report_date_min')\n",
        "    train = train.collect()\n",
        "    for col in train.columns: train = train.with_columns(pl.col(col).shrink_dtype())\n",
        "    train = train.shrink_to_fit()\n",
        "    return train"
      ],
      "metadata": {
        "trusted": true,
        "execution": {
          "iopub.status.busy": "2025-04-03T23:01:01.850285Z",
          "iopub.execute_input": "2025-04-03T23:01:01.850579Z",
          "iopub.status.idle": "2025-04-03T23:01:01.854111Z",
          "shell.execute_reply.started": "2025-04-03T23:01:01.850538Z",
          "shell.execute_reply": "2025-04-03T23:01:01.853180Z"
        },
        "id": "3VCkRMMWic9S"
      },
      "outputs": [],
      "execution_count": null
    },
    {
      "cell_type": "code",
      "source": [
        "def get_all(dir):\n",
        "    calendar = calendar_preprocess(dir).with_columns(pl.col(\"week\").cast(pl.Int16))\n",
        "    train = prepare_all(dir, calendar)\n",
        "    train = pinf(dir, train).drop('report_date_min')\n",
        "    # train = out_groupper(dir, train, calendar)\n",
        "    # train = in_groupper(dir, train, calendar).drop('report_date_min')\n",
        "    train = train.collect()\n",
        "    # for col in train.columns: train = train.with_columns(pl.col(col).shrink_dtype())\n",
        "    # train = train.shrink_to_fit()\n",
        "    return train"
      ],
      "metadata": {
        "trusted": true,
        "execution": {
          "iopub.status.busy": "2025-04-03T23:24:42.186325Z",
          "iopub.execute_input": "2025-04-03T23:24:42.186783Z",
          "iopub.status.idle": "2025-04-03T23:24:42.191795Z",
          "shell.execute_reply.started": "2025-04-03T23:24:42.186750Z",
          "shell.execute_reply": "2025-04-03T23:24:42.190698Z"
        },
        "id": "UBZ2TaBuic9S"
      },
      "outputs": [],
      "execution_count": null
    },
    {
      "cell_type": "code",
      "source": [],
      "metadata": {
        "trusted": true,
        "id": "Ev-GlpkEic9S"
      },
      "outputs": [],
      "execution_count": null
    },
    {
      "cell_type": "code",
      "source": [
        "dir = '/kaggle/input/iatvoirotblat/'\n",
        "year, month, day = 2023, 10, 1"
      ],
      "metadata": {
        "trusted": true,
        "execution": {
          "iopub.status.busy": "2025-04-03T23:24:43.681030Z",
          "iopub.execute_input": "2025-04-03T23:24:43.681370Z",
          "iopub.status.idle": "2025-04-03T23:24:43.685310Z",
          "shell.execute_reply.started": "2025-04-03T23:24:43.681339Z",
          "shell.execute_reply": "2025-04-03T23:24:43.684265Z"
        },
        "id": "Ie1CuY-hic9T"
      },
      "outputs": [],
      "execution_count": null
    },
    {
      "cell_type": "code",
      "source": [
        "train = get_all(dir)\n",
        "train"
      ],
      "metadata": {
        "trusted": true,
        "execution": {
          "iopub.status.busy": "2025-04-03T23:46:42.526674Z",
          "iopub.execute_input": "2025-04-03T23:46:42.527010Z",
          "iopub.status.idle": "2025-04-03T23:47:11.056097Z",
          "shell.execute_reply.started": "2025-04-03T23:46:42.526984Z",
          "shell.execute_reply": "2025-04-03T23:47:11.055024Z"
        },
        "id": "nSCSUMdNic9T",
        "outputId": "234a9bc8-ccd9-4033-c85e-8c9b27cdd547"
      },
      "outputs": [
        {
          "name": "stderr",
          "text": "<ipython-input-12-e05ced114c1d>:9: DeprecationWarning: The `default` parameter for `replace` is deprecated. Use `replace_strict` instead to set a default while replacing values.\n  pl.col(\"diff_datopen_report_date_flg\").replace(age, default=np.NAN),\nsys:1: MapWithoutReturnDtypeWarning: Calling `map_elements` without specifying `return_dtype` can lead to unpredictable results. Specify `return_dtype` to silence this warning.\n",
          "output_type": "stream"
        },
        {
          "execution_count": 30,
          "output_type": "execute_result",
          "data": {
            "text/plain": "shape: (883_371, 17)\n┌────────────┬──────┬─────────────┬───────┬───┬─────────────┬────────────┬────────────┬────────────┐\n│ inn_id     ┆ week ┆ target      ┆ month ┆ … ┆ id_region_u ┆ main_okved ┆ diff_datop ┆ diff_datop │\n│ ---        ┆ ---  ┆ ---         ┆ ---   ┆   ┆ ---         ┆ _group     ┆ en_report_ ┆ en_report_ │\n│ str        ┆ i16  ┆ f64         ┆ i8    ┆   ┆ u32         ┆ ---        ┆ date_flg   ┆ date_flg_m │\n│            ┆      ┆             ┆       ┆   ┆             ┆ str        ┆ ---        ┆ …          │\n│            ┆      ┆             ┆       ┆   ┆             ┆            ┆ f64        ┆ ---        │\n│            ┆      ┆             ┆       ┆   ┆             ┆            ┆            ┆ f64        │\n╞════════════╪══════╪═════════════╪═══════╪═══╪═════════════╪════════════╪════════════╪════════════╡\n│ inn3991673 ┆ 73   ┆ 1.2103e6    ┆ 12    ┆ … ┆ 1           ┆ 46         ┆ 192.0      ┆ 192.0      │\n│ inn3504856 ┆ 116  ┆ 9.0018e6    ┆ 10    ┆ … ┆ 1           ┆ 10         ┆ 192.0      ┆ 192.0      │\n│ inn1675574 ┆ 116  ┆ 1.2502e6    ┆ 10    ┆ … ┆ 1           ┆ 47         ┆ 192.0      ┆ 192.0      │\n│ inn3348229 ┆ 67   ┆ 1.2196e6    ┆ 11    ┆ … ┆ 1           ┆ 22         ┆ 192.0      ┆ 192.0      │\n│ inn3995870 ┆ 74   ┆ 220242.4755 ┆ 12    ┆ … ┆ 1           ┆ 28         ┆ 24.0       ┆ 3.0        │\n│            ┆      ┆ 86          ┆       ┆   ┆             ┆            ┆            ┆            │\n│ …          ┆ …    ┆ …           ┆ …     ┆ … ┆ …           ┆ …          ┆ …          ┆ …          │\n│ inn2564856 ┆ 67   ┆ 1.4735e7    ┆ 11    ┆ … ┆ 1           ┆ 58         ┆ 192.0      ┆ 192.0      │\n│ inn2346378 ┆ 74   ┆ 439088.0444 ┆ 12    ┆ … ┆ 1           ┆ 74         ┆ 192.0      ┆ 192.0      │\n│            ┆      ┆ 34          ┆       ┆   ┆             ┆            ┆            ┆            │\n│ inn901113  ┆ 63   ┆ 1.5958e6    ┆ 10    ┆ … ┆ 1           ┆ 47         ┆ 192.0      ┆ 192.0      │\n│ inn1388807 ┆ 62   ┆ 344427.4021 ┆ 10    ┆ … ┆ 1           ┆ 31         ┆ 192.0      ┆ 192.0      │\n│ inn2630765 ┆ 69   ┆ 911260.1187 ┆ 11    ┆ … ┆ 1           ┆ 68         ┆ 192.0      ┆ 144.0      │\n│            ┆      ┆ 74          ┆       ┆   ┆             ┆            ┆            ┆            │\n└────────────┴──────┴─────────────┴───────┴───┴─────────────┴────────────┴────────────┴────────────┘",
            "text/html": "<div><style>\n.dataframe > thead > tr,\n.dataframe > tbody > tr {\n  text-align: right;\n  white-space: pre-wrap;\n}\n</style>\n<small>shape: (883_371, 17)</small><table border=\"1\" class=\"dataframe\"><thead><tr><th>inn_id</th><th>week</th><th>target</th><th>month</th><th>year</th><th>week_of_month</th><th>quarter</th><th>holidays_in_week</th><th>weekends_in_week</th><th>cumsum</th><th>ipul</th><th>id_region_f</th><th>id_region_l</th><th>id_region_u</th><th>main_okved_group</th><th>diff_datopen_report_date_flg</th><th>diff_datopen_report_date_flg_min</th></tr><tr><td>str</td><td>i16</td><td>f64</td><td>i8</td><td>i32</td><td>i8</td><td>i8</td><td>i8</td><td>i64</td><td>f32</td><td>i8</td><td>str</td><td>str</td><td>u32</td><td>str</td><td>f64</td><td>f64</td></tr></thead><tbody><tr><td>&quot;inn3991673&quot;</td><td>73</td><td>1.2103e6</td><td>12</td><td>2023</td><td>3</td><td>4</td><td>0</td><td>2</td><td>1.12207432e8</td><td>1</td><td>&quot;40&quot;</td><td>&quot;40&quot;</td><td>1</td><td>&quot;46&quot;</td><td>192.0</td><td>192.0</td></tr><tr><td>&quot;inn3504856&quot;</td><td>116</td><td>9.0018e6</td><td>10</td><td>2024</td><td>3</td><td>4</td><td>0</td><td>2</td><td>0.0</td><td>1</td><td>&quot;36&quot;</td><td>&quot;36&quot;</td><td>1</td><td>&quot;10&quot;</td><td>192.0</td><td>192.0</td></tr><tr><td>&quot;inn1675574&quot;</td><td>116</td><td>1.2502e6</td><td>10</td><td>2024</td><td>3</td><td>4</td><td>0</td><td>2</td><td>8.0138944e7</td><td>1</td><td>&quot;40&quot;</td><td>&quot;40&quot;</td><td>1</td><td>&quot;47&quot;</td><td>192.0</td><td>192.0</td></tr><tr><td>&quot;inn3348229&quot;</td><td>67</td><td>1.2196e6</td><td>11</td><td>2023</td><td>2</td><td>4</td><td>1</td><td>2</td><td>2.2323248e7</td><td>1</td><td>&quot;46&quot;</td><td>&quot;46&quot;</td><td>1</td><td>&quot;22&quot;</td><td>192.0</td><td>192.0</td></tr><tr><td>&quot;inn3995870&quot;</td><td>74</td><td>220242.475586</td><td>12</td><td>2023</td><td>4</td><td>4</td><td>0</td><td>2</td><td>1.339508e7</td><td>1</td><td>&quot;20&quot;</td><td>&quot;20&quot;</td><td>1</td><td>&quot;28&quot;</td><td>24.0</td><td>3.0</td></tr><tr><td>&hellip;</td><td>&hellip;</td><td>&hellip;</td><td>&hellip;</td><td>&hellip;</td><td>&hellip;</td><td>&hellip;</td><td>&hellip;</td><td>&hellip;</td><td>&hellip;</td><td>&hellip;</td><td>&hellip;</td><td>&hellip;</td><td>&hellip;</td><td>&hellip;</td><td>&hellip;</td><td>&hellip;</td></tr><tr><td>&quot;inn2564856&quot;</td><td>67</td><td>1.4735e7</td><td>11</td><td>2023</td><td>2</td><td>4</td><td>1</td><td>2</td><td>4.91811296e8</td><td>1</td><td>&quot;45&quot;</td><td>&quot;45&quot;</td><td>1</td><td>&quot;58&quot;</td><td>192.0</td><td>192.0</td></tr><tr><td>&quot;inn2346378&quot;</td><td>74</td><td>439088.044434</td><td>12</td><td>2023</td><td>4</td><td>4</td><td>0</td><td>2</td><td>0.0</td><td>0</td><td>&quot;45&quot;</td><td>&quot;45&quot;</td><td>1</td><td>&quot;74&quot;</td><td>192.0</td><td>192.0</td></tr><tr><td>&quot;inn901113&quot;</td><td>63</td><td>1.5958e6</td><td>10</td><td>2023</td><td>2</td><td>4</td><td>0</td><td>2</td><td>7.64368064e8</td><td>1</td><td>&quot;46&quot;</td><td>&quot;46&quot;</td><td>1</td><td>&quot;47&quot;</td><td>192.0</td><td>192.0</td></tr><tr><td>&quot;inn1388807&quot;</td><td>62</td><td>344427.4021</td><td>10</td><td>2023</td><td>1</td><td>4</td><td>0</td><td>2</td><td>1.093919e7</td><td>0</td><td>&quot;52&quot;</td><td>&quot;52&quot;</td><td>1</td><td>&quot;31&quot;</td><td>192.0</td><td>192.0</td></tr><tr><td>&quot;inn2630765&quot;</td><td>69</td><td>911260.118774</td><td>11</td><td>2023</td><td>4</td><td>4</td><td>0</td><td>2</td><td>7.8580632e7</td><td>1</td><td>&quot;46&quot;</td><td>&quot;46&quot;</td><td>1</td><td>&quot;68&quot;</td><td>192.0</td><td>144.0</td></tr></tbody></table></div>"
          },
          "metadata": {}
        }
      ],
      "execution_count": null
    },
    {
      "cell_type": "code",
      "source": [
        "groupper2(train, groups, mode, postfix)"
      ],
      "metadata": {
        "trusted": true,
        "id": "hAhswhAAic9V"
      },
      "outputs": [],
      "execution_count": null
    },
    {
      "cell_type": "code",
      "source": [
        "train = get_train(dir)\n",
        "test = get_test(dir)\n",
        "val = get_val(dir)\n",
        "train_val = pl.concat([train, val])"
      ],
      "metadata": {
        "trusted": true,
        "execution": {
          "iopub.status.busy": "2025-04-03T20:12:45.323629Z",
          "iopub.execute_input": "2025-04-03T20:12:45.323900Z",
          "iopub.status.idle": "2025-04-03T20:24:56.240329Z",
          "shell.execute_reply.started": "2025-04-03T20:12:45.323870Z",
          "shell.execute_reply": "2025-04-03T20:24:56.239645Z"
        },
        "id": "ALxJn_3Tic9V",
        "outputId": "6eca473b-6d2b-4a65-b409-937b09b0a8da"
      },
      "outputs": [
        {
          "name": "stderr",
          "text": "<ipython-input-6-e05ced114c1d>:9: DeprecationWarning: The `default` parameter for `replace` is deprecated. Use `replace_strict` instead to set a default while replacing values.\n  pl.col(\"diff_datopen_report_date_flg\").replace(age, default=np.NAN),\nsys:1: MapWithoutReturnDtypeWarning: Calling `map_elements` without specifying `return_dtype` can lead to unpredictable results. Specify `return_dtype` to silence this warning.\n<ipython-input-6-e05ced114c1d>:9: DeprecationWarning: The `default` parameter for `replace` is deprecated. Use `replace_strict` instead to set a default while replacing values.\n  pl.col(\"diff_datopen_report_date_flg\").replace(age, default=np.NAN),\nsys:1: MapWithoutReturnDtypeWarning: Calling `map_elements` without specifying `return_dtype` can lead to unpredictable results. Specify `return_dtype` to silence this warning.\n<ipython-input-6-e05ced114c1d>:9: DeprecationWarning: The `default` parameter for `replace` is deprecated. Use `replace_strict` instead to set a default while replacing values.\n  pl.col(\"diff_datopen_report_date_flg\").replace(age, default=np.NAN),\nsys:1: MapWithoutReturnDtypeWarning: Calling `map_elements` without specifying `return_dtype` can lead to unpredictable results. Specify `return_dtype` to silence this warning.\n",
          "output_type": "stream"
        }
      ],
      "execution_count": null
    },
    {
      "cell_type": "code",
      "source": [
        "print(train.columns)"
      ],
      "metadata": {
        "trusted": true,
        "execution": {
          "iopub.status.busy": "2025-04-03T21:08:44.909250Z",
          "iopub.execute_input": "2025-04-03T21:08:44.909588Z",
          "iopub.status.idle": "2025-04-03T21:08:44.914093Z",
          "shell.execute_reply.started": "2025-04-03T21:08:44.909546Z",
          "shell.execute_reply": "2025-04-03T21:08:44.913248Z"
        },
        "id": "UFEheK-vic9W",
        "outputId": "24fc0960-2acc-4688-e940-9d455c2d0eec"
      },
      "outputs": [
        {
          "name": "stdout",
          "text": "['inn_id', 'week', 'target', 'month', 'year', 'week_of_month', 'quarter', 'holidays_in_week', 'weekends_in_week', 'ipul', 'id_region_f', 'id_region_l', 'id_region_u', 'main_okved_group', 'diff_datopen_report_date_flg', 'diff_datopen_report_date_flg_min', 'out_vtb_trns_count_week_of_month', 'out_vtb_trns_amount_week_of_month', 'out_vtb_avg_amount_week_of_month', 'out_avg_amount_week_of_month', 'out_std_amount_week_of_month', 'out_median_amount_week_of_month', 'out_p90_amount_week_of_month', 'out_p75_amount_week_of_month', 'out_p5_amount_week_of_month', 'out_p25_amount_week_of_month', 'out_p10_amount_week_of_month', 'out_active_days_week_of_month', 'out_trns_types_week_of_month', 'out_common_trns_type_week_of_month', 'out_large_trns_count_week_of_month', 'out_small_trns_count_week_of_month', 'out_vtb_trns_class_encoded_week_of_month', 'out_vtb_date_week_of_month', 'out_vtb_trns_count_month', 'out_vtb_trns_amount_month', 'out_vtb_avg_amount_month', 'out_avg_amount_month', 'out_std_amount_month', 'out_median_amount_month', 'out_p90_amount_month', 'out_p75_amount_month', 'out_p5_amount_month', 'out_p25_amount_month', 'out_p10_amount_month', 'out_active_days_month', 'out_trns_types_month', 'out_common_trns_type_month', 'out_large_trns_count_month', 'out_small_trns_count_month', 'out_vtb_trns_class_encoded_month', 'out_vtb_date_month', 'out_vtb_trns_count_month_full', 'out_vtb_trns_amount_month_full', 'out_vtb_avg_amount_month_full', 'out_avg_amount_month_full', 'out_std_amount_month_full', 'out_median_amount_month_full', 'out_p90_amount_month_full', 'out_p75_amount_month_full', 'out_p5_amount_month_full', 'out_p25_amount_month_full', 'out_p10_amount_month_full', 'out_active_days_month_full', 'out_trns_types_month_full', 'out_common_trns_type_month_full', 'out_large_trns_count_month_full', 'out_small_trns_count_month_full', 'out_vtb_trns_class_encoded_month_full', 'out_vtb_date_month_full', 'out_vtb_trns_count_quarter', 'out_vtb_trns_amount_quarter', 'out_vtb_avg_amount_quarter', 'out_avg_amount_quarter', 'out_std_amount_quarter', 'out_median_amount_quarter', 'out_p90_amount_quarter', 'out_p75_amount_quarter', 'out_p5_amount_quarter', 'out_p25_amount_quarter', 'out_p10_amount_quarter', 'out_active_days_quarter', 'out_trns_types_quarter', 'out_common_trns_type_quarter', 'out_large_trns_count_quarter', 'out_small_trns_count_quarter', 'out_vtb_trns_class_encoded_quarter', 'out_vtb_date_quarter', 'out_vtb_trns_count_quarter_full', 'out_vtb_trns_amount_quarter_full', 'out_vtb_avg_amount_quarter_full', 'out_avg_amount_quarter_full', 'out_std_amount_quarter_full', 'out_median_amount_quarter_full', 'out_p90_amount_quarter_full', 'out_p75_amount_quarter_full', 'out_p5_amount_quarter_full', 'out_p25_amount_quarter_full', 'out_p10_amount_quarter_full', 'out_active_days_quarter_full', 'out_trns_types_quarter_full', 'out_common_trns_type_quarter_full', 'out_large_trns_count_quarter_full', 'out_small_trns_count_quarter_full', 'out_vtb_trns_class_encoded_quarter_full', 'out_vtb_date_quarter_full', 'in_vtb_trns_count_week_of_month', 'in_vtb_trns_amount_week_of_month', 'in_vtb_avg_amount_week_of_month', 'in_avg_amount_week_of_month', 'in_std_amount_week_of_month', 'in_median_amount_week_of_month', 'in_p90_amount_week_of_month', 'in_p75_amount_week_of_month', 'in_p5_amount_week_of_month', 'in_p25_amount_week_of_month', 'in_p10_amount_week_of_month', 'in_active_days_week_of_month', 'in_trns_types_week_of_month', 'in_common_trns_type_week_of_month', 'in_large_trns_count_week_of_month', 'in_small_trns_count_week_of_month', 'in_vtb_trns_class_encoded_week_of_month', 'in_vtb_date_week_of_month', 'in_vtb_trns_count_month', 'in_vtb_trns_amount_month', 'in_vtb_avg_amount_month', 'in_avg_amount_month', 'in_std_amount_month', 'in_median_amount_month', 'in_p90_amount_month', 'in_p75_amount_month', 'in_p5_amount_month', 'in_p25_amount_month', 'in_p10_amount_month', 'in_active_days_month', 'in_trns_types_month', 'in_common_trns_type_month', 'in_large_trns_count_month', 'in_small_trns_count_month', 'in_vtb_trns_class_encoded_month', 'in_vtb_date_month', 'in_vtb_trns_count_month_full', 'in_vtb_trns_amount_month_full', 'in_vtb_avg_amount_month_full', 'in_avg_amount_month_full', 'in_std_amount_month_full', 'in_median_amount_month_full', 'in_p90_amount_month_full', 'in_p75_amount_month_full', 'in_p5_amount_month_full', 'in_p25_amount_month_full', 'in_p10_amount_month_full', 'in_active_days_month_full', 'in_trns_types_month_full', 'in_common_trns_type_month_full', 'in_large_trns_count_month_full', 'in_small_trns_count_month_full', 'in_vtb_trns_class_encoded_month_full', 'in_vtb_date_month_full', 'in_vtb_trns_count_quarter', 'in_vtb_trns_amount_quarter', 'in_vtb_avg_amount_quarter', 'in_avg_amount_quarter', 'in_std_amount_quarter', 'in_median_amount_quarter', 'in_p90_amount_quarter', 'in_p75_amount_quarter', 'in_p5_amount_quarter', 'in_p25_amount_quarter', 'in_p10_amount_quarter', 'in_active_days_quarter', 'in_trns_types_quarter', 'in_common_trns_type_quarter', 'in_large_trns_count_quarter', 'in_small_trns_count_quarter', 'in_vtb_trns_class_encoded_quarter', 'in_vtb_date_quarter', 'in_vtb_trns_count_quarter_full', 'in_vtb_trns_amount_quarter_full', 'in_vtb_avg_amount_quarter_full', 'in_avg_amount_quarter_full', 'in_std_amount_quarter_full', 'in_median_amount_quarter_full', 'in_p90_amount_quarter_full', 'in_p75_amount_quarter_full', 'in_p5_amount_quarter_full', 'in_p25_amount_quarter_full', 'in_p10_amount_quarter_full', 'in_active_days_quarter_full', 'in_trns_types_quarter_full', 'in_common_trns_type_quarter_full', 'in_large_trns_count_quarter_full', 'in_small_trns_count_quarter_full', 'in_vtb_trns_class_encoded_quarter_full', 'in_vtb_date_quarter_full']\n",
          "output_type": "stream"
        }
      ],
      "execution_count": null
    },
    {
      "cell_type": "code",
      "source": [
        "from catboost import CatBoostRegressor, Pool\n",
        "cat_cols = ['inn_id', 'month', 'year', 'week_of_month', 'quarter', 'ipul', 'id_region_f', 'id_region_l', 'id_region_u', 'main_okved_group', 'main_okved_group']"
      ],
      "metadata": {
        "trusted": true,
        "execution": {
          "iopub.status.busy": "2025-04-03T20:24:56.241110Z",
          "iopub.execute_input": "2025-04-03T20:24:56.241415Z",
          "iopub.status.idle": "2025-04-03T20:24:58.166634Z",
          "shell.execute_reply.started": "2025-04-03T20:24:56.241387Z",
          "shell.execute_reply": "2025-04-03T20:24:58.165659Z"
        },
        "id": "0Uhk_X8Nic9W"
      },
      "outputs": [],
      "execution_count": null
    },
    {
      "cell_type": "code",
      "source": [
        "train.write_parquet('train.parquet')\n",
        "test.write_parquet('test.parquet')\n",
        "val.write_parquet('val.parquet')\n",
        "train_val.write_parquet('train_val.parquet')"
      ],
      "metadata": {
        "trusted": true,
        "execution": {
          "iopub.status.busy": "2025-04-03T20:31:21.265773Z",
          "iopub.execute_input": "2025-04-03T20:31:21.266112Z",
          "iopub.status.idle": "2025-04-03T20:31:29.340217Z",
          "shell.execute_reply.started": "2025-04-03T20:31:21.266089Z",
          "shell.execute_reply": "2025-04-03T20:31:29.339486Z"
        },
        "id": "7BFyOM0Lic9W"
      },
      "outputs": [],
      "execution_count": null
    },
    {
      "cell_type": "code",
      "source": [
        "train_df = train.to_pandas()\n",
        "y_train = train_df['target']\n",
        "X_train = train_df.drop(['target'], axis=1)\n",
        "pool_train = Pool(data=X_train, label=y_train, cat_features=cat_cols)"
      ],
      "metadata": {
        "trusted": true,
        "execution": {
          "iopub.status.busy": "2025-04-03T21:18:33.472472Z",
          "iopub.execute_input": "2025-04-03T21:18:33.472820Z",
          "iopub.status.idle": "2025-04-03T21:18:35.467726Z",
          "shell.execute_reply.started": "2025-04-03T21:18:33.472788Z",
          "shell.execute_reply": "2025-04-03T21:18:35.466813Z"
        },
        "id": "ZmGCPaU-ic9X"
      },
      "outputs": [],
      "execution_count": null
    },
    {
      "cell_type": "code",
      "source": [
        "val_df = val.to_pandas()\n",
        "y_val = val_df['target']\n",
        "X_val = val_df.drop(['target'], axis=1)\n",
        "pool_val = Pool(data=X_val, label=y_val, cat_features=cat_cols)"
      ],
      "metadata": {
        "trusted": true,
        "execution": {
          "iopub.status.busy": "2025-04-03T21:18:35.468975Z",
          "iopub.execute_input": "2025-04-03T21:18:35.469289Z",
          "iopub.status.idle": "2025-04-03T21:18:36.091172Z",
          "shell.execute_reply.started": "2025-04-03T21:18:35.469257Z",
          "shell.execute_reply": "2025-04-03T21:18:36.090468Z"
        },
        "id": "fhXyXt0Uic9X"
      },
      "outputs": [],
      "execution_count": null
    },
    {
      "cell_type": "code",
      "source": [
        "model = CatBoostRegressor(\n",
        "    iterations=3000,\n",
        "    learning_rate=0.01,\n",
        "    loss_function='RMSE',\n",
        "    eval_metric='RMSE',\n",
        "    verbose=100,  # печатать логи каждые 100 итераций\n",
        "    task_type='GPU'\n",
        ")"
      ],
      "metadata": {
        "trusted": true,
        "execution": {
          "iopub.status.busy": "2025-04-03T21:18:42.004682Z",
          "iopub.execute_input": "2025-04-03T21:18:42.004983Z",
          "iopub.status.idle": "2025-04-03T21:18:42.009062Z",
          "shell.execute_reply.started": "2025-04-03T21:18:42.004962Z",
          "shell.execute_reply": "2025-04-03T21:18:42.008239Z"
        },
        "id": "3QQw5pP1ic9X"
      },
      "outputs": [],
      "execution_count": null
    },
    {
      "cell_type": "code",
      "source": [
        "model.fit(\n",
        "    pool_train,\n",
        "    eval_set=pool_val,\n",
        "\n",
        "    # early_stopping_rounds=100,\n",
        ")"
      ],
      "metadata": {
        "trusted": true,
        "execution": {
          "iopub.status.busy": "2025-04-03T21:18:43.135875Z",
          "iopub.execute_input": "2025-04-03T21:18:43.136159Z",
          "iopub.status.idle": "2025-04-03T21:21:00.516391Z",
          "shell.execute_reply.started": "2025-04-03T21:18:43.136138Z",
          "shell.execute_reply": "2025-04-03T21:21:00.515599Z"
        },
        "scrolled": true,
        "id": "i7Ufg6vtic9Y",
        "outputId": "3cae09d8-3586-4846-8425-95f0448bfc57"
      },
      "outputs": [
        {
          "name": "stdout",
          "text": "0:\tlearn: 10528731.1227668\ttest: 11239672.2276076\tbest: 11239672.2276076 (0)\ttotal: 43.3ms\tremaining: 2m 9s\n100:\tlearn: 6673549.7936293\ttest: 7333505.4249604\tbest: 7333505.4249604 (100)\ttotal: 4.13s\tremaining: 1m 58s\n200:\tlearn: 5326031.5326000\ttest: 6070290.9875108\tbest: 6070290.9875108 (200)\ttotal: 8.31s\tremaining: 1m 55s\n300:\tlearn: 4765363.4777403\ttest: 5618224.3996920\tbest: 5618224.3996920 (300)\ttotal: 12.6s\tremaining: 1m 52s\n400:\tlearn: 4452861.7784580\ttest: 5440589.0953420\tbest: 5440589.0953420 (400)\ttotal: 16.9s\tremaining: 1m 49s\n500:\tlearn: 4262357.7742873\ttest: 5327549.8797680\tbest: 5327549.8797680 (500)\ttotal: 21.3s\tremaining: 1m 46s\n600:\tlearn: 4125118.7920285\ttest: 5256481.1027630\tbest: 5256016.9017677 (596)\ttotal: 25.7s\tremaining: 1m 42s\n700:\tlearn: 3994428.8857302\ttest: 5198260.9081082\tbest: 5198100.3753679 (699)\ttotal: 30s\tremaining: 1m 38s\n800:\tlearn: 3886190.0928717\ttest: 5151921.3747288\tbest: 5151921.3747288 (800)\ttotal: 34.4s\tremaining: 1m 34s\n900:\tlearn: 3803047.4310890\ttest: 5104829.6457747\tbest: 5104715.1389125 (899)\ttotal: 38.7s\tremaining: 1m 30s\n1000:\tlearn: 3716798.1458377\ttest: 5055799.7878127\tbest: 5055799.7878127 (1000)\ttotal: 43.1s\tremaining: 1m 25s\n1100:\tlearn: 3638910.2575257\ttest: 5022118.4053135\tbest: 5022118.4053135 (1100)\ttotal: 47.4s\tremaining: 1m 21s\n1200:\tlearn: 3576911.4601538\ttest: 4990050.7817303\tbest: 4990050.7817303 (1200)\ttotal: 51.8s\tremaining: 1m 17s\n1300:\tlearn: 3520501.3834593\ttest: 4960593.1207514\tbest: 4960593.1207514 (1300)\ttotal: 56.2s\tremaining: 1m 13s\n1400:\tlearn: 3466139.6549408\ttest: 4940178.1884398\tbest: 4940178.1884398 (1400)\ttotal: 1m\tremaining: 1m 9s\n1500:\tlearn: 3411517.8578721\ttest: 4913096.8436949\tbest: 4913096.8436949 (1500)\ttotal: 1m 4s\tremaining: 1m 4s\n1600:\tlearn: 3366045.1767520\ttest: 4892579.6848574\tbest: 4892579.6848574 (1600)\ttotal: 1m 9s\tremaining: 1m\n1700:\tlearn: 3328814.6236671\ttest: 4881277.5074581\tbest: 4881277.5074581 (1700)\ttotal: 1m 13s\tremaining: 56.2s\n1800:\tlearn: 3286924.1113971\ttest: 4864020.9300268\tbest: 4863896.9474752 (1797)\ttotal: 1m 17s\tremaining: 51.9s\n1900:\tlearn: 3249652.0890672\ttest: 4853830.4930365\tbest: 4852689.0284264 (1892)\ttotal: 1m 22s\tremaining: 47.6s\n2000:\tlearn: 3211560.0240566\ttest: 4840076.8982994\tbest: 4839473.0153977 (1998)\ttotal: 1m 26s\tremaining: 43.2s\n2100:\tlearn: 3178352.8697531\ttest: 4831011.2762234\tbest: 4830590.2367272 (2091)\ttotal: 1m 30s\tremaining: 38.9s\n2200:\tlearn: 3151146.6443163\ttest: 4824368.0975656\tbest: 4823446.6827769 (2175)\ttotal: 1m 35s\tremaining: 34.6s\n2300:\tlearn: 3120118.1765046\ttest: 4816515.2146925\tbest: 4815615.0909376 (2292)\ttotal: 1m 39s\tremaining: 30.3s\n2400:\tlearn: 3089767.7574807\ttest: 4806069.1381031\tbest: 4805924.3983268 (2396)\ttotal: 1m 44s\tremaining: 26s\n2500:\tlearn: 3063884.0983983\ttest: 4799508.5424465\tbest: 4799508.5424465 (2500)\ttotal: 1m 48s\tremaining: 21.6s\n2600:\tlearn: 3041192.5315163\ttest: 4793766.3803305\tbest: 4793385.3849593 (2575)\ttotal: 1m 52s\tremaining: 17.3s\n2700:\tlearn: 3018071.6566155\ttest: 4789116.2212601\tbest: 4789026.7508727 (2695)\ttotal: 1m 57s\tremaining: 13s\n2800:\tlearn: 2993185.6633206\ttest: 4790014.4223755\tbest: 4788705.0302669 (2745)\ttotal: 2m 1s\tremaining: 8.64s\n2900:\tlearn: 2970582.2446966\ttest: 4783846.7689145\tbest: 4783549.0286392 (2899)\ttotal: 2m 5s\tremaining: 4.29s\n2999:\tlearn: 2948359.1353946\ttest: 4778139.7563995\tbest: 4777174.5446637 (2996)\ttotal: 2m 10s\tremaining: 0us\nbestTest = 4777174.545\nbestIteration = 2996\nShrink model to first 2997 iterations.\n",
          "output_type": "stream"
        },
        {
          "execution_count": 58,
          "output_type": "execute_result",
          "data": {
            "text/plain": "<catboost.core.CatBoostRegressor at 0x7aeb41b081c0>"
          },
          "metadata": {}
        }
      ],
      "execution_count": null
    },
    {
      "cell_type": "code",
      "source": [
        "feature_importance = model.get_feature_importance()\n",
        "print(\"\\nFeature importance:\", feature_importance)"
      ],
      "metadata": {
        "trusted": true,
        "execution": {
          "iopub.status.busy": "2025-04-03T21:21:39.718946Z",
          "iopub.execute_input": "2025-04-03T21:21:39.719301Z",
          "iopub.status.idle": "2025-04-03T21:21:39.743749Z",
          "shell.execute_reply.started": "2025-04-03T21:21:39.719272Z",
          "shell.execute_reply": "2025-04-03T21:21:39.743012Z"
        },
        "id": "kon6F2_Aic9Z",
        "outputId": "c88a42c2-c38f-42b4-efd1-9f5dd61cfbb4"
      },
      "outputs": [
        {
          "name": "stdout",
          "text": "\nFeature importance: [4.85206865e-02 1.39966668e+00 1.63058799e-01 0.00000000e+00\n 1.78185888e-01 0.00000000e+00 9.64081411e-02 0.00000000e+00\n 2.94657610e-05 1.69688782e-01 2.80186923e-01 8.83589877e-02\n 4.26485417e+00 3.50442739e-02 1.74366992e-02 1.53294518e+00\n 3.88668571e+00 6.05382775e-01 7.12274234e-02 6.66052748e+00\n 1.18472471e-01 5.23335632e-02 3.57841518e-02 1.70722729e-01\n 2.55396688e-01 2.56657320e-01 3.09205632e-01 1.05897758e-01\n 7.29936080e-02 6.49915644e+00 1.81148490e+00 1.13808353e-01\n 4.74422846e-01 5.77793361e-02 5.76969965e+00 5.61516538e-01\n 1.32443715e+00 1.79414506e+00 3.98618662e-02 1.10511512e-01\n 1.87804930e-01 2.11247035e-01 1.32578211e-01 9.30184464e-02\n 2.19352098e-01 1.93087199e-01 3.63348460e-03 1.77179887e+01\n 1.27124843e+00 1.73533573e-01 1.94936254e-01 5.04470975e-03\n 3.02876573e-03 9.63055302e-03 5.50470402e-04 5.40222616e-03\n 4.75106748e-03 1.54719638e-03 1.91194712e-03 9.92101961e-03\n 3.91881671e-02 1.08093517e-02 3.48993690e-03 5.78563717e-04\n 0.00000000e+00 2.54451753e-02 3.47191136e-03 0.00000000e+00\n 1.62179811e-02 4.21776423e-01 3.35608613e+00 1.09734436e-01\n 3.21697122e-02 2.82207621e+00 7.56514589e-02 1.57107420e-01\n 1.94442533e-02 4.78830269e-02 5.54451919e-02 2.97748006e-01\n 2.14688843e-02 2.39446972e-01 1.63174402e-03 7.16924271e+00\n 1.72082425e+00 2.54324096e-01 2.56450516e-02 0.00000000e+00\n 0.00000000e+00 0.00000000e+00 0.00000000e+00 0.00000000e+00\n 0.00000000e+00 0.00000000e+00 0.00000000e+00 1.64406121e-07\n 0.00000000e+00 0.00000000e+00 0.00000000e+00 0.00000000e+00\n 0.00000000e+00 0.00000000e+00 0.00000000e+00 0.00000000e+00\n 0.00000000e+00 1.43544791e+00 2.63867119e-01 1.61799472e+00\n 1.71720804e+00 1.04692347e+00 3.50563306e-01 4.45755220e-01\n 2.90159465e-01 1.96195203e-01 5.74956223e-01 2.48585641e-01\n 1.54367114e-01 6.58502393e-01 7.72696060e-02 1.40230641e-01\n 2.03515292e+00 7.69881344e-01 1.43467812e-01 4.43680562e-02\n 4.52301097e-02 9.41039801e-01 2.62975536e-02 5.57898086e-02\n 4.65827768e-02 4.60188335e-01 2.02511369e-01 6.19133361e-02\n 4.00336975e-01 9.16731080e-02 8.48326436e-02 2.11821049e-01\n 0.00000000e+00 5.57503164e-01 3.22748018e-01 1.90424831e-01\n 1.15905312e-01 1.10730835e-02 3.11326056e-03 3.75154782e-03\n 4.99080026e-04 1.78164917e-02 7.81444358e-03 1.31613007e-02\n 2.87255614e-02 5.92865492e-03 2.19251483e-02 1.00826893e-02\n 2.48143554e-03 7.74369763e-04 0.00000000e+00 8.77343221e-03\n 1.72353171e-03 6.17770870e-04 3.70790953e-03 2.61163359e-02\n 2.93134040e-02 4.76479847e-01 3.18599178e-02 2.86008059e-01\n 2.20277293e-01 3.93636705e-01 3.43370662e-01 1.27857375e-01\n 5.66038209e-02 1.15547799e-01 2.57390227e-02 9.26558115e-01\n 1.01875254e-04 2.44262368e+00 4.43955259e-01 1.02206648e+00\n 6.45880804e-02 0.00000000e+00 0.00000000e+00 0.00000000e+00\n 0.00000000e+00 0.00000000e+00 0.00000000e+00 0.00000000e+00\n 0.00000000e+00 0.00000000e+00 0.00000000e+00 0.00000000e+00\n 0.00000000e+00 0.00000000e+00 0.00000000e+00 0.00000000e+00\n 0.00000000e+00 1.30048917e-05 0.00000000e+00]\n",
          "output_type": "stream"
        }
      ],
      "execution_count": null
    },
    {
      "cell_type": "code",
      "source": [
        "from sklearn.metrics import mean_squared_error\n",
        "y_pred = model.predict(X_val)\n",
        "\n",
        "y_test_pos = np.maximum(0, y_val)\n",
        "y_pred_pos = np.maximum(0, y_pred)\n",
        "\n",
        "rmsle = np.sqrt(mean_squared_log_error(y_test_pos, y_pred_pos))\n",
        "print(f\"RMSLE: {rmsle:.4f}\")"
      ],
      "metadata": {
        "trusted": true,
        "execution": {
          "iopub.status.busy": "2025-04-03T21:21:42.944975Z",
          "iopub.execute_input": "2025-04-03T21:21:42.945283Z",
          "iopub.status.idle": "2025-04-03T21:21:45.238203Z",
          "shell.execute_reply.started": "2025-04-03T21:21:42.945260Z",
          "shell.execute_reply": "2025-04-03T21:21:45.237331Z"
        },
        "id": "-6sXKAhfic9Z",
        "outputId": "4e9fe551-e94d-4f25-dab8-4e1138f75b97"
      },
      "outputs": [
        {
          "name": "stdout",
          "text": "RMSLE: 3.4151\n",
          "output_type": "stream"
        }
      ],
      "execution_count": null
    },
    {
      "cell_type": "code",
      "source": [],
      "metadata": {
        "trusted": true,
        "id": "gqqOkmm_ic9Z"
      },
      "outputs": [],
      "execution_count": null
    }
  ]
}