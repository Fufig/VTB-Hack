{
  "metadata": {
    "kernelspec": {
      "name": "python3",
      "display_name": "Python 3",
      "language": "python"
    },
    "language_info": {
      "name": "python",
      "version": "3.10.12",
      "mimetype": "text/x-python",
      "codemirror_mode": {
        "name": "ipython",
        "version": 3
      },
      "pygments_lexer": "ipython3",
      "nbconvert_exporter": "python",
      "file_extension": ".py"
    },
    "kaggle": {
      "accelerator": "none",
      "dataSources": [
        {
          "sourceId": 11234972,
          "sourceType": "datasetVersion",
          "datasetId": 7018501
        }
      ],
      "dockerImageVersionId": 30918,
      "isInternetEnabled": true,
      "language": "python",
      "sourceType": "notebook",
      "isGpuEnabled": false
    },
    "colab": {
      "provenance": []
    }
  },
  "nbformat_minor": 5,
  "nbformat": 4,
  "cells": [
    {
      "id": "66ea8879-ec0f-4154-8bf4-d759a0b694ac",
      "cell_type": "code",
      "source": [
        "import os\n",
        "os.chdir('/kaggle/input/iatvoirotblat')"
      ],
      "metadata": {
        "trusted": true,
        "execution": {
          "iopub.status.busy": "2025-04-01T15:49:08.235299Z",
          "iopub.execute_input": "2025-04-01T15:49:08.235781Z",
          "iopub.status.idle": "2025-04-01T15:49:08.242662Z",
          "shell.execute_reply.started": "2025-04-01T15:49:08.235745Z",
          "shell.execute_reply": "2025-04-01T15:49:08.241426Z"
        },
        "id": "66ea8879-ec0f-4154-8bf4-d759a0b694ac"
      },
      "outputs": [],
      "execution_count": null
    },
    {
      "id": "4d8a8eb3-fe0f-4f62-a1ed-fb295b652a03",
      "cell_type": "code",
      "source": [
        "import polars as pl\n",
        "import numpy as np"
      ],
      "metadata": {
        "trusted": true,
        "execution": {
          "iopub.status.busy": "2025-04-01T15:49:08.275100Z",
          "iopub.execute_input": "2025-04-01T15:49:08.275511Z",
          "iopub.status.idle": "2025-04-01T15:49:08.508601Z",
          "shell.execute_reply.started": "2025-04-01T15:49:08.275480Z",
          "shell.execute_reply": "2025-04-01T15:49:08.507473Z"
        },
        "id": "4d8a8eb3-fe0f-4f62-a1ed-fb295b652a03"
      },
      "outputs": [],
      "execution_count": null
    },
    {
      "id": "1194c0c2-920c-4d53-935f-2684a60fa050",
      "cell_type": "code",
      "source": [
        "calendar = pl.read_csv(\"calendar_extended.csv\")\n",
        "calendar"
      ],
      "metadata": {
        "trusted": true,
        "execution": {
          "iopub.status.busy": "2025-04-01T15:49:08.510090Z",
          "iopub.execute_input": "2025-04-01T15:49:08.510403Z",
          "iopub.status.idle": "2025-04-01T15:49:09.272052Z",
          "shell.execute_reply.started": "2025-04-01T15:49:08.510378Z",
          "shell.execute_reply": "2025-04-01T15:49:09.270844Z"
        },
        "id": "1194c0c2-920c-4d53-935f-2684a60fa050",
        "outputId": "24d7f689-85dc-4d25-d5f1-f2abc0d55da7"
      },
      "outputs": [
        {
          "execution_count": 3,
          "output_type": "execute_result",
          "data": {
            "text/plain": "shape: (910, 3)\n┌────────────┬──────┬─────────┐\n│ date       ┆ week ┆ part    │\n│ ---        ┆ ---  ┆ ---     │\n│ str        ┆ i64  ┆ str     │\n╞════════════╪══════╪═════════╡\n│ 2022-07-25 ┆ 0    ┆ train   │\n│ 2022-07-26 ┆ 0    ┆ train   │\n│ 2022-07-27 ┆ 0    ┆ train   │\n│ 2022-07-28 ┆ 0    ┆ train   │\n│ 2022-07-29 ┆ 0    ┆ train   │\n│ …          ┆ …    ┆ …       │\n│ 2025-01-15 ┆ 129  ┆ private │\n│ 2025-01-16 ┆ 129  ┆ private │\n│ 2025-01-17 ┆ 129  ┆ private │\n│ 2025-01-18 ┆ 129  ┆ private │\n│ 2025-01-19 ┆ 129  ┆ private │\n└────────────┴──────┴─────────┘",
            "text/html": "<div><style>\n.dataframe > thead > tr,\n.dataframe > tbody > tr {\n  text-align: right;\n  white-space: pre-wrap;\n}\n</style>\n<small>shape: (910, 3)</small><table border=\"1\" class=\"dataframe\"><thead><tr><th>date</th><th>week</th><th>part</th></tr><tr><td>str</td><td>i64</td><td>str</td></tr></thead><tbody><tr><td>&quot;2022-07-25&quot;</td><td>0</td><td>&quot;train&quot;</td></tr><tr><td>&quot;2022-07-26&quot;</td><td>0</td><td>&quot;train&quot;</td></tr><tr><td>&quot;2022-07-27&quot;</td><td>0</td><td>&quot;train&quot;</td></tr><tr><td>&quot;2022-07-28&quot;</td><td>0</td><td>&quot;train&quot;</td></tr><tr><td>&quot;2022-07-29&quot;</td><td>0</td><td>&quot;train&quot;</td></tr><tr><td>&hellip;</td><td>&hellip;</td><td>&hellip;</td></tr><tr><td>&quot;2025-01-15&quot;</td><td>129</td><td>&quot;private&quot;</td></tr><tr><td>&quot;2025-01-16&quot;</td><td>129</td><td>&quot;private&quot;</td></tr><tr><td>&quot;2025-01-17&quot;</td><td>129</td><td>&quot;private&quot;</td></tr><tr><td>&quot;2025-01-18&quot;</td><td>129</td><td>&quot;private&quot;</td></tr><tr><td>&quot;2025-01-19&quot;</td><td>129</td><td>&quot;private&quot;</td></tr></tbody></table></div>"
          },
          "metadata": {}
        }
      ],
      "execution_count": null
    },
    {
      "id": "09bcc46d-cbb0-4a30-b4ac-bb5f1114af4b",
      "cell_type": "code",
      "source": [
        "profiles = pl.read_parquet(\"profiles_extended.parquet\")#[\"diff_datopen_report_date_flg\"].unique()\n",
        "profiles"
      ],
      "metadata": {
        "trusted": true,
        "execution": {
          "iopub.status.busy": "2025-04-01T15:49:09.273624Z",
          "iopub.execute_input": "2025-04-01T15:49:09.274029Z",
          "iopub.status.idle": "2025-04-01T15:49:12.507583Z",
          "shell.execute_reply.started": "2025-04-01T15:49:09.273998Z",
          "shell.execute_reply": "2025-04-01T15:49:12.506268Z"
        },
        "id": "09bcc46d-cbb0-4a30-b4ac-bb5f1114af4b",
        "outputId": "633a8f81-0559-40ac-e40e-38630fe83725"
      },
      "outputs": [
        {
          "execution_count": 4,
          "output_type": "execute_result",
          "data": {
            "text/plain": "shape: (38_379_456, 6)\n┌────────────┬─────────────┬──────┬───────────┬──────────────────┬──────────────────────────────┐\n│ inn_id     ┆ report_date ┆ ipul ┆ id_region ┆ main_okved_group ┆ diff_datopen_report_date_flg │\n│ ---        ┆ ---         ┆ ---  ┆ ---       ┆ ---              ┆ ---                          │\n│ str        ┆ str         ┆ str  ┆ str       ┆ str              ┆ str                          │\n╞════════════╪═════════════╪══════╪═══════════╪══════════════════╪══════════════════════════════╡\n│ inn10      ┆ 2023-10-01  ┆ ip   ┆ 45        ┆ 47               ┆ 3_6m                         │\n│ inn100     ┆ 2023-10-01  ┆ ul   ┆ 80        ┆ 86               ┆ more_12y                     │\n│ inn1000006 ┆ 2023-10-01  ┆ ip   ┆ 86        ┆ 49               ┆ more_12y                     │\n│ inn1000007 ┆ 2023-10-01  ┆ ul   ┆ 46        ┆ 46               ┆ 4_8y                         │\n│ inn1000008 ┆ 2023-10-01  ┆ ip   ┆ null      ┆ null             ┆ NULL                         │\n│ …          ┆ …           ┆ …    ┆ …         ┆ …                ┆ …                            │\n│ inn999991  ┆ 2024-10-01  ┆ ip   ┆ 80        ┆ 74               ┆ 1_2y                         │\n│ inn999994  ┆ 2024-10-01  ┆ ul   ┆ 45        ┆ 41               ┆ 2_4y                         │\n│ inn999995  ┆ 2024-10-01  ┆ ul   ┆ 17        ┆ 68               ┆ 3_6m                         │\n│ inn999997  ┆ 2024-10-01  ┆ ip   ┆ 46        ┆ 85               ┆ 2_4y                         │\n│ inn999999  ┆ 2024-10-01  ┆ ip   ┆ 98        ┆ 93               ┆ 1_2y                         │\n└────────────┴─────────────┴──────┴───────────┴──────────────────┴──────────────────────────────┘",
            "text/html": "<div><style>\n.dataframe > thead > tr,\n.dataframe > tbody > tr {\n  text-align: right;\n  white-space: pre-wrap;\n}\n</style>\n<small>shape: (38_379_456, 6)</small><table border=\"1\" class=\"dataframe\"><thead><tr><th>inn_id</th><th>report_date</th><th>ipul</th><th>id_region</th><th>main_okved_group</th><th>diff_datopen_report_date_flg</th></tr><tr><td>str</td><td>str</td><td>str</td><td>str</td><td>str</td><td>str</td></tr></thead><tbody><tr><td>&quot;inn10&quot;</td><td>&quot;2023-10-01&quot;</td><td>&quot;ip&quot;</td><td>&quot;45&quot;</td><td>&quot;47&quot;</td><td>&quot;3_6m&quot;</td></tr><tr><td>&quot;inn100&quot;</td><td>&quot;2023-10-01&quot;</td><td>&quot;ul&quot;</td><td>&quot;80&quot;</td><td>&quot;86&quot;</td><td>&quot;more_12y&quot;</td></tr><tr><td>&quot;inn1000006&quot;</td><td>&quot;2023-10-01&quot;</td><td>&quot;ip&quot;</td><td>&quot;86&quot;</td><td>&quot;49&quot;</td><td>&quot;more_12y&quot;</td></tr><tr><td>&quot;inn1000007&quot;</td><td>&quot;2023-10-01&quot;</td><td>&quot;ul&quot;</td><td>&quot;46&quot;</td><td>&quot;46&quot;</td><td>&quot;4_8y&quot;</td></tr><tr><td>&quot;inn1000008&quot;</td><td>&quot;2023-10-01&quot;</td><td>&quot;ip&quot;</td><td>null</td><td>null</td><td>&quot;NULL&quot;</td></tr><tr><td>&hellip;</td><td>&hellip;</td><td>&hellip;</td><td>&hellip;</td><td>&hellip;</td><td>&hellip;</td></tr><tr><td>&quot;inn999991&quot;</td><td>&quot;2024-10-01&quot;</td><td>&quot;ip&quot;</td><td>&quot;80&quot;</td><td>&quot;74&quot;</td><td>&quot;1_2y&quot;</td></tr><tr><td>&quot;inn999994&quot;</td><td>&quot;2024-10-01&quot;</td><td>&quot;ul&quot;</td><td>&quot;45&quot;</td><td>&quot;41&quot;</td><td>&quot;2_4y&quot;</td></tr><tr><td>&quot;inn999995&quot;</td><td>&quot;2024-10-01&quot;</td><td>&quot;ul&quot;</td><td>&quot;17&quot;</td><td>&quot;68&quot;</td><td>&quot;3_6m&quot;</td></tr><tr><td>&quot;inn999997&quot;</td><td>&quot;2024-10-01&quot;</td><td>&quot;ip&quot;</td><td>&quot;46&quot;</td><td>&quot;85&quot;</td><td>&quot;2_4y&quot;</td></tr><tr><td>&quot;inn999999&quot;</td><td>&quot;2024-10-01&quot;</td><td>&quot;ip&quot;</td><td>&quot;98&quot;</td><td>&quot;93&quot;</td><td>&quot;1_2y&quot;</td></tr></tbody></table></div>"
          },
          "metadata": {}
        }
      ],
      "execution_count": null
    },
    {
      "id": "94a32114-5f05-4263-b433-ef145d859de7",
      "cell_type": "code",
      "source": [
        "\n",
        "age={\n",
        "    \"1m\":1,\n",
        "    \"2_3m\":3,\n",
        "    \"3_6m\":6,\n",
        "    \"6_12m\":12,\n",
        "    \"1_2y\":24,\n",
        "    \"2_4y\":48,\n",
        "    \"4_8y\":96,\n",
        "    \"8_12y\":144,\n",
        "    \"more_12y\":192,\n",
        "    #\"NULL\":np.nan\n",
        "}\n",
        "profiles.with_columns(\n",
        "    pl.col(\"diff_datopen_report_date_flg\").replace(age, default=np.NAN)\n",
        ")"
      ],
      "metadata": {
        "trusted": true,
        "execution": {
          "iopub.status.busy": "2025-04-01T15:49:12.509295Z",
          "iopub.execute_input": "2025-04-01T15:49:12.509612Z",
          "iopub.status.idle": "2025-04-01T15:49:13.504972Z",
          "shell.execute_reply.started": "2025-04-01T15:49:12.509582Z",
          "shell.execute_reply": "2025-04-01T15:49:13.503800Z"
        },
        "id": "94a32114-5f05-4263-b433-ef145d859de7",
        "outputId": "3222fe4a-363a-4f9a-e7da-2062c26edd02"
      },
      "outputs": [
        {
          "name": "stderr",
          "text": "<ipython-input-5-999d75c271ae>:14: DeprecationWarning: The `default` parameter for `replace` is deprecated. Use `replace_strict` instead to set a default while replacing values.\n  pl.col(\"diff_datopen_report_date_flg\").replace(age, default=np.NAN)\n",
          "output_type": "stream"
        },
        {
          "execution_count": 5,
          "output_type": "execute_result",
          "data": {
            "text/plain": "shape: (38_379_456, 6)\n┌────────────┬─────────────┬──────┬───────────┬──────────────────┬──────────────────────────────┐\n│ inn_id     ┆ report_date ┆ ipul ┆ id_region ┆ main_okved_group ┆ diff_datopen_report_date_flg │\n│ ---        ┆ ---         ┆ ---  ┆ ---       ┆ ---              ┆ ---                          │\n│ str        ┆ str         ┆ str  ┆ str       ┆ str              ┆ f64                          │\n╞════════════╪═════════════╪══════╪═══════════╪══════════════════╪══════════════════════════════╡\n│ inn10      ┆ 2023-10-01  ┆ ip   ┆ 45        ┆ 47               ┆ 6.0                          │\n│ inn100     ┆ 2023-10-01  ┆ ul   ┆ 80        ┆ 86               ┆ 192.0                        │\n│ inn1000006 ┆ 2023-10-01  ┆ ip   ┆ 86        ┆ 49               ┆ 192.0                        │\n│ inn1000007 ┆ 2023-10-01  ┆ ul   ┆ 46        ┆ 46               ┆ 96.0                         │\n│ inn1000008 ┆ 2023-10-01  ┆ ip   ┆ null      ┆ null             ┆ NaN                          │\n│ …          ┆ …           ┆ …    ┆ …         ┆ …                ┆ …                            │\n│ inn999991  ┆ 2024-10-01  ┆ ip   ┆ 80        ┆ 74               ┆ 24.0                         │\n│ inn999994  ┆ 2024-10-01  ┆ ul   ┆ 45        ┆ 41               ┆ 48.0                         │\n│ inn999995  ┆ 2024-10-01  ┆ ul   ┆ 17        ┆ 68               ┆ 6.0                          │\n│ inn999997  ┆ 2024-10-01  ┆ ip   ┆ 46        ┆ 85               ┆ 48.0                         │\n│ inn999999  ┆ 2024-10-01  ┆ ip   ┆ 98        ┆ 93               ┆ 24.0                         │\n└────────────┴─────────────┴──────┴───────────┴──────────────────┴──────────────────────────────┘",
            "text/html": "<div><style>\n.dataframe > thead > tr,\n.dataframe > tbody > tr {\n  text-align: right;\n  white-space: pre-wrap;\n}\n</style>\n<small>shape: (38_379_456, 6)</small><table border=\"1\" class=\"dataframe\"><thead><tr><th>inn_id</th><th>report_date</th><th>ipul</th><th>id_region</th><th>main_okved_group</th><th>diff_datopen_report_date_flg</th></tr><tr><td>str</td><td>str</td><td>str</td><td>str</td><td>str</td><td>f64</td></tr></thead><tbody><tr><td>&quot;inn10&quot;</td><td>&quot;2023-10-01&quot;</td><td>&quot;ip&quot;</td><td>&quot;45&quot;</td><td>&quot;47&quot;</td><td>6.0</td></tr><tr><td>&quot;inn100&quot;</td><td>&quot;2023-10-01&quot;</td><td>&quot;ul&quot;</td><td>&quot;80&quot;</td><td>&quot;86&quot;</td><td>192.0</td></tr><tr><td>&quot;inn1000006&quot;</td><td>&quot;2023-10-01&quot;</td><td>&quot;ip&quot;</td><td>&quot;86&quot;</td><td>&quot;49&quot;</td><td>192.0</td></tr><tr><td>&quot;inn1000007&quot;</td><td>&quot;2023-10-01&quot;</td><td>&quot;ul&quot;</td><td>&quot;46&quot;</td><td>&quot;46&quot;</td><td>96.0</td></tr><tr><td>&quot;inn1000008&quot;</td><td>&quot;2023-10-01&quot;</td><td>&quot;ip&quot;</td><td>null</td><td>null</td><td>NaN</td></tr><tr><td>&hellip;</td><td>&hellip;</td><td>&hellip;</td><td>&hellip;</td><td>&hellip;</td><td>&hellip;</td></tr><tr><td>&quot;inn999991&quot;</td><td>&quot;2024-10-01&quot;</td><td>&quot;ip&quot;</td><td>&quot;80&quot;</td><td>&quot;74&quot;</td><td>24.0</td></tr><tr><td>&quot;inn999994&quot;</td><td>&quot;2024-10-01&quot;</td><td>&quot;ul&quot;</td><td>&quot;45&quot;</td><td>&quot;41&quot;</td><td>48.0</td></tr><tr><td>&quot;inn999995&quot;</td><td>&quot;2024-10-01&quot;</td><td>&quot;ul&quot;</td><td>&quot;17&quot;</td><td>&quot;68&quot;</td><td>6.0</td></tr><tr><td>&quot;inn999997&quot;</td><td>&quot;2024-10-01&quot;</td><td>&quot;ip&quot;</td><td>&quot;46&quot;</td><td>&quot;85&quot;</td><td>48.0</td></tr><tr><td>&quot;inn999999&quot;</td><td>&quot;2024-10-01&quot;</td><td>&quot;ip&quot;</td><td>&quot;98&quot;</td><td>&quot;93&quot;</td><td>24.0</td></tr></tbody></table></div>"
          },
          "metadata": {}
        }
      ],
      "execution_count": null
    },
    {
      "id": "352c0bef-a4ff-41de-b2b8-c0165e102f24",
      "cell_type": "code",
      "source": [
        "import datetime\n",
        "\n",
        "workdays={}\n",
        "d1 = datetime.date(2022, 1, 1)\n",
        "while d1<datetime.date(2026, 1, 1):\n",
        "    #print(d1)\n",
        "    #workdays.append([d1,0 if d1.weekday() in [5,6] else 1 ] )\n",
        "    workdays[d1] = 0 if d1.weekday() in [5,6] else 1\n",
        "\n",
        "    d1=d1+datetime.timedelta(1)\n",
        "workdays[datetime.date(2022, 1, 3)] = 0\n",
        "workdays[datetime.date(2022, 1, 4)] = 0\n",
        "workdays[datetime.date(2022, 1, 5)] = 0\n",
        "workdays[datetime.date(2022, 1, 6)] = 0\n",
        "workdays[datetime.date(2022, 1, 7)] = 0\n",
        "\n",
        "workdays[datetime.date(2022, 2, 23)] = 0\n",
        "\n",
        "workdays[datetime.date(2022, 3, 5)] = 1\n",
        "workdays[datetime.date(2022, 3, 7)] = 0\n",
        "workdays[datetime.date(2022, 3, 8)] = 0\n",
        "\n",
        "workdays[datetime.date(2022, 5, 2)] = 0\n",
        "workdays[datetime.date(2022, 5, 3)] = 0\n",
        "workdays[datetime.date(2022, 5, 9)] = 0\n",
        "workdays[datetime.date(2022, 5, 10)] = 0\n",
        "\n",
        "workdays[datetime.date(2022, 6, 13)] = 0\n",
        "\n",
        "workdays[datetime.date(2022, 11, 4)] = 0\n",
        "########################################## 2023\n",
        "workdays[datetime.date(2023, 1, 2)] = 0\n",
        "workdays[datetime.date(2023, 1, 3)] = 0\n",
        "workdays[datetime.date(2023, 1, 4)] = 0\n",
        "workdays[datetime.date(2023, 1, 5)] = 0\n",
        "workdays[datetime.date(2023, 1, 6)] = 0\n",
        "\n",
        "workdays[datetime.date(2023, 2, 23)] = 0\n",
        "workdays[datetime.date(2023, 2, 24)] = 0\n",
        "\n",
        "workdays[datetime.date(2023, 3, 8)] = 0\n",
        "\n",
        "workdays[datetime.date(2023, 5, 1)] = 0\n",
        "workdays[datetime.date(2023, 5, 8)] = 0\n",
        "workdays[datetime.date(2023, 5, 9)] = 0\n",
        "\n",
        "workdays[datetime.date(2023, 6, 12)] = 0\n",
        "\n",
        "workdays[datetime.date(2023, 11, 6)] = 0\n",
        "########################################## 2024\n",
        "workdays[datetime.date(2024, 1, 1)] = 0\n",
        "workdays[datetime.date(2024, 1, 2)] = 0\n",
        "workdays[datetime.date(2024, 1, 3)] = 0\n",
        "workdays[datetime.date(2024, 1, 6)] = 0\n",
        "workdays[datetime.date(2024, 1, 7)] = 0\n",
        "workdays[datetime.date(2024, 1, 8)] = 0\n",
        "\n",
        "workdays[datetime.date(2024, 5, 1)] = 0\n",
        "workdays[datetime.date(2024, 5, 2)] = 0\n",
        "workdays[datetime.date(2024, 5, 8)] = 0\n",
        "workdays[datetime.date(2024, 5, 9)] = 0\n",
        "\n",
        "workdays[datetime.date(2024, 6, 12)] = 0\n",
        "workdays[datetime.date(2024, 6, 13)] = 0\n",
        "\n",
        "workdays[datetime.date(2024, 11, 1)] = 1\n",
        "workdays[datetime.date(2024, 11, 3)] = 0\n",
        "workdays[datetime.date(2024, 11, 4)] = 0\n",
        "\n",
        "workdays[datetime.date(2024, 12, 31)] = 0\n",
        "\n",
        "# 2025 год\n",
        "workdays[datetime.date(2025, 1, 1)] = 0  # Новогодние каникулы\n",
        "workdays[datetime.date(2025, 1, 2)] = 0\n",
        "workdays[datetime.date(2025, 1, 3)] = 0\n",
        "workdays[datetime.date(2025, 1, 6)] = 0\n",
        "workdays[datetime.date(2025, 1, 7)] = 0\n",
        "workdays[datetime.date(2025, 1, 8)] = 0\n",
        "\n",
        "# Переносы выходных (предположительные, основанные на типичной практике)\n",
        "workdays[datetime.date(2025, 2, 24)] = 0  # Перенос с воскресенья 23 февраля\n",
        "workdays[datetime.date(2025, 5, 2)] = 0   # Перенос с субботы 3 мая\n",
        "workdays[datetime.date(2025, 5, 9)] = 0   # День Победы\n",
        "workdays[datetime.date(2025, 6, 12)] = 0  # День России\n",
        "workdays[datetime.date(2025, 11, 3)] = 0  # Перенос с воскресенья 2 ноября\n",
        "workdays[datetime.date(2025, 11, 4)] = 0  # День народного единства\n",
        "\n",
        "# Рабочие субботы (предположительные)\n",
        "workdays[datetime.date(2025, 3, 8)] = 1   # Суббота перед 8 марта\n",
        "workdays[datetime.date(2025, 11, 1)] = 1  # Суббота перед Днем народного единства\n",
        "\n",
        "workdays\n",
        "\n",
        "calendar = pl.read_csv(\"calendar_extended.csv\", try_parse_dates=True)\n",
        "calendar.with_columns(\n",
        "                      (pl.col(\"date\")+datetime.timedelta(-5)).replace(workdays).cast(pl.Int8).alias(\"work_5\"),\n",
        "                      (pl.col(\"date\")+datetime.timedelta(-4)).replace(workdays).cast(pl.Int8).alias(\"work_4\"),\n",
        "                      (pl.col(\"date\")+datetime.timedelta(-3)).replace(workdays).cast(pl.Int8).alias(\"work_3\"),\n",
        "                      (pl.col(\"date\")+datetime.timedelta(-2)).replace(workdays).cast(pl.Int8).alias(\"work_2\"),\n",
        "                      (pl.col(\"date\")+datetime.timedelta(-1)).replace(workdays).cast(pl.Int8).alias(\"work_1\"),\n",
        "                      pl.col(\"date\").replace(workdays).cast(pl.Int8).alias(\"work\"),\n",
        "                      (pl.col(\"date\")+datetime.timedelta(1)).replace(workdays).cast(pl.Int8).alias(\"work1\"),\n",
        "                      (pl.col(\"date\")+datetime.timedelta(2)).replace(workdays).cast(pl.Int8).alias(\"work2\"),\n",
        "                      (pl.col(\"date\")+datetime.timedelta(3)).replace(workdays).cast(pl.Int8).alias(\"work3\"),\n",
        "                      (pl.col(\"date\")+datetime.timedelta(4)).replace(workdays).cast(pl.Int8).alias(\"work4\"),\n",
        "                      (pl.col(\"date\")+datetime.timedelta(5)).replace(workdays).cast(pl.Int8).alias(\"work5\"),\n",
        "                     ).with_columns(\n",
        "                      (pl.col(\"work1\")+pl.col(\"work2\")+pl.col(\"work3\")+pl.col(\"work4\")+pl.col(\"work5\")).alias(\"w5_after\"),\n",
        "                      (pl.col(\"work1\")+pl.col(\"work2\")+pl.col(\"work3\")+pl.col(\"work4\")).alias(\"w4_after\"),\n",
        "                      (pl.col(\"work1\")+pl.col(\"work2\")+pl.col(\"work3\")).alias(\"w3_after\"),\n",
        "                      (pl.col(\"work1\")+pl.col(\"work2\")).alias(\"w2_after\"),\n",
        "                      (pl.col(\"work_1\")+pl.col(\"work_2\")).alias(\"w2_before\"),\n",
        "                      (pl.col(\"work_1\")+pl.col(\"work_2\")+pl.col(\"work_3\")).alias(\"w3_before\"),\n",
        "                      (pl.col(\"work_1\")+pl.col(\"work_2\")+pl.col(\"work_3\")+pl.col(\"work_4\")).alias(\"w4_before\"),\n",
        "                      (pl.col(\"work_1\")+pl.col(\"work_2\")+pl.col(\"work_3\")+pl.col(\"work_4\")+pl.col(\"work_5\")).alias(\"w5_before\"),\n",
        "                     )"
      ],
      "metadata": {
        "trusted": true,
        "execution": {
          "iopub.status.busy": "2025-04-01T15:49:13.506097Z",
          "iopub.execute_input": "2025-04-01T15:49:13.506405Z",
          "iopub.status.idle": "2025-04-01T15:49:13.576078Z",
          "shell.execute_reply.started": "2025-04-01T15:49:13.506378Z",
          "shell.execute_reply": "2025-04-01T15:49:13.575161Z"
        },
        "id": "352c0bef-a4ff-41de-b2b8-c0165e102f24",
        "outputId": "91eea813-c316-4caa-84da-4c0c2b43f13c"
      },
      "outputs": [
        {
          "execution_count": 6,
          "output_type": "execute_result",
          "data": {
            "text/plain": "shape: (910, 22)\n┌────────────┬──────┬─────────┬────────┬───┬───────────┬───────────┬───────────┬───────────┐\n│ date       ┆ week ┆ part    ┆ work_5 ┆ … ┆ w2_before ┆ w3_before ┆ w4_before ┆ w5_before │\n│ ---        ┆ ---  ┆ ---     ┆ ---    ┆   ┆ ---       ┆ ---       ┆ ---       ┆ ---       │\n│ date       ┆ i64  ┆ str     ┆ i8     ┆   ┆ i8        ┆ i8        ┆ i8        ┆ i8        │\n╞════════════╪══════╪═════════╪════════╪═══╪═══════════╪═══════════╪═══════════╪═══════════╡\n│ 2022-07-25 ┆ 0    ┆ train   ┆ 1      ┆ … ┆ 0         ┆ 1         ┆ 2         ┆ 3         │\n│ 2022-07-26 ┆ 0    ┆ train   ┆ 1      ┆ … ┆ 1         ┆ 1         ┆ 2         ┆ 3         │\n│ 2022-07-27 ┆ 0    ┆ train   ┆ 1      ┆ … ┆ 2         ┆ 2         ┆ 2         ┆ 3         │\n│ 2022-07-28 ┆ 0    ┆ train   ┆ 0      ┆ … ┆ 2         ┆ 3         ┆ 3         ┆ 3         │\n│ 2022-07-29 ┆ 0    ┆ train   ┆ 0      ┆ … ┆ 2         ┆ 3         ┆ 4         ┆ 4         │\n│ …          ┆ …    ┆ …       ┆ …      ┆ … ┆ …         ┆ …         ┆ …         ┆ …         │\n│ 2025-01-15 ┆ 129  ┆ private ┆ 1      ┆ … ┆ 2         ┆ 2         ┆ 2         ┆ 3         │\n│ 2025-01-16 ┆ 129  ┆ private ┆ 0      ┆ … ┆ 2         ┆ 3         ┆ 3         ┆ 3         │\n│ 2025-01-17 ┆ 129  ┆ private ┆ 0      ┆ … ┆ 2         ┆ 3         ┆ 4         ┆ 4         │\n│ 2025-01-18 ┆ 129  ┆ private ┆ 1      ┆ … ┆ 2         ┆ 3         ┆ 4         ┆ 5         │\n│ 2025-01-19 ┆ 129  ┆ private ┆ 1      ┆ … ┆ 1         ┆ 2         ┆ 3         ┆ 4         │\n└────────────┴──────┴─────────┴────────┴───┴───────────┴───────────┴───────────┴───────────┘",
            "text/html": "<div><style>\n.dataframe > thead > tr,\n.dataframe > tbody > tr {\n  text-align: right;\n  white-space: pre-wrap;\n}\n</style>\n<small>shape: (910, 22)</small><table border=\"1\" class=\"dataframe\"><thead><tr><th>date</th><th>week</th><th>part</th><th>work_5</th><th>work_4</th><th>work_3</th><th>work_2</th><th>work_1</th><th>work</th><th>work1</th><th>work2</th><th>work3</th><th>work4</th><th>work5</th><th>w5_after</th><th>w4_after</th><th>w3_after</th><th>w2_after</th><th>w2_before</th><th>w3_before</th><th>w4_before</th><th>w5_before</th></tr><tr><td>date</td><td>i64</td><td>str</td><td>i8</td><td>i8</td><td>i8</td><td>i8</td><td>i8</td><td>i8</td><td>i8</td><td>i8</td><td>i8</td><td>i8</td><td>i8</td><td>i8</td><td>i8</td><td>i8</td><td>i8</td><td>i8</td><td>i8</td><td>i8</td><td>i8</td></tr></thead><tbody><tr><td>2022-07-25</td><td>0</td><td>&quot;train&quot;</td><td>1</td><td>1</td><td>1</td><td>0</td><td>0</td><td>1</td><td>1</td><td>1</td><td>1</td><td>1</td><td>0</td><td>4</td><td>4</td><td>3</td><td>2</td><td>0</td><td>1</td><td>2</td><td>3</td></tr><tr><td>2022-07-26</td><td>0</td><td>&quot;train&quot;</td><td>1</td><td>1</td><td>0</td><td>0</td><td>1</td><td>1</td><td>1</td><td>1</td><td>1</td><td>0</td><td>0</td><td>3</td><td>3</td><td>3</td><td>2</td><td>1</td><td>1</td><td>2</td><td>3</td></tr><tr><td>2022-07-27</td><td>0</td><td>&quot;train&quot;</td><td>1</td><td>0</td><td>0</td><td>1</td><td>1</td><td>1</td><td>1</td><td>1</td><td>0</td><td>0</td><td>1</td><td>3</td><td>2</td><td>2</td><td>2</td><td>2</td><td>2</td><td>2</td><td>3</td></tr><tr><td>2022-07-28</td><td>0</td><td>&quot;train&quot;</td><td>0</td><td>0</td><td>1</td><td>1</td><td>1</td><td>1</td><td>1</td><td>0</td><td>0</td><td>1</td><td>1</td><td>3</td><td>2</td><td>1</td><td>1</td><td>2</td><td>3</td><td>3</td><td>3</td></tr><tr><td>2022-07-29</td><td>0</td><td>&quot;train&quot;</td><td>0</td><td>1</td><td>1</td><td>1</td><td>1</td><td>1</td><td>0</td><td>0</td><td>1</td><td>1</td><td>1</td><td>3</td><td>2</td><td>1</td><td>0</td><td>2</td><td>3</td><td>4</td><td>4</td></tr><tr><td>&hellip;</td><td>&hellip;</td><td>&hellip;</td><td>&hellip;</td><td>&hellip;</td><td>&hellip;</td><td>&hellip;</td><td>&hellip;</td><td>&hellip;</td><td>&hellip;</td><td>&hellip;</td><td>&hellip;</td><td>&hellip;</td><td>&hellip;</td><td>&hellip;</td><td>&hellip;</td><td>&hellip;</td><td>&hellip;</td><td>&hellip;</td><td>&hellip;</td><td>&hellip;</td><td>&hellip;</td></tr><tr><td>2025-01-15</td><td>129</td><td>&quot;private&quot;</td><td>1</td><td>0</td><td>0</td><td>1</td><td>1</td><td>1</td><td>1</td><td>1</td><td>0</td><td>0</td><td>1</td><td>3</td><td>2</td><td>2</td><td>2</td><td>2</td><td>2</td><td>2</td><td>3</td></tr><tr><td>2025-01-16</td><td>129</td><td>&quot;private&quot;</td><td>0</td><td>0</td><td>1</td><td>1</td><td>1</td><td>1</td><td>1</td><td>0</td><td>0</td><td>1</td><td>1</td><td>3</td><td>2</td><td>1</td><td>1</td><td>2</td><td>3</td><td>3</td><td>3</td></tr><tr><td>2025-01-17</td><td>129</td><td>&quot;private&quot;</td><td>0</td><td>1</td><td>1</td><td>1</td><td>1</td><td>1</td><td>0</td><td>0</td><td>1</td><td>1</td><td>1</td><td>3</td><td>2</td><td>1</td><td>0</td><td>2</td><td>3</td><td>4</td><td>4</td></tr><tr><td>2025-01-18</td><td>129</td><td>&quot;private&quot;</td><td>1</td><td>1</td><td>1</td><td>1</td><td>1</td><td>0</td><td>0</td><td>1</td><td>1</td><td>1</td><td>1</td><td>4</td><td>3</td><td>2</td><td>1</td><td>2</td><td>3</td><td>4</td><td>5</td></tr><tr><td>2025-01-19</td><td>129</td><td>&quot;private&quot;</td><td>1</td><td>1</td><td>1</td><td>1</td><td>0</td><td>0</td><td>1</td><td>1</td><td>1</td><td>1</td><td>1</td><td>5</td><td>4</td><td>3</td><td>2</td><td>1</td><td>2</td><td>3</td><td>4</td></tr></tbody></table></div>"
          },
          "metadata": {}
        }
      ],
      "execution_count": null
    },
    {
      "id": "c0536d45-3537-4074-a217-024576f850b1",
      "cell_type": "code",
      "source": [
        "\n",
        "inns = pl.read_csv(\"sample_submit_extended.csv\",  schema_overrides={\"predict\": pl.Float64}\n",
        "           )[\"inn_id\"].unique()\n",
        "inns"
      ],
      "metadata": {
        "trusted": true,
        "execution": {
          "iopub.status.busy": "2025-04-01T15:49:13.576938Z",
          "iopub.execute_input": "2025-04-01T15:49:13.577189Z",
          "iopub.status.idle": "2025-04-01T15:49:13.693064Z",
          "shell.execute_reply.started": "2025-04-01T15:49:13.577168Z",
          "shell.execute_reply": "2025-04-01T15:49:13.692007Z"
        },
        "id": "c0536d45-3537-4074-a217-024576f850b1",
        "outputId": "96a99c6f-dac9-415b-a8a6-25ea89b0bab9"
      },
      "outputs": [
        {
          "execution_count": 7,
          "output_type": "execute_result",
          "data": {
            "text/plain": "shape: (51_963,)\nSeries: 'inn_id' [str]\n[\n\t\"inn4837403\"\n\t\"inn4358241\"\n\t\"inn4287297\"\n\t\"inn5065367\"\n\t\"inn3773778\"\n\t…\n\t\"inn827365\"\n\t\"inn4798506\"\n\t\"inn265899\"\n\t\"inn3163347\"\n\t\"inn3268973\"\n]",
            "text/html": "<div><style>\n.dataframe > thead > tr,\n.dataframe > tbody > tr {\n  text-align: right;\n  white-space: pre-wrap;\n}\n</style>\n<small>shape: (51_963,)</small><table border=\"1\" class=\"dataframe\"><thead><tr><th>inn_id</th></tr><tr><td>str</td></tr></thead><tbody><tr><td>&quot;inn4837403&quot;</td></tr><tr><td>&quot;inn4358241&quot;</td></tr><tr><td>&quot;inn4287297&quot;</td></tr><tr><td>&quot;inn5065367&quot;</td></tr><tr><td>&quot;inn3773778&quot;</td></tr><tr><td>&hellip;</td></tr><tr><td>&quot;inn827365&quot;</td></tr><tr><td>&quot;inn4798506&quot;</td></tr><tr><td>&quot;inn265899&quot;</td></tr><tr><td>&quot;inn3163347&quot;</td></tr><tr><td>&quot;inn3268973&quot;</td></tr></tbody></table></div>"
          },
          "metadata": {}
        }
      ],
      "execution_count": null
    },
    {
      "id": "e80a9fd3-57da-4d15-8113-f6d250f125af",
      "cell_type": "code",
      "source": [
        "\n",
        "calendar = pl.read_csv(\"calendar_extended.csv\",try_parse_dates=True)\n",
        "calendar"
      ],
      "metadata": {
        "trusted": true,
        "execution": {
          "iopub.status.busy": "2025-04-01T15:49:13.694074Z",
          "iopub.execute_input": "2025-04-01T15:49:13.694345Z",
          "iopub.status.idle": "2025-04-01T15:49:13.704131Z",
          "shell.execute_reply.started": "2025-04-01T15:49:13.694321Z",
          "shell.execute_reply": "2025-04-01T15:49:13.702955Z"
        },
        "id": "e80a9fd3-57da-4d15-8113-f6d250f125af",
        "outputId": "1d23d8e4-fb71-4893-8cb5-a335da1ba942"
      },
      "outputs": [
        {
          "execution_count": 8,
          "output_type": "execute_result",
          "data": {
            "text/plain": "shape: (910, 3)\n┌────────────┬──────┬─────────┐\n│ date       ┆ week ┆ part    │\n│ ---        ┆ ---  ┆ ---     │\n│ date       ┆ i64  ┆ str     │\n╞════════════╪══════╪═════════╡\n│ 2022-07-25 ┆ 0    ┆ train   │\n│ 2022-07-26 ┆ 0    ┆ train   │\n│ 2022-07-27 ┆ 0    ┆ train   │\n│ 2022-07-28 ┆ 0    ┆ train   │\n│ 2022-07-29 ┆ 0    ┆ train   │\n│ …          ┆ …    ┆ …       │\n│ 2025-01-15 ┆ 129  ┆ private │\n│ 2025-01-16 ┆ 129  ┆ private │\n│ 2025-01-17 ┆ 129  ┆ private │\n│ 2025-01-18 ┆ 129  ┆ private │\n│ 2025-01-19 ┆ 129  ┆ private │\n└────────────┴──────┴─────────┘",
            "text/html": "<div><style>\n.dataframe > thead > tr,\n.dataframe > tbody > tr {\n  text-align: right;\n  white-space: pre-wrap;\n}\n</style>\n<small>shape: (910, 3)</small><table border=\"1\" class=\"dataframe\"><thead><tr><th>date</th><th>week</th><th>part</th></tr><tr><td>date</td><td>i64</td><td>str</td></tr></thead><tbody><tr><td>2022-07-25</td><td>0</td><td>&quot;train&quot;</td></tr><tr><td>2022-07-26</td><td>0</td><td>&quot;train&quot;</td></tr><tr><td>2022-07-27</td><td>0</td><td>&quot;train&quot;</td></tr><tr><td>2022-07-28</td><td>0</td><td>&quot;train&quot;</td></tr><tr><td>2022-07-29</td><td>0</td><td>&quot;train&quot;</td></tr><tr><td>&hellip;</td><td>&hellip;</td><td>&hellip;</td></tr><tr><td>2025-01-15</td><td>129</td><td>&quot;private&quot;</td></tr><tr><td>2025-01-16</td><td>129</td><td>&quot;private&quot;</td></tr><tr><td>2025-01-17</td><td>129</td><td>&quot;private&quot;</td></tr><tr><td>2025-01-18</td><td>129</td><td>&quot;private&quot;</td></tr><tr><td>2025-01-19</td><td>129</td><td>&quot;private&quot;</td></tr></tbody></table></div>"
          },
          "metadata": {}
        }
      ],
      "execution_count": null
    },
    {
      "id": "686be370-5373-4ff7-aa1f-50d083da2514",
      "cell_type": "code",
      "source": [
        "\n",
        "inndate = pl.read_csv(\"sample_submit_extended.csv\", schema_overrides={\"predict\": pl.Float64}\n",
        "           ).select(\"inn_id\"\n",
        "                   ).unique(\"inn_id\"\n",
        "                           ).join(calendar.select(\"date\",\"week\"), how=\"cross\")\n",
        "inndate"
      ],
      "metadata": {
        "trusted": true,
        "execution": {
          "iopub.status.busy": "2025-04-01T15:49:13.707021Z",
          "iopub.execute_input": "2025-04-01T15:49:13.707322Z",
          "iopub.status.idle": "2025-04-01T15:49:15.005491Z",
          "shell.execute_reply.started": "2025-04-01T15:49:13.707296Z",
          "shell.execute_reply": "2025-04-01T15:49:15.004304Z"
        },
        "id": "686be370-5373-4ff7-aa1f-50d083da2514",
        "outputId": "c1bb5e28-ae14-4acb-9b75-68e3ba7e42fb"
      },
      "outputs": [
        {
          "execution_count": 9,
          "output_type": "execute_result",
          "data": {
            "text/plain": "shape: (47_286_330, 3)\n┌────────────┬────────────┬──────┐\n│ inn_id     ┆ date       ┆ week │\n│ ---        ┆ ---        ┆ ---  │\n│ str        ┆ date       ┆ i64  │\n╞════════════╪════════════╪══════╡\n│ inn2441574 ┆ 2022-07-25 ┆ 0    │\n│ inn2441574 ┆ 2022-07-26 ┆ 0    │\n│ inn2441574 ┆ 2022-07-27 ┆ 0    │\n│ inn2441574 ┆ 2022-07-28 ┆ 0    │\n│ inn2441574 ┆ 2022-07-29 ┆ 0    │\n│ …          ┆ …          ┆ …    │\n│ inn4100355 ┆ 2025-01-15 ┆ 129  │\n│ inn4100355 ┆ 2025-01-16 ┆ 129  │\n│ inn4100355 ┆ 2025-01-17 ┆ 129  │\n│ inn4100355 ┆ 2025-01-18 ┆ 129  │\n│ inn4100355 ┆ 2025-01-19 ┆ 129  │\n└────────────┴────────────┴──────┘",
            "text/html": "<div><style>\n.dataframe > thead > tr,\n.dataframe > tbody > tr {\n  text-align: right;\n  white-space: pre-wrap;\n}\n</style>\n<small>shape: (47_286_330, 3)</small><table border=\"1\" class=\"dataframe\"><thead><tr><th>inn_id</th><th>date</th><th>week</th></tr><tr><td>str</td><td>date</td><td>i64</td></tr></thead><tbody><tr><td>&quot;inn2441574&quot;</td><td>2022-07-25</td><td>0</td></tr><tr><td>&quot;inn2441574&quot;</td><td>2022-07-26</td><td>0</td></tr><tr><td>&quot;inn2441574&quot;</td><td>2022-07-27</td><td>0</td></tr><tr><td>&quot;inn2441574&quot;</td><td>2022-07-28</td><td>0</td></tr><tr><td>&quot;inn2441574&quot;</td><td>2022-07-29</td><td>0</td></tr><tr><td>&hellip;</td><td>&hellip;</td><td>&hellip;</td></tr><tr><td>&quot;inn4100355&quot;</td><td>2025-01-15</td><td>129</td></tr><tr><td>&quot;inn4100355&quot;</td><td>2025-01-16</td><td>129</td></tr><tr><td>&quot;inn4100355&quot;</td><td>2025-01-17</td><td>129</td></tr><tr><td>&quot;inn4100355&quot;</td><td>2025-01-18</td><td>129</td></tr><tr><td>&quot;inn4100355&quot;</td><td>2025-01-19</td><td>129</td></tr></tbody></table></div>"
          },
          "metadata": {}
        }
      ],
      "execution_count": null
    },
    {
      "id": "718792c7-d577-419d-a589-2a7d6dd0b713",
      "cell_type": "code",
      "source": [
        "\n",
        "%time\n",
        "#приходы в ВТБ\n",
        "in_vtb=pl.scan_parquet(\"transactions_?.parquet\"\n",
        "               ).filter(pl.col(\"doc_payee_inn\").is_in(inns)\n",
        "               ).filter(pl.col(\"doc_payee_bank_name_flag\")==1\n",
        "                      ).with_columns(pl.col(\"date\").dt.date()\n",
        "                             #).join(pl.scan_csv(\"data/calendar.csv\", try_parse_dates=True\n",
        "                             #                  ).drop(\"part\"\n",
        "                             #                        ).with_columns(pl.col(\"week\").cast(pl.Int8)),\n",
        "                             #       on=\"date\",\n",
        "                             #       how=\"left\"\n",
        "                                   ).group_by(\"doc_payee_inn\",\"date\"\n",
        "                                             ).agg(#pl.col(\"trns_count\").sum(),\n",
        "                                                   pl.col(\"trns_amount\").sum().cast(pl.Float32),\n",
        "                                                   #pl.col(\"date\").n_unique(),\n",
        "                                                   #pl.col(\"trns_class_encoded\").n_unique(),\n",
        "                                                   #pl.col(\"doc_payee_bank_name_encoded\").n_unique(),\n",
        "                                            #).with_columns(\n",
        "                                            #    pl.col(\"trns_count\").cast(pl.Int16),\n",
        "                                                #pl.col(\"trns_amount\").cast(pl.Float64),\n",
        "                                            #    np.log1p(pl.col(\"trns_amount\")).alias(\"trns_amount_log\"),\n",
        "                                                  ).rename(lambda column_name: (\"\" if column_name in [\"doc_payee_inn\",\"week\"] else \"in_vtb_\") + column_name\n",
        "                                                          ).collect()\n",
        "in_vtb"
      ],
      "metadata": {
        "trusted": true,
        "execution": {
          "iopub.status.busy": "2025-04-01T15:49:15.007428Z",
          "iopub.execute_input": "2025-04-01T15:49:15.008038Z",
          "iopub.status.idle": "2025-04-01T15:50:04.201487Z",
          "shell.execute_reply.started": "2025-04-01T15:49:15.008005Z",
          "shell.execute_reply": "2025-04-01T15:50:04.200306Z"
        },
        "id": "718792c7-d577-419d-a589-2a7d6dd0b713",
        "outputId": "9183457a-b7b2-4cac-a9b3-97afcd4ec69b"
      },
      "outputs": [
        {
          "name": "stdout",
          "text": "CPU times: user 1e+03 ns, sys: 2 µs, total: 3 µs\nWall time: 6.68 µs\n",
          "output_type": "stream"
        },
        {
          "execution_count": 10,
          "output_type": "execute_result",
          "data": {
            "text/plain": "shape: (20_601_443, 3)\n┌───────────────┬─────────────┬────────────────────┐\n│ doc_payee_inn ┆ in_vtb_date ┆ in_vtb_trns_amount │\n│ ---           ┆ ---         ┆ ---                │\n│ str           ┆ date        ┆ f32                │\n╞═══════════════╪═════════════╪════════════════════╡\n│ inn1672474    ┆ 2023-11-07  ┆ 403816.59375       │\n│ inn1341345    ┆ 2024-09-05  ┆ 183256.609375      │\n│ inn794802     ┆ 2024-10-20  ┆ 429102.5625        │\n│ inn2164974    ┆ 2022-08-03  ┆ 1.907567e6         │\n│ inn1140809    ┆ 2023-06-07  ┆ 1.098436e7         │\n│ …             ┆ …           ┆ …                  │\n│ inn1793033    ┆ 2023-12-28  ┆ 1.1338e6           │\n│ inn3116240    ┆ 2024-06-05  ┆ 4.212474e6         │\n│ inn883818     ┆ 2024-07-04  ┆ 247543.28125       │\n│ inn4196568    ┆ 2024-07-26  ┆ 137380.0           │\n│ inn1243122    ┆ 2022-12-13  ┆ 7.573796e6         │\n└───────────────┴─────────────┴────────────────────┘",
            "text/html": "<div><style>\n.dataframe > thead > tr,\n.dataframe > tbody > tr {\n  text-align: right;\n  white-space: pre-wrap;\n}\n</style>\n<small>shape: (20_601_443, 3)</small><table border=\"1\" class=\"dataframe\"><thead><tr><th>doc_payee_inn</th><th>in_vtb_date</th><th>in_vtb_trns_amount</th></tr><tr><td>str</td><td>date</td><td>f32</td></tr></thead><tbody><tr><td>&quot;inn1672474&quot;</td><td>2023-11-07</td><td>403816.59375</td></tr><tr><td>&quot;inn1341345&quot;</td><td>2024-09-05</td><td>183256.609375</td></tr><tr><td>&quot;inn794802&quot;</td><td>2024-10-20</td><td>429102.5625</td></tr><tr><td>&quot;inn2164974&quot;</td><td>2022-08-03</td><td>1.907567e6</td></tr><tr><td>&quot;inn1140809&quot;</td><td>2023-06-07</td><td>1.098436e7</td></tr><tr><td>&hellip;</td><td>&hellip;</td><td>&hellip;</td></tr><tr><td>&quot;inn1793033&quot;</td><td>2023-12-28</td><td>1.1338e6</td></tr><tr><td>&quot;inn3116240&quot;</td><td>2024-06-05</td><td>4.212474e6</td></tr><tr><td>&quot;inn883818&quot;</td><td>2024-07-04</td><td>247543.28125</td></tr><tr><td>&quot;inn4196568&quot;</td><td>2024-07-26</td><td>137380.0</td></tr><tr><td>&quot;inn1243122&quot;</td><td>2022-12-13</td><td>7.573796e6</td></tr></tbody></table></div>"
          },
          "metadata": {}
        }
      ],
      "execution_count": null
    },
    {
      "id": "60ab76ae-6d9e-44e0-ad40-99deea671074",
      "cell_type": "code",
      "source": [
        "\n",
        "%%time\n",
        "#расходы из ВТБ\n",
        "out_vtb=pl.scan_parquet(\"transactions_?.parquet\"\n",
        "               ).filter(pl.col(\"doc_payer_inn\").is_in(inns)\n",
        "               ).filter(pl.col(\"doc_payer_bank_name_flag\")==1\n",
        "                      ).with_columns(pl.col(\"date\").dt.date()\n",
        "                             #).join(pl.scan_csv(\"data/calendar.csv\", try_parse_dates=True\n",
        "                             #                  ).drop(\"part\"\n",
        "                             #                        ).with_columns(pl.col(\"week\").cast(pl.Int8)),\n",
        "                             #       on=\"date\",\n",
        "                             #       how=\"left\"\n",
        "                                   ).group_by(\"doc_payer_inn\",\"date\"\n",
        "                                             ).agg(#pl.col(\"trns_count\").sum(),\n",
        "                                                   pl.col(\"trns_amount\").sum().cast(pl.Float32),\n",
        "                                                   #pl.col(\"date\").n_unique(),\n",
        "                                                   #pl.col(\"trns_class_encoded\").n_unique(),\n",
        "                                                   #pl.col(\"doc_payer_bank_name_encoded\").n_unique(),\n",
        "                                            #).with_columns(\n",
        "                                            #    np.log1p(pl.col(\"trns_amount\")).alias(\"trns_amount_log\"),\n",
        "                                                    ).rename(lambda column_name: (\"\" if column_name in [\"doc_payer_inn\",\"week\"] else \"out_vtb_\") + column_name\n",
        "                                                          ).collect()\n",
        "out_vtb"
      ],
      "metadata": {
        "trusted": true,
        "execution": {
          "iopub.status.busy": "2025-04-01T15:50:04.202744Z",
          "iopub.execute_input": "2025-04-01T15:50:04.203124Z",
          "iopub.status.idle": "2025-04-01T15:50:33.457842Z",
          "shell.execute_reply.started": "2025-04-01T15:50:04.203091Z",
          "shell.execute_reply": "2025-04-01T15:50:33.456629Z"
        },
        "id": "60ab76ae-6d9e-44e0-ad40-99deea671074",
        "outputId": "8a6221df-ff70-40eb-df1b-34d5fb24030a"
      },
      "outputs": [
        {
          "name": "stdout",
          "text": "CPU times: user 1min 5s, sys: 25.9 s, total: 1min 31s\nWall time: 29.2 s\n",
          "output_type": "stream"
        },
        {
          "execution_count": 11,
          "output_type": "execute_result",
          "data": {
            "text/plain": "shape: (19_854_385, 3)\n┌───────────────┬──────────────┬─────────────────────┐\n│ doc_payer_inn ┆ out_vtb_date ┆ out_vtb_trns_amount │\n│ ---           ┆ ---          ┆ ---                 │\n│ str           ┆ date         ┆ f32                 │\n╞═══════════════╪══════════════╪═════════════════════╡\n│ inn2816694    ┆ 2024-03-23   ┆ 22002.34375         │\n│ inn4769775    ┆ 2023-03-13   ┆ 276529.0625         │\n│ inn3317678    ┆ 2022-12-08   ┆ 48677.1875          │\n│ inn965615     ┆ 2022-12-26   ┆ 1.9849e6            │\n│ inn88276      ┆ 2023-10-09   ┆ 302990.28125        │\n│ …             ┆ …            ┆ …                   │\n│ inn3398924    ┆ 2024-09-05   ┆ 1.7784348e7         │\n│ inn45569      ┆ 2022-12-21   ┆ 1.1867e6            │\n│ inn33457      ┆ 2022-12-28   ┆ 40312.21875         │\n│ inn5262506    ┆ 2023-09-21   ┆ 250537.125          │\n│ inn610601     ┆ 2023-09-26   ┆ 12330.251953        │\n└───────────────┴──────────────┴─────────────────────┘",
            "text/html": "<div><style>\n.dataframe > thead > tr,\n.dataframe > tbody > tr {\n  text-align: right;\n  white-space: pre-wrap;\n}\n</style>\n<small>shape: (19_854_385, 3)</small><table border=\"1\" class=\"dataframe\"><thead><tr><th>doc_payer_inn</th><th>out_vtb_date</th><th>out_vtb_trns_amount</th></tr><tr><td>str</td><td>date</td><td>f32</td></tr></thead><tbody><tr><td>&quot;inn2816694&quot;</td><td>2024-03-23</td><td>22002.34375</td></tr><tr><td>&quot;inn4769775&quot;</td><td>2023-03-13</td><td>276529.0625</td></tr><tr><td>&quot;inn3317678&quot;</td><td>2022-12-08</td><td>48677.1875</td></tr><tr><td>&quot;inn965615&quot;</td><td>2022-12-26</td><td>1.9849e6</td></tr><tr><td>&quot;inn88276&quot;</td><td>2023-10-09</td><td>302990.28125</td></tr><tr><td>&hellip;</td><td>&hellip;</td><td>&hellip;</td></tr><tr><td>&quot;inn3398924&quot;</td><td>2024-09-05</td><td>1.7784348e7</td></tr><tr><td>&quot;inn45569&quot;</td><td>2022-12-21</td><td>1.1867e6</td></tr><tr><td>&quot;inn33457&quot;</td><td>2022-12-28</td><td>40312.21875</td></tr><tr><td>&quot;inn5262506&quot;</td><td>2023-09-21</td><td>250537.125</td></tr><tr><td>&quot;inn610601&quot;</td><td>2023-09-26</td><td>12330.251953</td></tr></tbody></table></div>"
          },
          "metadata": {}
        }
      ],
      "execution_count": null
    },
    {
      "id": "47ad01f2-7e5f-4bf7-ab8c-be7cd4748482",
      "cell_type": "code",
      "source": [
        "\n",
        "%%time\n",
        "inndatedk=inndate.join(in_vtb,\n",
        "             left_on=[\"inn_id\",\"date\"],\n",
        "             right_on=[\"doc_payee_inn\",\"in_vtb_date\"],\n",
        "             how=\"left\"\n",
        "            ).join(out_vtb,\n",
        "             left_on=[\"inn_id\",\"date\"],\n",
        "             right_on=[\"doc_payer_inn\",\"out_vtb_date\"],\n",
        "             how=\"left\"\n",
        "            ).fill_null(0\n",
        "            ).with_columns(\n",
        "                           (pl.col(\"in_vtb_trns_amount\")-pl.col(\"out_vtb_trns_amount\")).alias(\"dkrez\"),\n",
        "                           pl.col(\"week\").cast(pl.Int64)\n",
        "            ).with_columns(\n",
        "                           pl.col(\"dkrez\").cum_sum().over(\"inn_id\").alias(\"cumsum\"),\n",
        "            ).with_columns(\n",
        "                           pl.col(\"cumsum\").cum_min().over(\"inn_id\").alias(\"cummin\"),\n",
        "            ).with_columns(\n",
        "                                           (pl.when(pl.col(\"cummin\")>0\n",
        "                                                   ).then(pl.lit(0)\n",
        "                                                         ).otherwise(pl.col(\"cummin\"))\n",
        "                                           ).alias(\"cummin\"),\n",
        "            ).with_columns(\n",
        "                           (pl.col(\"cumsum\")-pl.col(\"cummin\")).alias(\"cumsum\"),\n",
        "            ).sort(\"inn_id\",\"date\"\n",
        "            ).with_columns(\n",
        "                           pl.col(\"cumsum\").shift(1).over(\"inn_id\").alias(\"cumsum\"),\n",
        "                  ).fill_null(0)\n",
        "\n",
        "inndatedk"
      ],
      "metadata": {
        "trusted": true,
        "execution": {
          "iopub.status.busy": "2025-04-01T15:50:33.458926Z",
          "iopub.execute_input": "2025-04-01T15:50:33.459223Z",
          "iopub.status.idle": "2025-04-01T15:51:16.919201Z",
          "shell.execute_reply.started": "2025-04-01T15:50:33.459198Z",
          "shell.execute_reply": "2025-04-01T15:51:16.918318Z"
        },
        "id": "47ad01f2-7e5f-4bf7-ab8c-be7cd4748482",
        "outputId": "9e45d5e2-e008-4f4a-f619-20f66ba2d78f"
      },
      "outputs": [
        {
          "name": "stdout",
          "text": "CPU times: user 1min 48s, sys: 23.9 s, total: 2min 12s\nWall time: 43.4 s\n",
          "output_type": "stream"
        },
        {
          "execution_count": 12,
          "output_type": "execute_result",
          "data": {
            "text/plain": "shape: (47_286_330, 8)\n┌────────────┬────────────┬──────┬─────────────┬────────────┬────────────┬────────────┬────────────┐\n│ inn_id     ┆ date       ┆ week ┆ in_vtb_trns ┆ out_vtb_tr ┆ dkrez      ┆ cumsum     ┆ cummin     │\n│ ---        ┆ ---        ┆ ---  ┆ _amount     ┆ ns_amount  ┆ ---        ┆ ---        ┆ ---        │\n│ str        ┆ date       ┆ i64  ┆ ---         ┆ ---        ┆ f32        ┆ f32        ┆ f32        │\n│            ┆            ┆      ┆ f32         ┆ f32        ┆            ┆            ┆            │\n╞════════════╪════════════╪══════╪═════════════╪════════════╪════════════╪════════════╪════════════╡\n│ inn1000051 ┆ 2022-07-25 ┆ 0    ┆ 16515.07617 ┆ 380510.625 ┆ -363995.56 ┆ 0.0        ┆ -363995.56 │\n│            ┆            ┆      ┆ 2           ┆            ┆ 25         ┆            ┆ 25         │\n│ inn1000051 ┆ 2022-07-26 ┆ 0    ┆ 6251.666504 ┆ 41648.7031 ┆ -35397.035 ┆ 0.0        ┆ -399392.59 │\n│            ┆            ┆      ┆             ┆ 25         ┆ 156        ┆            ┆ 375        │\n│ inn1000051 ┆ 2022-07-27 ┆ 0    ┆ 0.0         ┆ 0.0        ┆ 0.0        ┆ 0.0        ┆ -399392.59 │\n│            ┆            ┆      ┆             ┆            ┆            ┆            ┆ 375        │\n│ inn1000051 ┆ 2022-07-28 ┆ 0    ┆ 0.0         ┆ 0.0        ┆ 0.0        ┆ 0.0        ┆ -399392.59 │\n│            ┆            ┆      ┆             ┆            ┆            ┆            ┆ 375        │\n│ inn1000051 ┆ 2022-07-29 ┆ 0    ┆ 13733.06543 ┆ 0.0        ┆ 13733.0654 ┆ 0.0        ┆ -399392.59 │\n│            ┆            ┆      ┆             ┆            ┆ 3          ┆            ┆ 375        │\n│ …          ┆ …          ┆ …    ┆ …           ┆ …          ┆ …          ┆ …          ┆ …          │\n│ inn999886  ┆ 2025-01-15 ┆ 129  ┆ 0.0         ┆ 0.0        ┆ 0.0        ┆ 9.86252928 ┆ 0.0        │\n│            ┆            ┆      ┆             ┆            ┆            ┆ e8         ┆            │\n│ inn999886  ┆ 2025-01-16 ┆ 129  ┆ 0.0         ┆ 0.0        ┆ 0.0        ┆ 9.86252928 ┆ 0.0        │\n│            ┆            ┆      ┆             ┆            ┆            ┆ e8         ┆            │\n│ inn999886  ┆ 2025-01-17 ┆ 129  ┆ 0.0         ┆ 0.0        ┆ 0.0        ┆ 9.86252928 ┆ 0.0        │\n│            ┆            ┆      ┆             ┆            ┆            ┆ e8         ┆            │\n│ inn999886  ┆ 2025-01-18 ┆ 129  ┆ 0.0         ┆ 0.0        ┆ 0.0        ┆ 9.86252928 ┆ 0.0        │\n│            ┆            ┆      ┆             ┆            ┆            ┆ e8         ┆            │\n│ inn999886  ┆ 2025-01-19 ┆ 129  ┆ 0.0         ┆ 0.0        ┆ 0.0        ┆ 9.86252928 ┆ 0.0        │\n│            ┆            ┆      ┆             ┆            ┆            ┆ e8         ┆            │\n└────────────┴────────────┴──────┴─────────────┴────────────┴────────────┴────────────┴────────────┘",
            "text/html": "<div><style>\n.dataframe > thead > tr,\n.dataframe > tbody > tr {\n  text-align: right;\n  white-space: pre-wrap;\n}\n</style>\n<small>shape: (47_286_330, 8)</small><table border=\"1\" class=\"dataframe\"><thead><tr><th>inn_id</th><th>date</th><th>week</th><th>in_vtb_trns_amount</th><th>out_vtb_trns_amount</th><th>dkrez</th><th>cumsum</th><th>cummin</th></tr><tr><td>str</td><td>date</td><td>i64</td><td>f32</td><td>f32</td><td>f32</td><td>f32</td><td>f32</td></tr></thead><tbody><tr><td>&quot;inn1000051&quot;</td><td>2022-07-25</td><td>0</td><td>16515.076172</td><td>380510.625</td><td>-363995.5625</td><td>0.0</td><td>-363995.5625</td></tr><tr><td>&quot;inn1000051&quot;</td><td>2022-07-26</td><td>0</td><td>6251.666504</td><td>41648.703125</td><td>-35397.035156</td><td>0.0</td><td>-399392.59375</td></tr><tr><td>&quot;inn1000051&quot;</td><td>2022-07-27</td><td>0</td><td>0.0</td><td>0.0</td><td>0.0</td><td>0.0</td><td>-399392.59375</td></tr><tr><td>&quot;inn1000051&quot;</td><td>2022-07-28</td><td>0</td><td>0.0</td><td>0.0</td><td>0.0</td><td>0.0</td><td>-399392.59375</td></tr><tr><td>&quot;inn1000051&quot;</td><td>2022-07-29</td><td>0</td><td>13733.06543</td><td>0.0</td><td>13733.06543</td><td>0.0</td><td>-399392.59375</td></tr><tr><td>&hellip;</td><td>&hellip;</td><td>&hellip;</td><td>&hellip;</td><td>&hellip;</td><td>&hellip;</td><td>&hellip;</td><td>&hellip;</td></tr><tr><td>&quot;inn999886&quot;</td><td>2025-01-15</td><td>129</td><td>0.0</td><td>0.0</td><td>0.0</td><td>9.86252928e8</td><td>0.0</td></tr><tr><td>&quot;inn999886&quot;</td><td>2025-01-16</td><td>129</td><td>0.0</td><td>0.0</td><td>0.0</td><td>9.86252928e8</td><td>0.0</td></tr><tr><td>&quot;inn999886&quot;</td><td>2025-01-17</td><td>129</td><td>0.0</td><td>0.0</td><td>0.0</td><td>9.86252928e8</td><td>0.0</td></tr><tr><td>&quot;inn999886&quot;</td><td>2025-01-18</td><td>129</td><td>0.0</td><td>0.0</td><td>0.0</td><td>9.86252928e8</td><td>0.0</td></tr><tr><td>&quot;inn999886&quot;</td><td>2025-01-19</td><td>129</td><td>0.0</td><td>0.0</td><td>0.0</td><td>9.86252928e8</td><td>0.0</td></tr></tbody></table></div>"
          },
          "metadata": {}
        }
      ],
      "execution_count": null
    },
    {
      "id": "d48449d9-810c-40f7-bb87-db1fc60da368",
      "cell_type": "code",
      "source": [
        "import os\n",
        "os.chdir('/kaggle/working')"
      ],
      "metadata": {
        "trusted": true,
        "execution": {
          "iopub.status.busy": "2025-04-01T15:51:16.920418Z",
          "iopub.execute_input": "2025-04-01T15:51:16.920840Z",
          "iopub.status.idle": "2025-04-01T15:51:16.925236Z",
          "shell.execute_reply.started": "2025-04-01T15:51:16.920800Z",
          "shell.execute_reply": "2025-04-01T15:51:16.924253Z"
        },
        "id": "d48449d9-810c-40f7-bb87-db1fc60da368"
      },
      "outputs": [],
      "execution_count": null
    },
    {
      "id": "2228293c-8809-49ae-8e22-2cea53835868",
      "cell_type": "code",
      "source": [
        "inndatedk.group_by(\"inn_id\",\"week\").agg(pl.col(\"cumsum\").first()).sort(\"inn_id\",\"week\").write_parquet(\"innweekstartsum.parquet\")\n"
      ],
      "metadata": {
        "trusted": true,
        "execution": {
          "iopub.status.busy": "2025-04-01T15:51:16.926157Z",
          "iopub.execute_input": "2025-04-01T15:51:16.926397Z",
          "iopub.status.idle": "2025-04-01T15:51:25.052835Z",
          "shell.execute_reply.started": "2025-04-01T15:51:16.926375Z",
          "shell.execute_reply": "2025-04-01T15:51:25.051783Z"
        },
        "id": "2228293c-8809-49ae-8e22-2cea53835868"
      },
      "outputs": [],
      "execution_count": null
    },
    {
      "id": "67d5f013-76e0-4054-87bf-d38d57575b06",
      "cell_type": "code",
      "source": [
        "inndatedk.select(\"inn_id\",\"date\",\"cumsum\").write_parquet(\"inndatestartsum.parquet\")\n"
      ],
      "metadata": {
        "trusted": true,
        "execution": {
          "iopub.status.busy": "2025-04-01T15:51:25.053898Z",
          "iopub.execute_input": "2025-04-01T15:51:25.054293Z",
          "iopub.status.idle": "2025-04-01T15:51:28.208893Z",
          "shell.execute_reply.started": "2025-04-01T15:51:25.054249Z",
          "shell.execute_reply": "2025-04-01T15:51:28.207592Z"
        },
        "id": "67d5f013-76e0-4054-87bf-d38d57575b06"
      },
      "outputs": [],
      "execution_count": null
    },
    {
      "cell_type": "code",
      "source": [],
      "metadata": {
        "id": "h2v-awNmjXBc"
      },
      "id": "h2v-awNmjXBc",
      "execution_count": null,
      "outputs": []
    },
    {
      "id": "5c337102-aa9d-4394-b26f-be30f6739de1",
      "cell_type": "code",
      "source": [
        "import os\n",
        "os.chdir('/kaggle/input/iatvoirotblat')"
      ],
      "metadata": {
        "trusted": true,
        "execution": {
          "iopub.status.busy": "2025-04-01T15:51:28.210065Z",
          "iopub.execute_input": "2025-04-01T15:51:28.210496Z",
          "iopub.status.idle": "2025-04-01T15:51:28.216936Z",
          "shell.execute_reply.started": "2025-04-01T15:51:28.210447Z",
          "shell.execute_reply": "2025-04-01T15:51:28.216041Z"
        },
        "id": "5c337102-aa9d-4394-b26f-be30f6739de1"
      },
      "outputs": [],
      "execution_count": null
    },
    {
      "id": "91354dd2",
      "cell_type": "code",
      "source": [
        "import polars as pl\n",
        "import polars.selectors as cs\n",
        "\n",
        "import numpy as np\n",
        "import datetime\n",
        "\n",
        "from sklearn import preprocessing\n",
        "from catboost import CatBoostClassifier, CatBoostRegressor, Pool, cv\n",
        "from sklearn.model_selection import StratifiedKFold\n",
        "from sklearn.metrics import roc_auc_score, accuracy_score\n",
        "\n",
        "from sklearn.model_selection import train_test_split\n",
        "\n",
        "from functools import lru_cache\n",
        "\n",
        "import gc"
      ],
      "metadata": {
        "trusted": true,
        "execution": {
          "iopub.status.busy": "2025-04-01T15:51:28.218174Z",
          "iopub.execute_input": "2025-04-01T15:51:28.218616Z",
          "iopub.status.idle": "2025-04-01T15:51:31.200899Z",
          "shell.execute_reply.started": "2025-04-01T15:51:28.218570Z",
          "shell.execute_reply": "2025-04-01T15:51:31.199747Z"
        },
        "id": "91354dd2"
      },
      "outputs": [],
      "execution_count": null
    },
    {
      "id": "1eabc9b7-3581-490c-bdbf-b159b7ce0bd6",
      "cell_type": "code",
      "source": [],
      "metadata": {
        "trusted": true,
        "id": "1eabc9b7-3581-490c-bdbf-b159b7ce0bd6"
      },
      "outputs": [],
      "execution_count": null
    },
    {
      "id": "259beca3",
      "cell_type": "code",
      "source": [
        "#%%time\n",
        "#pl.read_parquet(\"data/transactions_?.parquet\").describe()"
      ],
      "metadata": {
        "trusted": true,
        "execution": {
          "iopub.status.busy": "2025-04-01T15:51:31.202101Z",
          "iopub.execute_input": "2025-04-01T15:51:31.202613Z",
          "iopub.status.idle": "2025-04-01T15:51:31.206879Z",
          "shell.execute_reply.started": "2025-04-01T15:51:31.202583Z",
          "shell.execute_reply": "2025-04-01T15:51:31.205580Z"
        },
        "id": "259beca3"
      },
      "outputs": [],
      "execution_count": null
    },
    {
      "id": "bbabba10",
      "cell_type": "code",
      "source": [
        "#pl.scan_parquet(\"data/transactions_1.parquet\").collect().n_unique()"
      ],
      "metadata": {
        "trusted": true,
        "execution": {
          "iopub.status.busy": "2025-04-01T15:51:31.208040Z",
          "iopub.execute_input": "2025-04-01T15:51:31.208353Z",
          "iopub.status.idle": "2025-04-01T15:51:31.224427Z",
          "shell.execute_reply.started": "2025-04-01T15:51:31.208327Z",
          "shell.execute_reply": "2025-04-01T15:51:31.223191Z"
        },
        "id": "bbabba10"
      },
      "outputs": [],
      "execution_count": null
    },
    {
      "id": "d810da80",
      "cell_type": "code",
      "source": [
        "delweek=93\n",
        "delweek=105\n",
        "delweek=102\n",
        "#delweek=103"
      ],
      "metadata": {
        "trusted": true,
        "execution": {
          "iopub.status.busy": "2025-04-01T15:51:31.225684Z",
          "iopub.execute_input": "2025-04-01T15:51:31.226033Z",
          "iopub.status.idle": "2025-04-01T15:51:31.241662Z",
          "shell.execute_reply.started": "2025-04-01T15:51:31.226004Z",
          "shell.execute_reply": "2025-04-01T15:51:31.240216Z"
        },
        "id": "d810da80"
      },
      "outputs": [],
      "execution_count": null
    },
    {
      "id": "a5af642c",
      "cell_type": "code",
      "source": [
        "\"\"\"\n",
        "@lru_cache\n",
        "def lenmonth(date)->int:\n",
        "    m=date.month()\n",
        "    if m in [1,3,5,7,8,10,12]:\n",
        "        return 31\n",
        "    elif m==2:\n",
        "        if y%4==0:\n",
        "            return 29\n",
        "        else:\n",
        "            return 28\n",
        "    else:\n",
        "        return 30\n",
        "        \"\"\"\n",
        "0"
      ],
      "metadata": {
        "trusted": true,
        "execution": {
          "iopub.status.busy": "2025-04-01T15:51:31.242880Z",
          "iopub.execute_input": "2025-04-01T15:51:31.243259Z",
          "iopub.status.idle": "2025-04-01T15:51:31.261061Z",
          "shell.execute_reply.started": "2025-04-01T15:51:31.243215Z",
          "shell.execute_reply": "2025-04-01T15:51:31.259846Z"
        },
        "id": "a5af642c",
        "outputId": "127d379b-fafb-4890-9e3f-7bbf678d5cbb"
      },
      "outputs": [
        {
          "execution_count": 21,
          "output_type": "execute_result",
          "data": {
            "text/plain": "0"
          },
          "metadata": {}
        }
      ],
      "execution_count": null
    },
    {
      "id": "f3775c33",
      "cell_type": "code",
      "source": [
        "workdays={}\n",
        "d1 = datetime.date(2022, 1, 1)\n",
        "while d1<datetime.date(2025, 1, 1):\n",
        "    #print(d1)\n",
        "    #workdays.append([d1,0 if d1.weekday() in [5,6] else 1 ] )\n",
        "    workdays[d1] = 0 if d1.weekday() in [5,6] else 1\n",
        "\n",
        "    d1=d1+datetime.timedelta(1)\n",
        "workdays[datetime.date(2022, 1, 3)] = 0\n",
        "workdays[datetime.date(2022, 1, 4)] = 0\n",
        "workdays[datetime.date(2022, 1, 5)] = 0\n",
        "workdays[datetime.date(2022, 1, 6)] = 0\n",
        "workdays[datetime.date(2022, 1, 7)] = 0\n",
        "\n",
        "workdays[datetime.date(2022, 2, 23)] = 0\n",
        "\n",
        "workdays[datetime.date(2022, 3, 5)] = 1\n",
        "workdays[datetime.date(2022, 3, 7)] = 0\n",
        "workdays[datetime.date(2022, 3, 8)] = 0\n",
        "\n",
        "workdays[datetime.date(2022, 5, 2)] = 0\n",
        "workdays[datetime.date(2022, 5, 3)] = 0\n",
        "workdays[datetime.date(2022, 5, 9)] = 0\n",
        "workdays[datetime.date(2022, 5, 10)] = 0\n",
        "\n",
        "workdays[datetime.date(2022, 6, 13)] = 0\n",
        "\n",
        "workdays[datetime.date(2022, 11, 4)] = 0\n",
        "########################################## 2023\n",
        "workdays[datetime.date(2023, 1, 2)] = 0\n",
        "workdays[datetime.date(2023, 1, 3)] = 0\n",
        "workdays[datetime.date(2023, 1, 4)] = 0\n",
        "workdays[datetime.date(2023, 1, 5)] = 0\n",
        "workdays[datetime.date(2023, 1, 6)] = 0\n",
        "\n",
        "workdays[datetime.date(2023, 2, 23)] = 0\n",
        "workdays[datetime.date(2023, 2, 24)] = 0\n",
        "\n",
        "workdays[datetime.date(2023, 3, 8)] = 0\n",
        "\n",
        "workdays[datetime.date(2023, 5, 1)] = 0\n",
        "workdays[datetime.date(2023, 5, 8)] = 0\n",
        "workdays[datetime.date(2023, 5, 9)] = 0\n",
        "\n",
        "workdays[datetime.date(2023, 6, 12)] = 0\n",
        "\n",
        "workdays[datetime.date(2023, 11, 6)] = 0\n",
        "########################################## 2024\n",
        "workdays[datetime.date(2024, 1, 1)] = 0\n",
        "workdays[datetime.date(2024, 1, 2)] = 0\n",
        "workdays[datetime.date(2024, 1, 3)] = 0\n",
        "workdays[datetime.date(2024, 1, 6)] = 0\n",
        "workdays[datetime.date(2024, 1, 7)] = 0\n",
        "workdays[datetime.date(2024, 1, 8)] = 0\n",
        "\n",
        "workdays[datetime.date(2024, 5, 1)] = 0\n",
        "workdays[datetime.date(2024, 5, 2)] = 0\n",
        "workdays[datetime.date(2024, 5, 8)] = 0\n",
        "workdays[datetime.date(2024, 5, 9)] = 0\n",
        "\n",
        "workdays[datetime.date(2024, 6, 12)] = 0\n",
        "workdays[datetime.date(2024, 6, 13)] = 0\n",
        "\n",
        "workdays[datetime.date(2024, 11, 1)] = 1\n",
        "workdays[datetime.date(2024, 11, 3)] = 0\n",
        "workdays[datetime.date(2024, 11, 4)] = 0\n",
        "\n",
        "workdays[datetime.date(2024, 12, 31)] = 0\n",
        "\n",
        "workdays\n",
        "\"\"\"\n",
        "calendar000 = pl.read_csv(\"data/calendar.csv\", try_parse_dates=True)\n",
        "calendar000.with_columns(\n",
        "                      (pl.col(\"date\")+datetime.timedelta(-5)).replace(workdays).cast(pl.Int8).alias(\"work_5\"),\n",
        "                      (pl.col(\"date\")+datetime.timedelta(-4)).replace(workdays).cast(pl.Int8).alias(\"work_4\"),\n",
        "                      (pl.col(\"date\")+datetime.timedelta(-3)).replace(workdays).cast(pl.Int8).alias(\"work_3\"),\n",
        "                      (pl.col(\"date\")+datetime.timedelta(-2)).replace(workdays).cast(pl.Int8).alias(\"work_2\"),\n",
        "                      (pl.col(\"date\")+datetime.timedelta(-1)).replace(workdays).cast(pl.Int8).alias(\"work_1\"),\n",
        "                      pl.col(\"date\").replace(workdays).cast(pl.Int8).alias(\"work\"),\n",
        "                      (pl.col(\"date\")+datetime.timedelta(1)).replace(workdays).cast(pl.Int8).alias(\"work1\"),\n",
        "                      (pl.col(\"date\")+datetime.timedelta(2)).replace(workdays).cast(pl.Int8).alias(\"work2\"),\n",
        "                      (pl.col(\"date\")+datetime.timedelta(3)).replace(workdays).cast(pl.Int8).alias(\"work3\"),\n",
        "                      (pl.col(\"date\")+datetime.timedelta(4)).replace(workdays).cast(pl.Int8).alias(\"work4\"),\n",
        "                      (pl.col(\"date\")+datetime.timedelta(5)).replace(workdays).cast(pl.Int8).alias(\"work5\"),\n",
        "                     ).with_columns(\n",
        "                      (pl.col(\"work1\")+pl.col(\"work2\")+pl.col(\"work3\")+pl.col(\"work4\")+pl.col(\"work5\")).alias(\"w5_after\"),\n",
        "                      (pl.col(\"work1\")+pl.col(\"work2\")+pl.col(\"work3\")+pl.col(\"work4\")).alias(\"w4_after\"),\n",
        "                      (pl.col(\"work1\")+pl.col(\"work2\")+pl.col(\"work3\")).alias(\"w3_after\"),\n",
        "                      (pl.col(\"work1\")+pl.col(\"work2\")).alias(\"w2_after\"),\n",
        "                      (pl.col(\"work_1\")+pl.col(\"work_2\")).alias(\"w2_before\"),\n",
        "                      (pl.col(\"work_1\")+pl.col(\"work_2\")+pl.col(\"work_3\")).alias(\"w3_before\"),\n",
        "                      (pl.col(\"work_1\")+pl.col(\"work_2\")+pl.col(\"work_3\")+pl.col(\"work_4\")).alias(\"w4_before\"),\n",
        "                      (pl.col(\"work_1\")+pl.col(\"work_2\")+pl.col(\"work_3\")+pl.col(\"work_4\")+pl.col(\"work_5\")).alias(\"w5_before\"),\n",
        "                     )\n",
        "\"\"\"\n",
        "workdays"
      ],
      "metadata": {
        "trusted": true,
        "execution": {
          "iopub.status.busy": "2025-04-01T15:51:31.262445Z",
          "iopub.execute_input": "2025-04-01T15:51:31.262847Z",
          "iopub.status.idle": "2025-04-01T15:51:31.307131Z",
          "shell.execute_reply.started": "2025-04-01T15:51:31.262804Z",
          "shell.execute_reply": "2025-04-01T15:51:31.305730Z"
        },
        "scrolled": true,
        "id": "f3775c33",
        "outputId": "0a7efc02-f471-4bcd-86f5-01488423dba1"
      },
      "outputs": [
        {
          "execution_count": 22,
          "output_type": "execute_result",
          "data": {
            "text/plain": "{datetime.date(2022, 1, 1): 0,\n datetime.date(2022, 1, 2): 0,\n datetime.date(2022, 1, 3): 0,\n datetime.date(2022, 1, 4): 0,\n datetime.date(2022, 1, 5): 0,\n datetime.date(2022, 1, 6): 0,\n datetime.date(2022, 1, 7): 0,\n datetime.date(2022, 1, 8): 0,\n datetime.date(2022, 1, 9): 0,\n datetime.date(2022, 1, 10): 1,\n datetime.date(2022, 1, 11): 1,\n datetime.date(2022, 1, 12): 1,\n datetime.date(2022, 1, 13): 1,\n datetime.date(2022, 1, 14): 1,\n datetime.date(2022, 1, 15): 0,\n datetime.date(2022, 1, 16): 0,\n datetime.date(2022, 1, 17): 1,\n datetime.date(2022, 1, 18): 1,\n datetime.date(2022, 1, 19): 1,\n datetime.date(2022, 1, 20): 1,\n datetime.date(2022, 1, 21): 1,\n datetime.date(2022, 1, 22): 0,\n datetime.date(2022, 1, 23): 0,\n datetime.date(2022, 1, 24): 1,\n datetime.date(2022, 1, 25): 1,\n datetime.date(2022, 1, 26): 1,\n datetime.date(2022, 1, 27): 1,\n datetime.date(2022, 1, 28): 1,\n datetime.date(2022, 1, 29): 0,\n datetime.date(2022, 1, 30): 0,\n datetime.date(2022, 1, 31): 1,\n datetime.date(2022, 2, 1): 1,\n datetime.date(2022, 2, 2): 1,\n datetime.date(2022, 2, 3): 1,\n datetime.date(2022, 2, 4): 1,\n datetime.date(2022, 2, 5): 0,\n datetime.date(2022, 2, 6): 0,\n datetime.date(2022, 2, 7): 1,\n datetime.date(2022, 2, 8): 1,\n datetime.date(2022, 2, 9): 1,\n datetime.date(2022, 2, 10): 1,\n datetime.date(2022, 2, 11): 1,\n datetime.date(2022, 2, 12): 0,\n datetime.date(2022, 2, 13): 0,\n datetime.date(2022, 2, 14): 1,\n datetime.date(2022, 2, 15): 1,\n datetime.date(2022, 2, 16): 1,\n datetime.date(2022, 2, 17): 1,\n datetime.date(2022, 2, 18): 1,\n datetime.date(2022, 2, 19): 0,\n datetime.date(2022, 2, 20): 0,\n datetime.date(2022, 2, 21): 1,\n datetime.date(2022, 2, 22): 1,\n datetime.date(2022, 2, 23): 0,\n datetime.date(2022, 2, 24): 1,\n datetime.date(2022, 2, 25): 1,\n datetime.date(2022, 2, 26): 0,\n datetime.date(2022, 2, 27): 0,\n datetime.date(2022, 2, 28): 1,\n datetime.date(2022, 3, 1): 1,\n datetime.date(2022, 3, 2): 1,\n datetime.date(2022, 3, 3): 1,\n datetime.date(2022, 3, 4): 1,\n datetime.date(2022, 3, 5): 1,\n datetime.date(2022, 3, 6): 0,\n datetime.date(2022, 3, 7): 0,\n datetime.date(2022, 3, 8): 0,\n datetime.date(2022, 3, 9): 1,\n datetime.date(2022, 3, 10): 1,\n datetime.date(2022, 3, 11): 1,\n datetime.date(2022, 3, 12): 0,\n datetime.date(2022, 3, 13): 0,\n datetime.date(2022, 3, 14): 1,\n datetime.date(2022, 3, 15): 1,\n datetime.date(2022, 3, 16): 1,\n datetime.date(2022, 3, 17): 1,\n datetime.date(2022, 3, 18): 1,\n datetime.date(2022, 3, 19): 0,\n datetime.date(2022, 3, 20): 0,\n datetime.date(2022, 3, 21): 1,\n datetime.date(2022, 3, 22): 1,\n datetime.date(2022, 3, 23): 1,\n datetime.date(2022, 3, 24): 1,\n datetime.date(2022, 3, 25): 1,\n datetime.date(2022, 3, 26): 0,\n datetime.date(2022, 3, 27): 0,\n datetime.date(2022, 3, 28): 1,\n datetime.date(2022, 3, 29): 1,\n datetime.date(2022, 3, 30): 1,\n datetime.date(2022, 3, 31): 1,\n datetime.date(2022, 4, 1): 1,\n datetime.date(2022, 4, 2): 0,\n datetime.date(2022, 4, 3): 0,\n datetime.date(2022, 4, 4): 1,\n datetime.date(2022, 4, 5): 1,\n datetime.date(2022, 4, 6): 1,\n datetime.date(2022, 4, 7): 1,\n datetime.date(2022, 4, 8): 1,\n datetime.date(2022, 4, 9): 0,\n datetime.date(2022, 4, 10): 0,\n datetime.date(2022, 4, 11): 1,\n datetime.date(2022, 4, 12): 1,\n datetime.date(2022, 4, 13): 1,\n datetime.date(2022, 4, 14): 1,\n datetime.date(2022, 4, 15): 1,\n datetime.date(2022, 4, 16): 0,\n datetime.date(2022, 4, 17): 0,\n datetime.date(2022, 4, 18): 1,\n datetime.date(2022, 4, 19): 1,\n datetime.date(2022, 4, 20): 1,\n datetime.date(2022, 4, 21): 1,\n datetime.date(2022, 4, 22): 1,\n datetime.date(2022, 4, 23): 0,\n datetime.date(2022, 4, 24): 0,\n datetime.date(2022, 4, 25): 1,\n datetime.date(2022, 4, 26): 1,\n datetime.date(2022, 4, 27): 1,\n datetime.date(2022, 4, 28): 1,\n datetime.date(2022, 4, 29): 1,\n datetime.date(2022, 4, 30): 0,\n datetime.date(2022, 5, 1): 0,\n datetime.date(2022, 5, 2): 0,\n datetime.date(2022, 5, 3): 0,\n datetime.date(2022, 5, 4): 1,\n datetime.date(2022, 5, 5): 1,\n datetime.date(2022, 5, 6): 1,\n datetime.date(2022, 5, 7): 0,\n datetime.date(2022, 5, 8): 0,\n datetime.date(2022, 5, 9): 0,\n datetime.date(2022, 5, 10): 0,\n datetime.date(2022, 5, 11): 1,\n datetime.date(2022, 5, 12): 1,\n datetime.date(2022, 5, 13): 1,\n datetime.date(2022, 5, 14): 0,\n datetime.date(2022, 5, 15): 0,\n datetime.date(2022, 5, 16): 1,\n datetime.date(2022, 5, 17): 1,\n datetime.date(2022, 5, 18): 1,\n datetime.date(2022, 5, 19): 1,\n datetime.date(2022, 5, 20): 1,\n datetime.date(2022, 5, 21): 0,\n datetime.date(2022, 5, 22): 0,\n datetime.date(2022, 5, 23): 1,\n datetime.date(2022, 5, 24): 1,\n datetime.date(2022, 5, 25): 1,\n datetime.date(2022, 5, 26): 1,\n datetime.date(2022, 5, 27): 1,\n datetime.date(2022, 5, 28): 0,\n datetime.date(2022, 5, 29): 0,\n datetime.date(2022, 5, 30): 1,\n datetime.date(2022, 5, 31): 1,\n datetime.date(2022, 6, 1): 1,\n datetime.date(2022, 6, 2): 1,\n datetime.date(2022, 6, 3): 1,\n datetime.date(2022, 6, 4): 0,\n datetime.date(2022, 6, 5): 0,\n datetime.date(2022, 6, 6): 1,\n datetime.date(2022, 6, 7): 1,\n datetime.date(2022, 6, 8): 1,\n datetime.date(2022, 6, 9): 1,\n datetime.date(2022, 6, 10): 1,\n datetime.date(2022, 6, 11): 0,\n datetime.date(2022, 6, 12): 0,\n datetime.date(2022, 6, 13): 0,\n datetime.date(2022, 6, 14): 1,\n datetime.date(2022, 6, 15): 1,\n datetime.date(2022, 6, 16): 1,\n datetime.date(2022, 6, 17): 1,\n datetime.date(2022, 6, 18): 0,\n datetime.date(2022, 6, 19): 0,\n datetime.date(2022, 6, 20): 1,\n datetime.date(2022, 6, 21): 1,\n datetime.date(2022, 6, 22): 1,\n datetime.date(2022, 6, 23): 1,\n datetime.date(2022, 6, 24): 1,\n datetime.date(2022, 6, 25): 0,\n datetime.date(2022, 6, 26): 0,\n datetime.date(2022, 6, 27): 1,\n datetime.date(2022, 6, 28): 1,\n datetime.date(2022, 6, 29): 1,\n datetime.date(2022, 6, 30): 1,\n datetime.date(2022, 7, 1): 1,\n datetime.date(2022, 7, 2): 0,\n datetime.date(2022, 7, 3): 0,\n datetime.date(2022, 7, 4): 1,\n datetime.date(2022, 7, 5): 1,\n datetime.date(2022, 7, 6): 1,\n datetime.date(2022, 7, 7): 1,\n datetime.date(2022, 7, 8): 1,\n datetime.date(2022, 7, 9): 0,\n datetime.date(2022, 7, 10): 0,\n datetime.date(2022, 7, 11): 1,\n datetime.date(2022, 7, 12): 1,\n datetime.date(2022, 7, 13): 1,\n datetime.date(2022, 7, 14): 1,\n datetime.date(2022, 7, 15): 1,\n datetime.date(2022, 7, 16): 0,\n datetime.date(2022, 7, 17): 0,\n datetime.date(2022, 7, 18): 1,\n datetime.date(2022, 7, 19): 1,\n datetime.date(2022, 7, 20): 1,\n datetime.date(2022, 7, 21): 1,\n datetime.date(2022, 7, 22): 1,\n datetime.date(2022, 7, 23): 0,\n datetime.date(2022, 7, 24): 0,\n datetime.date(2022, 7, 25): 1,\n datetime.date(2022, 7, 26): 1,\n datetime.date(2022, 7, 27): 1,\n datetime.date(2022, 7, 28): 1,\n datetime.date(2022, 7, 29): 1,\n datetime.date(2022, 7, 30): 0,\n datetime.date(2022, 7, 31): 0,\n datetime.date(2022, 8, 1): 1,\n datetime.date(2022, 8, 2): 1,\n datetime.date(2022, 8, 3): 1,\n datetime.date(2022, 8, 4): 1,\n datetime.date(2022, 8, 5): 1,\n datetime.date(2022, 8, 6): 0,\n datetime.date(2022, 8, 7): 0,\n datetime.date(2022, 8, 8): 1,\n datetime.date(2022, 8, 9): 1,\n datetime.date(2022, 8, 10): 1,\n datetime.date(2022, 8, 11): 1,\n datetime.date(2022, 8, 12): 1,\n datetime.date(2022, 8, 13): 0,\n datetime.date(2022, 8, 14): 0,\n datetime.date(2022, 8, 15): 1,\n datetime.date(2022, 8, 16): 1,\n datetime.date(2022, 8, 17): 1,\n datetime.date(2022, 8, 18): 1,\n datetime.date(2022, 8, 19): 1,\n datetime.date(2022, 8, 20): 0,\n datetime.date(2022, 8, 21): 0,\n datetime.date(2022, 8, 22): 1,\n datetime.date(2022, 8, 23): 1,\n datetime.date(2022, 8, 24): 1,\n datetime.date(2022, 8, 25): 1,\n datetime.date(2022, 8, 26): 1,\n datetime.date(2022, 8, 27): 0,\n datetime.date(2022, 8, 28): 0,\n datetime.date(2022, 8, 29): 1,\n datetime.date(2022, 8, 30): 1,\n datetime.date(2022, 8, 31): 1,\n datetime.date(2022, 9, 1): 1,\n datetime.date(2022, 9, 2): 1,\n datetime.date(2022, 9, 3): 0,\n datetime.date(2022, 9, 4): 0,\n datetime.date(2022, 9, 5): 1,\n datetime.date(2022, 9, 6): 1,\n datetime.date(2022, 9, 7): 1,\n datetime.date(2022, 9, 8): 1,\n datetime.date(2022, 9, 9): 1,\n datetime.date(2022, 9, 10): 0,\n datetime.date(2022, 9, 11): 0,\n datetime.date(2022, 9, 12): 1,\n datetime.date(2022, 9, 13): 1,\n datetime.date(2022, 9, 14): 1,\n datetime.date(2022, 9, 15): 1,\n datetime.date(2022, 9, 16): 1,\n datetime.date(2022, 9, 17): 0,\n datetime.date(2022, 9, 18): 0,\n datetime.date(2022, 9, 19): 1,\n datetime.date(2022, 9, 20): 1,\n datetime.date(2022, 9, 21): 1,\n datetime.date(2022, 9, 22): 1,\n datetime.date(2022, 9, 23): 1,\n datetime.date(2022, 9, 24): 0,\n datetime.date(2022, 9, 25): 0,\n datetime.date(2022, 9, 26): 1,\n datetime.date(2022, 9, 27): 1,\n datetime.date(2022, 9, 28): 1,\n datetime.date(2022, 9, 29): 1,\n datetime.date(2022, 9, 30): 1,\n datetime.date(2022, 10, 1): 0,\n datetime.date(2022, 10, 2): 0,\n datetime.date(2022, 10, 3): 1,\n datetime.date(2022, 10, 4): 1,\n datetime.date(2022, 10, 5): 1,\n datetime.date(2022, 10, 6): 1,\n datetime.date(2022, 10, 7): 1,\n datetime.date(2022, 10, 8): 0,\n datetime.date(2022, 10, 9): 0,\n datetime.date(2022, 10, 10): 1,\n datetime.date(2022, 10, 11): 1,\n datetime.date(2022, 10, 12): 1,\n datetime.date(2022, 10, 13): 1,\n datetime.date(2022, 10, 14): 1,\n datetime.date(2022, 10, 15): 0,\n datetime.date(2022, 10, 16): 0,\n datetime.date(2022, 10, 17): 1,\n datetime.date(2022, 10, 18): 1,\n datetime.date(2022, 10, 19): 1,\n datetime.date(2022, 10, 20): 1,\n datetime.date(2022, 10, 21): 1,\n datetime.date(2022, 10, 22): 0,\n datetime.date(2022, 10, 23): 0,\n datetime.date(2022, 10, 24): 1,\n datetime.date(2022, 10, 25): 1,\n datetime.date(2022, 10, 26): 1,\n datetime.date(2022, 10, 27): 1,\n datetime.date(2022, 10, 28): 1,\n datetime.date(2022, 10, 29): 0,\n datetime.date(2022, 10, 30): 0,\n datetime.date(2022, 10, 31): 1,\n datetime.date(2022, 11, 1): 1,\n datetime.date(2022, 11, 2): 1,\n datetime.date(2022, 11, 3): 1,\n datetime.date(2022, 11, 4): 0,\n datetime.date(2022, 11, 5): 0,\n datetime.date(2022, 11, 6): 0,\n datetime.date(2022, 11, 7): 1,\n datetime.date(2022, 11, 8): 1,\n datetime.date(2022, 11, 9): 1,\n datetime.date(2022, 11, 10): 1,\n datetime.date(2022, 11, 11): 1,\n datetime.date(2022, 11, 12): 0,\n datetime.date(2022, 11, 13): 0,\n datetime.date(2022, 11, 14): 1,\n datetime.date(2022, 11, 15): 1,\n datetime.date(2022, 11, 16): 1,\n datetime.date(2022, 11, 17): 1,\n datetime.date(2022, 11, 18): 1,\n datetime.date(2022, 11, 19): 0,\n datetime.date(2022, 11, 20): 0,\n datetime.date(2022, 11, 21): 1,\n datetime.date(2022, 11, 22): 1,\n datetime.date(2022, 11, 23): 1,\n datetime.date(2022, 11, 24): 1,\n datetime.date(2022, 11, 25): 1,\n datetime.date(2022, 11, 26): 0,\n datetime.date(2022, 11, 27): 0,\n datetime.date(2022, 11, 28): 1,\n datetime.date(2022, 11, 29): 1,\n datetime.date(2022, 11, 30): 1,\n datetime.date(2022, 12, 1): 1,\n datetime.date(2022, 12, 2): 1,\n datetime.date(2022, 12, 3): 0,\n datetime.date(2022, 12, 4): 0,\n datetime.date(2022, 12, 5): 1,\n datetime.date(2022, 12, 6): 1,\n datetime.date(2022, 12, 7): 1,\n datetime.date(2022, 12, 8): 1,\n datetime.date(2022, 12, 9): 1,\n datetime.date(2022, 12, 10): 0,\n datetime.date(2022, 12, 11): 0,\n datetime.date(2022, 12, 12): 1,\n datetime.date(2022, 12, 13): 1,\n datetime.date(2022, 12, 14): 1,\n datetime.date(2022, 12, 15): 1,\n datetime.date(2022, 12, 16): 1,\n datetime.date(2022, 12, 17): 0,\n datetime.date(2022, 12, 18): 0,\n datetime.date(2022, 12, 19): 1,\n datetime.date(2022, 12, 20): 1,\n datetime.date(2022, 12, 21): 1,\n datetime.date(2022, 12, 22): 1,\n datetime.date(2022, 12, 23): 1,\n datetime.date(2022, 12, 24): 0,\n datetime.date(2022, 12, 25): 0,\n datetime.date(2022, 12, 26): 1,\n datetime.date(2022, 12, 27): 1,\n datetime.date(2022, 12, 28): 1,\n datetime.date(2022, 12, 29): 1,\n datetime.date(2022, 12, 30): 1,\n datetime.date(2022, 12, 31): 0,\n datetime.date(2023, 1, 1): 0,\n datetime.date(2023, 1, 2): 0,\n datetime.date(2023, 1, 3): 0,\n datetime.date(2023, 1, 4): 0,\n datetime.date(2023, 1, 5): 0,\n datetime.date(2023, 1, 6): 0,\n datetime.date(2023, 1, 7): 0,\n datetime.date(2023, 1, 8): 0,\n datetime.date(2023, 1, 9): 1,\n datetime.date(2023, 1, 10): 1,\n datetime.date(2023, 1, 11): 1,\n datetime.date(2023, 1, 12): 1,\n datetime.date(2023, 1, 13): 1,\n datetime.date(2023, 1, 14): 0,\n datetime.date(2023, 1, 15): 0,\n datetime.date(2023, 1, 16): 1,\n datetime.date(2023, 1, 17): 1,\n datetime.date(2023, 1, 18): 1,\n datetime.date(2023, 1, 19): 1,\n datetime.date(2023, 1, 20): 1,\n datetime.date(2023, 1, 21): 0,\n datetime.date(2023, 1, 22): 0,\n datetime.date(2023, 1, 23): 1,\n datetime.date(2023, 1, 24): 1,\n datetime.date(2023, 1, 25): 1,\n datetime.date(2023, 1, 26): 1,\n datetime.date(2023, 1, 27): 1,\n datetime.date(2023, 1, 28): 0,\n datetime.date(2023, 1, 29): 0,\n datetime.date(2023, 1, 30): 1,\n datetime.date(2023, 1, 31): 1,\n datetime.date(2023, 2, 1): 1,\n datetime.date(2023, 2, 2): 1,\n datetime.date(2023, 2, 3): 1,\n datetime.date(2023, 2, 4): 0,\n datetime.date(2023, 2, 5): 0,\n datetime.date(2023, 2, 6): 1,\n datetime.date(2023, 2, 7): 1,\n datetime.date(2023, 2, 8): 1,\n datetime.date(2023, 2, 9): 1,\n datetime.date(2023, 2, 10): 1,\n datetime.date(2023, 2, 11): 0,\n datetime.date(2023, 2, 12): 0,\n datetime.date(2023, 2, 13): 1,\n datetime.date(2023, 2, 14): 1,\n datetime.date(2023, 2, 15): 1,\n datetime.date(2023, 2, 16): 1,\n datetime.date(2023, 2, 17): 1,\n datetime.date(2023, 2, 18): 0,\n datetime.date(2023, 2, 19): 0,\n datetime.date(2023, 2, 20): 1,\n datetime.date(2023, 2, 21): 1,\n datetime.date(2023, 2, 22): 1,\n datetime.date(2023, 2, 23): 0,\n datetime.date(2023, 2, 24): 0,\n datetime.date(2023, 2, 25): 0,\n datetime.date(2023, 2, 26): 0,\n datetime.date(2023, 2, 27): 1,\n datetime.date(2023, 2, 28): 1,\n datetime.date(2023, 3, 1): 1,\n datetime.date(2023, 3, 2): 1,\n datetime.date(2023, 3, 3): 1,\n datetime.date(2023, 3, 4): 0,\n datetime.date(2023, 3, 5): 0,\n datetime.date(2023, 3, 6): 1,\n datetime.date(2023, 3, 7): 1,\n datetime.date(2023, 3, 8): 0,\n datetime.date(2023, 3, 9): 1,\n datetime.date(2023, 3, 10): 1,\n datetime.date(2023, 3, 11): 0,\n datetime.date(2023, 3, 12): 0,\n datetime.date(2023, 3, 13): 1,\n datetime.date(2023, 3, 14): 1,\n datetime.date(2023, 3, 15): 1,\n datetime.date(2023, 3, 16): 1,\n datetime.date(2023, 3, 17): 1,\n datetime.date(2023, 3, 18): 0,\n datetime.date(2023, 3, 19): 0,\n datetime.date(2023, 3, 20): 1,\n datetime.date(2023, 3, 21): 1,\n datetime.date(2023, 3, 22): 1,\n datetime.date(2023, 3, 23): 1,\n datetime.date(2023, 3, 24): 1,\n datetime.date(2023, 3, 25): 0,\n datetime.date(2023, 3, 26): 0,\n datetime.date(2023, 3, 27): 1,\n datetime.date(2023, 3, 28): 1,\n datetime.date(2023, 3, 29): 1,\n datetime.date(2023, 3, 30): 1,\n datetime.date(2023, 3, 31): 1,\n datetime.date(2023, 4, 1): 0,\n datetime.date(2023, 4, 2): 0,\n datetime.date(2023, 4, 3): 1,\n datetime.date(2023, 4, 4): 1,\n datetime.date(2023, 4, 5): 1,\n datetime.date(2023, 4, 6): 1,\n datetime.date(2023, 4, 7): 1,\n datetime.date(2023, 4, 8): 0,\n datetime.date(2023, 4, 9): 0,\n datetime.date(2023, 4, 10): 1,\n datetime.date(2023, 4, 11): 1,\n datetime.date(2023, 4, 12): 1,\n datetime.date(2023, 4, 13): 1,\n datetime.date(2023, 4, 14): 1,\n datetime.date(2023, 4, 15): 0,\n datetime.date(2023, 4, 16): 0,\n datetime.date(2023, 4, 17): 1,\n datetime.date(2023, 4, 18): 1,\n datetime.date(2023, 4, 19): 1,\n datetime.date(2023, 4, 20): 1,\n datetime.date(2023, 4, 21): 1,\n datetime.date(2023, 4, 22): 0,\n datetime.date(2023, 4, 23): 0,\n datetime.date(2023, 4, 24): 1,\n datetime.date(2023, 4, 25): 1,\n datetime.date(2023, 4, 26): 1,\n datetime.date(2023, 4, 27): 1,\n datetime.date(2023, 4, 28): 1,\n datetime.date(2023, 4, 29): 0,\n datetime.date(2023, 4, 30): 0,\n datetime.date(2023, 5, 1): 0,\n datetime.date(2023, 5, 2): 1,\n datetime.date(2023, 5, 3): 1,\n datetime.date(2023, 5, 4): 1,\n datetime.date(2023, 5, 5): 1,\n datetime.date(2023, 5, 6): 0,\n datetime.date(2023, 5, 7): 0,\n datetime.date(2023, 5, 8): 0,\n datetime.date(2023, 5, 9): 0,\n datetime.date(2023, 5, 10): 1,\n datetime.date(2023, 5, 11): 1,\n datetime.date(2023, 5, 12): 1,\n datetime.date(2023, 5, 13): 0,\n datetime.date(2023, 5, 14): 0,\n datetime.date(2023, 5, 15): 1,\n datetime.date(2023, 5, 16): 1,\n datetime.date(2023, 5, 17): 1,\n datetime.date(2023, 5, 18): 1,\n datetime.date(2023, 5, 19): 1,\n datetime.date(2023, 5, 20): 0,\n datetime.date(2023, 5, 21): 0,\n datetime.date(2023, 5, 22): 1,\n datetime.date(2023, 5, 23): 1,\n datetime.date(2023, 5, 24): 1,\n datetime.date(2023, 5, 25): 1,\n datetime.date(2023, 5, 26): 1,\n datetime.date(2023, 5, 27): 0,\n datetime.date(2023, 5, 28): 0,\n datetime.date(2023, 5, 29): 1,\n datetime.date(2023, 5, 30): 1,\n datetime.date(2023, 5, 31): 1,\n datetime.date(2023, 6, 1): 1,\n datetime.date(2023, 6, 2): 1,\n datetime.date(2023, 6, 3): 0,\n datetime.date(2023, 6, 4): 0,\n datetime.date(2023, 6, 5): 1,\n datetime.date(2023, 6, 6): 1,\n datetime.date(2023, 6, 7): 1,\n datetime.date(2023, 6, 8): 1,\n datetime.date(2023, 6, 9): 1,\n datetime.date(2023, 6, 10): 0,\n datetime.date(2023, 6, 11): 0,\n datetime.date(2023, 6, 12): 0,\n datetime.date(2023, 6, 13): 1,\n datetime.date(2023, 6, 14): 1,\n datetime.date(2023, 6, 15): 1,\n datetime.date(2023, 6, 16): 1,\n datetime.date(2023, 6, 17): 0,\n datetime.date(2023, 6, 18): 0,\n datetime.date(2023, 6, 19): 1,\n datetime.date(2023, 6, 20): 1,\n datetime.date(2023, 6, 21): 1,\n datetime.date(2023, 6, 22): 1,\n datetime.date(2023, 6, 23): 1,\n datetime.date(2023, 6, 24): 0,\n datetime.date(2023, 6, 25): 0,\n datetime.date(2023, 6, 26): 1,\n datetime.date(2023, 6, 27): 1,\n datetime.date(2023, 6, 28): 1,\n datetime.date(2023, 6, 29): 1,\n datetime.date(2023, 6, 30): 1,\n datetime.date(2023, 7, 1): 0,\n datetime.date(2023, 7, 2): 0,\n datetime.date(2023, 7, 3): 1,\n datetime.date(2023, 7, 4): 1,\n datetime.date(2023, 7, 5): 1,\n datetime.date(2023, 7, 6): 1,\n datetime.date(2023, 7, 7): 1,\n datetime.date(2023, 7, 8): 0,\n datetime.date(2023, 7, 9): 0,\n datetime.date(2023, 7, 10): 1,\n datetime.date(2023, 7, 11): 1,\n datetime.date(2023, 7, 12): 1,\n datetime.date(2023, 7, 13): 1,\n datetime.date(2023, 7, 14): 1,\n datetime.date(2023, 7, 15): 0,\n datetime.date(2023, 7, 16): 0,\n datetime.date(2023, 7, 17): 1,\n datetime.date(2023, 7, 18): 1,\n datetime.date(2023, 7, 19): 1,\n datetime.date(2023, 7, 20): 1,\n datetime.date(2023, 7, 21): 1,\n datetime.date(2023, 7, 22): 0,\n datetime.date(2023, 7, 23): 0,\n datetime.date(2023, 7, 24): 1,\n datetime.date(2023, 7, 25): 1,\n datetime.date(2023, 7, 26): 1,\n datetime.date(2023, 7, 27): 1,\n datetime.date(2023, 7, 28): 1,\n datetime.date(2023, 7, 29): 0,\n datetime.date(2023, 7, 30): 0,\n datetime.date(2023, 7, 31): 1,\n datetime.date(2023, 8, 1): 1,\n datetime.date(2023, 8, 2): 1,\n datetime.date(2023, 8, 3): 1,\n datetime.date(2023, 8, 4): 1,\n datetime.date(2023, 8, 5): 0,\n datetime.date(2023, 8, 6): 0,\n datetime.date(2023, 8, 7): 1,\n datetime.date(2023, 8, 8): 1,\n datetime.date(2023, 8, 9): 1,\n datetime.date(2023, 8, 10): 1,\n datetime.date(2023, 8, 11): 1,\n datetime.date(2023, 8, 12): 0,\n datetime.date(2023, 8, 13): 0,\n datetime.date(2023, 8, 14): 1,\n datetime.date(2023, 8, 15): 1,\n datetime.date(2023, 8, 16): 1,\n datetime.date(2023, 8, 17): 1,\n datetime.date(2023, 8, 18): 1,\n datetime.date(2023, 8, 19): 0,\n datetime.date(2023, 8, 20): 0,\n datetime.date(2023, 8, 21): 1,\n datetime.date(2023, 8, 22): 1,\n datetime.date(2023, 8, 23): 1,\n datetime.date(2023, 8, 24): 1,\n datetime.date(2023, 8, 25): 1,\n datetime.date(2023, 8, 26): 0,\n datetime.date(2023, 8, 27): 0,\n datetime.date(2023, 8, 28): 1,\n datetime.date(2023, 8, 29): 1,\n datetime.date(2023, 8, 30): 1,\n datetime.date(2023, 8, 31): 1,\n datetime.date(2023, 9, 1): 1,\n datetime.date(2023, 9, 2): 0,\n datetime.date(2023, 9, 3): 0,\n datetime.date(2023, 9, 4): 1,\n datetime.date(2023, 9, 5): 1,\n datetime.date(2023, 9, 6): 1,\n datetime.date(2023, 9, 7): 1,\n datetime.date(2023, 9, 8): 1,\n datetime.date(2023, 9, 9): 0,\n datetime.date(2023, 9, 10): 0,\n datetime.date(2023, 9, 11): 1,\n datetime.date(2023, 9, 12): 1,\n datetime.date(2023, 9, 13): 1,\n datetime.date(2023, 9, 14): 1,\n datetime.date(2023, 9, 15): 1,\n datetime.date(2023, 9, 16): 0,\n datetime.date(2023, 9, 17): 0,\n datetime.date(2023, 9, 18): 1,\n datetime.date(2023, 9, 19): 1,\n datetime.date(2023, 9, 20): 1,\n datetime.date(2023, 9, 21): 1,\n datetime.date(2023, 9, 22): 1,\n datetime.date(2023, 9, 23): 0,\n datetime.date(2023, 9, 24): 0,\n datetime.date(2023, 9, 25): 1,\n datetime.date(2023, 9, 26): 1,\n datetime.date(2023, 9, 27): 1,\n datetime.date(2023, 9, 28): 1,\n datetime.date(2023, 9, 29): 1,\n datetime.date(2023, 9, 30): 0,\n datetime.date(2023, 10, 1): 0,\n datetime.date(2023, 10, 2): 1,\n datetime.date(2023, 10, 3): 1,\n datetime.date(2023, 10, 4): 1,\n datetime.date(2023, 10, 5): 1,\n datetime.date(2023, 10, 6): 1,\n datetime.date(2023, 10, 7): 0,\n datetime.date(2023, 10, 8): 0,\n datetime.date(2023, 10, 9): 1,\n datetime.date(2023, 10, 10): 1,\n datetime.date(2023, 10, 11): 1,\n datetime.date(2023, 10, 12): 1,\n datetime.date(2023, 10, 13): 1,\n datetime.date(2023, 10, 14): 0,\n datetime.date(2023, 10, 15): 0,\n datetime.date(2023, 10, 16): 1,\n datetime.date(2023, 10, 17): 1,\n datetime.date(2023, 10, 18): 1,\n datetime.date(2023, 10, 19): 1,\n datetime.date(2023, 10, 20): 1,\n datetime.date(2023, 10, 21): 0,\n datetime.date(2023, 10, 22): 0,\n datetime.date(2023, 10, 23): 1,\n datetime.date(2023, 10, 24): 1,\n datetime.date(2023, 10, 25): 1,\n datetime.date(2023, 10, 26): 1,\n datetime.date(2023, 10, 27): 1,\n datetime.date(2023, 10, 28): 0,\n datetime.date(2023, 10, 29): 0,\n datetime.date(2023, 10, 30): 1,\n datetime.date(2023, 10, 31): 1,\n datetime.date(2023, 11, 1): 1,\n datetime.date(2023, 11, 2): 1,\n datetime.date(2023, 11, 3): 1,\n datetime.date(2023, 11, 4): 0,\n datetime.date(2023, 11, 5): 0,\n datetime.date(2023, 11, 6): 0,\n datetime.date(2023, 11, 7): 1,\n datetime.date(2023, 11, 8): 1,\n datetime.date(2023, 11, 9): 1,\n datetime.date(2023, 11, 10): 1,\n datetime.date(2023, 11, 11): 0,\n datetime.date(2023, 11, 12): 0,\n datetime.date(2023, 11, 13): 1,\n datetime.date(2023, 11, 14): 1,\n datetime.date(2023, 11, 15): 1,\n datetime.date(2023, 11, 16): 1,\n datetime.date(2023, 11, 17): 1,\n datetime.date(2023, 11, 18): 0,\n datetime.date(2023, 11, 19): 0,\n datetime.date(2023, 11, 20): 1,\n datetime.date(2023, 11, 21): 1,\n datetime.date(2023, 11, 22): 1,\n datetime.date(2023, 11, 23): 1,\n datetime.date(2023, 11, 24): 1,\n datetime.date(2023, 11, 25): 0,\n datetime.date(2023, 11, 26): 0,\n datetime.date(2023, 11, 27): 1,\n datetime.date(2023, 11, 28): 1,\n datetime.date(2023, 11, 29): 1,\n datetime.date(2023, 11, 30): 1,\n datetime.date(2023, 12, 1): 1,\n datetime.date(2023, 12, 2): 0,\n datetime.date(2023, 12, 3): 0,\n datetime.date(2023, 12, 4): 1,\n datetime.date(2023, 12, 5): 1,\n datetime.date(2023, 12, 6): 1,\n datetime.date(2023, 12, 7): 1,\n datetime.date(2023, 12, 8): 1,\n datetime.date(2023, 12, 9): 0,\n datetime.date(2023, 12, 10): 0,\n datetime.date(2023, 12, 11): 1,\n datetime.date(2023, 12, 12): 1,\n datetime.date(2023, 12, 13): 1,\n datetime.date(2023, 12, 14): 1,\n datetime.date(2023, 12, 15): 1,\n datetime.date(2023, 12, 16): 0,\n datetime.date(2023, 12, 17): 0,\n datetime.date(2023, 12, 18): 1,\n datetime.date(2023, 12, 19): 1,\n datetime.date(2023, 12, 20): 1,\n datetime.date(2023, 12, 21): 1,\n datetime.date(2023, 12, 22): 1,\n datetime.date(2023, 12, 23): 0,\n datetime.date(2023, 12, 24): 0,\n datetime.date(2023, 12, 25): 1,\n datetime.date(2023, 12, 26): 1,\n datetime.date(2023, 12, 27): 1,\n datetime.date(2023, 12, 28): 1,\n datetime.date(2023, 12, 29): 1,\n datetime.date(2023, 12, 30): 0,\n datetime.date(2023, 12, 31): 0,\n datetime.date(2024, 1, 1): 0,\n datetime.date(2024, 1, 2): 0,\n datetime.date(2024, 1, 3): 0,\n datetime.date(2024, 1, 4): 1,\n datetime.date(2024, 1, 5): 1,\n datetime.date(2024, 1, 6): 0,\n datetime.date(2024, 1, 7): 0,\n datetime.date(2024, 1, 8): 0,\n datetime.date(2024, 1, 9): 1,\n datetime.date(2024, 1, 10): 1,\n datetime.date(2024, 1, 11): 1,\n datetime.date(2024, 1, 12): 1,\n datetime.date(2024, 1, 13): 0,\n datetime.date(2024, 1, 14): 0,\n datetime.date(2024, 1, 15): 1,\n datetime.date(2024, 1, 16): 1,\n datetime.date(2024, 1, 17): 1,\n datetime.date(2024, 1, 18): 1,\n datetime.date(2024, 1, 19): 1,\n datetime.date(2024, 1, 20): 0,\n datetime.date(2024, 1, 21): 0,\n datetime.date(2024, 1, 22): 1,\n datetime.date(2024, 1, 23): 1,\n datetime.date(2024, 1, 24): 1,\n datetime.date(2024, 1, 25): 1,\n datetime.date(2024, 1, 26): 1,\n datetime.date(2024, 1, 27): 0,\n datetime.date(2024, 1, 28): 0,\n datetime.date(2024, 1, 29): 1,\n datetime.date(2024, 1, 30): 1,\n datetime.date(2024, 1, 31): 1,\n datetime.date(2024, 2, 1): 1,\n datetime.date(2024, 2, 2): 1,\n datetime.date(2024, 2, 3): 0,\n datetime.date(2024, 2, 4): 0,\n datetime.date(2024, 2, 5): 1,\n datetime.date(2024, 2, 6): 1,\n datetime.date(2024, 2, 7): 1,\n datetime.date(2024, 2, 8): 1,\n datetime.date(2024, 2, 9): 1,\n datetime.date(2024, 2, 10): 0,\n datetime.date(2024, 2, 11): 0,\n datetime.date(2024, 2, 12): 1,\n datetime.date(2024, 2, 13): 1,\n datetime.date(2024, 2, 14): 1,\n datetime.date(2024, 2, 15): 1,\n datetime.date(2024, 2, 16): 1,\n datetime.date(2024, 2, 17): 0,\n datetime.date(2024, 2, 18): 0,\n datetime.date(2024, 2, 19): 1,\n datetime.date(2024, 2, 20): 1,\n datetime.date(2024, 2, 21): 1,\n datetime.date(2024, 2, 22): 1,\n datetime.date(2024, 2, 23): 1,\n datetime.date(2024, 2, 24): 0,\n datetime.date(2024, 2, 25): 0,\n datetime.date(2024, 2, 26): 1,\n datetime.date(2024, 2, 27): 1,\n datetime.date(2024, 2, 28): 1,\n datetime.date(2024, 2, 29): 1,\n datetime.date(2024, 3, 1): 1,\n datetime.date(2024, 3, 2): 0,\n datetime.date(2024, 3, 3): 0,\n datetime.date(2024, 3, 4): 1,\n datetime.date(2024, 3, 5): 1,\n datetime.date(2024, 3, 6): 1,\n datetime.date(2024, 3, 7): 1,\n datetime.date(2024, 3, 8): 1,\n datetime.date(2024, 3, 9): 0,\n datetime.date(2024, 3, 10): 0,\n datetime.date(2024, 3, 11): 1,\n datetime.date(2024, 3, 12): 1,\n datetime.date(2024, 3, 13): 1,\n datetime.date(2024, 3, 14): 1,\n datetime.date(2024, 3, 15): 1,\n datetime.date(2024, 3, 16): 0,\n datetime.date(2024, 3, 17): 0,\n datetime.date(2024, 3, 18): 1,\n datetime.date(2024, 3, 19): 1,\n datetime.date(2024, 3, 20): 1,\n datetime.date(2024, 3, 21): 1,\n datetime.date(2024, 3, 22): 1,\n datetime.date(2024, 3, 23): 0,\n datetime.date(2024, 3, 24): 0,\n datetime.date(2024, 3, 25): 1,\n datetime.date(2024, 3, 26): 1,\n datetime.date(2024, 3, 27): 1,\n datetime.date(2024, 3, 28): 1,\n datetime.date(2024, 3, 29): 1,\n datetime.date(2024, 3, 30): 0,\n datetime.date(2024, 3, 31): 0,\n datetime.date(2024, 4, 1): 1,\n datetime.date(2024, 4, 2): 1,\n datetime.date(2024, 4, 3): 1,\n datetime.date(2024, 4, 4): 1,\n datetime.date(2024, 4, 5): 1,\n datetime.date(2024, 4, 6): 0,\n datetime.date(2024, 4, 7): 0,\n datetime.date(2024, 4, 8): 1,\n datetime.date(2024, 4, 9): 1,\n datetime.date(2024, 4, 10): 1,\n datetime.date(2024, 4, 11): 1,\n datetime.date(2024, 4, 12): 1,\n datetime.date(2024, 4, 13): 0,\n datetime.date(2024, 4, 14): 0,\n datetime.date(2024, 4, 15): 1,\n datetime.date(2024, 4, 16): 1,\n datetime.date(2024, 4, 17): 1,\n datetime.date(2024, 4, 18): 1,\n datetime.date(2024, 4, 19): 1,\n datetime.date(2024, 4, 20): 0,\n datetime.date(2024, 4, 21): 0,\n datetime.date(2024, 4, 22): 1,\n datetime.date(2024, 4, 23): 1,\n datetime.date(2024, 4, 24): 1,\n datetime.date(2024, 4, 25): 1,\n datetime.date(2024, 4, 26): 1,\n datetime.date(2024, 4, 27): 0,\n datetime.date(2024, 4, 28): 0,\n datetime.date(2024, 4, 29): 1,\n datetime.date(2024, 4, 30): 1,\n datetime.date(2024, 5, 1): 0,\n datetime.date(2024, 5, 2): 0,\n datetime.date(2024, 5, 3): 1,\n datetime.date(2024, 5, 4): 0,\n datetime.date(2024, 5, 5): 0,\n datetime.date(2024, 5, 6): 1,\n datetime.date(2024, 5, 7): 1,\n datetime.date(2024, 5, 8): 0,\n datetime.date(2024, 5, 9): 0,\n datetime.date(2024, 5, 10): 1,\n datetime.date(2024, 5, 11): 0,\n datetime.date(2024, 5, 12): 0,\n datetime.date(2024, 5, 13): 1,\n datetime.date(2024, 5, 14): 1,\n datetime.date(2024, 5, 15): 1,\n datetime.date(2024, 5, 16): 1,\n datetime.date(2024, 5, 17): 1,\n datetime.date(2024, 5, 18): 0,\n datetime.date(2024, 5, 19): 0,\n datetime.date(2024, 5, 20): 1,\n datetime.date(2024, 5, 21): 1,\n datetime.date(2024, 5, 22): 1,\n datetime.date(2024, 5, 23): 1,\n datetime.date(2024, 5, 24): 1,\n datetime.date(2024, 5, 25): 0,\n datetime.date(2024, 5, 26): 0,\n datetime.date(2024, 5, 27): 1,\n datetime.date(2024, 5, 28): 1,\n datetime.date(2024, 5, 29): 1,\n datetime.date(2024, 5, 30): 1,\n datetime.date(2024, 5, 31): 1,\n datetime.date(2024, 6, 1): 0,\n datetime.date(2024, 6, 2): 0,\n datetime.date(2024, 6, 3): 1,\n datetime.date(2024, 6, 4): 1,\n datetime.date(2024, 6, 5): 1,\n datetime.date(2024, 6, 6): 1,\n datetime.date(2024, 6, 7): 1,\n datetime.date(2024, 6, 8): 0,\n datetime.date(2024, 6, 9): 0,\n datetime.date(2024, 6, 10): 1,\n datetime.date(2024, 6, 11): 1,\n datetime.date(2024, 6, 12): 0,\n datetime.date(2024, 6, 13): 0,\n datetime.date(2024, 6, 14): 1,\n datetime.date(2024, 6, 15): 0,\n datetime.date(2024, 6, 16): 0,\n datetime.date(2024, 6, 17): 1,\n datetime.date(2024, 6, 18): 1,\n datetime.date(2024, 6, 19): 1,\n datetime.date(2024, 6, 20): 1,\n datetime.date(2024, 6, 21): 1,\n datetime.date(2024, 6, 22): 0,\n datetime.date(2024, 6, 23): 0,\n datetime.date(2024, 6, 24): 1,\n datetime.date(2024, 6, 25): 1,\n datetime.date(2024, 6, 26): 1,\n datetime.date(2024, 6, 27): 1,\n datetime.date(2024, 6, 28): 1,\n datetime.date(2024, 6, 29): 0,\n datetime.date(2024, 6, 30): 0,\n datetime.date(2024, 7, 1): 1,\n datetime.date(2024, 7, 2): 1,\n datetime.date(2024, 7, 3): 1,\n datetime.date(2024, 7, 4): 1,\n datetime.date(2024, 7, 5): 1,\n datetime.date(2024, 7, 6): 0,\n datetime.date(2024, 7, 7): 0,\n datetime.date(2024, 7, 8): 1,\n datetime.date(2024, 7, 9): 1,\n datetime.date(2024, 7, 10): 1,\n datetime.date(2024, 7, 11): 1,\n datetime.date(2024, 7, 12): 1,\n datetime.date(2024, 7, 13): 0,\n datetime.date(2024, 7, 14): 0,\n datetime.date(2024, 7, 15): 1,\n datetime.date(2024, 7, 16): 1,\n datetime.date(2024, 7, 17): 1,\n datetime.date(2024, 7, 18): 1,\n datetime.date(2024, 7, 19): 1,\n datetime.date(2024, 7, 20): 0,\n datetime.date(2024, 7, 21): 0,\n datetime.date(2024, 7, 22): 1,\n datetime.date(2024, 7, 23): 1,\n datetime.date(2024, 7, 24): 1,\n datetime.date(2024, 7, 25): 1,\n datetime.date(2024, 7, 26): 1,\n datetime.date(2024, 7, 27): 0,\n datetime.date(2024, 7, 28): 0,\n datetime.date(2024, 7, 29): 1,\n datetime.date(2024, 7, 30): 1,\n datetime.date(2024, 7, 31): 1,\n datetime.date(2024, 8, 1): 1,\n datetime.date(2024, 8, 2): 1,\n datetime.date(2024, 8, 3): 0,\n datetime.date(2024, 8, 4): 0,\n datetime.date(2024, 8, 5): 1,\n datetime.date(2024, 8, 6): 1,\n datetime.date(2024, 8, 7): 1,\n datetime.date(2024, 8, 8): 1,\n datetime.date(2024, 8, 9): 1,\n datetime.date(2024, 8, 10): 0,\n datetime.date(2024, 8, 11): 0,\n datetime.date(2024, 8, 12): 1,\n datetime.date(2024, 8, 13): 1,\n datetime.date(2024, 8, 14): 1,\n datetime.date(2024, 8, 15): 1,\n datetime.date(2024, 8, 16): 1,\n datetime.date(2024, 8, 17): 0,\n datetime.date(2024, 8, 18): 0,\n datetime.date(2024, 8, 19): 1,\n datetime.date(2024, 8, 20): 1,\n datetime.date(2024, 8, 21): 1,\n datetime.date(2024, 8, 22): 1,\n datetime.date(2024, 8, 23): 1,\n datetime.date(2024, 8, 24): 0,\n datetime.date(2024, 8, 25): 0,\n datetime.date(2024, 8, 26): 1,\n datetime.date(2024, 8, 27): 1,\n datetime.date(2024, 8, 28): 1,\n datetime.date(2024, 8, 29): 1,\n datetime.date(2024, 8, 30): 1,\n datetime.date(2024, 8, 31): 0,\n datetime.date(2024, 9, 1): 0,\n datetime.date(2024, 9, 2): 1,\n datetime.date(2024, 9, 3): 1,\n datetime.date(2024, 9, 4): 1,\n datetime.date(2024, 9, 5): 1,\n datetime.date(2024, 9, 6): 1,\n datetime.date(2024, 9, 7): 0,\n datetime.date(2024, 9, 8): 0,\n datetime.date(2024, 9, 9): 1,\n datetime.date(2024, 9, 10): 1,\n datetime.date(2024, 9, 11): 1,\n datetime.date(2024, 9, 12): 1,\n datetime.date(2024, 9, 13): 1,\n datetime.date(2024, 9, 14): 0,\n datetime.date(2024, 9, 15): 0,\n datetime.date(2024, 9, 16): 1,\n datetime.date(2024, 9, 17): 1,\n datetime.date(2024, 9, 18): 1,\n datetime.date(2024, 9, 19): 1,\n datetime.date(2024, 9, 20): 1,\n datetime.date(2024, 9, 21): 0,\n datetime.date(2024, 9, 22): 0,\n datetime.date(2024, 9, 23): 1,\n datetime.date(2024, 9, 24): 1,\n datetime.date(2024, 9, 25): 1,\n datetime.date(2024, 9, 26): 1,\n ...}"
          },
          "metadata": {}
        }
      ],
      "execution_count": null
    },
    {
      "id": "416bcda9",
      "cell_type": "code",
      "source": [
        "#%%time\n",
        "#inns = pl.read_csv(\"data/sample_submit.csv\"\n",
        "#           )[\"inn_id\"].unique()\n",
        "#inns\n",
        "\n",
        "#notworks=pl.scan_parquet(\"data/transactions_?.parquet\"\n",
        "#               ).filter(pl.col(\"doc_payer_inn\").is_in(inns)\n",
        "#               ).filter(pl.col(\"doc_payer_bank_name_flag\")==1\n",
        "#                       ).with_columns(\n",
        "#                            pl.col(\"date\").dt.date(),\n",
        "#                            pl.col(\"date\").replace(workdays).cast(pl.Int8).alias(\"work\"),\n",
        "#                        ).filter(pl.col(\"work\")==0\n",
        "#                                ).group_by(\"doc_payer_inn\"\n",
        "#                                          ).agg(pl.col(\"date\").n_unique()\n",
        "#                        ).collect()\n",
        "#notworks.to_pandas()[\"date\"].hist(bins=240)"
      ],
      "metadata": {
        "trusted": true,
        "execution": {
          "iopub.status.busy": "2025-04-01T15:51:31.308129Z",
          "iopub.execute_input": "2025-04-01T15:51:31.308472Z",
          "iopub.status.idle": "2025-04-01T15:51:31.322242Z",
          "shell.execute_reply.started": "2025-04-01T15:51:31.308441Z",
          "shell.execute_reply": "2025-04-01T15:51:31.321168Z"
        },
        "id": "416bcda9"
      },
      "outputs": [],
      "execution_count": null
    },
    {
      "id": "8130bc29",
      "cell_type": "code",
      "source": [
        "%%time\n",
        "\"\"\"\n",
        "innstat000 = pl.read_parquet(\"data/target_series.parquet\"\n",
        "                            ).with_columns(\n",
        "                                pl.col(\"week\").cast(pl.Int8),\n",
        "                            ).filter( pl.col(\"week\")<delweek\n",
        "                            ).filter( pl.col(\"target\")>0\n",
        "                            ).with_columns(\n",
        "                                (pl.col(\"week\")-pl.col(\"week\").shift(1).over(\"inn_id\")).alias(\"lbreak\"),\n",
        "                                    ).group_by(\"inn_id\"\n",
        "                                              ).agg((delweek-pl.col(\"week\").max()-1).alias(\"endbreak\"),\n",
        "                                                    (pl.col(\"week\").max()-pl.col(\"week\").min()+1).alias(\"length\"),\n",
        "                                                    #pl.col(\"week\").min().alias(\"startweek\"),\n",
        "                                                    pl.col(\"week\").count().alias(\"countpositive\"),\n",
        "                                                    pl.col(\"lbreak\").max().alias(\"maxlbreak\"),\n",
        "                                                   ).with_columns((pl.col(\"length\")-pl.col(\"countpositive\")).alias(\"countzero\")\n",
        "                                                                 )\n",
        "innstat000#.max()\n",
        "\"\"\"\n",
        "0"
      ],
      "metadata": {
        "trusted": true,
        "execution": {
          "iopub.status.busy": "2025-04-01T15:51:31.328427Z",
          "iopub.execute_input": "2025-04-01T15:51:31.328877Z",
          "iopub.status.idle": "2025-04-01T15:51:31.342216Z",
          "shell.execute_reply.started": "2025-04-01T15:51:31.328841Z",
          "shell.execute_reply": "2025-04-01T15:51:31.341128Z"
        },
        "id": "8130bc29",
        "outputId": "fdd12572-852e-4503-b043-0f40f4619d6a"
      },
      "outputs": [
        {
          "name": "stdout",
          "text": "CPU times: user 12 µs, sys: 4 µs, total: 16 µs\nWall time: 20 µs\n",
          "output_type": "stream"
        },
        {
          "execution_count": 24,
          "output_type": "execute_result",
          "data": {
            "text/plain": "0"
          },
          "metadata": {}
        }
      ],
      "execution_count": null
    },
    {
      "id": "9ca44ca2",
      "cell_type": "code",
      "source": [
        "inns = pl.read_csv(\"sample_submit_extended.csv\",\n",
        "           schema_overrides={\"predict\": pl.Float64})[\"inn_id\"].unique()\n",
        "inns\n",
        "\n",
        "inns_ip = pl.read_parquet(\"profiles_extended.parquet\"\n",
        "           ).filter(pl.col(\"ipul\")==\"ip\")[\"inn_id\"].unique()\n",
        "inns,inns_ip"
      ],
      "metadata": {
        "trusted": true,
        "execution": {
          "iopub.status.busy": "2025-04-01T15:51:31.345546Z",
          "iopub.execute_input": "2025-04-01T15:51:31.345946Z",
          "iopub.status.idle": "2025-04-01T15:51:36.324118Z",
          "shell.execute_reply.started": "2025-04-01T15:51:31.345914Z",
          "shell.execute_reply": "2025-04-01T15:51:36.323132Z"
        },
        "id": "9ca44ca2",
        "outputId": "0213e62f-1ff4-42a1-fc9a-172d715a5625"
      },
      "outputs": [
        {
          "execution_count": 25,
          "output_type": "execute_result",
          "data": {
            "text/plain": "(shape: (51_963,)\n Series: 'inn_id' [str]\n [\n \t\"inn5007154\"\n \t\"inn484767\"\n \t\"inn2031679\"\n \t\"inn2039643\"\n \t\"inn4795943\"\n \t…\n \t\"inn3862428\"\n \t\"inn3719632\"\n \t\"inn1442227\"\n \t\"inn4759977\"\n \t\"inn3523274\"\n ],\n shape: (1_444_418,)\n Series: 'inn_id' [str]\n [\n \t\"inn3073248\"\n \t\"inn1071492\"\n \t\"inn392869\"\n \t\"inn5114654\"\n \t\"inn229393\"\n \t…\n \t\"inn137165\"\n \t\"inn671609\"\n \t\"inn4228715\"\n \t\"inn5042479\"\n \t\"inn1985589\"\n ])"
          },
          "metadata": {}
        }
      ],
      "execution_count": null
    },
    {
      "id": "e5202273-d05b-4815-a5f6-b9b644dd5fe9",
      "cell_type": "code",
      "source": [
        "out_vtb"
      ],
      "metadata": {
        "trusted": true,
        "execution": {
          "iopub.status.busy": "2025-04-01T15:51:36.325115Z",
          "iopub.execute_input": "2025-04-01T15:51:36.325420Z",
          "iopub.status.idle": "2025-04-01T15:51:36.332212Z",
          "shell.execute_reply.started": "2025-04-01T15:51:36.325382Z",
          "shell.execute_reply": "2025-04-01T15:51:36.330953Z"
        },
        "id": "e5202273-d05b-4815-a5f6-b9b644dd5fe9",
        "outputId": "2b4db836-d9b3-46af-bafd-18f9f988110b"
      },
      "outputs": [
        {
          "execution_count": 26,
          "output_type": "execute_result",
          "data": {
            "text/plain": "shape: (19_854_385, 3)\n┌───────────────┬──────────────┬─────────────────────┐\n│ doc_payer_inn ┆ out_vtb_date ┆ out_vtb_trns_amount │\n│ ---           ┆ ---          ┆ ---                 │\n│ str           ┆ date         ┆ f32                 │\n╞═══════════════╪══════════════╪═════════════════════╡\n│ inn2816694    ┆ 2024-03-23   ┆ 22002.34375         │\n│ inn4769775    ┆ 2023-03-13   ┆ 276529.0625         │\n│ inn3317678    ┆ 2022-12-08   ┆ 48677.1875          │\n│ inn965615     ┆ 2022-12-26   ┆ 1.9849e6            │\n│ inn88276      ┆ 2023-10-09   ┆ 302990.28125        │\n│ …             ┆ …            ┆ …                   │\n│ inn3398924    ┆ 2024-09-05   ┆ 1.7784348e7         │\n│ inn45569      ┆ 2022-12-21   ┆ 1.1867e6            │\n│ inn33457      ┆ 2022-12-28   ┆ 40312.21875         │\n│ inn5262506    ┆ 2023-09-21   ┆ 250537.125          │\n│ inn610601     ┆ 2023-09-26   ┆ 12330.251953        │\n└───────────────┴──────────────┴─────────────────────┘",
            "text/html": "<div><style>\n.dataframe > thead > tr,\n.dataframe > tbody > tr {\n  text-align: right;\n  white-space: pre-wrap;\n}\n</style>\n<small>shape: (19_854_385, 3)</small><table border=\"1\" class=\"dataframe\"><thead><tr><th>doc_payer_inn</th><th>out_vtb_date</th><th>out_vtb_trns_amount</th></tr><tr><td>str</td><td>date</td><td>f32</td></tr></thead><tbody><tr><td>&quot;inn2816694&quot;</td><td>2024-03-23</td><td>22002.34375</td></tr><tr><td>&quot;inn4769775&quot;</td><td>2023-03-13</td><td>276529.0625</td></tr><tr><td>&quot;inn3317678&quot;</td><td>2022-12-08</td><td>48677.1875</td></tr><tr><td>&quot;inn965615&quot;</td><td>2022-12-26</td><td>1.9849e6</td></tr><tr><td>&quot;inn88276&quot;</td><td>2023-10-09</td><td>302990.28125</td></tr><tr><td>&hellip;</td><td>&hellip;</td><td>&hellip;</td></tr><tr><td>&quot;inn3398924&quot;</td><td>2024-09-05</td><td>1.7784348e7</td></tr><tr><td>&quot;inn45569&quot;</td><td>2022-12-21</td><td>1.1867e6</td></tr><tr><td>&quot;inn33457&quot;</td><td>2022-12-28</td><td>40312.21875</td></tr><tr><td>&quot;inn5262506&quot;</td><td>2023-09-21</td><td>250537.125</td></tr><tr><td>&quot;inn610601&quot;</td><td>2023-09-26</td><td>12330.251953</td></tr></tbody></table></div>"
          },
          "metadata": {}
        }
      ],
      "execution_count": null
    },
    {
      "id": "740f7228",
      "cell_type": "code",
      "source": [
        "%%time\n",
        "#расходы из ВТБ\n",
        "out_vtb=pl.scan_parquet(\"transactions_?.parquet\"\n",
        "               ).filter(pl.col(\"doc_payer_inn\").is_in(inns)\n",
        "               ).filter(pl.col(\"doc_payer_bank_name_flag\")==1\n",
        "                      ).with_columns(pl.col(\"date\").dt.date()\n",
        "                             ).join(pl.scan_csv(\"calendar_extended.csv\", try_parse_dates=True\n",
        "                                               ).drop(\"part\"\n",
        "                                                     ).with_columns(pl.col(\"week\").cast(pl.Int16)),\n",
        "                                    on=\"date\",\n",
        "                                    how=\"left\"\n",
        "                                   ).group_by(\"doc_payer_inn\",\"week\"\n",
        "                                             ).agg(pl.col(\"trns_count\").sum(),\n",
        "                                                   pl.col(\"trns_amount\").sum(),\n",
        "                                                   pl.col(\"date\").n_unique().cast(pl.UInt8),\n",
        "                                                   pl.col(\"doc_payee_inn\").n_unique().cast(pl.UInt16).alias(\"cinn\"),\n",
        "                                                   #pl.col(\"trns_class_encoded\").n_unique(),\n",
        "                                                   #pl.col(\"doc_payer_bank_name_encoded\").n_unique(),\n",
        "                                            ).with_columns(\n",
        "                                                np.log1p(pl.col(\"trns_amount\")).alias(\"trns_amount_log\"),\n",
        "                                                    ).rename(lambda column_name: (\"\" if column_name in [\"doc_payer_inn\",\"week\"] else \"out_vtb_\") + column_name\n",
        "                                                          ).collect()\n",
        "out_vtb"
      ],
      "metadata": {
        "trusted": true,
        "execution": {
          "iopub.status.busy": "2025-04-01T15:51:36.333359Z",
          "iopub.execute_input": "2025-04-01T15:51:36.333641Z",
          "iopub.status.idle": "2025-04-01T15:52:22.245156Z",
          "shell.execute_reply.started": "2025-04-01T15:51:36.333616Z",
          "shell.execute_reply": "2025-04-01T15:52:22.243875Z"
        },
        "id": "740f7228",
        "outputId": "c87d67c1-c9c2-48ac-9e80-bb8bb485b341"
      },
      "outputs": [
        {
          "name": "stdout",
          "text": "CPU times: user 2min 12s, sys: 29.4 s, total: 2min 42s\nWall time: 45.9 s\n",
          "output_type": "stream"
        },
        {
          "execution_count": 27,
          "output_type": "execute_result",
          "data": {
            "text/plain": "shape: (5_657_874, 7)\n┌───────────────┬──────┬───────────────┬──────────────┬──────────────┬──────────────┬──────────────┐\n│ doc_payer_inn ┆ week ┆ out_vtb_trns_ ┆ out_vtb_trns ┆ out_vtb_date ┆ out_vtb_cinn ┆ out_vtb_trns │\n│ ---           ┆ ---  ┆ count         ┆ _amount      ┆ ---          ┆ ---          ┆ _amount_log  │\n│ str           ┆ i16  ┆ ---           ┆ ---          ┆ u8           ┆ u16          ┆ ---          │\n│               ┆      ┆ f64           ┆ f64          ┆              ┆              ┆ f64          │\n╞═══════════════╪══════╪═══════════════╪══════════════╪══════════════╪══════════════╪══════════════╡\n│ inn5104227    ┆ 102  ┆ 9.0           ┆ 471932.46618 ┆ 4            ┆ 6            ┆ 13.064593    │\n│               ┆      ┆               ┆ 7            ┆              ┆              ┆              │\n│ inn4025530    ┆ 48   ┆ 15.0          ┆ 2.2955e6     ┆ 5            ┆ 15           ┆ 14.646478    │\n│ inn2547661    ┆ 38   ┆ 37.0          ┆ 4.0372e6     ┆ 5            ┆ 24           ┆ 15.21107     │\n│ inn2436421    ┆ 68   ┆ 9.0           ┆ 313573.27563 ┆ 4            ┆ 9            ┆ 12.655792    │\n│               ┆      ┆               ┆ 5            ┆              ┆              ┆              │\n│ inn2159616    ┆ 76   ┆ 7.0           ┆ 625692.71777 ┆ 4            ┆ 6            ┆ 13.346616    │\n│               ┆      ┆               ┆ 3            ┆              ┆              ┆              │\n│ …             ┆ …    ┆ …             ┆ …            ┆ …            ┆ …            ┆ …            │\n│ inn122407     ┆ 27   ┆ 2.0           ┆ 457340.15625 ┆ 2            ┆ 1            ┆ 13.033185    │\n│ inn4978629    ┆ 27   ┆ 2.0           ┆ 8730.917236  ┆ 2            ┆ 2            ┆ 9.07474      │\n│ inn1835128    ┆ 57   ┆ 15.0          ┆ 1.7516e6     ┆ 4            ┆ 8            ┆ 14.376039    │\n│ inn3193037    ┆ 64   ┆ 5.0           ┆ 183709.37011 ┆ 2            ┆ 3            ┆ 12.121116    │\n│               ┆      ┆               ┆ 7            ┆              ┆              ┆              │\n│ inn5000112    ┆ 18   ┆ 2.0           ┆ 41655.778809 ┆ 2            ┆ 2            ┆ 10.637219    │\n└───────────────┴──────┴───────────────┴──────────────┴──────────────┴──────────────┴──────────────┘",
            "text/html": "<div><style>\n.dataframe > thead > tr,\n.dataframe > tbody > tr {\n  text-align: right;\n  white-space: pre-wrap;\n}\n</style>\n<small>shape: (5_657_874, 7)</small><table border=\"1\" class=\"dataframe\"><thead><tr><th>doc_payer_inn</th><th>week</th><th>out_vtb_trns_count</th><th>out_vtb_trns_amount</th><th>out_vtb_date</th><th>out_vtb_cinn</th><th>out_vtb_trns_amount_log</th></tr><tr><td>str</td><td>i16</td><td>f64</td><td>f64</td><td>u8</td><td>u16</td><td>f64</td></tr></thead><tbody><tr><td>&quot;inn5104227&quot;</td><td>102</td><td>9.0</td><td>471932.466187</td><td>4</td><td>6</td><td>13.064593</td></tr><tr><td>&quot;inn4025530&quot;</td><td>48</td><td>15.0</td><td>2.2955e6</td><td>5</td><td>15</td><td>14.646478</td></tr><tr><td>&quot;inn2547661&quot;</td><td>38</td><td>37.0</td><td>4.0372e6</td><td>5</td><td>24</td><td>15.21107</td></tr><tr><td>&quot;inn2436421&quot;</td><td>68</td><td>9.0</td><td>313573.275635</td><td>4</td><td>9</td><td>12.655792</td></tr><tr><td>&quot;inn2159616&quot;</td><td>76</td><td>7.0</td><td>625692.717773</td><td>4</td><td>6</td><td>13.346616</td></tr><tr><td>&hellip;</td><td>&hellip;</td><td>&hellip;</td><td>&hellip;</td><td>&hellip;</td><td>&hellip;</td><td>&hellip;</td></tr><tr><td>&quot;inn122407&quot;</td><td>27</td><td>2.0</td><td>457340.15625</td><td>2</td><td>1</td><td>13.033185</td></tr><tr><td>&quot;inn4978629&quot;</td><td>27</td><td>2.0</td><td>8730.917236</td><td>2</td><td>2</td><td>9.07474</td></tr><tr><td>&quot;inn1835128&quot;</td><td>57</td><td>15.0</td><td>1.7516e6</td><td>4</td><td>8</td><td>14.376039</td></tr><tr><td>&quot;inn3193037&quot;</td><td>64</td><td>5.0</td><td>183709.370117</td><td>2</td><td>3</td><td>12.121116</td></tr><tr><td>&quot;inn5000112&quot;</td><td>18</td><td>2.0</td><td>41655.778809</td><td>2</td><td>2</td><td>10.637219</td></tr></tbody></table></div>"
          },
          "metadata": {}
        }
      ],
      "execution_count": null
    },
    {
      "id": "527b1063",
      "cell_type": "code",
      "source": [
        "%%time\n",
        "#расходы из ВТБ на ИП\n",
        "out_vtbip=pl.scan_parquet(\"transactions_?.parquet\"\n",
        "               ).filter(pl.col(\"doc_payer_inn\").is_in(inns)\n",
        "               ).filter(pl.col(\"doc_payer_bank_name_flag\")==1\n",
        "               ).filter(pl.col(\"doc_payee_inn\").is_in(inns_ip)\n",
        "                      ).with_columns(pl.col(\"date\").dt.date()\n",
        "                             ).join(pl.scan_csv(\"calendar_extended.csv\", try_parse_dates=True\n",
        "                                               ).drop(\"part\"\n",
        "                                                     ).with_columns(pl.col(\"week\").cast(pl.Int16)),\n",
        "                                    on=\"date\",\n",
        "                                    how=\"left\"\n",
        "                                   ).group_by(\"doc_payer_inn\",\"week\"\n",
        "                                             ).agg(pl.col(\"trns_count\").sum(),\n",
        "                                                   pl.col(\"trns_amount\").sum(),\n",
        "                                                   pl.col(\"doc_payee_inn\").n_unique().cast(pl.UInt16).alias(\"cinn\"),\n",
        "                                                   #pl.col(\"date\").n_unique().cast(pl.UInt8),\n",
        "                                                   #pl.col(\"trns_class_encoded\").n_unique(),\n",
        "                                                   #pl.col(\"doc_payer_bank_name_encoded\").n_unique(),\n",
        "                                            #).with_columns(\n",
        "                                            #    np.log1p(pl.col(\"trns_amount\")).alias(\"trns_amount_log\"),\n",
        "                                                    ).rename(lambda column_name: (\"\" if column_name in [\"doc_payer_inn\",\"week\"] else \"out_vtbip_\") + column_name\n",
        "                                                          ).collect()\n",
        "out_vtbip"
      ],
      "metadata": {
        "trusted": true,
        "execution": {
          "iopub.status.busy": "2025-04-01T15:52:22.246158Z",
          "iopub.execute_input": "2025-04-01T15:52:22.246570Z",
          "iopub.status.idle": "2025-04-01T15:53:08.794929Z",
          "shell.execute_reply.started": "2025-04-01T15:52:22.246533Z",
          "shell.execute_reply": "2025-04-01T15:53:08.793846Z"
        },
        "id": "527b1063",
        "outputId": "57bb2668-a2a5-455c-cb53-64638b9ed851"
      },
      "outputs": [
        {
          "name": "stdout",
          "text": "CPU times: user 2min 27s, sys: 27.4 s, total: 2min 54s\nWall time: 46.5 s\n",
          "output_type": "stream"
        },
        {
          "execution_count": 28,
          "output_type": "execute_result",
          "data": {
            "text/plain": "shape: (3_047_066, 5)\n┌───────────────┬──────┬──────────────────────┬───────────────────────┬────────────────┐\n│ doc_payer_inn ┆ week ┆ out_vtbip_trns_count ┆ out_vtbip_trns_amount ┆ out_vtbip_cinn │\n│ ---           ┆ ---  ┆ ---                  ┆ ---                   ┆ ---            │\n│ str           ┆ i16  ┆ f64                  ┆ f64                   ┆ u16            │\n╞═══════════════╪══════╪══════════════════════╪═══════════════════════╪════════════════╡\n│ inn979559     ┆ 100  ┆ 21.0                 ┆ 1.4011e6              ┆ 17             │\n│ inn3364565    ┆ 68   ┆ 1.0                  ┆ 1393.224854           ┆ 1              │\n│ inn1060215    ┆ 75   ┆ 9.0                  ┆ 204014.785156         ┆ 2              │\n│ inn1261933    ┆ 75   ┆ 2.0                  ┆ 16411.71875           ┆ 1              │\n│ inn940430     ┆ 105  ┆ 1.0                  ┆ 291462.8125           ┆ 1              │\n│ …             ┆ …    ┆ …                    ┆ …                     ┆ …              │\n│ inn3983105    ┆ 18   ┆ 6.0                  ┆ 6312.290771           ┆ 4              │\n│ inn4408230    ┆ 30   ┆ 3.0                  ┆ 766770.666748         ┆ 3              │\n│ inn623706     ┆ 77   ┆ 2.0                  ┆ 247110.990234         ┆ 2              │\n│ inn2005609    ┆ 41   ┆ 6.0                  ┆ 645585.165039         ┆ 4              │\n│ inn3810189    ┆ 16   ┆ 2.0                  ┆ 50232.896484          ┆ 2              │\n└───────────────┴──────┴──────────────────────┴───────────────────────┴────────────────┘",
            "text/html": "<div><style>\n.dataframe > thead > tr,\n.dataframe > tbody > tr {\n  text-align: right;\n  white-space: pre-wrap;\n}\n</style>\n<small>shape: (3_047_066, 5)</small><table border=\"1\" class=\"dataframe\"><thead><tr><th>doc_payer_inn</th><th>week</th><th>out_vtbip_trns_count</th><th>out_vtbip_trns_amount</th><th>out_vtbip_cinn</th></tr><tr><td>str</td><td>i16</td><td>f64</td><td>f64</td><td>u16</td></tr></thead><tbody><tr><td>&quot;inn979559&quot;</td><td>100</td><td>21.0</td><td>1.4011e6</td><td>17</td></tr><tr><td>&quot;inn3364565&quot;</td><td>68</td><td>1.0</td><td>1393.224854</td><td>1</td></tr><tr><td>&quot;inn1060215&quot;</td><td>75</td><td>9.0</td><td>204014.785156</td><td>2</td></tr><tr><td>&quot;inn1261933&quot;</td><td>75</td><td>2.0</td><td>16411.71875</td><td>1</td></tr><tr><td>&quot;inn940430&quot;</td><td>105</td><td>1.0</td><td>291462.8125</td><td>1</td></tr><tr><td>&hellip;</td><td>&hellip;</td><td>&hellip;</td><td>&hellip;</td><td>&hellip;</td></tr><tr><td>&quot;inn3983105&quot;</td><td>18</td><td>6.0</td><td>6312.290771</td><td>4</td></tr><tr><td>&quot;inn4408230&quot;</td><td>30</td><td>3.0</td><td>766770.666748</td><td>3</td></tr><tr><td>&quot;inn623706&quot;</td><td>77</td><td>2.0</td><td>247110.990234</td><td>2</td></tr><tr><td>&quot;inn2005609&quot;</td><td>41</td><td>6.0</td><td>645585.165039</td><td>4</td></tr><tr><td>&quot;inn3810189&quot;</td><td>16</td><td>2.0</td><td>50232.896484</td><td>2</td></tr></tbody></table></div>"
          },
          "metadata": {}
        }
      ],
      "execution_count": null
    },
    {
      "id": "c3ba2e5f",
      "cell_type": "code",
      "source": [
        "\"\"\"\n",
        "%%time\n",
        "#расходы не из ВТБ\n",
        "out_notvtb=pl.scan_parquet(\"data/transactions_?.parquet\"\n",
        "               ).filter(pl.col(\"doc_payer_inn\").is_in(inns)\n",
        "               ).filter(pl.col(\"doc_payer_bank_name_flag\")==0\n",
        "                      ).with_columns(pl.col(\"date\").dt.date()\n",
        "                             ).join(pl.scan_csv(\"data/calendar.csv\", try_parse_dates=True\n",
        "                                               ).drop(\"part\"\n",
        "                                                     ).with_columns(pl.col(\"week\").cast(pl.Int8)),\n",
        "                                    on=\"date\",\n",
        "                                    how=\"left\"\n",
        "                                   ).group_by(\"doc_payer_inn\",\"week\"\n",
        "                                             ).agg(pl.col(\"trns_count\").sum(),\n",
        "                                                   pl.col(\"trns_amount\").sum(),\n",
        "                                                   #pl.col(\"date\").n_unique(),\n",
        "                                                   #pl.col(\"trns_class_encoded\").n_unique(),\n",
        "                                                   #pl.col(\"doc_payer_bank_name_encoded\").n_unique(),\n",
        "                                            #).with_columns(\n",
        "                                            #    np.log1p(pl.col(\"trns_amount\")).alias(\"trns_amount_log\"),\n",
        "                                                  ).rename(lambda column_name: (\"\" if column_name in [\"doc_payer_inn\",\"week\"] else \"out_notvtb_\") + column_name\n",
        "                                                  ).collect()\n",
        "out_notvtb\n",
        "\"\"\"\n",
        "0"
      ],
      "metadata": {
        "trusted": true,
        "execution": {
          "iopub.status.busy": "2025-04-01T15:53:08.796232Z",
          "iopub.execute_input": "2025-04-01T15:53:08.796643Z",
          "iopub.status.idle": "2025-04-01T15:53:08.803571Z",
          "shell.execute_reply.started": "2025-04-01T15:53:08.796592Z",
          "shell.execute_reply": "2025-04-01T15:53:08.802417Z"
        },
        "id": "c3ba2e5f",
        "outputId": "f7d38919-ebd0-410f-ff31-2b229dfb7c06"
      },
      "outputs": [
        {
          "execution_count": 29,
          "output_type": "execute_result",
          "data": {
            "text/plain": "0"
          },
          "metadata": {}
        }
      ],
      "execution_count": null
    },
    {
      "id": "8582bd86",
      "cell_type": "code",
      "source": [
        "%%time\n",
        "#приходы в ВТБ\n",
        "in_vtb=pl.scan_parquet(\"transactions_?.parquet\"\n",
        "               ).filter(pl.col(\"doc_payee_inn\").is_in(inns)\n",
        "               ).filter(pl.col(\"doc_payee_bank_name_flag\")==1\n",
        "                      ).with_columns(pl.col(\"date\").dt.date()\n",
        "                             ).join(pl.scan_csv(\"calendar_extended.csv\", try_parse_dates=True\n",
        "                                               ).drop(\"part\"\n",
        "                                                     ).with_columns(pl.col(\"week\").cast(pl.Int16)),\n",
        "                                    on=\"date\",\n",
        "                                    how=\"left\"\n",
        "                                   ).group_by(\"doc_payee_inn\",\"week\"\n",
        "                                             ).agg(pl.col(\"trns_count\").sum(),\n",
        "                                                   pl.col(\"trns_amount\").sum(),\n",
        "                                                   pl.col(\"date\").n_unique().cast(pl.UInt8),\n",
        "                                                   pl.col(\"doc_payer_inn\").n_unique().cast(pl.UInt16).alias(\"cinn\"),\n",
        "                                                   #pl.col(\"trns_class_encoded\").n_unique(),\n",
        "                                                   #pl.col(\"doc_payee_bank_name_encoded\").n_unique(),\n",
        "                                            ).with_columns(\n",
        "                                                np.log1p(pl.col(\"trns_amount\")).alias(\"trns_amount_log\"),\n",
        "                                                  ).rename(lambda column_name: (\"\" if column_name in [\"doc_payee_inn\",\"week\"] else \"in_vtb_\") + column_name\n",
        "                                                          ).collect()\n",
        "in_vtb"
      ],
      "metadata": {
        "trusted": true,
        "execution": {
          "iopub.status.busy": "2025-04-01T15:53:08.804726Z",
          "iopub.execute_input": "2025-04-01T15:53:08.805071Z",
          "iopub.status.idle": "2025-04-01T15:54:20.500060Z",
          "shell.execute_reply.started": "2025-04-01T15:53:08.805038Z",
          "shell.execute_reply": "2025-04-01T15:54:20.499138Z"
        },
        "id": "8582bd86",
        "outputId": "44d0f803-89e4-454e-959c-98f6c3fee451"
      },
      "outputs": [
        {
          "name": "stdout",
          "text": "CPU times: user 3min 18s, sys: 48 s, total: 4min 6s\nWall time: 1min 11s\n",
          "output_type": "stream"
        },
        {
          "execution_count": 30,
          "output_type": "execute_result",
          "data": {
            "text/plain": "shape: (5_220_541, 7)\n┌───────────────┬──────┬───────────────┬───────────────┬─────────────┬─────────────┬───────────────┐\n│ doc_payee_inn ┆ week ┆ in_vtb_trns_c ┆ in_vtb_trns_a ┆ in_vtb_date ┆ in_vtb_cinn ┆ in_vtb_trns_a │\n│ ---           ┆ ---  ┆ ount          ┆ mount         ┆ ---         ┆ ---         ┆ mount_log     │\n│ str           ┆ i16  ┆ ---           ┆ ---           ┆ u8          ┆ u16         ┆ ---           │\n│               ┆      ┆ f64           ┆ f64           ┆             ┆             ┆ f64           │\n╞═══════════════╪══════╪═══════════════╪═══════════════╪═════════════╪═════════════╪═══════════════╡\n│ inn2139224    ┆ 117  ┆ 190.0         ┆ 2.1291e6      ┆ 6           ┆ 108         ┆ 14.571204     │\n│ inn1499440    ┆ 5    ┆ 5.0           ┆ 135299.779297 ┆ 1           ┆ 1           ┆ 11.815256     │\n│ inn4898234    ┆ 63   ┆ 4.0           ┆ 984720.105469 ┆ 3           ┆ 4           ┆ 13.800114     │\n│ inn1919206    ┆ 60   ┆ 1.0           ┆ 22680.455078  ┆ 1           ┆ 1           ┆ 10.029303     │\n│ inn2610124    ┆ 59   ┆ 35.0          ┆ 984740.733887 ┆ 7           ┆ 28          ┆ 13.800135     │\n│ …             ┆ …    ┆ …             ┆ …             ┆ …           ┆ …           ┆ …             │\n│ inn2020276    ┆ 73   ┆ 19.0          ┆ 1.5159e6      ┆ 5           ┆ 12          ┆ 14.23152      │\n│ inn4880708    ┆ 43   ┆ 1.0           ┆ 29505.636719  ┆ 1           ┆ 1           ┆ 10.29237      │\n│ inn2935269    ┆ 19   ┆ 32.0          ┆ 1.0226e7      ┆ 5           ┆ 20          ┆ 16.140399     │\n│ inn4793613    ┆ 103  ┆ 2.0           ┆ 109996.554688 ┆ 1           ┆ 1           ┆ 11.608213     │\n│ inn2630673    ┆ 74   ┆ 26.0          ┆ 1.0416e6      ┆ 5           ┆ 13          ┆ 13.856288     │\n└───────────────┴──────┴───────────────┴───────────────┴─────────────┴─────────────┴───────────────┘",
            "text/html": "<div><style>\n.dataframe > thead > tr,\n.dataframe > tbody > tr {\n  text-align: right;\n  white-space: pre-wrap;\n}\n</style>\n<small>shape: (5_220_541, 7)</small><table border=\"1\" class=\"dataframe\"><thead><tr><th>doc_payee_inn</th><th>week</th><th>in_vtb_trns_count</th><th>in_vtb_trns_amount</th><th>in_vtb_date</th><th>in_vtb_cinn</th><th>in_vtb_trns_amount_log</th></tr><tr><td>str</td><td>i16</td><td>f64</td><td>f64</td><td>u8</td><td>u16</td><td>f64</td></tr></thead><tbody><tr><td>&quot;inn2139224&quot;</td><td>117</td><td>190.0</td><td>2.1291e6</td><td>6</td><td>108</td><td>14.571204</td></tr><tr><td>&quot;inn1499440&quot;</td><td>5</td><td>5.0</td><td>135299.779297</td><td>1</td><td>1</td><td>11.815256</td></tr><tr><td>&quot;inn4898234&quot;</td><td>63</td><td>4.0</td><td>984720.105469</td><td>3</td><td>4</td><td>13.800114</td></tr><tr><td>&quot;inn1919206&quot;</td><td>60</td><td>1.0</td><td>22680.455078</td><td>1</td><td>1</td><td>10.029303</td></tr><tr><td>&quot;inn2610124&quot;</td><td>59</td><td>35.0</td><td>984740.733887</td><td>7</td><td>28</td><td>13.800135</td></tr><tr><td>&hellip;</td><td>&hellip;</td><td>&hellip;</td><td>&hellip;</td><td>&hellip;</td><td>&hellip;</td><td>&hellip;</td></tr><tr><td>&quot;inn2020276&quot;</td><td>73</td><td>19.0</td><td>1.5159e6</td><td>5</td><td>12</td><td>14.23152</td></tr><tr><td>&quot;inn4880708&quot;</td><td>43</td><td>1.0</td><td>29505.636719</td><td>1</td><td>1</td><td>10.29237</td></tr><tr><td>&quot;inn2935269&quot;</td><td>19</td><td>32.0</td><td>1.0226e7</td><td>5</td><td>20</td><td>16.140399</td></tr><tr><td>&quot;inn4793613&quot;</td><td>103</td><td>2.0</td><td>109996.554688</td><td>1</td><td>1</td><td>11.608213</td></tr><tr><td>&quot;inn2630673&quot;</td><td>74</td><td>26.0</td><td>1.0416e6</td><td>5</td><td>13</td><td>13.856288</td></tr></tbody></table></div>"
          },
          "metadata": {}
        }
      ],
      "execution_count": null
    },
    {
      "id": "9c779110",
      "cell_type": "code",
      "source": [
        "\n",
        "%%time\n",
        "#приходы в ВТБ от ИП\n",
        "in_vtbip=pl.scan_parquet(\"transactions_?.parquet\"\n",
        "               ).filter(pl.col(\"doc_payee_inn\").is_in(inns)\n",
        "               ).filter(pl.col(\"doc_payee_bank_name_flag\")==1\n",
        "               ).filter(pl.col(\"doc_payer_inn\").is_in(inns_ip)\n",
        "                      ).with_columns(pl.col(\"date\").dt.date()\n",
        "                             ).join(pl.scan_csv(\"calendar_extended.csv\", try_parse_dates=True\n",
        "                                               ).drop(\"part\"\n",
        "                                                     ).with_columns(pl.col(\"week\").cast(pl.Int16)),\n",
        "                                    on=\"date\",\n",
        "                                    how=\"left\"\n",
        "                                   ).group_by(\"doc_payee_inn\",\"week\"\n",
        "                                             ).agg(pl.col(\"trns_count\").sum(),\n",
        "                                                   pl.col(\"trns_amount\").sum(),\n",
        "                                                   pl.col(\"doc_payer_inn\").n_unique().cast(pl.UInt16).alias(\"cinn\"),\n",
        "                                                   #pl.col(\"date\").n_unique().cast(pl.UInt8),\n",
        "                                                   #pl.col(\"trns_class_encoded\").n_unique(),\n",
        "                                                   #pl.col(\"doc_payee_bank_name_encoded\").n_unique(),\n",
        "                                            #).with_columns(\n",
        "                                            #    np.log1p(pl.col(\"trns_amount\")).alias(\"trns_amount_log\"),\n",
        "                                                  ).rename(lambda column_name: (\"\" if column_name in [\"doc_payee_inn\",\"week\"] else \"in_vtbip_\") + column_name\n",
        "                                                          ).collect()\n",
        "in_vtbip"
      ],
      "metadata": {
        "trusted": true,
        "execution": {
          "iopub.status.busy": "2025-04-01T15:54:20.502375Z",
          "iopub.execute_input": "2025-04-01T15:54:20.503058Z",
          "iopub.status.idle": "2025-04-01T15:55:16.819999Z",
          "shell.execute_reply.started": "2025-04-01T15:54:20.503021Z",
          "shell.execute_reply": "2025-04-01T15:55:16.819073Z"
        },
        "id": "9c779110",
        "outputId": "0b281ac7-b9d9-4c5b-b38c-385f48863672"
      },
      "outputs": [
        {
          "name": "stdout",
          "text": "CPU times: user 2min 52s, sys: 35.7 s, total: 3min 27s\nWall time: 56.3 s\n",
          "output_type": "stream"
        },
        {
          "execution_count": 31,
          "output_type": "execute_result",
          "data": {
            "text/plain": "shape: (2_900_743, 5)\n┌───────────────┬──────┬─────────────────────┬──────────────────────┬───────────────┐\n│ doc_payee_inn ┆ week ┆ in_vtbip_trns_count ┆ in_vtbip_trns_amount ┆ in_vtbip_cinn │\n│ ---           ┆ ---  ┆ ---                 ┆ ---                  ┆ ---           │\n│ str           ┆ i16  ┆ f64                 ┆ f64                  ┆ u16           │\n╞═══════════════╪══════╪═════════════════════╪══════════════════════╪═══════════════╡\n│ inn3270023    ┆ 29   ┆ 2.0                 ┆ 9246.742188          ┆ 1             │\n│ inn3203299    ┆ 13   ┆ 2.0                 ┆ 190043.351562        ┆ 2             │\n│ inn5134167    ┆ 78   ┆ 6.0                 ┆ 45875.80603          ┆ 6             │\n│ inn3929099    ┆ 70   ┆ 19.0                ┆ 163075.192871        ┆ 13            │\n│ inn66081      ┆ 1    ┆ 7.0                 ┆ 356741.535156        ┆ 2             │\n│ …             ┆ …    ┆ …                   ┆ …                    ┆ …             │\n│ inn3829496    ┆ 87   ┆ 5.0                 ┆ 223680.47113         ┆ 5             │\n│ inn295781     ┆ 63   ┆ 1.0                 ┆ 132089.015625        ┆ 1             │\n│ inn3771339    ┆ 57   ┆ 1.0                 ┆ 409600.71875         ┆ 1             │\n│ inn4688343    ┆ 0    ┆ 12.0                ┆ 255718.650635        ┆ 3             │\n│ inn5123021    ┆ 42   ┆ 17.0                ┆ 1.0576e6             ┆ 7             │\n└───────────────┴──────┴─────────────────────┴──────────────────────┴───────────────┘",
            "text/html": "<div><style>\n.dataframe > thead > tr,\n.dataframe > tbody > tr {\n  text-align: right;\n  white-space: pre-wrap;\n}\n</style>\n<small>shape: (2_900_743, 5)</small><table border=\"1\" class=\"dataframe\"><thead><tr><th>doc_payee_inn</th><th>week</th><th>in_vtbip_trns_count</th><th>in_vtbip_trns_amount</th><th>in_vtbip_cinn</th></tr><tr><td>str</td><td>i16</td><td>f64</td><td>f64</td><td>u16</td></tr></thead><tbody><tr><td>&quot;inn3270023&quot;</td><td>29</td><td>2.0</td><td>9246.742188</td><td>1</td></tr><tr><td>&quot;inn3203299&quot;</td><td>13</td><td>2.0</td><td>190043.351562</td><td>2</td></tr><tr><td>&quot;inn5134167&quot;</td><td>78</td><td>6.0</td><td>45875.80603</td><td>6</td></tr><tr><td>&quot;inn3929099&quot;</td><td>70</td><td>19.0</td><td>163075.192871</td><td>13</td></tr><tr><td>&quot;inn66081&quot;</td><td>1</td><td>7.0</td><td>356741.535156</td><td>2</td></tr><tr><td>&hellip;</td><td>&hellip;</td><td>&hellip;</td><td>&hellip;</td><td>&hellip;</td></tr><tr><td>&quot;inn3829496&quot;</td><td>87</td><td>5.0</td><td>223680.47113</td><td>5</td></tr><tr><td>&quot;inn295781&quot;</td><td>63</td><td>1.0</td><td>132089.015625</td><td>1</td></tr><tr><td>&quot;inn3771339&quot;</td><td>57</td><td>1.0</td><td>409600.71875</td><td>1</td></tr><tr><td>&quot;inn4688343&quot;</td><td>0</td><td>12.0</td><td>255718.650635</td><td>3</td></tr><tr><td>&quot;inn5123021&quot;</td><td>42</td><td>17.0</td><td>1.0576e6</td><td>7</td></tr></tbody></table></div>"
          },
          "metadata": {}
        }
      ],
      "execution_count": null
    },
    {
      "id": "cab486b2",
      "cell_type": "code",
      "source": [
        "\"\"\"\n",
        "#приходы не в ВТБ\n",
        "in_notvtb=pl.scan_parquet(\"data/transactions_?.parquet\"\n",
        "               ).filter(pl.col(\"doc_payee_inn\").is_in(inns)\n",
        "               ).filter(pl.col(\"doc_payee_bank_name_flag\")==0\n",
        "                      ).with_columns(pl.col(\"date\").dt.date()\n",
        "                             ).join(pl.scan_csv(\"data/calendar.csv\", try_parse_dates=True\n",
        "                                               ).drop(\"part\"\n",
        "                                                     ).with_columns(pl.col(\"week\").cast(pl.Int8)),\n",
        "                                    on=\"date\",\n",
        "                                    how=\"left\"\n",
        "                                   ).group_by(\"doc_payee_inn\",\"week\"\n",
        "                                             ).agg(pl.col(\"trns_count\").sum(),\n",
        "                                                   pl.col(\"trns_amount\").sum(),\n",
        "                                                   #pl.col(\"date\").n_unique(),\n",
        "                                                   #pl.col(\"trns_class_encoded\").n_unique(),\n",
        "                                                   #pl.col(\"doc_payee_bank_name_encoded\").n_unique(),\n",
        "                                            #).with_columns(\n",
        "                                            #    np.log1p(pl.col(\"trns_amount\")).alias(\"trns_amount_log\"),\n",
        "                                                  ).rename(lambda column_name: (\"\" if column_name in [\"doc_payee_inn\",\"week\"] else \"in_notvtb_\") + column_name\n",
        "                                                          ).collect()\n",
        "in_notvtb\n",
        "\"\"\"\n",
        "0"
      ],
      "metadata": {
        "trusted": true,
        "execution": {
          "iopub.status.busy": "2025-04-01T15:55:16.821059Z",
          "iopub.execute_input": "2025-04-01T15:55:16.821422Z",
          "iopub.status.idle": "2025-04-01T15:55:16.828255Z",
          "shell.execute_reply.started": "2025-04-01T15:55:16.821394Z",
          "shell.execute_reply": "2025-04-01T15:55:16.827231Z"
        },
        "id": "cab486b2",
        "outputId": "8441e985-e304-45f9-eb6f-ff8794df5756"
      },
      "outputs": [
        {
          "execution_count": 32,
          "output_type": "execute_result",
          "data": {
            "text/plain": "0"
          },
          "metadata": {}
        }
      ],
      "execution_count": null
    },
    {
      "id": "abcff750",
      "cell_type": "code",
      "source": [
        "import os\n",
        "os.chdir('/kaggle/')"
      ],
      "metadata": {
        "trusted": true,
        "execution": {
          "iopub.status.busy": "2025-04-01T15:55:16.829224Z",
          "iopub.execute_input": "2025-04-01T15:55:16.829571Z",
          "iopub.status.idle": "2025-04-01T15:55:16.848931Z",
          "shell.execute_reply.started": "2025-04-01T15:55:16.829542Z",
          "shell.execute_reply": "2025-04-01T15:55:16.847609Z"
        },
        "id": "abcff750"
      },
      "outputs": [],
      "execution_count": null
    },
    {
      "id": "c30138cd-5390-42d1-8362-ec1c6a34b9ff",
      "cell_type": "code",
      "source": [
        " pl.read_parquet(\"input/iatvoirotblat/target_series_extended.parquet\")"
      ],
      "metadata": {
        "trusted": true,
        "execution": {
          "iopub.status.busy": "2025-04-01T15:55:16.850168Z",
          "iopub.execute_input": "2025-04-01T15:55:16.850506Z",
          "iopub.status.idle": "2025-04-01T15:55:16.973919Z",
          "shell.execute_reply.started": "2025-04-01T15:55:16.850480Z",
          "shell.execute_reply": "2025-04-01T15:55:16.972541Z"
        },
        "id": "c30138cd-5390-42d1-8362-ec1c6a34b9ff",
        "outputId": "e0418b45-8970-4884-b5b2-0f540930bc68"
      },
      "outputs": [
        {
          "execution_count": 34,
          "output_type": "execute_result",
          "data": {
            "text/plain": "shape: (623_556, 3)\n┌────────────┬──────┬───────────────┐\n│ inn_id     ┆ week ┆ target        │\n│ ---        ┆ ---  ┆ ---           │\n│ str        ┆ i32  ┆ f64           │\n╞════════════╪══════╪═══════════════╡\n│ inn1000051 ┆ 106  ┆ 158666.90625  │\n│ inn1000051 ┆ 107  ┆ 57638.035156  │\n│ inn1000051 ┆ 108  ┆ 7821.623047   │\n│ inn1000051 ┆ 109  ┆ 2.5090e6      │\n│ inn1000051 ┆ 110  ┆ 107514.978516 │\n│ …          ┆ …    ┆ …             │\n│ inn999886  ┆ 113  ┆ 2.0811e7      │\n│ inn999886  ┆ 114  ┆ 2.9645e7      │\n│ inn999886  ┆ 115  ┆ 1.4883e7      │\n│ inn999886  ┆ 116  ┆ 2.5936e7      │\n│ inn999886  ┆ 117  ┆ 7.6681e6      │\n└────────────┴──────┴───────────────┘",
            "text/html": "<div><style>\n.dataframe > thead > tr,\n.dataframe > tbody > tr {\n  text-align: right;\n  white-space: pre-wrap;\n}\n</style>\n<small>shape: (623_556, 3)</small><table border=\"1\" class=\"dataframe\"><thead><tr><th>inn_id</th><th>week</th><th>target</th></tr><tr><td>str</td><td>i32</td><td>f64</td></tr></thead><tbody><tr><td>&quot;inn1000051&quot;</td><td>106</td><td>158666.90625</td></tr><tr><td>&quot;inn1000051&quot;</td><td>107</td><td>57638.035156</td></tr><tr><td>&quot;inn1000051&quot;</td><td>108</td><td>7821.623047</td></tr><tr><td>&quot;inn1000051&quot;</td><td>109</td><td>2.5090e6</td></tr><tr><td>&quot;inn1000051&quot;</td><td>110</td><td>107514.978516</td></tr><tr><td>&hellip;</td><td>&hellip;</td><td>&hellip;</td></tr><tr><td>&quot;inn999886&quot;</td><td>113</td><td>2.0811e7</td></tr><tr><td>&quot;inn999886&quot;</td><td>114</td><td>2.9645e7</td></tr><tr><td>&quot;inn999886&quot;</td><td>115</td><td>1.4883e7</td></tr><tr><td>&quot;inn999886&quot;</td><td>116</td><td>2.5936e7</td></tr><tr><td>&quot;inn999886&quot;</td><td>117</td><td>7.6681e6</td></tr></tbody></table></div>"
          },
          "metadata": {}
        }
      ],
      "execution_count": null
    },
    {
      "id": "296448dc-a50a-4489-bbb5-7a2131206c75",
      "cell_type": "code",
      "source": [
        "out_vtb"
      ],
      "metadata": {
        "trusted": true,
        "execution": {
          "iopub.status.busy": "2025-04-01T15:55:16.975075Z",
          "iopub.execute_input": "2025-04-01T15:55:16.975405Z",
          "iopub.status.idle": "2025-04-01T15:55:16.983711Z",
          "shell.execute_reply.started": "2025-04-01T15:55:16.975370Z",
          "shell.execute_reply": "2025-04-01T15:55:16.982542Z"
        },
        "id": "296448dc-a50a-4489-bbb5-7a2131206c75",
        "outputId": "69a164fd-91f5-4a45-85cf-1323df5bdcc0"
      },
      "outputs": [
        {
          "execution_count": 35,
          "output_type": "execute_result",
          "data": {
            "text/plain": "shape: (5_657_874, 7)\n┌───────────────┬──────┬───────────────┬──────────────┬──────────────┬──────────────┬──────────────┐\n│ doc_payer_inn ┆ week ┆ out_vtb_trns_ ┆ out_vtb_trns ┆ out_vtb_date ┆ out_vtb_cinn ┆ out_vtb_trns │\n│ ---           ┆ ---  ┆ count         ┆ _amount      ┆ ---          ┆ ---          ┆ _amount_log  │\n│ str           ┆ i16  ┆ ---           ┆ ---          ┆ u8           ┆ u16          ┆ ---          │\n│               ┆      ┆ f64           ┆ f64          ┆              ┆              ┆ f64          │\n╞═══════════════╪══════╪═══════════════╪══════════════╪══════════════╪══════════════╪══════════════╡\n│ inn5104227    ┆ 102  ┆ 9.0           ┆ 471932.46618 ┆ 4            ┆ 6            ┆ 13.064593    │\n│               ┆      ┆               ┆ 7            ┆              ┆              ┆              │\n│ inn4025530    ┆ 48   ┆ 15.0          ┆ 2.2955e6     ┆ 5            ┆ 15           ┆ 14.646478    │\n│ inn2547661    ┆ 38   ┆ 37.0          ┆ 4.0372e6     ┆ 5            ┆ 24           ┆ 15.21107     │\n│ inn2436421    ┆ 68   ┆ 9.0           ┆ 313573.27563 ┆ 4            ┆ 9            ┆ 12.655792    │\n│               ┆      ┆               ┆ 5            ┆              ┆              ┆              │\n│ inn2159616    ┆ 76   ┆ 7.0           ┆ 625692.71777 ┆ 4            ┆ 6            ┆ 13.346616    │\n│               ┆      ┆               ┆ 3            ┆              ┆              ┆              │\n│ …             ┆ …    ┆ …             ┆ …            ┆ …            ┆ …            ┆ …            │\n│ inn122407     ┆ 27   ┆ 2.0           ┆ 457340.15625 ┆ 2            ┆ 1            ┆ 13.033185    │\n│ inn4978629    ┆ 27   ┆ 2.0           ┆ 8730.917236  ┆ 2            ┆ 2            ┆ 9.07474      │\n│ inn1835128    ┆ 57   ┆ 15.0          ┆ 1.7516e6     ┆ 4            ┆ 8            ┆ 14.376039    │\n│ inn3193037    ┆ 64   ┆ 5.0           ┆ 183709.37011 ┆ 2            ┆ 3            ┆ 12.121116    │\n│               ┆      ┆               ┆ 7            ┆              ┆              ┆              │\n│ inn5000112    ┆ 18   ┆ 2.0           ┆ 41655.778809 ┆ 2            ┆ 2            ┆ 10.637219    │\n└───────────────┴──────┴───────────────┴──────────────┴──────────────┴──────────────┴──────────────┘",
            "text/html": "<div><style>\n.dataframe > thead > tr,\n.dataframe > tbody > tr {\n  text-align: right;\n  white-space: pre-wrap;\n}\n</style>\n<small>shape: (5_657_874, 7)</small><table border=\"1\" class=\"dataframe\"><thead><tr><th>doc_payer_inn</th><th>week</th><th>out_vtb_trns_count</th><th>out_vtb_trns_amount</th><th>out_vtb_date</th><th>out_vtb_cinn</th><th>out_vtb_trns_amount_log</th></tr><tr><td>str</td><td>i16</td><td>f64</td><td>f64</td><td>u8</td><td>u16</td><td>f64</td></tr></thead><tbody><tr><td>&quot;inn5104227&quot;</td><td>102</td><td>9.0</td><td>471932.466187</td><td>4</td><td>6</td><td>13.064593</td></tr><tr><td>&quot;inn4025530&quot;</td><td>48</td><td>15.0</td><td>2.2955e6</td><td>5</td><td>15</td><td>14.646478</td></tr><tr><td>&quot;inn2547661&quot;</td><td>38</td><td>37.0</td><td>4.0372e6</td><td>5</td><td>24</td><td>15.21107</td></tr><tr><td>&quot;inn2436421&quot;</td><td>68</td><td>9.0</td><td>313573.275635</td><td>4</td><td>9</td><td>12.655792</td></tr><tr><td>&quot;inn2159616&quot;</td><td>76</td><td>7.0</td><td>625692.717773</td><td>4</td><td>6</td><td>13.346616</td></tr><tr><td>&hellip;</td><td>&hellip;</td><td>&hellip;</td><td>&hellip;</td><td>&hellip;</td><td>&hellip;</td><td>&hellip;</td></tr><tr><td>&quot;inn122407&quot;</td><td>27</td><td>2.0</td><td>457340.15625</td><td>2</td><td>1</td><td>13.033185</td></tr><tr><td>&quot;inn4978629&quot;</td><td>27</td><td>2.0</td><td>8730.917236</td><td>2</td><td>2</td><td>9.07474</td></tr><tr><td>&quot;inn1835128&quot;</td><td>57</td><td>15.0</td><td>1.7516e6</td><td>4</td><td>8</td><td>14.376039</td></tr><tr><td>&quot;inn3193037&quot;</td><td>64</td><td>5.0</td><td>183709.370117</td><td>2</td><td>3</td><td>12.121116</td></tr><tr><td>&quot;inn5000112&quot;</td><td>18</td><td>2.0</td><td>41655.778809</td><td>2</td><td>2</td><td>10.637219</td></tr></tbody></table></div>"
          },
          "metadata": {}
        }
      ],
      "execution_count": null
    },
    {
      "id": "6df425aa-f59a-49ab-bd06-cb3a918059ec",
      "cell_type": "code",
      "source": [
        "out_vtbip"
      ],
      "metadata": {
        "trusted": true,
        "execution": {
          "iopub.status.busy": "2025-04-01T15:55:16.984666Z",
          "iopub.execute_input": "2025-04-01T15:55:16.985030Z",
          "iopub.status.idle": "2025-04-01T15:55:17.002311Z",
          "shell.execute_reply.started": "2025-04-01T15:55:16.984995Z",
          "shell.execute_reply": "2025-04-01T15:55:17.001247Z"
        },
        "id": "6df425aa-f59a-49ab-bd06-cb3a918059ec",
        "outputId": "1646687e-a1a5-4501-bc7f-c0086d1ff14a"
      },
      "outputs": [
        {
          "execution_count": 36,
          "output_type": "execute_result",
          "data": {
            "text/plain": "shape: (3_047_066, 5)\n┌───────────────┬──────┬──────────────────────┬───────────────────────┬────────────────┐\n│ doc_payer_inn ┆ week ┆ out_vtbip_trns_count ┆ out_vtbip_trns_amount ┆ out_vtbip_cinn │\n│ ---           ┆ ---  ┆ ---                  ┆ ---                   ┆ ---            │\n│ str           ┆ i16  ┆ f64                  ┆ f64                   ┆ u16            │\n╞═══════════════╪══════╪══════════════════════╪═══════════════════════╪════════════════╡\n│ inn979559     ┆ 100  ┆ 21.0                 ┆ 1.4011e6              ┆ 17             │\n│ inn3364565    ┆ 68   ┆ 1.0                  ┆ 1393.224854           ┆ 1              │\n│ inn1060215    ┆ 75   ┆ 9.0                  ┆ 204014.785156         ┆ 2              │\n│ inn1261933    ┆ 75   ┆ 2.0                  ┆ 16411.71875           ┆ 1              │\n│ inn940430     ┆ 105  ┆ 1.0                  ┆ 291462.8125           ┆ 1              │\n│ …             ┆ …    ┆ …                    ┆ …                     ┆ …              │\n│ inn3983105    ┆ 18   ┆ 6.0                  ┆ 6312.290771           ┆ 4              │\n│ inn4408230    ┆ 30   ┆ 3.0                  ┆ 766770.666748         ┆ 3              │\n│ inn623706     ┆ 77   ┆ 2.0                  ┆ 247110.990234         ┆ 2              │\n│ inn2005609    ┆ 41   ┆ 6.0                  ┆ 645585.165039         ┆ 4              │\n│ inn3810189    ┆ 16   ┆ 2.0                  ┆ 50232.896484          ┆ 2              │\n└───────────────┴──────┴──────────────────────┴───────────────────────┴────────────────┘",
            "text/html": "<div><style>\n.dataframe > thead > tr,\n.dataframe > tbody > tr {\n  text-align: right;\n  white-space: pre-wrap;\n}\n</style>\n<small>shape: (3_047_066, 5)</small><table border=\"1\" class=\"dataframe\"><thead><tr><th>doc_payer_inn</th><th>week</th><th>out_vtbip_trns_count</th><th>out_vtbip_trns_amount</th><th>out_vtbip_cinn</th></tr><tr><td>str</td><td>i16</td><td>f64</td><td>f64</td><td>u16</td></tr></thead><tbody><tr><td>&quot;inn979559&quot;</td><td>100</td><td>21.0</td><td>1.4011e6</td><td>17</td></tr><tr><td>&quot;inn3364565&quot;</td><td>68</td><td>1.0</td><td>1393.224854</td><td>1</td></tr><tr><td>&quot;inn1060215&quot;</td><td>75</td><td>9.0</td><td>204014.785156</td><td>2</td></tr><tr><td>&quot;inn1261933&quot;</td><td>75</td><td>2.0</td><td>16411.71875</td><td>1</td></tr><tr><td>&quot;inn940430&quot;</td><td>105</td><td>1.0</td><td>291462.8125</td><td>1</td></tr><tr><td>&hellip;</td><td>&hellip;</td><td>&hellip;</td><td>&hellip;</td><td>&hellip;</td></tr><tr><td>&quot;inn3983105&quot;</td><td>18</td><td>6.0</td><td>6312.290771</td><td>4</td></tr><tr><td>&quot;inn4408230&quot;</td><td>30</td><td>3.0</td><td>766770.666748</td><td>3</td></tr><tr><td>&quot;inn623706&quot;</td><td>77</td><td>2.0</td><td>247110.990234</td><td>2</td></tr><tr><td>&quot;inn2005609&quot;</td><td>41</td><td>6.0</td><td>645585.165039</td><td>4</td></tr><tr><td>&quot;inn3810189&quot;</td><td>16</td><td>2.0</td><td>50232.896484</td><td>2</td></tr></tbody></table></div>"
          },
          "metadata": {}
        }
      ],
      "execution_count": null
    },
    {
      "id": "89702ce9-3c9b-4a59-a7be-b4e1419c8826",
      "cell_type": "code",
      "source": [
        " pl.read_parquet(\"input/iatvoirotblat/target_series_extended.parquet\").with_columns(pl.col(\"week\").cast(pl.Int16))"
      ],
      "metadata": {
        "trusted": true,
        "execution": {
          "iopub.status.busy": "2025-04-01T15:56:55.660736Z",
          "iopub.execute_input": "2025-04-01T15:56:55.661118Z",
          "iopub.status.idle": "2025-04-01T15:56:55.687904Z",
          "shell.execute_reply.started": "2025-04-01T15:56:55.661090Z",
          "shell.execute_reply": "2025-04-01T15:56:55.686851Z"
        },
        "id": "89702ce9-3c9b-4a59-a7be-b4e1419c8826",
        "outputId": "905b9e2e-9bd4-45e8-c011-1020bca5b020"
      },
      "outputs": [
        {
          "execution_count": 40,
          "output_type": "execute_result",
          "data": {
            "text/plain": "shape: (623_556, 3)\n┌────────────┬──────┬───────────────┐\n│ inn_id     ┆ week ┆ target        │\n│ ---        ┆ ---  ┆ ---           │\n│ str        ┆ i16  ┆ f64           │\n╞════════════╪══════╪═══════════════╡\n│ inn1000051 ┆ 106  ┆ 158666.90625  │\n│ inn1000051 ┆ 107  ┆ 57638.035156  │\n│ inn1000051 ┆ 108  ┆ 7821.623047   │\n│ inn1000051 ┆ 109  ┆ 2.5090e6      │\n│ inn1000051 ┆ 110  ┆ 107514.978516 │\n│ …          ┆ …    ┆ …             │\n│ inn999886  ┆ 113  ┆ 2.0811e7      │\n│ inn999886  ┆ 114  ┆ 2.9645e7      │\n│ inn999886  ┆ 115  ┆ 1.4883e7      │\n│ inn999886  ┆ 116  ┆ 2.5936e7      │\n│ inn999886  ┆ 117  ┆ 7.6681e6      │\n└────────────┴──────┴───────────────┘",
            "text/html": "<div><style>\n.dataframe > thead > tr,\n.dataframe > tbody > tr {\n  text-align: right;\n  white-space: pre-wrap;\n}\n</style>\n<small>shape: (623_556, 3)</small><table border=\"1\" class=\"dataframe\"><thead><tr><th>inn_id</th><th>week</th><th>target</th></tr><tr><td>str</td><td>i16</td><td>f64</td></tr></thead><tbody><tr><td>&quot;inn1000051&quot;</td><td>106</td><td>158666.90625</td></tr><tr><td>&quot;inn1000051&quot;</td><td>107</td><td>57638.035156</td></tr><tr><td>&quot;inn1000051&quot;</td><td>108</td><td>7821.623047</td></tr><tr><td>&quot;inn1000051&quot;</td><td>109</td><td>2.5090e6</td></tr><tr><td>&quot;inn1000051&quot;</td><td>110</td><td>107514.978516</td></tr><tr><td>&hellip;</td><td>&hellip;</td><td>&hellip;</td></tr><tr><td>&quot;inn999886&quot;</td><td>113</td><td>2.0811e7</td></tr><tr><td>&quot;inn999886&quot;</td><td>114</td><td>2.9645e7</td></tr><tr><td>&quot;inn999886&quot;</td><td>115</td><td>1.4883e7</td></tr><tr><td>&quot;inn999886&quot;</td><td>116</td><td>2.5936e7</td></tr><tr><td>&quot;inn999886&quot;</td><td>117</td><td>7.6681e6</td></tr></tbody></table></div>"
          },
          "metadata": {}
        }
      ],
      "execution_count": null
    },
    {
      "id": "8d672aae-ba74-4ae8-a7a6-4c9d1013adee",
      "cell_type": "code",
      "source": [
        "in_vtb"
      ],
      "metadata": {
        "trusted": true,
        "execution": {
          "iopub.status.busy": "2025-04-01T15:57:46.216880Z",
          "iopub.execute_input": "2025-04-01T15:57:46.217356Z",
          "iopub.status.idle": "2025-04-01T15:57:46.226497Z",
          "shell.execute_reply.started": "2025-04-01T15:57:46.217312Z",
          "shell.execute_reply": "2025-04-01T15:57:46.225222Z"
        },
        "id": "8d672aae-ba74-4ae8-a7a6-4c9d1013adee",
        "outputId": "521dac55-06cf-4498-90a6-db6d4dfbb26d"
      },
      "outputs": [
        {
          "execution_count": 43,
          "output_type": "execute_result",
          "data": {
            "text/plain": "shape: (5_220_541, 7)\n┌───────────────┬──────┬───────────────┬───────────────┬─────────────┬─────────────┬───────────────┐\n│ doc_payee_inn ┆ week ┆ in_vtb_trns_c ┆ in_vtb_trns_a ┆ in_vtb_date ┆ in_vtb_cinn ┆ in_vtb_trns_a │\n│ ---           ┆ ---  ┆ ount          ┆ mount         ┆ ---         ┆ ---         ┆ mount_log     │\n│ str           ┆ i16  ┆ ---           ┆ ---           ┆ u8          ┆ u16         ┆ ---           │\n│               ┆      ┆ f64           ┆ f64           ┆             ┆             ┆ f64           │\n╞═══════════════╪══════╪═══════════════╪═══════════════╪═════════════╪═════════════╪═══════════════╡\n│ inn2139224    ┆ 117  ┆ 190.0         ┆ 2.1291e6      ┆ 6           ┆ 108         ┆ 14.571204     │\n│ inn1499440    ┆ 5    ┆ 5.0           ┆ 135299.779297 ┆ 1           ┆ 1           ┆ 11.815256     │\n│ inn4898234    ┆ 63   ┆ 4.0           ┆ 984720.105469 ┆ 3           ┆ 4           ┆ 13.800114     │\n│ inn1919206    ┆ 60   ┆ 1.0           ┆ 22680.455078  ┆ 1           ┆ 1           ┆ 10.029303     │\n│ inn2610124    ┆ 59   ┆ 35.0          ┆ 984740.733887 ┆ 7           ┆ 28          ┆ 13.800135     │\n│ …             ┆ …    ┆ …             ┆ …             ┆ …           ┆ …           ┆ …             │\n│ inn2020276    ┆ 73   ┆ 19.0          ┆ 1.5159e6      ┆ 5           ┆ 12          ┆ 14.23152      │\n│ inn4880708    ┆ 43   ┆ 1.0           ┆ 29505.636719  ┆ 1           ┆ 1           ┆ 10.29237      │\n│ inn2935269    ┆ 19   ┆ 32.0          ┆ 1.0226e7      ┆ 5           ┆ 20          ┆ 16.140399     │\n│ inn4793613    ┆ 103  ┆ 2.0           ┆ 109996.554688 ┆ 1           ┆ 1           ┆ 11.608213     │\n│ inn2630673    ┆ 74   ┆ 26.0          ┆ 1.0416e6      ┆ 5           ┆ 13          ┆ 13.856288     │\n└───────────────┴──────┴───────────────┴───────────────┴─────────────┴─────────────┴───────────────┘",
            "text/html": "<div><style>\n.dataframe > thead > tr,\n.dataframe > tbody > tr {\n  text-align: right;\n  white-space: pre-wrap;\n}\n</style>\n<small>shape: (5_220_541, 7)</small><table border=\"1\" class=\"dataframe\"><thead><tr><th>doc_payee_inn</th><th>week</th><th>in_vtb_trns_count</th><th>in_vtb_trns_amount</th><th>in_vtb_date</th><th>in_vtb_cinn</th><th>in_vtb_trns_amount_log</th></tr><tr><td>str</td><td>i16</td><td>f64</td><td>f64</td><td>u8</td><td>u16</td><td>f64</td></tr></thead><tbody><tr><td>&quot;inn2139224&quot;</td><td>117</td><td>190.0</td><td>2.1291e6</td><td>6</td><td>108</td><td>14.571204</td></tr><tr><td>&quot;inn1499440&quot;</td><td>5</td><td>5.0</td><td>135299.779297</td><td>1</td><td>1</td><td>11.815256</td></tr><tr><td>&quot;inn4898234&quot;</td><td>63</td><td>4.0</td><td>984720.105469</td><td>3</td><td>4</td><td>13.800114</td></tr><tr><td>&quot;inn1919206&quot;</td><td>60</td><td>1.0</td><td>22680.455078</td><td>1</td><td>1</td><td>10.029303</td></tr><tr><td>&quot;inn2610124&quot;</td><td>59</td><td>35.0</td><td>984740.733887</td><td>7</td><td>28</td><td>13.800135</td></tr><tr><td>&hellip;</td><td>&hellip;</td><td>&hellip;</td><td>&hellip;</td><td>&hellip;</td><td>&hellip;</td><td>&hellip;</td></tr><tr><td>&quot;inn2020276&quot;</td><td>73</td><td>19.0</td><td>1.5159e6</td><td>5</td><td>12</td><td>14.23152</td></tr><tr><td>&quot;inn4880708&quot;</td><td>43</td><td>1.0</td><td>29505.636719</td><td>1</td><td>1</td><td>10.29237</td></tr><tr><td>&quot;inn2935269&quot;</td><td>19</td><td>32.0</td><td>1.0226e7</td><td>5</td><td>20</td><td>16.140399</td></tr><tr><td>&quot;inn4793613&quot;</td><td>103</td><td>2.0</td><td>109996.554688</td><td>1</td><td>1</td><td>11.608213</td></tr><tr><td>&quot;inn2630673&quot;</td><td>74</td><td>26.0</td><td>1.0416e6</td><td>5</td><td>13</td><td>13.856288</td></tr></tbody></table></div>"
          },
          "metadata": {}
        }
      ],
      "execution_count": null
    },
    {
      "id": "fee0e684-5afa-419a-aaaf-a6525014eae1",
      "cell_type": "code",
      "source": [
        "in_vtbip"
      ],
      "metadata": {
        "trusted": true,
        "execution": {
          "iopub.status.busy": "2025-04-01T15:57:51.629100Z",
          "iopub.execute_input": "2025-04-01T15:57:51.629498Z",
          "iopub.status.idle": "2025-04-01T15:57:51.636914Z",
          "shell.execute_reply.started": "2025-04-01T15:57:51.629464Z",
          "shell.execute_reply": "2025-04-01T15:57:51.635931Z"
        },
        "id": "fee0e684-5afa-419a-aaaf-a6525014eae1",
        "outputId": "638a7041-1966-44be-92f8-1761825e15c9"
      },
      "outputs": [
        {
          "execution_count": 44,
          "output_type": "execute_result",
          "data": {
            "text/plain": "shape: (2_900_743, 5)\n┌───────────────┬──────┬─────────────────────┬──────────────────────┬───────────────┐\n│ doc_payee_inn ┆ week ┆ in_vtbip_trns_count ┆ in_vtbip_trns_amount ┆ in_vtbip_cinn │\n│ ---           ┆ ---  ┆ ---                 ┆ ---                  ┆ ---           │\n│ str           ┆ i16  ┆ f64                 ┆ f64                  ┆ u16           │\n╞═══════════════╪══════╪═════════════════════╪══════════════════════╪═══════════════╡\n│ inn3270023    ┆ 29   ┆ 2.0                 ┆ 9246.742188          ┆ 1             │\n│ inn3203299    ┆ 13   ┆ 2.0                 ┆ 190043.351562        ┆ 2             │\n│ inn5134167    ┆ 78   ┆ 6.0                 ┆ 45875.80603          ┆ 6             │\n│ inn3929099    ┆ 70   ┆ 19.0                ┆ 163075.192871        ┆ 13            │\n│ inn66081      ┆ 1    ┆ 7.0                 ┆ 356741.535156        ┆ 2             │\n│ …             ┆ …    ┆ …                   ┆ …                    ┆ …             │\n│ inn3829496    ┆ 87   ┆ 5.0                 ┆ 223680.47113         ┆ 5             │\n│ inn295781     ┆ 63   ┆ 1.0                 ┆ 132089.015625        ┆ 1             │\n│ inn3771339    ┆ 57   ┆ 1.0                 ┆ 409600.71875         ┆ 1             │\n│ inn4688343    ┆ 0    ┆ 12.0                ┆ 255718.650635        ┆ 3             │\n│ inn5123021    ┆ 42   ┆ 17.0                ┆ 1.0576e6             ┆ 7             │\n└───────────────┴──────┴─────────────────────┴──────────────────────┴───────────────┘",
            "text/html": "<div><style>\n.dataframe > thead > tr,\n.dataframe > tbody > tr {\n  text-align: right;\n  white-space: pre-wrap;\n}\n</style>\n<small>shape: (2_900_743, 5)</small><table border=\"1\" class=\"dataframe\"><thead><tr><th>doc_payee_inn</th><th>week</th><th>in_vtbip_trns_count</th><th>in_vtbip_trns_amount</th><th>in_vtbip_cinn</th></tr><tr><td>str</td><td>i16</td><td>f64</td><td>f64</td><td>u16</td></tr></thead><tbody><tr><td>&quot;inn3270023&quot;</td><td>29</td><td>2.0</td><td>9246.742188</td><td>1</td></tr><tr><td>&quot;inn3203299&quot;</td><td>13</td><td>2.0</td><td>190043.351562</td><td>2</td></tr><tr><td>&quot;inn5134167&quot;</td><td>78</td><td>6.0</td><td>45875.80603</td><td>6</td></tr><tr><td>&quot;inn3929099&quot;</td><td>70</td><td>19.0</td><td>163075.192871</td><td>13</td></tr><tr><td>&quot;inn66081&quot;</td><td>1</td><td>7.0</td><td>356741.535156</td><td>2</td></tr><tr><td>&hellip;</td><td>&hellip;</td><td>&hellip;</td><td>&hellip;</td><td>&hellip;</td></tr><tr><td>&quot;inn3829496&quot;</td><td>87</td><td>5.0</td><td>223680.47113</td><td>5</td></tr><tr><td>&quot;inn295781&quot;</td><td>63</td><td>1.0</td><td>132089.015625</td><td>1</td></tr><tr><td>&quot;inn3771339&quot;</td><td>57</td><td>1.0</td><td>409600.71875</td><td>1</td></tr><tr><td>&quot;inn4688343&quot;</td><td>0</td><td>12.0</td><td>255718.650635</td><td>3</td></tr><tr><td>&quot;inn5123021&quot;</td><td>42</td><td>17.0</td><td>1.0576e6</td><td>7</td></tr></tbody></table></div>"
          },
          "metadata": {}
        }
      ],
      "execution_count": null
    },
    {
      "id": "2fa1c6eb-fd0b-4871-9e6e-50888e3ca91c",
      "cell_type": "code",
      "source": [
        "%%time\n",
        "innweeks = pl.read_parquet(\"input/iatvoirotblat/target_series_extended.parquet\"\n",
        "                            ).with_columns(\n",
        "                                pl.col(\"week\").cast(pl.Int16),\n",
        "                                #pl.col(\"target\").alias(\"target_\"),\n",
        "                            ).with_columns(\n",
        "                                pl.col(\"target\").log1p().alias(\"target\"),\n",
        "                                #pl.col(\"target\").sign().alias(\"target\"),\n",
        "                            ).with_columns(\n",
        "                                (1-pl.col(\"target\").sign()).cast(pl.Int8).alias(\"sign\"),\n",
        "\n",
        "                            ).join(out_vtb,\n",
        "                                   left_on=[\"inn_id\",\"week\"],\n",
        "                                   right_on=[\"doc_payer_inn\",\"week\"],\n",
        "                                   how=\"left\"\n",
        "                            ).join(out_vtbip,\n",
        "                                   left_on=[\"inn_id\",\"week\"],\n",
        "                                   right_on=[\"doc_payer_inn\",\"week\"],\n",
        "                                   how=\"left\"\n",
        "                            #).join(out_notvtb,\n",
        "                            #       left_on=[\"inn_id\",\"week\"],\n",
        "                            #       right_on=[\"doc_payer_inn\",\"week\"],\n",
        "                            #       how=\"left\"\n",
        "                            ).join(in_vtb,\n",
        "                                   left_on=[\"inn_id\",\"week\"],\n",
        "                                   right_on=[\"doc_payee_inn\",\"week\"],\n",
        "                                   how=\"left\"\n",
        "                            ).join(in_vtbip,\n",
        "                                   left_on=[\"inn_id\",\"week\"],\n",
        "                                   right_on=[\"doc_payee_inn\",\"week\"],\n",
        "                                   how=\"left\")"
      ],
      "metadata": {
        "trusted": true,
        "execution": {
          "iopub.status.busy": "2025-04-01T15:59:56.107447Z",
          "iopub.execute_input": "2025-04-01T15:59:56.107957Z",
          "iopub.status.idle": "2025-04-01T15:59:59.169055Z",
          "shell.execute_reply.started": "2025-04-01T15:59:56.107921Z",
          "shell.execute_reply": "2025-04-01T15:59:59.167847Z"
        },
        "id": "2fa1c6eb-fd0b-4871-9e6e-50888e3ca91c",
        "outputId": "11ec673a-2cdb-4e7e-f7b3-46bc12ca144b"
      },
      "outputs": [
        {
          "name": "stdout",
          "text": "CPU times: user 6.08 s, sys: 4.22 s, total: 10.3 s\nWall time: 3.05 s\n",
          "output_type": "stream"
        }
      ],
      "execution_count": null
    },
    {
      "id": "3509e4a7",
      "cell_type": "code",
      "source": [
        "%%time\n",
        "innweeks = pl.read_parquet(\"input/iatvoirotblat/target_series_extended.parquet\"\n",
        "                            ).with_columns(\n",
        "                                pl.col(\"week\").cast(pl.Int16),\n",
        "                                #pl.col(\"target\").alias(\"target_\"),\n",
        "                            ).with_columns(\n",
        "                                pl.col(\"target\").log1p().alias(\"target\"),\n",
        "                                #pl.col(\"target\").sign().alias(\"target\"),\n",
        "                            ).with_columns(\n",
        "                                (1-pl.col(\"target\").sign()).cast(pl.Int8).alias(\"sign\"),\n",
        "\n",
        "                            ).join(out_vtb,\n",
        "                                   left_on=[\"inn_id\",\"week\"],\n",
        "                                   right_on=[\"doc_payer_inn\",\"week\"],\n",
        "                                   how=\"left\"\n",
        "                            ).join(out_vtbip,\n",
        "                                   left_on=[\"inn_id\",\"week\"],\n",
        "                                   right_on=[\"doc_payer_inn\",\"week\"],\n",
        "                                   how=\"left\"\n",
        "                            #).join(out_notvtb,\n",
        "                            #       left_on=[\"inn_id\",\"week\"],\n",
        "                            #       right_on=[\"doc_payer_inn\",\"week\"],\n",
        "                            #       how=\"left\"\n",
        "                            ).join(in_vtb,\n",
        "                                   left_on=[\"inn_id\",\"week\"],\n",
        "                                   right_on=[\"doc_payee_inn\",\"week\"],\n",
        "                                   how=\"left\"\n",
        "                            ).join(in_vtbip,\n",
        "                                   left_on=[\"inn_id\",\"week\"],\n",
        "                                   right_on=[\"doc_payee_inn\",\"week\"],\n",
        "                                   how=\"left\"\n",
        "                            #).join(in_notvtb,\n",
        "                            #       left_on=[\"inn_id\",\"week\"],\n",
        "                            #       right_on=[\"doc_payee_inn\",\"week\"],\n",
        "                            #       how=\"left\"\n",
        "                            ).fill_null(0\n",
        "                            ).with_columns(#cs.by_dtype(pl.UInt32).cast(pl.UInt8),\n",
        "                                           (pl.col(\"in_vtb_trns_amount\")-pl.col(\"out_vtb_trns_amount\")\n",
        "                                           ).cast(pl.Float32).alias(\"cum\"),\n",
        "                                           cs.ends_with(\"_date\").cast(pl.UInt8),\n",
        "                                           cs.ends_with(\"_class_encoded\").cast(pl.UInt8),\n",
        "                                           cs.ends_with(\"_name_encoded\").cast(pl.UInt16),\n",
        "                                           cs.ends_with(\"_trns_count\").cast(pl.UInt16),\n",
        "                                           cs.starts_with(\"target\").cast(pl.Float32),\n",
        "                                           cs.ends_with(\"_trns_amount\").cast(pl.Float32),\n",
        "                                           cs.ends_with(\"_log\").cast(pl.Float32),\n",
        "                                           #cs.by_dtype(pl.Float64).cast(pl.Float32),\n",
        "                            ).with_columns(\n",
        "                                           #pl.col(\"cum\").cum_sum().over(\"inn_id\").alias(\"cumsum\"),\n",
        "                                           (pl.col(\"out_vtbip_trns_amount\")/(pl.col(\"out_vtb_trns_amount\")+0.00001)*255\n",
        "                                           ).cast(pl.UInt8),\n",
        "                                           (pl.col(\"in_vtbip_trns_amount\")/(pl.col(\"in_vtb_trns_amount\")+0.00001)*255\n",
        "                                           ).cast(pl.UInt8),\n",
        "                                           (pl.col(\"out_vtbip_trns_count\")/(pl.col(\"out_vtb_trns_count\")+0.00001)*255\n",
        "                                           ).cast(pl.UInt8),\n",
        "                                           (pl.col(\"in_vtbip_trns_count\")/(pl.col(\"in_vtb_trns_count\")+0.00001)*255\n",
        "                                           ).cast(pl.UInt8),\n",
        "                                           (pl.col(\"out_vtbip_cinn\")/(pl.col(\"out_vtb_cinn\")+0.00001)*255\n",
        "                                           ).cast(pl.UInt8),\n",
        "                                           (pl.col(\"in_vtbip_cinn\")/(pl.col(\"in_vtb_cinn\")+0.00001)*255\n",
        "                                           ).cast(pl.UInt8),\n",
        "                            ).join(pl.read_parquet(\"working/innweekstartsum.parquet\").with_columns(\n",
        "                                pl.col(\"week\").cast(pl.Int16)),\n",
        "                                   on=[\"inn_id\",\"week\"],\n",
        "                                   how=\"left\",\n",
        "\n",
        "                            #).with_columns(\n",
        "                            #               pl.col(\"cumsum\").cum_min().over(\"inn_id\").alias(\"cummin\"),\n",
        "                            #).with_columns(\n",
        "                            #               (pl.when(pl.col(\"cummin\")>0\n",
        "                            #                       ).then(pl.lit(0)\n",
        "                            #                             ).otherwise(pl.col(\"cummin\"))\n",
        "                            #               ).alias(\"cummin\"),\n",
        "                            #).with_columns(\n",
        "                            #               pl.col(\"cumsum\")-pl.col(\"cummin\"),\n",
        "                            )#.drop(\"cummin\")\n",
        "innweeks#.filter( pl.col(\"target\")<5).filter( pl.col(\"target\")>0)#.sum()"
      ],
      "metadata": {
        "trusted": true,
        "execution": {
          "iopub.status.busy": "2025-04-01T16:00:40.554819Z",
          "iopub.execute_input": "2025-04-01T16:00:40.555208Z",
          "iopub.status.idle": "2025-04-01T16:00:44.562328Z",
          "shell.execute_reply.started": "2025-04-01T16:00:40.555177Z",
          "shell.execute_reply": "2025-04-01T16:00:44.560642Z"
        },
        "id": "3509e4a7",
        "outputId": "672e6389-f80a-4e90-8601-db7b6cd89376"
      },
      "outputs": [
        {
          "name": "stdout",
          "text": "CPU times: user 8.81 s, sys: 4.21 s, total: 13 s\nWall time: 3.99 s\n",
          "output_type": "stream"
        },
        {
          "execution_count": 46,
          "output_type": "execute_result",
          "data": {
            "text/plain": "shape: (623_556, 22)\n┌────────────┬──────┬───────────┬──────┬───┬─────────────┬─────────────┬─────────────┬─────────────┐\n│ inn_id     ┆ week ┆ target    ┆ sign ┆ … ┆ in_vtbip_tr ┆ in_vtbip_ci ┆ cum         ┆ cumsum      │\n│ ---        ┆ ---  ┆ ---       ┆ ---  ┆   ┆ ns_amount   ┆ nn          ┆ ---         ┆ ---         │\n│ str        ┆ i16  ┆ f32       ┆ i8   ┆   ┆ ---         ┆ ---         ┆ f32         ┆ f32         │\n│            ┆      ┆           ┆      ┆   ┆ u8          ┆ u8          ┆             ┆             │\n╞════════════╪══════╪═══════════╪══════╪═══╪═════════════╪═════════════╪═════════════╪═════════════╡\n│ inn1000051 ┆ 106  ┆ 11.974568 ┆ 0    ┆ … ┆ 249         ┆ 203         ┆ 573352.0    ┆ 3.8968428e7 │\n│ inn1000051 ┆ 107  ┆ 10.961955 ┆ 0    ┆ … ┆ 40          ┆ 84          ┆ 362637.0625 ┆ 3.954178e7  │\n│ inn1000051 ┆ 108  ┆ 8.964775  ┆ 0    ┆ … ┆ 0           ┆ 0           ┆ 47986.03125 ┆ 3.990442e7  │\n│ inn1000051 ┆ 109  ┆ 14.73538  ┆ 0    ┆ … ┆ 206         ┆ 145         ┆ -1.1217e6   ┆ 3.9952404e7 │\n│ inn1000051 ┆ 110  ┆ 11.585395 ┆ 0    ┆ … ┆ 176         ┆ 152         ┆ 1117494.5   ┆ 3.8830736e7 │\n│ …          ┆ …    ┆ …         ┆ …    ┆ … ┆ …           ┆ …           ┆ …           ┆ …           │\n│ inn999886  ┆ 113  ┆ 16.851013 ┆ 0    ┆ … ┆ 0           ┆ 0           ┆ 1.8382334e7 ┆ 9.03257216e │\n│            ┆      ┆           ┆      ┆   ┆             ┆             ┆             ┆ 8           │\n│ inn999886  ┆ 114  ┆ 17.204802 ┆ 0    ┆ … ┆ 8           ┆ 31          ┆ 1.5874655e7 ┆ 9.21639488e │\n│            ┆      ┆           ┆      ┆   ┆             ┆             ┆             ┆ 8           │\n│ inn999886  ┆ 115  ┆ 16.515699 ┆ 0    ┆ … ┆ 0           ┆ 5           ┆ 1.8727668e7 ┆ 9.37514112e │\n│            ┆      ┆           ┆      ┆   ┆             ┆             ┆             ┆ 8           │\n│ inn999886  ┆ 116  ┆ 17.071127 ┆ 0    ┆ … ┆ 0           ┆ 12          ┆ -1.1874e6   ┆ 9.56241728e │\n│            ┆      ┆           ┆      ┆   ┆             ┆             ┆             ┆ 8           │\n│ inn999886  ┆ 117  ┆ 15.85258  ┆ 0    ┆ … ┆ 13          ┆ 6           ┆ 3.1198578e7 ┆ 9.55054336e │\n│            ┆      ┆           ┆      ┆   ┆             ┆             ┆             ┆ 8           │\n└────────────┴──────┴───────────┴──────┴───┴─────────────┴─────────────┴─────────────┴─────────────┘",
            "text/html": "<div><style>\n.dataframe > thead > tr,\n.dataframe > tbody > tr {\n  text-align: right;\n  white-space: pre-wrap;\n}\n</style>\n<small>shape: (623_556, 22)</small><table border=\"1\" class=\"dataframe\"><thead><tr><th>inn_id</th><th>week</th><th>target</th><th>sign</th><th>out_vtb_trns_count</th><th>out_vtb_trns_amount</th><th>out_vtb_date</th><th>out_vtb_cinn</th><th>out_vtb_trns_amount_log</th><th>out_vtbip_trns_count</th><th>out_vtbip_trns_amount</th><th>out_vtbip_cinn</th><th>in_vtb_trns_count</th><th>in_vtb_trns_amount</th><th>in_vtb_date</th><th>in_vtb_cinn</th><th>in_vtb_trns_amount_log</th><th>in_vtbip_trns_count</th><th>in_vtbip_trns_amount</th><th>in_vtbip_cinn</th><th>cum</th><th>cumsum</th></tr><tr><td>str</td><td>i16</td><td>f32</td><td>i8</td><td>u16</td><td>f32</td><td>u8</td><td>u16</td><td>f32</td><td>u8</td><td>u8</td><td>u8</td><td>u16</td><td>f32</td><td>u8</td><td>u16</td><td>f32</td><td>u8</td><td>u8</td><td>u8</td><td>f32</td><td>f32</td></tr></thead><tbody><tr><td>&quot;inn1000051&quot;</td><td>106</td><td>11.974568</td><td>0</td><td>3</td><td>158666.90625</td><td>2</td><td>2</td><td>11.974568</td><td>0</td><td>0</td><td>0</td><td>13</td><td>732018.875</td><td>6</td><td>5</td><td>13.503563</td><td>98</td><td>249</td><td>203</td><td>573352.0</td><td>3.8968428e7</td></tr><tr><td>&quot;inn1000051&quot;</td><td>107</td><td>10.961955</td><td>0</td><td>1</td><td>57638.035156</td><td>1</td><td>1</td><td>10.961955</td><td>0</td><td>0</td><td>0</td><td>13</td><td>420275.09375</td><td>5</td><td>3</td><td>12.948668</td><td>19</td><td>40</td><td>84</td><td>362637.0625</td><td>3.954178e7</td></tr><tr><td>&quot;inn1000051&quot;</td><td>108</td><td>8.964775</td><td>0</td><td>1</td><td>7821.623047</td><td>1</td><td>1</td><td>8.964775</td><td>254</td><td>255</td><td>254</td><td>11</td><td>55807.65625</td><td>5</td><td>1</td><td>10.929685</td><td>0</td><td>0</td><td>0</td><td>47986.03125</td><td>3.990442e7</td></tr><tr><td>&quot;inn1000051&quot;</td><td>109</td><td>14.73538</td><td>0</td><td>13</td><td>2.5090e6</td><td>1</td><td>5</td><td>14.73538</td><td>0</td><td>0</td><td>0</td><td>25</td><td>1.387296e6</td><td>6</td><td>7</td><td>14.142868</td><td>112</td><td>206</td><td>145</td><td>-1.1217e6</td><td>3.9952404e7</td></tr><tr><td>&quot;inn1000051&quot;</td><td>110</td><td>11.585395</td><td>0</td><td>3</td><td>107514.976562</td><td>2</td><td>2</td><td>11.585395</td><td>84</td><td>25</td><td>127</td><td>22</td><td>1225009.5</td><td>5</td><td>10</td><td>14.01846</td><td>92</td><td>176</td><td>152</td><td>1117494.5</td><td>3.8830736e7</td></tr><tr><td>&hellip;</td><td>&hellip;</td><td>&hellip;</td><td>&hellip;</td><td>&hellip;</td><td>&hellip;</td><td>&hellip;</td><td>&hellip;</td><td>&hellip;</td><td>&hellip;</td><td>&hellip;</td><td>&hellip;</td><td>&hellip;</td><td>&hellip;</td><td>&hellip;</td><td>&hellip;</td><td>&hellip;</td><td>&hellip;</td><td>&hellip;</td><td>&hellip;</td><td>&hellip;</td><td>&hellip;</td></tr><tr><td>&quot;inn999886&quot;</td><td>113</td><td>16.851013</td><td>0</td><td>51</td><td>2.0811432e7</td><td>7</td><td>27</td><td>16.851013</td><td>39</td><td>1</td><td>37</td><td>81</td><td>3.9193764e7</td><td>6</td><td>40</td><td>17.484028</td><td>0</td><td>0</td><td>0</td><td>1.8382334e7</td><td>9.03257216e8</td></tr><tr><td>&quot;inn999886&quot;</td><td>114</td><td>17.204802</td><td>0</td><td>88</td><td>2.9644908e7</td><td>6</td><td>31</td><td>17.204802</td><td>14</td><td>1</td><td>32</td><td>95</td><td>4.5519564e7</td><td>7</td><td>41</td><td>17.633654</td><td>16</td><td>8</td><td>31</td><td>1.5874655e7</td><td>9.21639488e8</td></tr><tr><td>&quot;inn999886&quot;</td><td>115</td><td>16.515699</td><td>0</td><td>61</td><td>1.4882548e7</td><td>6</td><td>27</td><td>16.515699</td><td>41</td><td>7</td><td>18</td><td>75</td><td>3.3610216e7</td><td>5</td><td>45</td><td>17.330341</td><td>3</td><td>0</td><td>5</td><td>1.8727668e7</td><td>9.37514112e8</td></tr><tr><td>&quot;inn999886&quot;</td><td>116</td><td>17.071127</td><td>0</td><td>65</td><td>2.5935594e7</td><td>6</td><td>29</td><td>17.071127</td><td>23</td><td>0</td><td>35</td><td>82</td><td>2.474821e7</td><td>7</td><td>42</td><td>17.024263</td><td>6</td><td>0</td><td>12</td><td>-1.1874e6</td><td>9.56241728e8</td></tr><tr><td>&quot;inn999886&quot;</td><td>117</td><td>15.85258</td><td>0</td><td>56</td><td>7668104.5</td><td>6</td><td>29</td><td>15.85258</td><td>100</td><td>16</td><td>70</td><td>72</td><td>3.8866684e7</td><td>5</td><td>38</td><td>17.475649</td><td>10</td><td>13</td><td>6</td><td>3.1198578e7</td><td>9.55054336e8</td></tr></tbody></table></div>"
          },
          "metadata": {}
        }
      ],
      "execution_count": null
    },
    {
      "id": "3fcecf3c",
      "cell_type": "code",
      "source": [
        "#innweeks.group_by(\"inn_id\").agg( pl.col(\"week\").count()-pl.col(\"week\").max()+pl.col(\"week\").min() )[\"week\"].value_counts()\n",
        "innweeks.max()"
      ],
      "metadata": {
        "trusted": true,
        "execution": {
          "iopub.status.busy": "2025-04-01T16:00:44.564480Z",
          "iopub.execute_input": "2025-04-01T16:00:44.564982Z",
          "iopub.status.idle": "2025-04-01T16:00:44.583209Z",
          "shell.execute_reply.started": "2025-04-01T16:00:44.564944Z",
          "shell.execute_reply": "2025-04-01T16:00:44.581918Z"
        },
        "id": "3fcecf3c",
        "outputId": "f2e270e8-9d55-4467-bae3-ebbd91f9ed7b"
      },
      "outputs": [
        {
          "execution_count": 47,
          "output_type": "execute_result",
          "data": {
            "text/plain": "shape: (1, 22)\n┌───────────┬──────┬───────────┬──────┬───┬──────────────┬──────────────┬──────────────┬───────────┐\n│ inn_id    ┆ week ┆ target    ┆ sign ┆ … ┆ in_vtbip_trn ┆ in_vtbip_cin ┆ cum          ┆ cumsum    │\n│ ---       ┆ ---  ┆ ---       ┆ ---  ┆   ┆ s_amount     ┆ n            ┆ ---          ┆ ---       │\n│ str       ┆ i16  ┆ f32       ┆ i8   ┆   ┆ ---          ┆ ---          ┆ f32          ┆ f32       │\n│           ┆      ┆           ┆      ┆   ┆ u8           ┆ u8           ┆              ┆           │\n╞═══════════╪══════╪═══════════╪══════╪═══╪══════════════╪══════════════╪══════════════╪═══════════╡\n│ inn999886 ┆ 117  ┆ 21.324942 ┆ 1    ┆ … ┆ 255          ┆ 254          ┆ 9.62583936e8 ┆ 7.5786e10 │\n└───────────┴──────┴───────────┴──────┴───┴──────────────┴──────────────┴──────────────┴───────────┘",
            "text/html": "<div><style>\n.dataframe > thead > tr,\n.dataframe > tbody > tr {\n  text-align: right;\n  white-space: pre-wrap;\n}\n</style>\n<small>shape: (1, 22)</small><table border=\"1\" class=\"dataframe\"><thead><tr><th>inn_id</th><th>week</th><th>target</th><th>sign</th><th>out_vtb_trns_count</th><th>out_vtb_trns_amount</th><th>out_vtb_date</th><th>out_vtb_cinn</th><th>out_vtb_trns_amount_log</th><th>out_vtbip_trns_count</th><th>out_vtbip_trns_amount</th><th>out_vtbip_cinn</th><th>in_vtb_trns_count</th><th>in_vtb_trns_amount</th><th>in_vtb_date</th><th>in_vtb_cinn</th><th>in_vtb_trns_amount_log</th><th>in_vtbip_trns_count</th><th>in_vtbip_trns_amount</th><th>in_vtbip_cinn</th><th>cum</th><th>cumsum</th></tr><tr><td>str</td><td>i16</td><td>f32</td><td>i8</td><td>u16</td><td>f32</td><td>u8</td><td>u16</td><td>f32</td><td>u8</td><td>u8</td><td>u8</td><td>u16</td><td>f32</td><td>u8</td><td>u16</td><td>f32</td><td>u8</td><td>u8</td><td>u8</td><td>f32</td><td>f32</td></tr></thead><tbody><tr><td>&quot;inn999886&quot;</td><td>117</td><td>21.324942</td><td>1</td><td>4443</td><td>1.8252e9</td><td>7</td><td>2598</td><td>21.324942</td><td>254</td><td>255</td><td>254</td><td>11381</td><td>1.9834e9</td><td>7</td><td>7153</td><td>21.408079</td><td>254</td><td>255</td><td>254</td><td>9.62583936e8</td><td>7.5786e10</td></tr></tbody></table></div>"
          },
          "metadata": {}
        }
      ],
      "execution_count": null
    },
    {
      "id": "012c1aca",
      "cell_type": "code",
      "source": [
        "cols = innweeks.columns[4:-1]\n",
        "cols"
      ],
      "metadata": {
        "trusted": true,
        "execution": {
          "iopub.status.busy": "2025-04-01T16:00:49.620100Z",
          "iopub.execute_input": "2025-04-01T16:00:49.620539Z",
          "iopub.status.idle": "2025-04-01T16:00:49.627319Z",
          "shell.execute_reply.started": "2025-04-01T16:00:49.620505Z",
          "shell.execute_reply": "2025-04-01T16:00:49.626229Z"
        },
        "id": "012c1aca",
        "outputId": "bcc2a605-71ed-4065-c462-f7a47ded8a00"
      },
      "outputs": [
        {
          "execution_count": 48,
          "output_type": "execute_result",
          "data": {
            "text/plain": "['out_vtb_trns_count',\n 'out_vtb_trns_amount',\n 'out_vtb_date',\n 'out_vtb_cinn',\n 'out_vtb_trns_amount_log',\n 'out_vtbip_trns_count',\n 'out_vtbip_trns_amount',\n 'out_vtbip_cinn',\n 'in_vtb_trns_count',\n 'in_vtb_trns_amount',\n 'in_vtb_date',\n 'in_vtb_cinn',\n 'in_vtb_trns_amount_log',\n 'in_vtbip_trns_count',\n 'in_vtbip_trns_amount',\n 'in_vtbip_cinn',\n 'cum']"
          },
          "metadata": {}
        }
      ],
      "execution_count": null
    },
    {
      "id": "0d981c2c",
      "cell_type": "code",
      "source": [
        "%%time\n",
        "innweeks = innweeks.with_columns(\n",
        "                      #pl.col(\"week\").rolling_min(window_size=53,min_periods=1).cast(pl.Int8).shift(1).over(\"inn_id\").alias(\"lengthweek\"),\n",
        "\n",
        "                      #pl.col(\"sign\").shift(1).over(\"inn_id\").alias(\"sign1\"),\n",
        "                      #pl.col(\"sign\").shift(2).over(\"inn_id\").alias(\"sign2\"),\n",
        "                      #pl.col(\"sign\").shift(3).over(\"inn_id\").alias(\"sign3\"),\n",
        "                      #pl.col(\"sign\").shift(4).over(\"inn_id\").alias(\"sign4\"),\n",
        "                      #pl.col(\"sign\").shift(5).over(\"inn_id\").alias(\"sign5\"),\n",
        "                      #pl.col(\"sign\").shift(6).over(\"inn_id\").alias(\"sign6\"),\n",
        "                      #pl.col(\"sign\").shift(7).over(\"inn_id\").alias(\"sign7\"),\n",
        "                      #pl.col(\"sign\").shift(8).over(\"inn_id\").alias(\"sign8\"),\n",
        "                      #pl.col(\"sign\").shift(9).over(\"inn_id\").alias(\"sign9\"),\n",
        "                      #pl.col(\"sign\").shift(10).over(\"inn_id\").alias(\"sign10\"),\n",
        "                      #pl.col(\"sign\").shift(11).over(\"inn_id\").alias(\"sign11\"),\n",
        "                      #pl.col(\"sign\").shift(12).over(\"inn_id\").alias(\"sign12\"),\n",
        "                      #pl.col(\"sign\").shift(13).over(\"inn_id\").alias(\"sign13\"),\n",
        "                      #pl.col(\"sign\").shift(14).over(\"inn_id\").alias(\"sign14\"),\n",
        "                      #pl.col(\"sign\").shift(15).over(\"inn_id\").alias(\"sign15\"),\n",
        "                      #pl.col(\"sign\").shift(16).over(\"inn_id\").alias(\"sign16\"),\n",
        "                      #pl.col(\"sign\").shift(17).over(\"inn_id\").alias(\"sign17\"),\n",
        "                      #pl.col(\"sign\").shift(18).over(\"inn_id\").alias(\"sign18\"),\n",
        "                      #pl.col(\"sign\").shift(19).over(\"inn_id\").alias(\"sign19\"),\n",
        "\n",
        "                      #(pl.col(\"sign\").cum_sum()/(pl.col(\"week\")+1)).shift(1).over(\"inn_id\").alias(\"active\"),\n",
        "                      #(pl.col(\"out_vtb_trns_amount\").cum_sum()/pl.max_horizontal(pl.col(\"sign\").cum_sum(),1)\n",
        "                      #).shift(1).over(\"inn_id\").alias(\"med\"),\n",
        "\n",
        "                      #pl.col(\"sign\").rolling_sum(window_size=53,min_periods=1).cast(pl.Int8).shift(1).over(\"inn_id\").alias(\"active53\"),\n",
        "                      #pl.col(\"sign\").rolling_sum(window_size=39,min_periods=1).cast(pl.Int8).shift(1).over(\"inn_id\").alias(\"active39\"),\n",
        "                      #pl.col(\"sign\").rolling_sum(window_size=26,min_periods=1).cast(pl.Int8).shift(1).over(\"inn_id\").alias(\"active26\"),\n",
        "                      #pl.col(\"sign\").rolling_sum(window_size=16,min_periods=1).cast(pl.Int8).shift(1).over(\"inn_id\").alias(\"active16\"),\n",
        "                      #pl.col(\"sign\").rolling_sum(window_size=15,min_periods=1).cast(pl.Int8).shift(1).over(\"inn_id\").alias(\"active15\"),\n",
        "                      #pl.col(\"sign\").rolling_sum(window_size=14,min_periods=1).cast(pl.Int8).shift(1).over(\"inn_id\").alias(\"active14\"),\n",
        "                      #pl.col(\"sign\").rolling_sum(window_size=13,min_periods=1).cast(pl.Int8).shift(1).over(\"inn_id\").alias(\"active13\"),\n",
        "                      #pl.col(\"sign\").rolling_sum(window_size=12,min_periods=1).cast(pl.Int8).shift(1).over(\"inn_id\").alias(\"active12\"),\n",
        "                      #pl.col(\"sign\").rolling_sum(window_size=11,min_periods=1).cast(pl.Int8).shift(1).over(\"inn_id\").alias(\"active11\"),\n",
        "                      #pl.col(\"sign\").rolling_sum(window_size=10,min_periods=1).cast(pl.Int8).shift(1).over(\"inn_id\").alias(\"active10\"),\n",
        "                      #pl.col(\"sign\").rolling_sum(window_size=9,min_periods=1).cast(pl.Int8).shift(1).over(\"inn_id\").alias(\"active9\"),\n",
        "                      #pl.col(\"sign\").rolling_sum(window_size=8,min_periods=1).cast(pl.Int8).shift(1).over(\"inn_id\").alias(\"active8\"),\n",
        "                      #pl.col(\"sign\").rolling_sum(window_size=7,min_periods=1).cast(pl.Int8).shift(1).over(\"inn_id\").alias(\"active7\"),\n",
        "                      #pl.col(\"sign\").rolling_sum(window_size=6,min_periods=1).cast(pl.Int8).shift(1).over(\"inn_id\").alias(\"active6\"),\n",
        "                      #pl.col(\"sign\").rolling_sum(window_size=5,min_periods=1).cast(pl.Int8).shift(1).over(\"inn_id\").alias(\"active5\"),\n",
        "                      #pl.col(\"sign\").rolling_sum(window_size=4,min_periods=1).cast(pl.Int8).shift(1).over(\"inn_id\").alias(\"active4\"),\n",
        "                      #pl.col(\"sign\").rolling_sum(window_size=3,min_periods=1).cast(pl.Int8).shift(1).over(\"inn_id\").alias(\"active3\"),\n",
        "                      #pl.col(\"sign\").rolling_sum(window_size=2,min_periods=1).cast(pl.Int8).shift(1).over(\"inn_id\").alias(\"active2\"),\n",
        "                      #pl.col(\"sign\").rolling_sum(window_size=1,min_periods=1).cast(pl.Int8).shift(1).over(\"inn_id\").alias(\"active1\"),\n",
        "                      pl.col(\"target\").shift(-1).over(\"inn_id\").alias(\"target_1\"),\n",
        "                      pl.col(\"target\").shift(-2).over(\"inn_id\").alias(\"target_2\"),\n",
        "                      pl.col(\"target\").shift(-3).over(\"inn_id\").alias(\"target_3\"),\n",
        "\n",
        "                      cs.by_name(cols).shift(1).over(\"inn_id\"),#.name.suffix(\"_01\"),\n",
        "                      cs.by_name(cols).shift(2).over(\"inn_id\").name.suffix(\"_02\"),\n",
        "                      cs.by_name(cols).shift(3).over(\"inn_id\").name.suffix(\"_03\"),\n",
        "                      cs.by_name(cols).shift(4).over(\"inn_id\").name.suffix(\"_04\"),\n",
        "                      cs.by_name(cols).shift(5).over(\"inn_id\").name.suffix(\"_05\"),\n",
        "                      cs.by_name(cols).shift(6).over(\"inn_id\").name.suffix(\"_06\"),\n",
        "                      cs.by_name(cols).shift(7).over(\"inn_id\").name.suffix(\"_07\"),\n",
        "                      cs.by_name(cols).shift(8).over(\"inn_id\").name.suffix(\"_08\"),\n",
        "                      cs.by_name(cols).shift(9).over(\"inn_id\").name.suffix(\"_09\"),\n",
        "                      cs.by_name(cols).shift(10).over(\"inn_id\").name.suffix(\"_10\"),\n",
        "                      cs.by_name(cols).shift(11).over(\"inn_id\").name.suffix(\"_11\"),\n",
        "                      cs.by_name(cols).shift(12).over(\"inn_id\").name.suffix(\"_12\"),\n",
        "                      cs.by_name(cols).shift(13).over(\"inn_id\").name.suffix(\"_13\"),\n",
        "                      cs.by_name(cols).shift(14).over(\"inn_id\").name.suffix(\"_14\"),\n",
        "                      cs.by_name(cols).shift(15).over(\"inn_id\").name.suffix(\"_15\"),\n",
        "                      cs.by_name(cols).shift(16).over(\"inn_id\").name.suffix(\"_16\"),\n",
        "                      #cs.by_name(cols).shift(17).over(\"inn_id\").name.suffix(\"_17\"),\n",
        "                      #cs.by_name(cols).shift(18).over(\"inn_id\").name.suffix(\"_18\"),\n",
        "                      #cs.by_name(cols).shift(19).over(\"inn_id\").name.suffix(\"_19\"),\n",
        "                      #cs.by_name(cols).shift(20).over(\"inn_id\").name.suffix(\"_20\"),\n",
        "                      #cs.by_name(cols).shift(21).over(\"inn_id\").name.suffix(\"_21\"),\n",
        "                      #cs.by_name(cols).shift(22).over(\"inn_id\").name.suffix(\"_22\"),\n",
        "                      #cs.by_name(cols).shift(23).over(\"inn_id\").name.suffix(\"_23\"),\n",
        "                      #cs.by_name(cols).shift(24).over(\"inn_id\").name.suffix(\"_24\"),\n",
        "                      #cs.by_name(cols).shift(25).over(\"inn_id\").name.suffix(\"_25\"),\n",
        "                      #cs.by_name(cols).shift(26).over(\"inn_id\").name.suffix(\"_26\"),\n",
        "                      #cs.by_name(cols).shift(27).over(\"inn_id\").name.suffix(\"_27\"),\n",
        "\n",
        "                      #cs.by_name(cols).shift(52).over(\"inn_id\").name.suffix(\"_52\"),\n",
        "                      #cs.by_name(cols).shift(53).over(\"inn_id\").name.suffix(\"_53\"),\n",
        "\n",
        "                      #pl.col(\"target_\").shift(1).over(\"inn_id\").alias(\"imax1_\"),\n",
        "                      #pl.col(\"target_\").shift(2).over(\"inn_id\").alias(\"imax2_\"),\n",
        "                      #pl.col(\"target_\").shift(3).over(\"inn_id\").alias(\"imax3_\"),\n",
        "                      #pl.col(\"target_\").shift(4).over(\"inn_id\").alias(\"imax4_\"),\n",
        "                      #pl.col(\"target_\").shift(5).over(\"inn_id\").alias(\"imax5_\"),\n",
        "                      #pl.col(\"target_\").shift(6).over(\"inn_id\").alias(\"imax6_\"),\n",
        "                      #pl.col(\"target_\").shift(7).over(\"inn_id\").alias(\"imax7_\"),\n",
        "                      #pl.col(\"target_\").shift(8).over(\"inn_id\").alias(\"imax8_\"),\n",
        "                      #pl.col(\"target_\").shift(9).over(\"inn_id\").alias(\"imax9_\"),\n",
        "                      #pl.col(\"target_\").shift(10).over(\"inn_id\").alias(\"imax10_\"),\n",
        "                      #pl.col(\"target_\").shift(11).over(\"inn_id\").alias(\"imax11_\"),\n",
        "                      #pl.col(\"target_\").shift(12).over(\"inn_id\").alias(\"imax12_\"),\n",
        "                      #pl.col(\"target_\").shift(13).over(\"inn_id\").alias(\"imax13_\"),\n",
        "                      #pl.col(\"target_\").shift(14).over(\"inn_id\").alias(\"imax14_\"),\n",
        "                      #pl.col(\"target_\").shift(15).over(\"inn_id\").alias(\"imax15_\"),\n",
        "                      #pl.col(\"target_\").shift(16).over(\"inn_id\").alias(\"imax16_\"),\n",
        "                      #pl.col(\"target_\").shift(17).over(\"inn_id\").alias(\"imax17_\"),\n",
        "                      #pl.col(\"target_\").shift(18).over(\"inn_id\").alias(\"imax18_\"),\n",
        "                      #pl.col(\"target_\").shift(19).over(\"inn_id\").alias(\"imax19_\"),\n",
        "                      #pl.col(\"target_\").shift(20).over(\"inn_id\").alias(\"imax20_\"),\n",
        "                      #pl.col(\"target_\").shift(21).over(\"inn_id\").alias(\"imax21_\"),\n",
        "                      #pl.col(\"target_\").shift(22).over(\"inn_id\").alias(\"imax22_\"),\n",
        "                      #pl.col(\"target_\").shift(23).over(\"inn_id\").alias(\"imax23_\"),\n",
        "                      #pl.col(\"target_\").shift(24).over(\"inn_id\").alias(\"imax24_\"),\n",
        "                      #pl.col(\"target_\").shift(25).over(\"inn_id\").alias(\"imax25_\"),\n",
        "                      #pl.col(\"target_\").shift(26).over(\"inn_id\").alias(\"imax26_\"),\n",
        "                      #pl.col(\"target_\").shift(27).over(\"inn_id\").alias(\"imax27_\"),\n",
        "                      #pl.col(\"target_\").shift(28).over(\"inn_id\").alias(\"imax28_\"),\n",
        "                      #pl.col(\"target_\").shift(29).over(\"inn_id\").alias(\"imax29_\"),\n",
        "                      #pl.col(\"target_\").shift(30).over(\"inn_id\").alias(\"imax30_\"),\n",
        "                      #pl.col(\"target_\").shift(31).over(\"inn_id\").alias(\"imax31_\"),\n",
        "                      #pl.col(\"target_\").shift(32).over(\"inn_id\").alias(\"imax32_\"),\n",
        "                      #pl.col(\"target_\").shift(33).over(\"inn_id\").alias(\"imax33_\"),\n",
        "                      #pl.col(\"target_\").shift(34).over(\"inn_id\").alias(\"imax34_\"),\n",
        "                      #pl.col(\"target_\").shift(35).over(\"inn_id\").alias(\"imax35_\"),\n",
        "                      #pl.col(\"target_\").shift(36).over(\"inn_id\").alias(\"imax36_\"),\n",
        "                      #pl.col(\"target_\").shift(37).over(\"inn_id\").alias(\"imax37_\"),\n",
        "                      #pl.col(\"target_\").shift(38).over(\"inn_id\").alias(\"imax38_\"),\n",
        "                      #pl.col(\"target_\").shift(39).over(\"inn_id\").alias(\"imax39_\"),\n",
        "                      #pl.col(\"target_\").shift(40).over(\"inn_id\").alias(\"imax40_\"),\n",
        "                      #pl.col(\"target_\").shift(41).over(\"inn_id\").alias(\"imax41_\"),\n",
        "                      #pl.col(\"target_\").shift(42).over(\"inn_id\").alias(\"imax42_\"),\n",
        "                      #pl.col(\"target_\").shift(43).over(\"inn_id\").alias(\"imax43_\"),\n",
        "                      #pl.col(\"target_\").shift(44).over(\"inn_id\").alias(\"imax44_\"),\n",
        "                      #pl.col(\"target_\").shift(45).over(\"inn_id\").alias(\"imax45_\"),\n",
        "                      #pl.col(\"target_\").shift(46).over(\"inn_id\").alias(\"imax46_\"),\n",
        "                      #pl.col(\"target_\").shift(47).over(\"inn_id\").alias(\"imax47_\"),\n",
        "                      #pl.col(\"target_\").shift(48).over(\"inn_id\").alias(\"imax48_\"),\n",
        "                      #pl.col(\"target_\").shift(49).over(\"inn_id\").alias(\"imax49_\"),\n",
        "                      #pl.col(\"target_\").shift(50).over(\"inn_id\").alias(\"imax50_\"),\n",
        "                      #pl.col(\"target_\").shift(51).over(\"inn_id\").alias(\"imax51_\"),\n",
        "                      #pl.col(\"target_\").shift(52).over(\"inn_id\").alias(\"imax52_\"),\n",
        "                      #pl.col(\"target_\").shift(53).over(\"inn_id\").alias(\"imax53_\"),\n",
        "                      #pl.col(\"target_\").shift(54).over(\"inn_id\").alias(\"imax54_\"),\n",
        "\n",
        "                      #pl.col(\"target\").shift(1).over(\"inn_id\").alias(\"imax1\"),\n",
        "                      #pl.col(\"target\").shift(2).over(\"inn_id\").alias(\"imax2\"),\n",
        "                      #pl.col(\"target\").shift(3).over(\"inn_id\").alias(\"imax3\"),\n",
        "                      #pl.col(\"target\").shift(4).over(\"inn_id\").alias(\"imax4\"),\n",
        "                      #pl.col(\"target\").shift(5).over(\"inn_id\").alias(\"imax5\"),\n",
        "                      #pl.col(\"target\").shift(6).over(\"inn_id\").alias(\"imax6\"),\n",
        "                      #pl.col(\"target\").shift(7).over(\"inn_id\").alias(\"imax7\"),\n",
        "                      #pl.col(\"target\").shift(8).over(\"inn_id\").alias(\"imax8\"),\n",
        "                      #pl.col(\"target\").shift(9).over(\"inn_id\").alias(\"imax9\"),\n",
        "                      #pl.col(\"target\").shift(10).over(\"inn_id\").alias(\"imax10\"),\n",
        "                      #pl.col(\"target\").shift(11).over(\"inn_id\").alias(\"imax11\"),\n",
        "                      #pl.col(\"target\").shift(12).over(\"inn_id\").alias(\"imax12\"),\n",
        "                      #pl.col(\"target\").shift(13).over(\"inn_id\").alias(\"imax13\"),\n",
        "                      #pl.col(\"target\").shift(14).over(\"inn_id\").alias(\"imax14\"),\n",
        "                      #pl.col(\"target\").shift(15).over(\"inn_id\").alias(\"imax15\"),\n",
        "                      #pl.col(\"target\").shift(16).over(\"inn_id\").alias(\"imax16\"),\n",
        "                      #pl.col(\"target\").shift(17).over(\"inn_id\").alias(\"imax17\"),\n",
        "                      #pl.col(\"target\").shift(18).over(\"inn_id\").alias(\"imax18\"),\n",
        "                      #pl.col(\"target\").shift(19).over(\"inn_id\").alias(\"imax19\"),\n",
        "                      #pl.col(\"target\").shift(20).over(\"inn_id\").alias(\"imax20\"),\n",
        "                      #pl.col(\"target\").shift(21).over(\"inn_id\").alias(\"imax21\"),\n",
        "                      #pl.col(\"target\").shift(22).over(\"inn_id\").alias(\"imax22\"),\n",
        "                      #pl.col(\"target\").shift(23).over(\"inn_id\").alias(\"imax23\"),\n",
        "                      #pl.col(\"target\").shift(24).over(\"inn_id\").alias(\"imax24\"),\n",
        "                      #pl.col(\"target\").shift(25).over(\"inn_id\").alias(\"imax25\"),\n",
        "                      #pl.col(\"target\").shift(26).over(\"inn_id\").alias(\"imax26\"),\n",
        "                      #pl.col(\"target\").shift(27).over(\"inn_id\").alias(\"imax27\"),\n",
        "                      #pl.col(\"target\").shift(28).over(\"inn_id\").alias(\"imax28\"),\n",
        "                      #pl.col(\"target\").shift(29).over(\"inn_id\").alias(\"imax29\"),\n",
        "                      #pl.col(\"target\").shift(30).over(\"inn_id\").alias(\"imax30\"),\n",
        "                      #pl.col(\"target\").shift(31).over(\"inn_id\").alias(\"imax31\"),\n",
        "                      #pl.col(\"target\").shift(32).over(\"inn_id\").alias(\"imax32\"),\n",
        "                      #pl.col(\"target\").shift(33).over(\"inn_id\").alias(\"imax33\"),\n",
        "                      #pl.col(\"target\").shift(34).over(\"inn_id\").alias(\"imax34\"),\n",
        "                      #pl.col(\"target\").shift(35).over(\"inn_id\").alias(\"imax35\"),\n",
        "                      #pl.col(\"target\").shift(36).over(\"inn_id\").alias(\"imax36\"),\n",
        "                      #pl.col(\"target\").shift(37).over(\"inn_id\").alias(\"imax37\"),\n",
        "                      #pl.col(\"target\").shift(38).over(\"inn_id\").alias(\"imax38\"),\n",
        "                      #pl.col(\"target\").shift(39).over(\"inn_id\").alias(\"imax39\"),\n",
        "                      #pl.col(\"target\").shift(40).over(\"inn_id\").alias(\"imax40\"),\n",
        "                      #pl.col(\"target\").shift(41).over(\"inn_id\").alias(\"imax41\"),\n",
        "                      #pl.col(\"target\").shift(42).over(\"inn_id\").alias(\"imax42\"),\n",
        "                      #pl.col(\"target\").shift(43).over(\"inn_id\").alias(\"imax43\"),\n",
        "                      #pl.col(\"target\").shift(44).over(\"inn_id\").alias(\"imax44\"),\n",
        "                      #pl.col(\"target\").shift(45).over(\"inn_id\").alias(\"imax45\"),\n",
        "                      #pl.col(\"target\").shift(46).over(\"inn_id\").alias(\"imax46\"),\n",
        "                      #pl.col(\"target\").shift(47).over(\"inn_id\").alias(\"imax47\"),\n",
        "                      #pl.col(\"target\").shift(48).over(\"inn_id\").alias(\"imax48\"),\n",
        "                      #pl.col(\"target\").shift(49).over(\"inn_id\").alias(\"imax49\"),\n",
        "                      #pl.col(\"target\").shift(50).over(\"inn_id\").alias(\"imax50\"),\n",
        "                      #pl.col(\"target\").shift(51).over(\"inn_id\").alias(\"imax51\"),\n",
        "                      #pl.col(\"target\").shift(52).over(\"inn_id\").alias(\"imax52\"),\n",
        "                      #pl.col(\"target\").shift(53).over(\"inn_id\").alias(\"imax53\"),\n",
        "                      #pl.col(\"target\").shift(54).over(\"inn_id\").alias(\"imax54\"),\n",
        "\n",
        "                      #pl.col(\"target\").rolling_max(window_size=1,min_periods=1).shift(55).over(\"inn_id\").alias(\"imax55\"),\n",
        "                      #pl.col(\"target\").rolling_max(window_size=1,min_periods=1).shift(56).over(\"inn_id\").alias(\"imax56\"),\n",
        "                      #pl.col(\"target\").rolling_max(window_size=1,min_periods=1).shift(57).over(\"inn_id\").alias(\"imax57\"),\n",
        "                      #pl.col(\"target\").rolling_max(window_size=1,min_periods=1).shift(58).over(\"inn_id\").alias(\"imax58\"),\n",
        "                      #pl.col(\"target\").rolling_max(window_size=1,min_periods=1).shift(59).over(\"inn_id\").alias(\"imax59\"),\n",
        "\n",
        "                      #pl.col(\"target\").rolling_max(window_size=53,min_periods=1).shift(1).over(\"inn_id\").alias(\"imax\"),\n",
        "                      #pl.col(\"target\").rolling_min(window_size=53,min_periods=1).shift(1).over(\"inn_id\").alias(\"imin\"),\n",
        "                      #pl.col(\"target_\").rolling_mean(window_size=53,min_periods=1).shift(1).over(\"inn_id\").log1p().alias(\"imean\"),\n",
        "                      #pl.col(\"target_\").rolling_median(window_size=53,min_periods=1).shift(1).over(\"inn_id\").log1p().alias(\"imedian\"),\n",
        "\n",
        "                      #pl.col(\"target_\").rolling_mean(window_size=2,min_periods=1).shift(1).over(\"inn_id\").log1p().alias(\"imean2\"),\n",
        "                      #pl.col(\"target_\").rolling_median(window_size=2,min_periods=1).shift(1).over(\"inn_id\").log1p().alias(\"imedian2\"),\n",
        "\n",
        "                      #pl.col(\"target_\").rolling_mean(window_size=3,min_periods=1).shift(1).over(\"inn_id\").log1p().alias(\"imean3\"),\n",
        "                      #pl.col(\"target_\").rolling_median(window_size=3,min_periods=1).shift(1).over(\"inn_id\").log1p().alias(\"imedian3\"),\n",
        "\n",
        "                      #pl.col(\"target_\").rolling_mean(window_size=4,min_periods=1).shift(1).over(\"inn_id\").log1p().alias(\"imean4\"),\n",
        "                      #pl.col(\"target_\").rolling_median(window_size=4,min_periods=1).shift(1).over(\"inn_id\").log1p().alias(\"imedian4\"),\n",
        "\n",
        "                      #pl.col(\"target_\").rolling_mean(window_size=5,min_periods=1).shift(1).over(\"inn_id\").log1p().alias(\"imean5\"),\n",
        "                      #pl.col(\"target_\").rolling_median(window_size=5,min_periods=1).shift(1).over(\"inn_id\").log1p().alias(\"imedian5\"),\n",
        "\n",
        "                      #pl.col(\"target_\").rolling_mean(window_size=13,min_periods=1).shift(1).over(\"inn_id\").log1p().alias(\"imean13\"),\n",
        "                      #pl.col(\"target_\").rolling_median(window_size=13,min_periods=1).shift(1).over(\"inn_id\").log1p().alias(\"imedian13\"),\n",
        "\n",
        "                      #pl.col(\"target_\").rolling_quantile(quantile=0.95, window_size=53,min_periods=1).shift(1).over(\"inn_id\").log1p().alias(\"iq095\"),\n",
        "                      #pl.col(\"target_\").rolling_quantile(quantile=0.90, window_size=53,min_periods=1).shift(1).over(\"inn_id\").log1p().alias(\"iq090\"),\n",
        "                      #pl.col(\"target_\").rolling_quantile(quantile=0.85, window_size=53,min_periods=1).shift(1).over(\"inn_id\").log1p().alias(\"iq085\"),\n",
        "                      #pl.col(\"target_\").rolling_quantile(quantile=0.80, window_size=53,min_periods=1).shift(1).over(\"inn_id\").log1p().alias(\"iq080\"),\n",
        "                      #pl.col(\"target_\").rolling_quantile(quantile=0.75, window_size=53,min_periods=1).shift(1).over(\"inn_id\").log1p().alias(\"iq075\"),\n",
        "                      #pl.col(\"target_\").rolling_quantile(quantile=0.70, window_size=53,min_periods=1).shift(1).over(\"inn_id\").log1p().alias(\"iq070\"),\n",
        "                      #pl.col(\"target_\").rolling_quantile(quantile=0.65, window_size=53,min_periods=1).shift(1).over(\"inn_id\").log1p().alias(\"iq065\"),\n",
        "                      #pl.col(\"target_\").rolling_quantile(quantile=0.60, window_size=53,min_periods=1).shift(1).over(\"inn_id\").log1p().alias(\"iq060\"),\n",
        "                      #pl.col(\"target_\").rolling_quantile(quantile=0.55, window_size=53,min_periods=1).shift(1).over(\"inn_id\").log1p().alias(\"iq055\"),\n",
        "\n",
        "                      #pl.col(\"target_\").rolling_quantile(quantile=0.45, window_size=53,min_periods=1).shift(1).over(\"inn_id\").log1p().alias(\"iq045\"),\n",
        "                      #pl.col(\"target_\").rolling_quantile(quantile=0.40, window_size=53,min_periods=1).shift(1).over(\"inn_id\").log1p().alias(\"iq040\"),\n",
        "                      #pl.col(\"target_\").rolling_quantile(quantile=0.35, window_size=53,min_periods=1).shift(1).over(\"inn_id\").log1p().alias(\"iq035\"),\n",
        "                      #pl.col(\"target_\").rolling_quantile(quantile=0.30, window_size=53,min_periods=1).shift(1).over(\"inn_id\").log1p().alias(\"iq030\"),\n",
        "                      #pl.col(\"target_\").rolling_quantile(quantile=0.25, window_size=53,min_periods=1).shift(1).over(\"inn_id\").log1p().alias(\"iq025\"),\n",
        "                      #pl.col(\"target_\").rolling_quantile(quantile=0.20, window_size=53,min_periods=1).shift(1).over(\"inn_id\").log1p().alias(\"iq020\"),\n",
        "                      #pl.col(\"target_\").rolling_quantile(quantile=0.15, window_size=53,min_periods=1).shift(1).over(\"inn_id\").log1p().alias(\"iq015\"),\n",
        "                      #pl.col(\"target_\").rolling_quantile(quantile=0.10, window_size=53,min_periods=1).shift(1).over(\"inn_id\").log1p().alias(\"iq010\"),\n",
        "                      #pl.col(\"target_\").rolling_quantile(quantile=0.05, window_size=53,min_periods=1).shift(1).over(\"inn_id\").log1p().alias(\"iq005\"),\n",
        "\n",
        "                      #pl.col(\"target\").rolling_mean(window_size=53,min_periods=1).shift(1).over(\"inn_id\").alias(\"mean53\"),\n",
        "                      #pl.col(\"target\").rolling_mean(window_size=13,min_periods=1).shift(1).over(\"inn_id\").alias(\"mean13\"),\n",
        "                      #pl.col(\"target\").rolling_median(window_size=53,min_periods=1).shift(1).over(\"inn_id\").alias(\"median53\"),\n",
        "                      #pl.col(\"target\").rolling_median(window_size=13,min_periods=1).shift(1).over(\"inn_id\").alias(\"median13\"),\n",
        "                      #pl.col(\"out_vtb_trns_amount\").rolling_mean(window_size=53,min_periods=1).shift(1).over(\"inn_id\").alias(\"imean_\"),\n",
        "                      #pl.col(\"out_vtb_trns_amount\").rolling_median(window_size=53,min_periods=1).shift(1).over(\"inn_id\").alias(\"imedian_\"),\n",
        "\n",
        "                      #pl.col(\"target_\").rolling_quantile(quantile=0.95, window_size=53,min_periods=1).shift(1).over(\"inn_id\").alias(\"iq095_\"),\n",
        "                      #pl.col(\"target_\").rolling_quantile(quantile=0.90, window_size=53,min_periods=1).shift(1).over(\"inn_id\").alias(\"iq090_\"),\n",
        "                      #pl.col(\"target_\").rolling_quantile(quantile=0.85, window_size=53,min_periods=1).shift(1).over(\"inn_id\").alias(\"iq085_\"),\n",
        "                      #pl.col(\"target_\").rolling_quantile(quantile=0.80, window_size=53,min_periods=1).shift(1).over(\"inn_id\").alias(\"iq080_\"),\n",
        "                      #pl.col(\"target_\").rolling_quantile(quantile=0.75, window_size=53,min_periods=1).shift(1).over(\"inn_id\").alias(\"iq075_\"),\n",
        "                      #pl.col(\"target_\").rolling_quantile(quantile=0.70, window_size=53,min_periods=1).shift(1).over(\"inn_id\").alias(\"iq070_\"),\n",
        "                      #pl.col(\"target_\").rolling_quantile(quantile=0.65, window_size=53,min_periods=1).shift(1).over(\"inn_id\").alias(\"iq065_\"),\n",
        "                      #pl.col(\"target_\").rolling_quantile(quantile=0.60, window_size=53,min_periods=1).shift(1).over(\"inn_id\").alias(\"iq060_\"),\n",
        "                      #pl.col(\"target_\").rolling_quantile(quantile=0.55, window_size=53,min_periods=1).shift(1).over(\"inn_id\").alias(\"iq055_\"),\n",
        "\n",
        "                      #pl.col(\"target_\").rolling_quantile(quantile=0.45, window_size=53,min_periods=1).shift(1).over(\"inn_id\").alias(\"iq045_\"),\n",
        "                      #pl.col(\"target_\").rolling_quantile(quantile=0.40, window_size=53,min_periods=1).shift(1).over(\"inn_id\").alias(\"iq040_\"),\n",
        "                      #pl.col(\"target_\").rolling_quantile(quantile=0.35, window_size=53,min_periods=1).shift(1).over(\"inn_id\").alias(\"iq035_\"),\n",
        "                      #pl.col(\"target_\").rolling_quantile(quantile=0.30, window_size=53,min_periods=1).shift(1).over(\"inn_id\").alias(\"iq030_\"),\n",
        "                      #pl.col(\"target_\").rolling_quantile(quantile=0.25, window_size=53,min_periods=1).shift(1).over(\"inn_id\").alias(\"iq025_\"),\n",
        "                      #pl.col(\"target_\").rolling_quantile(quantile=0.20, window_size=53,min_periods=1).shift(1).over(\"inn_id\").alias(\"iq020_\"),\n",
        "                      #pl.col(\"target_\").rolling_quantile(quantile=0.15, window_size=53,min_periods=1).shift(1).over(\"inn_id\").alias(\"iq015_\"),\n",
        "                      #pl.col(\"target_\").rolling_quantile(quantile=0.10, window_size=53,min_periods=1).shift(1).over(\"inn_id\").alias(\"iq010_\"),\n",
        "                      #pl.col(\"target_\").rolling_quantile(quantile=0.05, window_size=53,min_periods=1).shift(1).over(\"inn_id\").alias(\"iq005_\"),\n",
        "                     )\n",
        "innweeks"
      ],
      "metadata": {
        "trusted": true,
        "execution": {
          "iopub.status.busy": "2025-04-01T16:00:55.368458Z",
          "iopub.execute_input": "2025-04-01T16:00:55.368875Z",
          "iopub.status.idle": "2025-04-01T16:01:32.344279Z",
          "shell.execute_reply.started": "2025-04-01T16:00:55.368841Z",
          "shell.execute_reply": "2025-04-01T16:01:32.343334Z"
        },
        "id": "0d981c2c",
        "outputId": "9c89b7bc-d1ba-4eff-d1a6-bd8016eab82a"
      },
      "outputs": [
        {
          "name": "stdout",
          "text": "CPU times: user 37.2 s, sys: 182 ms, total: 37.4 s\nWall time: 37 s\n",
          "output_type": "stream"
        },
        {
          "execution_count": 49,
          "output_type": "execute_result",
          "data": {
            "text/plain": "shape: (623_556, 280)\n┌────────────┬──────┬───────────┬──────┬───┬───────────────┬───────────────┬──────────────┬────────┐\n│ inn_id     ┆ week ┆ target    ┆ sign ┆ … ┆ in_vtbip_trns ┆ in_vtbip_trns ┆ in_vtbip_cin ┆ cum_16 │\n│ ---        ┆ ---  ┆ ---       ┆ ---  ┆   ┆ _count_16     ┆ _amount_16    ┆ n_16         ┆ ---    │\n│ str        ┆ i16  ┆ f32       ┆ i8   ┆   ┆ ---           ┆ ---           ┆ ---          ┆ f32    │\n│            ┆      ┆           ┆      ┆   ┆ u8            ┆ u8            ┆ u8           ┆        │\n╞════════════╪══════╪═══════════╪══════╪═══╪═══════════════╪═══════════════╪══════════════╪════════╡\n│ inn1000051 ┆ 106  ┆ 11.974568 ┆ 0    ┆ … ┆ null          ┆ null          ┆ null         ┆ null   │\n│ inn1000051 ┆ 107  ┆ 10.961955 ┆ 0    ┆ … ┆ null          ┆ null          ┆ null         ┆ null   │\n│ inn1000051 ┆ 108  ┆ 8.964775  ┆ 0    ┆ … ┆ null          ┆ null          ┆ null         ┆ null   │\n│ inn1000051 ┆ 109  ┆ 14.73538  ┆ 0    ┆ … ┆ null          ┆ null          ┆ null         ┆ null   │\n│ inn1000051 ┆ 110  ┆ 11.585395 ┆ 0    ┆ … ┆ null          ┆ null          ┆ null         ┆ null   │\n│ …          ┆ …    ┆ …         ┆ …    ┆ … ┆ …             ┆ …             ┆ …            ┆ …      │\n│ inn999886  ┆ 113  ┆ 16.851013 ┆ 0    ┆ … ┆ null          ┆ null          ┆ null         ┆ null   │\n│ inn999886  ┆ 114  ┆ 17.204802 ┆ 0    ┆ … ┆ null          ┆ null          ┆ null         ┆ null   │\n│ inn999886  ┆ 115  ┆ 16.515699 ┆ 0    ┆ … ┆ null          ┆ null          ┆ null         ┆ null   │\n│ inn999886  ┆ 116  ┆ 17.071127 ┆ 0    ┆ … ┆ null          ┆ null          ┆ null         ┆ null   │\n│ inn999886  ┆ 117  ┆ 15.85258  ┆ 0    ┆ … ┆ null          ┆ null          ┆ null         ┆ null   │\n└────────────┴──────┴───────────┴──────┴───┴───────────────┴───────────────┴──────────────┴────────┘",
            "text/html": "<div><style>\n.dataframe > thead > tr,\n.dataframe > tbody > tr {\n  text-align: right;\n  white-space: pre-wrap;\n}\n</style>\n<small>shape: (623_556, 280)</small><table border=\"1\" class=\"dataframe\"><thead><tr><th>inn_id</th><th>week</th><th>target</th><th>sign</th><th>out_vtb_trns_count</th><th>out_vtb_trns_amount</th><th>out_vtb_date</th><th>out_vtb_cinn</th><th>out_vtb_trns_amount_log</th><th>out_vtbip_trns_count</th><th>out_vtbip_trns_amount</th><th>out_vtbip_cinn</th><th>in_vtb_trns_count</th><th>in_vtb_trns_amount</th><th>in_vtb_date</th><th>in_vtb_cinn</th><th>in_vtb_trns_amount_log</th><th>in_vtbip_trns_count</th><th>in_vtbip_trns_amount</th><th>in_vtbip_cinn</th><th>cum</th><th>cumsum</th><th>target_1</th><th>target_2</th><th>target_3</th><th>out_vtb_trns_count_02</th><th>out_vtb_trns_amount_02</th><th>out_vtb_date_02</th><th>out_vtb_cinn_02</th><th>out_vtb_trns_amount_log_02</th><th>out_vtbip_trns_count_02</th><th>out_vtbip_trns_amount_02</th><th>out_vtbip_cinn_02</th><th>in_vtb_trns_count_02</th><th>in_vtb_trns_amount_02</th><th>in_vtb_date_02</th><th>in_vtb_cinn_02</th><th>&hellip;</th><th>in_vtbip_trns_amount_14</th><th>in_vtbip_cinn_14</th><th>cum_14</th><th>out_vtb_trns_count_15</th><th>out_vtb_trns_amount_15</th><th>out_vtb_date_15</th><th>out_vtb_cinn_15</th><th>out_vtb_trns_amount_log_15</th><th>out_vtbip_trns_count_15</th><th>out_vtbip_trns_amount_15</th><th>out_vtbip_cinn_15</th><th>in_vtb_trns_count_15</th><th>in_vtb_trns_amount_15</th><th>in_vtb_date_15</th><th>in_vtb_cinn_15</th><th>in_vtb_trns_amount_log_15</th><th>in_vtbip_trns_count_15</th><th>in_vtbip_trns_amount_15</th><th>in_vtbip_cinn_15</th><th>cum_15</th><th>out_vtb_trns_count_16</th><th>out_vtb_trns_amount_16</th><th>out_vtb_date_16</th><th>out_vtb_cinn_16</th><th>out_vtb_trns_amount_log_16</th><th>out_vtbip_trns_count_16</th><th>out_vtbip_trns_amount_16</th><th>out_vtbip_cinn_16</th><th>in_vtb_trns_count_16</th><th>in_vtb_trns_amount_16</th><th>in_vtb_date_16</th><th>in_vtb_cinn_16</th><th>in_vtb_trns_amount_log_16</th><th>in_vtbip_trns_count_16</th><th>in_vtbip_trns_amount_16</th><th>in_vtbip_cinn_16</th><th>cum_16</th></tr><tr><td>str</td><td>i16</td><td>f32</td><td>i8</td><td>u16</td><td>f32</td><td>u8</td><td>u16</td><td>f32</td><td>u8</td><td>u8</td><td>u8</td><td>u16</td><td>f32</td><td>u8</td><td>u16</td><td>f32</td><td>u8</td><td>u8</td><td>u8</td><td>f32</td><td>f32</td><td>f32</td><td>f32</td><td>f32</td><td>u16</td><td>f32</td><td>u8</td><td>u16</td><td>f32</td><td>u8</td><td>u8</td><td>u8</td><td>u16</td><td>f32</td><td>u8</td><td>u16</td><td>&hellip;</td><td>u8</td><td>u8</td><td>f32</td><td>u16</td><td>f32</td><td>u8</td><td>u16</td><td>f32</td><td>u8</td><td>u8</td><td>u8</td><td>u16</td><td>f32</td><td>u8</td><td>u16</td><td>f32</td><td>u8</td><td>u8</td><td>u8</td><td>f32</td><td>u16</td><td>f32</td><td>u8</td><td>u16</td><td>f32</td><td>u8</td><td>u8</td><td>u8</td><td>u16</td><td>f32</td><td>u8</td><td>u16</td><td>f32</td><td>u8</td><td>u8</td><td>u8</td><td>f32</td></tr></thead><tbody><tr><td>&quot;inn1000051&quot;</td><td>106</td><td>11.974568</td><td>0</td><td>null</td><td>null</td><td>null</td><td>null</td><td>null</td><td>null</td><td>null</td><td>null</td><td>null</td><td>null</td><td>null</td><td>null</td><td>null</td><td>null</td><td>null</td><td>null</td><td>null</td><td>3.8968428e7</td><td>10.961955</td><td>8.964775</td><td>14.73538</td><td>null</td><td>null</td><td>null</td><td>null</td><td>null</td><td>null</td><td>null</td><td>null</td><td>null</td><td>null</td><td>null</td><td>null</td><td>&hellip;</td><td>null</td><td>null</td><td>null</td><td>null</td><td>null</td><td>null</td><td>null</td><td>null</td><td>null</td><td>null</td><td>null</td><td>null</td><td>null</td><td>null</td><td>null</td><td>null</td><td>null</td><td>null</td><td>null</td><td>null</td><td>null</td><td>null</td><td>null</td><td>null</td><td>null</td><td>null</td><td>null</td><td>null</td><td>null</td><td>null</td><td>null</td><td>null</td><td>null</td><td>null</td><td>null</td><td>null</td><td>null</td></tr><tr><td>&quot;inn1000051&quot;</td><td>107</td><td>10.961955</td><td>0</td><td>3</td><td>158666.90625</td><td>2</td><td>2</td><td>11.974568</td><td>0</td><td>0</td><td>0</td><td>13</td><td>732018.875</td><td>6</td><td>5</td><td>13.503563</td><td>98</td><td>249</td><td>203</td><td>573352.0</td><td>3.954178e7</td><td>8.964775</td><td>14.73538</td><td>11.585395</td><td>null</td><td>null</td><td>null</td><td>null</td><td>null</td><td>null</td><td>null</td><td>null</td><td>null</td><td>null</td><td>null</td><td>null</td><td>&hellip;</td><td>null</td><td>null</td><td>null</td><td>null</td><td>null</td><td>null</td><td>null</td><td>null</td><td>null</td><td>null</td><td>null</td><td>null</td><td>null</td><td>null</td><td>null</td><td>null</td><td>null</td><td>null</td><td>null</td><td>null</td><td>null</td><td>null</td><td>null</td><td>null</td><td>null</td><td>null</td><td>null</td><td>null</td><td>null</td><td>null</td><td>null</td><td>null</td><td>null</td><td>null</td><td>null</td><td>null</td><td>null</td></tr><tr><td>&quot;inn1000051&quot;</td><td>108</td><td>8.964775</td><td>0</td><td>1</td><td>57638.035156</td><td>1</td><td>1</td><td>10.961955</td><td>0</td><td>0</td><td>0</td><td>13</td><td>420275.09375</td><td>5</td><td>3</td><td>12.948668</td><td>19</td><td>40</td><td>84</td><td>362637.0625</td><td>3.990442e7</td><td>14.73538</td><td>11.585395</td><td>0.0</td><td>3</td><td>158666.90625</td><td>2</td><td>2</td><td>11.974568</td><td>0</td><td>0</td><td>0</td><td>13</td><td>732018.875</td><td>6</td><td>5</td><td>&hellip;</td><td>null</td><td>null</td><td>null</td><td>null</td><td>null</td><td>null</td><td>null</td><td>null</td><td>null</td><td>null</td><td>null</td><td>null</td><td>null</td><td>null</td><td>null</td><td>null</td><td>null</td><td>null</td><td>null</td><td>null</td><td>null</td><td>null</td><td>null</td><td>null</td><td>null</td><td>null</td><td>null</td><td>null</td><td>null</td><td>null</td><td>null</td><td>null</td><td>null</td><td>null</td><td>null</td><td>null</td><td>null</td></tr><tr><td>&quot;inn1000051&quot;</td><td>109</td><td>14.73538</td><td>0</td><td>1</td><td>7821.623047</td><td>1</td><td>1</td><td>8.964775</td><td>254</td><td>255</td><td>254</td><td>11</td><td>55807.65625</td><td>5</td><td>1</td><td>10.929685</td><td>0</td><td>0</td><td>0</td><td>47986.03125</td><td>3.9952404e7</td><td>11.585395</td><td>0.0</td><td>10.357664</td><td>1</td><td>57638.035156</td><td>1</td><td>1</td><td>10.961955</td><td>0</td><td>0</td><td>0</td><td>13</td><td>420275.09375</td><td>5</td><td>3</td><td>&hellip;</td><td>null</td><td>null</td><td>null</td><td>null</td><td>null</td><td>null</td><td>null</td><td>null</td><td>null</td><td>null</td><td>null</td><td>null</td><td>null</td><td>null</td><td>null</td><td>null</td><td>null</td><td>null</td><td>null</td><td>null</td><td>null</td><td>null</td><td>null</td><td>null</td><td>null</td><td>null</td><td>null</td><td>null</td><td>null</td><td>null</td><td>null</td><td>null</td><td>null</td><td>null</td><td>null</td><td>null</td><td>null</td></tr><tr><td>&quot;inn1000051&quot;</td><td>110</td><td>11.585395</td><td>0</td><td>13</td><td>2.5090e6</td><td>1</td><td>5</td><td>14.73538</td><td>0</td><td>0</td><td>0</td><td>25</td><td>1.387296e6</td><td>6</td><td>7</td><td>14.142868</td><td>112</td><td>206</td><td>145</td><td>-1.1217e6</td><td>3.8830736e7</td><td>0.0</td><td>10.357664</td><td>12.405977</td><td>1</td><td>7821.623047</td><td>1</td><td>1</td><td>8.964775</td><td>254</td><td>255</td><td>254</td><td>11</td><td>55807.65625</td><td>5</td><td>1</td><td>&hellip;</td><td>null</td><td>null</td><td>null</td><td>null</td><td>null</td><td>null</td><td>null</td><td>null</td><td>null</td><td>null</td><td>null</td><td>null</td><td>null</td><td>null</td><td>null</td><td>null</td><td>null</td><td>null</td><td>null</td><td>null</td><td>null</td><td>null</td><td>null</td><td>null</td><td>null</td><td>null</td><td>null</td><td>null</td><td>null</td><td>null</td><td>null</td><td>null</td><td>null</td><td>null</td><td>null</td><td>null</td><td>null</td></tr><tr><td>&hellip;</td><td>&hellip;</td><td>&hellip;</td><td>&hellip;</td><td>&hellip;</td><td>&hellip;</td><td>&hellip;</td><td>&hellip;</td><td>&hellip;</td><td>&hellip;</td><td>&hellip;</td><td>&hellip;</td><td>&hellip;</td><td>&hellip;</td><td>&hellip;</td><td>&hellip;</td><td>&hellip;</td><td>&hellip;</td><td>&hellip;</td><td>&hellip;</td><td>&hellip;</td><td>&hellip;</td><td>&hellip;</td><td>&hellip;</td><td>&hellip;</td><td>&hellip;</td><td>&hellip;</td><td>&hellip;</td><td>&hellip;</td><td>&hellip;</td><td>&hellip;</td><td>&hellip;</td><td>&hellip;</td><td>&hellip;</td><td>&hellip;</td><td>&hellip;</td><td>&hellip;</td><td>&hellip;</td><td>&hellip;</td><td>&hellip;</td><td>&hellip;</td><td>&hellip;</td><td>&hellip;</td><td>&hellip;</td><td>&hellip;</td><td>&hellip;</td><td>&hellip;</td><td>&hellip;</td><td>&hellip;</td><td>&hellip;</td><td>&hellip;</td><td>&hellip;</td><td>&hellip;</td><td>&hellip;</td><td>&hellip;</td><td>&hellip;</td><td>&hellip;</td><td>&hellip;</td><td>&hellip;</td><td>&hellip;</td><td>&hellip;</td><td>&hellip;</td><td>&hellip;</td><td>&hellip;</td><td>&hellip;</td><td>&hellip;</td><td>&hellip;</td><td>&hellip;</td><td>&hellip;</td><td>&hellip;</td><td>&hellip;</td><td>&hellip;</td><td>&hellip;</td><td>&hellip;</td><td>&hellip;</td></tr><tr><td>&quot;inn999886&quot;</td><td>113</td><td>16.851013</td><td>0</td><td>58</td><td>1.7953042e7</td><td>6</td><td>23</td><td>16.70327</td><td>48</td><td>1</td><td>33</td><td>52</td><td>2.9568436e7</td><td>5</td><td>36</td><td>17.202217</td><td>4</td><td>8</td><td>7</td><td>1.1615393e7</td><td>9.03257216e8</td><td>17.204802</td><td>16.515699</td><td>17.071127</td><td>70</td><td>1.8180324e7</td><td>6</td><td>28</td><td>16.715851</td><td>40</td><td>6</td><td>45</td><td>49</td><td>1.9559764e7</td><td>6</td><td>31</td><td>&hellip;</td><td>null</td><td>null</td><td>null</td><td>null</td><td>null</td><td>null</td><td>null</td><td>null</td><td>null</td><td>null</td><td>null</td><td>null</td><td>null</td><td>null</td><td>null</td><td>null</td><td>null</td><td>null</td><td>null</td><td>null</td><td>null</td><td>null</td><td>null</td><td>null</td><td>null</td><td>null</td><td>null</td><td>null</td><td>null</td><td>null</td><td>null</td><td>null</td><td>null</td><td>null</td><td>null</td><td>null</td><td>null</td></tr><tr><td>&quot;inn999886&quot;</td><td>114</td><td>17.204802</td><td>0</td><td>51</td><td>2.0811432e7</td><td>7</td><td>27</td><td>16.851013</td><td>39</td><td>1</td><td>37</td><td>81</td><td>3.9193764e7</td><td>6</td><td>40</td><td>17.484028</td><td>0</td><td>0</td><td>0</td><td>1.8382334e7</td><td>9.21639488e8</td><td>16.515699</td><td>17.071127</td><td>15.85258</td><td>58</td><td>1.7953042e7</td><td>6</td><td>23</td><td>16.70327</td><td>48</td><td>1</td><td>33</td><td>52</td><td>2.9568436e7</td><td>5</td><td>36</td><td>&hellip;</td><td>null</td><td>null</td><td>null</td><td>null</td><td>null</td><td>null</td><td>null</td><td>null</td><td>null</td><td>null</td><td>null</td><td>null</td><td>null</td><td>null</td><td>null</td><td>null</td><td>null</td><td>null</td><td>null</td><td>null</td><td>null</td><td>null</td><td>null</td><td>null</td><td>null</td><td>null</td><td>null</td><td>null</td><td>null</td><td>null</td><td>null</td><td>null</td><td>null</td><td>null</td><td>null</td><td>null</td><td>null</td></tr><tr><td>&quot;inn999886&quot;</td><td>115</td><td>16.515699</td><td>0</td><td>88</td><td>2.9644908e7</td><td>6</td><td>31</td><td>17.204802</td><td>14</td><td>1</td><td>32</td><td>95</td><td>4.5519564e7</td><td>7</td><td>41</td><td>17.633654</td><td>16</td><td>8</td><td>31</td><td>1.5874655e7</td><td>9.37514112e8</td><td>17.071127</td><td>15.85258</td><td>null</td><td>51</td><td>2.0811432e7</td><td>7</td><td>27</td><td>16.851013</td><td>39</td><td>1</td><td>37</td><td>81</td><td>3.9193764e7</td><td>6</td><td>40</td><td>&hellip;</td><td>null</td><td>null</td><td>null</td><td>null</td><td>null</td><td>null</td><td>null</td><td>null</td><td>null</td><td>null</td><td>null</td><td>null</td><td>null</td><td>null</td><td>null</td><td>null</td><td>null</td><td>null</td><td>null</td><td>null</td><td>null</td><td>null</td><td>null</td><td>null</td><td>null</td><td>null</td><td>null</td><td>null</td><td>null</td><td>null</td><td>null</td><td>null</td><td>null</td><td>null</td><td>null</td><td>null</td><td>null</td></tr><tr><td>&quot;inn999886&quot;</td><td>116</td><td>17.071127</td><td>0</td><td>61</td><td>1.4882548e7</td><td>6</td><td>27</td><td>16.515699</td><td>41</td><td>7</td><td>18</td><td>75</td><td>3.3610216e7</td><td>5</td><td>45</td><td>17.330341</td><td>3</td><td>0</td><td>5</td><td>1.8727668e7</td><td>9.56241728e8</td><td>15.85258</td><td>null</td><td>null</td><td>88</td><td>2.9644908e7</td><td>6</td><td>31</td><td>17.204802</td><td>14</td><td>1</td><td>32</td><td>95</td><td>4.5519564e7</td><td>7</td><td>41</td><td>&hellip;</td><td>null</td><td>null</td><td>null</td><td>null</td><td>null</td><td>null</td><td>null</td><td>null</td><td>null</td><td>null</td><td>null</td><td>null</td><td>null</td><td>null</td><td>null</td><td>null</td><td>null</td><td>null</td><td>null</td><td>null</td><td>null</td><td>null</td><td>null</td><td>null</td><td>null</td><td>null</td><td>null</td><td>null</td><td>null</td><td>null</td><td>null</td><td>null</td><td>null</td><td>null</td><td>null</td><td>null</td><td>null</td></tr><tr><td>&quot;inn999886&quot;</td><td>117</td><td>15.85258</td><td>0</td><td>65</td><td>2.5935594e7</td><td>6</td><td>29</td><td>17.071127</td><td>23</td><td>0</td><td>35</td><td>82</td><td>2.474821e7</td><td>7</td><td>42</td><td>17.024263</td><td>6</td><td>0</td><td>12</td><td>-1.1874e6</td><td>9.55054336e8</td><td>null</td><td>null</td><td>null</td><td>61</td><td>1.4882548e7</td><td>6</td><td>27</td><td>16.515699</td><td>41</td><td>7</td><td>18</td><td>75</td><td>3.3610216e7</td><td>5</td><td>45</td><td>&hellip;</td><td>null</td><td>null</td><td>null</td><td>null</td><td>null</td><td>null</td><td>null</td><td>null</td><td>null</td><td>null</td><td>null</td><td>null</td><td>null</td><td>null</td><td>null</td><td>null</td><td>null</td><td>null</td><td>null</td><td>null</td><td>null</td><td>null</td><td>null</td><td>null</td><td>null</td><td>null</td><td>null</td><td>null</td><td>null</td><td>null</td><td>null</td><td>null</td><td>null</td><td>null</td><td>null</td><td>null</td><td>null</td></tr></tbody></table></div>"
          },
          "metadata": {}
        }
      ],
      "execution_count": null
    },
    {
      "id": "b94e2c47",
      "cell_type": "code",
      "source": [],
      "metadata": {
        "trusted": true,
        "id": "b94e2c47"
      },
      "outputs": [],
      "execution_count": null
    },
    {
      "id": "27e00658",
      "cell_type": "code",
      "source": [
        "calendar = pl.read_csv(\"input/iatvoirotblat/calendar_extended.csv\", try_parse_dates=True\n",
        "                      ).with_columns(\n",
        "                              pl.col(\"week\").cast(pl.Int16),\n",
        ")\n",
        "calendar"
      ],
      "metadata": {
        "trusted": true,
        "execution": {
          "iopub.status.busy": "2025-04-01T16:03:38.430789Z",
          "iopub.execute_input": "2025-04-01T16:03:38.431178Z",
          "iopub.status.idle": "2025-04-01T16:03:38.444277Z",
          "shell.execute_reply.started": "2025-04-01T16:03:38.431149Z",
          "shell.execute_reply": "2025-04-01T16:03:38.443299Z"
        },
        "id": "27e00658",
        "outputId": "1d434ab2-ff6c-4a00-8fa4-d37c059c5dbf"
      },
      "outputs": [
        {
          "execution_count": 54,
          "output_type": "execute_result",
          "data": {
            "text/plain": "shape: (910, 3)\n┌────────────┬──────┬─────────┐\n│ date       ┆ week ┆ part    │\n│ ---        ┆ ---  ┆ ---     │\n│ date       ┆ i16  ┆ str     │\n╞════════════╪══════╪═════════╡\n│ 2022-07-25 ┆ 0    ┆ train   │\n│ 2022-07-26 ┆ 0    ┆ train   │\n│ 2022-07-27 ┆ 0    ┆ train   │\n│ 2022-07-28 ┆ 0    ┆ train   │\n│ 2022-07-29 ┆ 0    ┆ train   │\n│ …          ┆ …    ┆ …       │\n│ 2025-01-15 ┆ 129  ┆ private │\n│ 2025-01-16 ┆ 129  ┆ private │\n│ 2025-01-17 ┆ 129  ┆ private │\n│ 2025-01-18 ┆ 129  ┆ private │\n│ 2025-01-19 ┆ 129  ┆ private │\n└────────────┴──────┴─────────┘",
            "text/html": "<div><style>\n.dataframe > thead > tr,\n.dataframe > tbody > tr {\n  text-align: right;\n  white-space: pre-wrap;\n}\n</style>\n<small>shape: (910, 3)</small><table border=\"1\" class=\"dataframe\"><thead><tr><th>date</th><th>week</th><th>part</th></tr><tr><td>date</td><td>i16</td><td>str</td></tr></thead><tbody><tr><td>2022-07-25</td><td>0</td><td>&quot;train&quot;</td></tr><tr><td>2022-07-26</td><td>0</td><td>&quot;train&quot;</td></tr><tr><td>2022-07-27</td><td>0</td><td>&quot;train&quot;</td></tr><tr><td>2022-07-28</td><td>0</td><td>&quot;train&quot;</td></tr><tr><td>2022-07-29</td><td>0</td><td>&quot;train&quot;</td></tr><tr><td>&hellip;</td><td>&hellip;</td><td>&hellip;</td></tr><tr><td>2025-01-15</td><td>129</td><td>&quot;private&quot;</td></tr><tr><td>2025-01-16</td><td>129</td><td>&quot;private&quot;</td></tr><tr><td>2025-01-17</td><td>129</td><td>&quot;private&quot;</td></tr><tr><td>2025-01-18</td><td>129</td><td>&quot;private&quot;</td></tr><tr><td>2025-01-19</td><td>129</td><td>&quot;private&quot;</td></tr></tbody></table></div>"
          },
          "metadata": {}
        }
      ],
      "execution_count": null
    },
    {
      "id": "b155868b",
      "cell_type": "code",
      "source": [
        "weeks = calendar.group_by(\"week\").agg(\n",
        "                              pl.col(\"date\").min().alias(\"d1\"),\n",
        "                              pl.col(\"date\").max().alias(\"d2\"),\n",
        "                             ).with_columns(\n",
        "                              pl.col(\"week\").cast(pl.Int16),\n",
        "\n",
        "                              pl.col(\"d1\").dt.year().cast(pl.Int16).alias(\"year1\"),\n",
        "                              pl.col(\"d1\").dt.month().alias(\"month1\"),\n",
        "                              pl.col(\"d1\").dt.day().alias(\"day1\"),\n",
        "                              pl.col(\"d1\").dt.ordinal_day().alias(\"dy1\"),\n",
        "\n",
        "                              pl.col(\"d2\").dt.year().cast(pl.Int16).alias(\"year2\"),\n",
        "                              pl.col(\"d2\").dt.month().alias(\"month2\"),\n",
        "                              pl.col(\"d2\").dt.day().alias(\"day2\"),\n",
        "                              pl.col(\"d2\").dt.ordinal_day().alias(\"dy2\"),\n",
        "                             ).with_columns(\n",
        "                              ((pl.col(\"month2\")-pl.col(\"month1\")+12)%12).alias(\"m\"),\n",
        "                              (pl.col(\"year2\")-pl.col(\"year1\")).cast(pl.Int8).alias(\"y\"),\n",
        "\n",
        "                              pl.when( pl.col(\"month2\").is_in([1,3,5,7,8,10,12])\n",
        "                                     ).then(31-pl.col(\"day2\")\n",
        "                                           ).otherwise(\n",
        "                              pl.when( pl.col(\"month2\").is_in([2,4,6,9,11])\n",
        "                                     ).then(30-pl.col(\"day2\")\n",
        "                                           ).otherwise(\n",
        "                                                       28-pl.col(\"day2\")+(pl.col(\"year2\")==2024)\n",
        "                                                      ),\n",
        "\n",
        "                                                      ).alias(\"day2_\"),\n",
        "\n",
        "                              pl.when( pl.col(\"month1\").is_in([1,3,5,7,8,10,12])\n",
        "                                     ).then(31-pl.col(\"day1\")\n",
        "                                           ).otherwise(\n",
        "                              pl.when( pl.col(\"month1\").is_in([2,4,6,9,11])\n",
        "                                     ).then(30-pl.col(\"day1\")\n",
        "                                           ).otherwise(\n",
        "                                                       28-pl.col(\"day1\")+(pl.col(\"year1\")==2024)\n",
        "                                                      ),\n",
        "\n",
        "                                                      ).alias(\"day1_\"),\n",
        "\n",
        "\n",
        "                              pl.when( (pl.col(\"month1\")>2)&(pl.col(\"year1\")%4!=0)).then(pl.col(\"dy1\")+1).otherwise(pl.col(\"dy1\")).alias(\"dy1\"),\n",
        "                              pl.when( (pl.col(\"month2\")>2)&(pl.col(\"year2\")%4!=0)).then(pl.col(\"dy2\")+1).otherwise(pl.col(\"dy2\")).alias(\"dy2\"),\n",
        "                              #(pl.col(\"d1\")+datetime.timedelta(-1)).replace(workdays).cast(pl.Int8).alias(\"work_1\"),\n",
        "                              (\n",
        "                              (pl.col(\"d1\")+datetime.timedelta(0)).replace(workdays).cast(pl.Int16)+\n",
        "                              (pl.col(\"d1\")+datetime.timedelta(1)).replace(workdays).cast(pl.Int16)+\n",
        "                              (pl.col(\"d1\")+datetime.timedelta(2)).replace(workdays).cast(pl.Int16)+\n",
        "                              (pl.col(\"d1\")+datetime.timedelta(3)).replace(workdays).cast(pl.Int16)+\n",
        "                              (pl.col(\"d1\")+datetime.timedelta(4)).replace(workdays).cast(pl.Int16)+\n",
        "                              (pl.col(\"d1\")+datetime.timedelta(5)).replace(workdays).cast(pl.Int16)+\n",
        "                              (pl.col(\"d1\")+datetime.timedelta(6)).replace(workdays).cast(pl.Int16)\n",
        "                              ).alias(\"w7\"),\n",
        "                              #(pl.col(\"d1\")+datetime.timedelta(7)).replace(workdays).cast(pl.Int8).alias(\"work8\"),\n",
        "                             #).with_columns(\n",
        "                             # (pl.col(\"work1\")+pl.col(\"work2\")+pl.col(\"work3\")+pl.col(\"work4\")+pl.col(\"work5\")+pl.col(\"work6\")+pl.col(\"work7\")).alias(\"w7\"),\n",
        "                             ).with_columns(\n",
        "                              pl.col(\"w7\").shift(-3).alias(\"w7__3\"),\n",
        "                              pl.col(\"w7\").shift(-2).alias(\"w7__2\"),\n",
        "                              pl.col(\"w7\").shift(-1).alias(\"w7__1\"),\n",
        "\n",
        "                              #pl.col(\"w7\").shift(1).alias(\"w7_1\"),\n",
        "                              #pl.col(\"w7\").shift(2).alias(\"w7_2\"),\n",
        "                              #pl.col(\"w7\").shift(3).alias(\"w7_3\"),\n",
        "                              #pl.col(\"w7\").shift(4).alias(\"w7_4\"),\n",
        "                              #pl.col(\"w7\").shift(5).alias(\"w7_5\"),\n",
        "                              #pl.col(\"w7\").shift(6).alias(\"w7_6\"),\n",
        "                             )\n",
        "weeks=weeks.sort(\"week\")\n",
        "weeks"
      ],
      "metadata": {
        "trusted": true,
        "execution": {
          "iopub.status.busy": "2025-04-01T16:05:45.900391Z",
          "iopub.execute_input": "2025-04-01T16:05:45.900868Z",
          "iopub.status.idle": "2025-04-01T16:05:45.935290Z",
          "shell.execute_reply.started": "2025-04-01T16:05:45.900835Z",
          "shell.execute_reply": "2025-04-01T16:05:45.934231Z"
        },
        "id": "b155868b",
        "outputId": "a334791f-aa2f-4109-9cc1-d7cfb721ada7"
      },
      "outputs": [
        {
          "execution_count": 57,
          "output_type": "execute_result",
          "data": {
            "text/plain": "shape: (130, 19)\n┌──────┬────────────┬────────────┬───────┬───┬────────┬───────┬───────┬───────┐\n│ week ┆ d1         ┆ d2         ┆ year1 ┆ … ┆ w7     ┆ w7__3 ┆ w7__2 ┆ w7__1 │\n│ ---  ┆ ---        ┆ ---        ┆ ---   ┆   ┆ ---    ┆ ---   ┆ ---   ┆ ---   │\n│ i16  ┆ date       ┆ date       ┆ i16   ┆   ┆ i16    ┆ i16   ┆ i16   ┆ i16   │\n╞══════╪════════════╪════════════╪═══════╪═══╪════════╪═══════╪═══════╪═══════╡\n│ 0    ┆ 2022-07-25 ┆ 2022-07-31 ┆ 2022  ┆ … ┆ 5      ┆ 5     ┆ 5     ┆ 5     │\n│ 1    ┆ 2022-08-01 ┆ 2022-08-07 ┆ 2022  ┆ … ┆ 5      ┆ 3     ┆ 4     ┆ 5     │\n│ 2    ┆ 2022-08-08 ┆ 2022-08-14 ┆ 2022  ┆ … ┆ 5      ┆ 5     ┆ 5     ┆ 5     │\n│ 3    ┆ 2022-08-15 ┆ 2022-08-21 ┆ 2022  ┆ … ┆ 5      ┆ 5     ┆ 4     ┆ 5     │\n│ 4    ┆ 2022-08-22 ┆ 2022-08-28 ┆ 2022  ┆ … ┆ 5      ┆ 5     ┆ 5     ┆ 5     │\n│ …    ┆ …          ┆ …          ┆ …     ┆ … ┆ …      ┆ …     ┆ …     ┆ …     │\n│ 125  ┆ 2024-12-16 ┆ 2024-12-22 ┆ 2024  ┆ … ┆ 5      ┆ 5     ┆ 5     ┆ 5     │\n│ 126  ┆ 2024-12-23 ┆ 2024-12-29 ┆ 2024  ┆ … ┆ 5      ┆ 5     ┆ 5     ┆ 5     │\n│ 127  ┆ 2024-12-30 ┆ 2025-01-05 ┆ 2024  ┆ … ┆ -30616 ┆ 5     ┆ 5     ┆ 5     │\n│ 128  ┆ 2025-01-06 ┆ 2025-01-12 ┆ 2025  ┆ … ┆ 9607   ┆ 5     ┆ 5     ┆ 5     │\n│ 129  ┆ 2025-01-13 ┆ 2025-01-19 ┆ 2025  ┆ … ┆ 9656   ┆ 5     ┆ 5     ┆ 5     │\n└──────┴────────────┴────────────┴───────┴───┴────────┴───────┴───────┴───────┘",
            "text/html": "<div><style>\n.dataframe > thead > tr,\n.dataframe > tbody > tr {\n  text-align: right;\n  white-space: pre-wrap;\n}\n</style>\n<small>shape: (130, 19)</small><table border=\"1\" class=\"dataframe\"><thead><tr><th>week</th><th>d1</th><th>d2</th><th>year1</th><th>month1</th><th>day1</th><th>dy1</th><th>year2</th><th>month2</th><th>day2</th><th>dy2</th><th>m</th><th>y</th><th>day2_</th><th>day1_</th><th>w7</th><th>w7__3</th><th>w7__2</th><th>w7__1</th></tr><tr><td>i16</td><td>date</td><td>date</td><td>i16</td><td>i8</td><td>i8</td><td>i16</td><td>i16</td><td>i8</td><td>i8</td><td>i16</td><td>i8</td><td>i8</td><td>i8</td><td>i8</td><td>i16</td><td>i16</td><td>i16</td><td>i16</td></tr></thead><tbody><tr><td>0</td><td>2022-07-25</td><td>2022-07-31</td><td>2022</td><td>7</td><td>25</td><td>207</td><td>2022</td><td>7</td><td>31</td><td>213</td><td>0</td><td>0</td><td>0</td><td>6</td><td>5</td><td>5</td><td>5</td><td>5</td></tr><tr><td>1</td><td>2022-08-01</td><td>2022-08-07</td><td>2022</td><td>8</td><td>1</td><td>214</td><td>2022</td><td>8</td><td>7</td><td>220</td><td>0</td><td>0</td><td>24</td><td>30</td><td>5</td><td>3</td><td>4</td><td>5</td></tr><tr><td>2</td><td>2022-08-08</td><td>2022-08-14</td><td>2022</td><td>8</td><td>8</td><td>221</td><td>2022</td><td>8</td><td>14</td><td>227</td><td>0</td><td>0</td><td>17</td><td>23</td><td>5</td><td>5</td><td>5</td><td>5</td></tr><tr><td>3</td><td>2022-08-15</td><td>2022-08-21</td><td>2022</td><td>8</td><td>15</td><td>228</td><td>2022</td><td>8</td><td>21</td><td>234</td><td>0</td><td>0</td><td>10</td><td>16</td><td>5</td><td>5</td><td>4</td><td>5</td></tr><tr><td>4</td><td>2022-08-22</td><td>2022-08-28</td><td>2022</td><td>8</td><td>22</td><td>235</td><td>2022</td><td>8</td><td>28</td><td>241</td><td>0</td><td>0</td><td>3</td><td>9</td><td>5</td><td>5</td><td>5</td><td>5</td></tr><tr><td>&hellip;</td><td>&hellip;</td><td>&hellip;</td><td>&hellip;</td><td>&hellip;</td><td>&hellip;</td><td>&hellip;</td><td>&hellip;</td><td>&hellip;</td><td>&hellip;</td><td>&hellip;</td><td>&hellip;</td><td>&hellip;</td><td>&hellip;</td><td>&hellip;</td><td>&hellip;</td><td>&hellip;</td><td>&hellip;</td><td>&hellip;</td></tr><tr><td>125</td><td>2024-12-16</td><td>2024-12-22</td><td>2024</td><td>12</td><td>16</td><td>351</td><td>2024</td><td>12</td><td>22</td><td>357</td><td>0</td><td>0</td><td>9</td><td>15</td><td>5</td><td>5</td><td>5</td><td>5</td></tr><tr><td>126</td><td>2024-12-23</td><td>2024-12-29</td><td>2024</td><td>12</td><td>23</td><td>358</td><td>2024</td><td>12</td><td>29</td><td>364</td><td>0</td><td>0</td><td>2</td><td>8</td><td>5</td><td>5</td><td>5</td><td>5</td></tr><tr><td>127</td><td>2024-12-30</td><td>2025-01-05</td><td>2024</td><td>12</td><td>30</td><td>365</td><td>2025</td><td>1</td><td>5</td><td>5</td><td>1</td><td>1</td><td>26</td><td>1</td><td>-30616</td><td>5</td><td>5</td><td>5</td></tr><tr><td>128</td><td>2025-01-06</td><td>2025-01-12</td><td>2025</td><td>1</td><td>6</td><td>6</td><td>2025</td><td>1</td><td>12</td><td>12</td><td>0</td><td>0</td><td>19</td><td>25</td><td>9607</td><td>5</td><td>5</td><td>5</td></tr><tr><td>129</td><td>2025-01-13</td><td>2025-01-19</td><td>2025</td><td>1</td><td>13</td><td>13</td><td>2025</td><td>1</td><td>19</td><td>19</td><td>0</td><td>0</td><td>12</td><td>18</td><td>9656</td><td>5</td><td>5</td><td>5</td></tr></tbody></table></div>"
          },
          "metadata": {}
        }
      ],
      "execution_count": null
    },
    {
      "id": "8f71864c",
      "cell_type": "code",
      "source": [
        "wcols=weeks.columns[3:]\n",
        "wcols"
      ],
      "metadata": {
        "trusted": true,
        "execution": {
          "iopub.status.busy": "2025-04-01T16:05:51.610210Z",
          "iopub.execute_input": "2025-04-01T16:05:51.610605Z",
          "iopub.status.idle": "2025-04-01T16:05:51.617779Z",
          "shell.execute_reply.started": "2025-04-01T16:05:51.610572Z",
          "shell.execute_reply": "2025-04-01T16:05:51.616495Z"
        },
        "id": "8f71864c",
        "outputId": "79fcc659-ca2c-4586-816f-4078662fd0a9"
      },
      "outputs": [
        {
          "execution_count": 58,
          "output_type": "execute_result",
          "data": {
            "text/plain": "['year1',\n 'month1',\n 'day1',\n 'dy1',\n 'year2',\n 'month2',\n 'day2',\n 'dy2',\n 'm',\n 'y',\n 'day2_',\n 'day1_',\n 'w7',\n 'w7__3',\n 'w7__2',\n 'w7__1']"
          },
          "metadata": {}
        }
      ],
      "execution_count": null
    },
    {
      "id": "6453403c",
      "cell_type": "code",
      "source": [
        "#weeks=weeks.with_columns(#cs.by_name(wcols).shift(-1).name.suffix(\"_02\"),\n",
        "#                         cs.by_name(wcols).shift(-2).name.suffix(\"_03\"),\n",
        "#                         #cs.by_name(wcols).shift(-3).name.suffix(\"_04\"),\n",
        "#                        )\n",
        "#week = weeks.sort(\"week\")\n",
        "#weeks"
      ],
      "metadata": {
        "trusted": true,
        "execution": {
          "iopub.status.busy": "2025-04-01T16:05:53.453820Z",
          "iopub.execute_input": "2025-04-01T16:05:53.454199Z",
          "iopub.status.idle": "2025-04-01T16:05:53.458678Z",
          "shell.execute_reply.started": "2025-04-01T16:05:53.454171Z",
          "shell.execute_reply": "2025-04-01T16:05:53.457494Z"
        },
        "id": "6453403c"
      },
      "outputs": [],
      "execution_count": null
    },
    {
      "id": "126fffc3",
      "cell_type": "code",
      "source": [
        "#profiles = pl.read_parquet(\"data/profiles.parquet\")#[\"\"]\n",
        "#profiles#[\"ipul\"].unique()\n",
        "\n",
        "#okved = pl.read_parquet(\"data/profiles.parquet\"\n",
        "#               ).pivot(index=\"inn_id\", on=\"main_okved_group\", values=\"ipul\" , aggregate_function=\"count\"\n",
        "#                      ).fill_null(0).rename(lambda column_name: \"okved_\" + column_name\n",
        "#                                           ).with_columns(pl.selectors.integer().cast(pl.UInt8),\n",
        "#                                                         )\n",
        "#okved"
      ],
      "metadata": {
        "trusted": true,
        "execution": {
          "iopub.status.busy": "2025-04-01T15:55:20.029808Z",
          "iopub.status.idle": "2025-04-01T15:55:20.030244Z",
          "shell.execute_reply": "2025-04-01T15:55:20.030072Z"
        },
        "id": "126fffc3"
      },
      "outputs": [],
      "execution_count": null
    },
    {
      "id": "e08900dd",
      "cell_type": "code",
      "source": [
        "#region=pl.read_parquet(\"data/profiles.parquet\"\n",
        "#               ).pivot(index=\"inn_id\", on=\"id_region\", values=\"ipul\" , aggregate_function=\"count\"\n",
        "#                      ).fill_null(0).rename(lambda column_name: \"region_\" + column_name\n",
        "#                                           ).with_columns(pl.selectors.integer().cast(pl.UInt8),\n",
        "#                                                         )\n",
        "#region"
      ],
      "metadata": {
        "trusted": true,
        "execution": {
          "iopub.status.busy": "2025-04-01T15:55:20.031182Z",
          "iopub.status.idle": "2025-04-01T15:55:20.031650Z",
          "shell.execute_reply": "2025-04-01T15:55:20.031448Z"
        },
        "id": "e08900dd"
      },
      "outputs": [],
      "execution_count": null
    },
    {
      "id": "958254a8",
      "cell_type": "code",
      "source": [
        "profiles = pl.read_parquet(\"input/iatvoirotblat/profiles_extended.parquet\")#[\"diff_datopen_report_date_flg\"].unique()\n",
        "age={\n",
        "    \"1m\":1,\n",
        "    \"2_3m\":3,\n",
        "    \"3_6m\":6,\n",
        "    \"6_12m\":12,\n",
        "    \"1_2y\":24,\n",
        "    \"2_4y\":48,\n",
        "    \"4_8y\":96,\n",
        "    \"8_12y\":144,\n",
        "    \"more_12y\":192,\n",
        "    #\"NULL\":np.nan\n",
        "}\n",
        "ipul={\n",
        "    \"ip\":0,\n",
        "    \"ul\":1,\n",
        "}\n",
        "profiles = profiles.with_columns(\n",
        "    pl.col(\"report_date\").str.to_date(),\n",
        "    pl.col(\"diff_datopen_report_date_flg\").replace(age, default=np.NAN),\n",
        "    pl.col(\"ipul\").replace(ipul).cast(pl.Int8),\n",
        "    pl.col(\"id_region\").fill_null(\"-\"),\n",
        "    pl.col(\"main_okved_group\").fill_null(\"-\"),\n",
        "    pl.col(\"inn_id\").str.replace(\"inn\",\"\").cast(pl.Int32).alias(\"inn\"),\n",
        ")\n",
        "profiles = profiles.sort(\"report_date\"\n",
        "                        ).group_by(\"inn_id\"\n",
        "                                  ).agg(pl.col(\"ipul\").first(),\n",
        "                                        pl.col(\"id_region\").first(),\n",
        "                                        pl.col(\"main_okved_group\").last(),\n",
        "                                        pl.col(\"diff_datopen_report_date_flg\").max(),\n",
        "                                        pl.col(\"diff_datopen_report_date_flg\").min().alias(\"diff_datopen_report_date_flg_min\"),\n",
        "\n",
        "                                        #pl.col(\"report_date\").max(),\n",
        "                                        #pl.col(\"report_date\").min().alias(\"report_date_min\"),\n",
        "                                        #pl.col(\"id_region\").unique().alias(\"id_region\"),\n",
        "                                        #pl.col(\"main_okved_group\").unique().alias(\"main_okved_group\"),\n",
        "                                        #pl.col(\"diff_datopen_report_date_flg\").n_unique().alias(\"diff_datopen_report_date_count\"),\n",
        "                                       ).join(profiles.group_by(\"inn_id\"\n",
        "                                                               ).agg(\n",
        "                                        #pl.col(\"report_date\").max(),\n",
        "                                        pl.col(\"report_date\").min().alias(\"report_date_min\"),\n",
        "                                                                     ),\n",
        "                                              on=\"inn_id\",\n",
        "                                              how=\"left\"\n",
        "                                        #).with_columns(\n",
        "                                        #    pl.col(\"inn_id\").str.replace(\"inn\",\"\").cast(pl.UInt32).alias(\"inn\"),\n",
        "                                        )\n",
        "profiles\n",
        "#profiles=profiles.join(okved,how=\"left\",left_on=\"inn_id\",right_on=\"okved_inn_id\"\n",
        "#                      ).join(region,how=\"left\",left_on=\"inn_id\",right_on=\"region_inn_id\"\n",
        "#                            )\n",
        "profiles"
      ],
      "metadata": {
        "trusted": true,
        "execution": {
          "iopub.status.busy": "2025-04-01T16:07:00.785087Z",
          "iopub.execute_input": "2025-04-01T16:07:00.785466Z",
          "iopub.status.idle": "2025-04-01T16:07:48.941461Z",
          "shell.execute_reply.started": "2025-04-01T16:07:00.785438Z",
          "shell.execute_reply": "2025-04-01T16:07:48.940227Z"
        },
        "id": "958254a8",
        "outputId": "ab5dbea5-47db-42f1-f370-c8cca0d7071a"
      },
      "outputs": [
        {
          "name": "stderr",
          "text": "<ipython-input-63-d2ba23494c68>:20: DeprecationWarning: The `default` parameter for `replace` is deprecated. Use `replace_strict` instead to set a default while replacing values.\n  pl.col(\"diff_datopen_report_date_flg\").replace(age, default=np.NAN),\n",
          "output_type": "stream"
        },
        {
          "execution_count": 63,
          "output_type": "execute_result",
          "data": {
            "text/plain": "shape: (3_086_143, 7)\n┌────────────┬──────┬───────────┬────────────────┬────────────────┬────────────────┬───────────────┐\n│ inn_id     ┆ ipul ┆ id_region ┆ main_okved_gro ┆ diff_datopen_r ┆ diff_datopen_r ┆ report_date_m │\n│ ---        ┆ ---  ┆ ---       ┆ up             ┆ eport_date_flg ┆ eport_date_flg ┆ in            │\n│ str        ┆ i8   ┆ str       ┆ ---            ┆ ---            ┆ _m…            ┆ ---           │\n│            ┆      ┆           ┆ str            ┆ f64            ┆ ---            ┆ date          │\n│            ┆      ┆           ┆                ┆                ┆ f64            ┆               │\n╞════════════╪══════╪═══════════╪════════════════╪════════════════╪════════════════╪═══════════════╡\n│ inn2372063 ┆ 0    ┆ 60        ┆ 46             ┆ 192.0          ┆ 192.0          ┆ 2023-10-01    │\n│ inn4292506 ┆ 0    ┆ 85        ┆ 56             ┆ 96.0           ┆ 96.0           ┆ 2023-10-01    │\n│ inn2589611 ┆ 0    ┆ 71        ┆ 47             ┆ 96.0           ┆ 96.0           ┆ 2023-10-01    │\n│ inn837128  ┆ 1    ┆ 22        ┆ 63             ┆ 96.0           ┆ 96.0           ┆ 2023-10-01    │\n│ inn4547500 ┆ 0    ┆ 91        ┆ 49             ┆ 24.0           ┆ 3.0            ┆ 2023-11-01    │\n│ …          ┆ …    ┆ …         ┆ …              ┆ …              ┆ …              ┆ …             │\n│ inn1229978 ┆ 0    ┆ 45        ┆ 49             ┆ 96.0           ┆ 96.0           ┆ 2023-10-01    │\n│ inn840616  ┆ 1    ┆ 45        ┆ 46             ┆ 144.0          ┆ 144.0          ┆ 2023-10-01    │\n│ inn1848230 ┆ 1    ┆ 45        ┆ 62             ┆ 96.0           ┆ 48.0           ┆ 2023-10-01    │\n│ inn1675809 ┆ 1    ┆ 5         ┆ 46             ┆ 6.0            ┆ 1.0            ┆ 2024-06-01    │\n│ inn5205961 ┆ 0    ┆ 20        ┆ 45             ┆ 192.0          ┆ 192.0          ┆ 2024-02-01    │\n└────────────┴──────┴───────────┴────────────────┴────────────────┴────────────────┴───────────────┘",
            "text/html": "<div><style>\n.dataframe > thead > tr,\n.dataframe > tbody > tr {\n  text-align: right;\n  white-space: pre-wrap;\n}\n</style>\n<small>shape: (3_086_143, 7)</small><table border=\"1\" class=\"dataframe\"><thead><tr><th>inn_id</th><th>ipul</th><th>id_region</th><th>main_okved_group</th><th>diff_datopen_report_date_flg</th><th>diff_datopen_report_date_flg_min</th><th>report_date_min</th></tr><tr><td>str</td><td>i8</td><td>str</td><td>str</td><td>f64</td><td>f64</td><td>date</td></tr></thead><tbody><tr><td>&quot;inn2372063&quot;</td><td>0</td><td>&quot;60&quot;</td><td>&quot;46&quot;</td><td>192.0</td><td>192.0</td><td>2023-10-01</td></tr><tr><td>&quot;inn4292506&quot;</td><td>0</td><td>&quot;85&quot;</td><td>&quot;56&quot;</td><td>96.0</td><td>96.0</td><td>2023-10-01</td></tr><tr><td>&quot;inn2589611&quot;</td><td>0</td><td>&quot;71&quot;</td><td>&quot;47&quot;</td><td>96.0</td><td>96.0</td><td>2023-10-01</td></tr><tr><td>&quot;inn837128&quot;</td><td>1</td><td>&quot;22&quot;</td><td>&quot;63&quot;</td><td>96.0</td><td>96.0</td><td>2023-10-01</td></tr><tr><td>&quot;inn4547500&quot;</td><td>0</td><td>&quot;91&quot;</td><td>&quot;49&quot;</td><td>24.0</td><td>3.0</td><td>2023-11-01</td></tr><tr><td>&hellip;</td><td>&hellip;</td><td>&hellip;</td><td>&hellip;</td><td>&hellip;</td><td>&hellip;</td><td>&hellip;</td></tr><tr><td>&quot;inn1229978&quot;</td><td>0</td><td>&quot;45&quot;</td><td>&quot;49&quot;</td><td>96.0</td><td>96.0</td><td>2023-10-01</td></tr><tr><td>&quot;inn840616&quot;</td><td>1</td><td>&quot;45&quot;</td><td>&quot;46&quot;</td><td>144.0</td><td>144.0</td><td>2023-10-01</td></tr><tr><td>&quot;inn1848230&quot;</td><td>1</td><td>&quot;45&quot;</td><td>&quot;62&quot;</td><td>96.0</td><td>48.0</td><td>2023-10-01</td></tr><tr><td>&quot;inn1675809&quot;</td><td>1</td><td>&quot;5&quot;</td><td>&quot;46&quot;</td><td>6.0</td><td>1.0</td><td>2024-06-01</td></tr><tr><td>&quot;inn5205961&quot;</td><td>0</td><td>&quot;20&quot;</td><td>&quot;45&quot;</td><td>192.0</td><td>192.0</td><td>2024-02-01</td></tr></tbody></table></div>"
          },
          "metadata": {}
        }
      ],
      "execution_count": null
    },
    {
      "id": "bb5fe353",
      "cell_type": "code",
      "source": [
        "#profiles2 = profiles.join(innstat0,on=\"inn_id\",how=\"left\")\n",
        "#profiles.max()\n",
        "\n",
        "#weekclass = pl.read_parquet(\"weekclass.parquet\")\n",
        "#weekclass"
      ],
      "metadata": {
        "trusted": true,
        "execution": {
          "iopub.status.busy": "2025-04-01T16:07:55.008661Z",
          "iopub.execute_input": "2025-04-01T16:07:55.009070Z",
          "iopub.status.idle": "2025-04-01T16:07:55.013125Z",
          "shell.execute_reply.started": "2025-04-01T16:07:55.009042Z",
          "shell.execute_reply": "2025-04-01T16:07:55.011945Z"
        },
        "id": "bb5fe353"
      },
      "outputs": [],
      "execution_count": null
    },
    {
      "id": "d01856a6",
      "cell_type": "code",
      "source": [
        "XX = innweeks.join(weeks,\n",
        "                   on=\"week\",\n",
        "                   how=\"left\"\n",
        "                  ).join(profiles,on=\"inn_id\",\n",
        "                         how=\"left\"\n",
        "                        ).sort(\"week\"\n",
        "                 # ).join(weekclass.with_columns(pl.col(\"class_nweek\")+1),\n",
        "                 #        left_on=[\"inn_id\",\"week\"],\n",
        "                 #        right_on=[\"class_doc_payer_inn\",\"class_nweek\"],\n",
        "                 #        how=\"left\"\n",
        "                 # ).join(weekclass.with_columns(pl.col(\"class_nweek\")+2),\n",
        "                 #        left_on=[\"inn_id\",\"week\"],\n",
        "                 #        right_on=[\"class_doc_payer_inn\",\"class_nweek\"],\n",
        "                 #        suffix=\"02\",\n",
        "                 #        how=\"left\"\n",
        "                 # ).join(weekclass.with_columns(pl.col(\"class_nweek\")+3),\n",
        "                 #        left_on=[\"inn_id\",\"week\"],\n",
        "                 #        right_on=[\"class_doc_payer_inn\",\"class_nweek\"],\n",
        "                 #        suffix=\"03\",\n",
        "                 #        how=\"left\"\n",
        "                 # ).join(weekclass.with_columns(pl.col(\"class_nweek\")+4),\n",
        "                 #        left_on=[\"inn_id\",\"week\"],\n",
        "                 #        right_on=[\"class_doc_payer_inn\",\"class_nweek\"],\n",
        "                 #        suffix=\"04\",\n",
        "                 #        how=\"left\"\n",
        "                                #.with_columns(pl.col(\"\").cast(pl.String),\n",
        "                                #              pl.col(\"\").cast(pl.String),\n",
        "                                              )\n",
        "#.filter(pl.col(\"week\")>4)\n",
        "XX"
      ],
      "metadata": {
        "trusted": true,
        "execution": {
          "iopub.status.busy": "2025-04-01T16:07:55.302300Z",
          "iopub.execute_input": "2025-04-01T16:07:55.302940Z",
          "iopub.status.idle": "2025-04-01T16:07:56.011389Z",
          "shell.execute_reply.started": "2025-04-01T16:07:55.302898Z",
          "shell.execute_reply": "2025-04-01T16:07:56.009922Z"
        },
        "id": "d01856a6",
        "outputId": "44154089-7aa9-4c3d-9813-4327d53ee1e2"
      },
      "outputs": [
        {
          "execution_count": 65,
          "output_type": "execute_result",
          "data": {
            "text/plain": "shape: (623_556, 304)\n┌────────────┬──────┬───────────┬──────┬───┬─────────────┬─────────────┬─────────────┬─────────────┐\n│ inn_id     ┆ week ┆ target    ┆ sign ┆ … ┆ main_okved_ ┆ diff_datope ┆ diff_datope ┆ report_date │\n│ ---        ┆ ---  ┆ ---       ┆ ---  ┆   ┆ group       ┆ n_report_da ┆ n_report_da ┆ _min        │\n│ str        ┆ i16  ┆ f32       ┆ i8   ┆   ┆ ---         ┆ te_flg      ┆ te_flg_m…   ┆ ---         │\n│            ┆      ┆           ┆      ┆   ┆ str         ┆ ---         ┆ ---         ┆ date        │\n│            ┆      ┆           ┆      ┆   ┆             ┆ f64         ┆ f64         ┆             │\n╞════════════╪══════╪═══════════╪══════╪═══╪═════════════╪═════════════╪═════════════╪═════════════╡\n│ inn1000051 ┆ 106  ┆ 11.974568 ┆ 0    ┆ … ┆ 68          ┆ 96.0        ┆ 48.0        ┆ 2023-10-01  │\n│ inn1000246 ┆ 106  ┆ 15.428097 ┆ 0    ┆ … ┆ 17          ┆ 144.0       ┆ 96.0        ┆ 2023-10-01  │\n│ inn1000281 ┆ 106  ┆ 13.42759  ┆ 0    ┆ … ┆ 20          ┆ 192.0       ┆ 192.0       ┆ 2023-10-01  │\n│ inn1000367 ┆ 106  ┆ 14.230289 ┆ 0    ┆ … ┆ 25          ┆ 96.0        ┆ 96.0        ┆ 2023-10-01  │\n│ inn1000409 ┆ 106  ┆ 11.684277 ┆ 0    ┆ … ┆ 68          ┆ 192.0       ┆ 192.0       ┆ 2023-10-01  │\n│ …          ┆ …    ┆ …         ┆ …    ┆ … ┆ …           ┆ …           ┆ …           ┆ …           │\n│ inn999585  ┆ 117  ┆ 14.627742 ┆ 0    ┆ … ┆ 35          ┆ 192.0       ┆ 192.0       ┆ 2023-10-01  │\n│ inn999624  ┆ 117  ┆ 12.159358 ┆ 0    ┆ … ┆ 47          ┆ 192.0       ┆ 192.0       ┆ 2023-10-01  │\n│ inn999737  ┆ 117  ┆ 12.015922 ┆ 0    ┆ … ┆ 22          ┆ 96.0        ┆ 96.0        ┆ 2023-10-01  │\n│ inn999759  ┆ 117  ┆ 16.694366 ┆ 0    ┆ … ┆ 25          ┆ 144.0       ┆ 144.0       ┆ 2023-10-01  │\n│ inn999886  ┆ 117  ┆ 15.85258  ┆ 0    ┆ … ┆ 45          ┆ 192.0       ┆ 192.0       ┆ 2023-10-01  │\n└────────────┴──────┴───────────┴──────┴───┴─────────────┴─────────────┴─────────────┴─────────────┘",
            "text/html": "<div><style>\n.dataframe > thead > tr,\n.dataframe > tbody > tr {\n  text-align: right;\n  white-space: pre-wrap;\n}\n</style>\n<small>shape: (623_556, 304)</small><table border=\"1\" class=\"dataframe\"><thead><tr><th>inn_id</th><th>week</th><th>target</th><th>sign</th><th>out_vtb_trns_count</th><th>out_vtb_trns_amount</th><th>out_vtb_date</th><th>out_vtb_cinn</th><th>out_vtb_trns_amount_log</th><th>out_vtbip_trns_count</th><th>out_vtbip_trns_amount</th><th>out_vtbip_cinn</th><th>in_vtb_trns_count</th><th>in_vtb_trns_amount</th><th>in_vtb_date</th><th>in_vtb_cinn</th><th>in_vtb_trns_amount_log</th><th>in_vtbip_trns_count</th><th>in_vtbip_trns_amount</th><th>in_vtbip_cinn</th><th>cum</th><th>cumsum</th><th>target_1</th><th>target_2</th><th>target_3</th><th>out_vtb_trns_count_02</th><th>out_vtb_trns_amount_02</th><th>out_vtb_date_02</th><th>out_vtb_cinn_02</th><th>out_vtb_trns_amount_log_02</th><th>out_vtbip_trns_count_02</th><th>out_vtbip_trns_amount_02</th><th>out_vtbip_cinn_02</th><th>in_vtb_trns_count_02</th><th>in_vtb_trns_amount_02</th><th>in_vtb_date_02</th><th>in_vtb_cinn_02</th><th>&hellip;</th><th>out_vtb_trns_amount_log_16</th><th>out_vtbip_trns_count_16</th><th>out_vtbip_trns_amount_16</th><th>out_vtbip_cinn_16</th><th>in_vtb_trns_count_16</th><th>in_vtb_trns_amount_16</th><th>in_vtb_date_16</th><th>in_vtb_cinn_16</th><th>in_vtb_trns_amount_log_16</th><th>in_vtbip_trns_count_16</th><th>in_vtbip_trns_amount_16</th><th>in_vtbip_cinn_16</th><th>cum_16</th><th>d1</th><th>d2</th><th>year1</th><th>month1</th><th>day1</th><th>dy1</th><th>year2</th><th>month2</th><th>day2</th><th>dy2</th><th>m</th><th>y</th><th>day2_</th><th>day1_</th><th>w7</th><th>w7__3</th><th>w7__2</th><th>w7__1</th><th>ipul</th><th>id_region</th><th>main_okved_group</th><th>diff_datopen_report_date_flg</th><th>diff_datopen_report_date_flg_min</th><th>report_date_min</th></tr><tr><td>str</td><td>i16</td><td>f32</td><td>i8</td><td>u16</td><td>f32</td><td>u8</td><td>u16</td><td>f32</td><td>u8</td><td>u8</td><td>u8</td><td>u16</td><td>f32</td><td>u8</td><td>u16</td><td>f32</td><td>u8</td><td>u8</td><td>u8</td><td>f32</td><td>f32</td><td>f32</td><td>f32</td><td>f32</td><td>u16</td><td>f32</td><td>u8</td><td>u16</td><td>f32</td><td>u8</td><td>u8</td><td>u8</td><td>u16</td><td>f32</td><td>u8</td><td>u16</td><td>&hellip;</td><td>f32</td><td>u8</td><td>u8</td><td>u8</td><td>u16</td><td>f32</td><td>u8</td><td>u16</td><td>f32</td><td>u8</td><td>u8</td><td>u8</td><td>f32</td><td>date</td><td>date</td><td>i16</td><td>i8</td><td>i8</td><td>i16</td><td>i16</td><td>i8</td><td>i8</td><td>i16</td><td>i8</td><td>i8</td><td>i8</td><td>i8</td><td>i16</td><td>i16</td><td>i16</td><td>i16</td><td>i8</td><td>str</td><td>str</td><td>f64</td><td>f64</td><td>date</td></tr></thead><tbody><tr><td>&quot;inn1000051&quot;</td><td>106</td><td>11.974568</td><td>0</td><td>null</td><td>null</td><td>null</td><td>null</td><td>null</td><td>null</td><td>null</td><td>null</td><td>null</td><td>null</td><td>null</td><td>null</td><td>null</td><td>null</td><td>null</td><td>null</td><td>null</td><td>3.8968428e7</td><td>10.961955</td><td>8.964775</td><td>14.73538</td><td>null</td><td>null</td><td>null</td><td>null</td><td>null</td><td>null</td><td>null</td><td>null</td><td>null</td><td>null</td><td>null</td><td>null</td><td>&hellip;</td><td>null</td><td>null</td><td>null</td><td>null</td><td>null</td><td>null</td><td>null</td><td>null</td><td>null</td><td>null</td><td>null</td><td>null</td><td>null</td><td>2024-08-05</td><td>2024-08-11</td><td>2024</td><td>8</td><td>5</td><td>218</td><td>2024</td><td>8</td><td>11</td><td>224</td><td>0</td><td>0</td><td>20</td><td>26</td><td>5</td><td>5</td><td>5</td><td>0</td><td>0</td><td>&quot;45&quot;</td><td>&quot;68&quot;</td><td>96.0</td><td>48.0</td><td>2023-10-01</td></tr><tr><td>&quot;inn1000246&quot;</td><td>106</td><td>15.428097</td><td>0</td><td>null</td><td>null</td><td>null</td><td>null</td><td>null</td><td>null</td><td>null</td><td>null</td><td>null</td><td>null</td><td>null</td><td>null</td><td>null</td><td>null</td><td>null</td><td>null</td><td>null</td><td>1.7447134e7</td><td>15.234889</td><td>15.695794</td><td>15.480073</td><td>null</td><td>null</td><td>null</td><td>null</td><td>null</td><td>null</td><td>null</td><td>null</td><td>null</td><td>null</td><td>null</td><td>null</td><td>&hellip;</td><td>null</td><td>null</td><td>null</td><td>null</td><td>null</td><td>null</td><td>null</td><td>null</td><td>null</td><td>null</td><td>null</td><td>null</td><td>null</td><td>2024-08-05</td><td>2024-08-11</td><td>2024</td><td>8</td><td>5</td><td>218</td><td>2024</td><td>8</td><td>11</td><td>224</td><td>0</td><td>0</td><td>20</td><td>26</td><td>5</td><td>5</td><td>5</td><td>0</td><td>1</td><td>&quot;33&quot;</td><td>&quot;17&quot;</td><td>144.0</td><td>96.0</td><td>2023-10-01</td></tr><tr><td>&quot;inn1000281&quot;</td><td>106</td><td>13.42759</td><td>0</td><td>null</td><td>null</td><td>null</td><td>null</td><td>null</td><td>null</td><td>null</td><td>null</td><td>null</td><td>null</td><td>null</td><td>null</td><td>null</td><td>null</td><td>null</td><td>null</td><td>null</td><td>1.11045432e8</td><td>11.808892</td><td>10.818419</td><td>11.780949</td><td>null</td><td>null</td><td>null</td><td>null</td><td>null</td><td>null</td><td>null</td><td>null</td><td>null</td><td>null</td><td>null</td><td>null</td><td>&hellip;</td><td>null</td><td>null</td><td>null</td><td>null</td><td>null</td><td>null</td><td>null</td><td>null</td><td>null</td><td>null</td><td>null</td><td>null</td><td>null</td><td>2024-08-05</td><td>2024-08-11</td><td>2024</td><td>8</td><td>5</td><td>218</td><td>2024</td><td>8</td><td>11</td><td>224</td><td>0</td><td>0</td><td>20</td><td>26</td><td>5</td><td>5</td><td>5</td><td>0</td><td>1</td><td>&quot;40&quot;</td><td>&quot;20&quot;</td><td>192.0</td><td>192.0</td><td>2023-10-01</td></tr><tr><td>&quot;inn1000367&quot;</td><td>106</td><td>14.230289</td><td>0</td><td>null</td><td>null</td><td>null</td><td>null</td><td>null</td><td>null</td><td>null</td><td>null</td><td>null</td><td>null</td><td>null</td><td>null</td><td>null</td><td>null</td><td>null</td><td>null</td><td>null</td><td>8.9215408e7</td><td>12.26573</td><td>12.371948</td><td>13.723753</td><td>null</td><td>null</td><td>null</td><td>null</td><td>null</td><td>null</td><td>null</td><td>null</td><td>null</td><td>null</td><td>null</td><td>null</td><td>&hellip;</td><td>null</td><td>null</td><td>null</td><td>null</td><td>null</td><td>null</td><td>null</td><td>null</td><td>null</td><td>null</td><td>null</td><td>null</td><td>null</td><td>2024-08-05</td><td>2024-08-11</td><td>2024</td><td>8</td><td>5</td><td>218</td><td>2024</td><td>8</td><td>11</td><td>224</td><td>0</td><td>0</td><td>20</td><td>26</td><td>5</td><td>5</td><td>5</td><td>0</td><td>1</td><td>&quot;41&quot;</td><td>&quot;25&quot;</td><td>96.0</td><td>96.0</td><td>2023-10-01</td></tr><tr><td>&quot;inn1000409&quot;</td><td>106</td><td>11.684277</td><td>0</td><td>null</td><td>null</td><td>null</td><td>null</td><td>null</td><td>null</td><td>null</td><td>null</td><td>null</td><td>null</td><td>null</td><td>null</td><td>null</td><td>null</td><td>null</td><td>null</td><td>null</td><td>0.0</td><td>11.801395</td><td>13.371939</td><td>13.130376</td><td>null</td><td>null</td><td>null</td><td>null</td><td>null</td><td>null</td><td>null</td><td>null</td><td>null</td><td>null</td><td>null</td><td>null</td><td>&hellip;</td><td>null</td><td>null</td><td>null</td><td>null</td><td>null</td><td>null</td><td>null</td><td>null</td><td>null</td><td>null</td><td>null</td><td>null</td><td>null</td><td>2024-08-05</td><td>2024-08-11</td><td>2024</td><td>8</td><td>5</td><td>218</td><td>2024</td><td>8</td><td>11</td><td>224</td><td>0</td><td>0</td><td>20</td><td>26</td><td>5</td><td>5</td><td>5</td><td>0</td><td>0</td><td>&quot;45&quot;</td><td>&quot;68&quot;</td><td>192.0</td><td>192.0</td><td>2023-10-01</td></tr><tr><td>&hellip;</td><td>&hellip;</td><td>&hellip;</td><td>&hellip;</td><td>&hellip;</td><td>&hellip;</td><td>&hellip;</td><td>&hellip;</td><td>&hellip;</td><td>&hellip;</td><td>&hellip;</td><td>&hellip;</td><td>&hellip;</td><td>&hellip;</td><td>&hellip;</td><td>&hellip;</td><td>&hellip;</td><td>&hellip;</td><td>&hellip;</td><td>&hellip;</td><td>&hellip;</td><td>&hellip;</td><td>&hellip;</td><td>&hellip;</td><td>&hellip;</td><td>&hellip;</td><td>&hellip;</td><td>&hellip;</td><td>&hellip;</td><td>&hellip;</td><td>&hellip;</td><td>&hellip;</td><td>&hellip;</td><td>&hellip;</td><td>&hellip;</td><td>&hellip;</td><td>&hellip;</td><td>&hellip;</td><td>&hellip;</td><td>&hellip;</td><td>&hellip;</td><td>&hellip;</td><td>&hellip;</td><td>&hellip;</td><td>&hellip;</td><td>&hellip;</td><td>&hellip;</td><td>&hellip;</td><td>&hellip;</td><td>&hellip;</td><td>&hellip;</td><td>&hellip;</td><td>&hellip;</td><td>&hellip;</td><td>&hellip;</td><td>&hellip;</td><td>&hellip;</td><td>&hellip;</td><td>&hellip;</td><td>&hellip;</td><td>&hellip;</td><td>&hellip;</td><td>&hellip;</td><td>&hellip;</td><td>&hellip;</td><td>&hellip;</td><td>&hellip;</td><td>&hellip;</td><td>&hellip;</td><td>&hellip;</td><td>&hellip;</td><td>&hellip;</td><td>&hellip;</td><td>&hellip;</td><td>&hellip;</td></tr><tr><td>&quot;inn999585&quot;</td><td>117</td><td>14.627742</td><td>0</td><td>25</td><td>5504869.5</td><td>5</td><td>16</td><td>15.521144</td><td>71</td><td>18</td><td>111</td><td>18</td><td>2.339953e6</td><td>5</td><td>3</td><td>14.665642</td><td>14</td><td>40</td><td>84</td><td>-3.1649e6</td><td>0.0</td><td>null</td><td>null</td><td>null</td><td>22</td><td>8.487523e6</td><td>7</td><td>12</td><td>15.954108</td><td>81</td><td>0</td><td>42</td><td>40</td><td>4125528.5</td><td>6</td><td>3</td><td>&hellip;</td><td>null</td><td>null</td><td>null</td><td>null</td><td>null</td><td>null</td><td>null</td><td>null</td><td>null</td><td>null</td><td>null</td><td>null</td><td>null</td><td>2024-10-21</td><td>2024-10-27</td><td>2024</td><td>10</td><td>21</td><td>295</td><td>2024</td><td>10</td><td>27</td><td>301</td><td>0</td><td>0</td><td>4</td><td>10</td><td>5</td><td>5</td><td>5</td><td>5</td><td>1</td><td>&quot;70&quot;</td><td>&quot;35&quot;</td><td>192.0</td><td>192.0</td><td>2023-10-01</td></tr><tr><td>&quot;inn999624&quot;</td><td>117</td><td>12.159358</td><td>0</td><td>6</td><td>162348.109375</td><td>3</td><td>6</td><td>11.997504</td><td>0</td><td>0</td><td>0</td><td>0</td><td>0.0</td><td>0</td><td>0</td><td>0.0</td><td>0</td><td>0</td><td>0</td><td>-162348.109375</td><td>0.0</td><td>null</td><td>null</td><td>null</td><td>14</td><td>300970.84375</td><td>2</td><td>10</td><td>12.614772</td><td>0</td><td>0</td><td>0</td><td>0</td><td>0.0</td><td>0</td><td>0</td><td>&hellip;</td><td>null</td><td>null</td><td>null</td><td>null</td><td>null</td><td>null</td><td>null</td><td>null</td><td>null</td><td>null</td><td>null</td><td>null</td><td>null</td><td>2024-10-21</td><td>2024-10-27</td><td>2024</td><td>10</td><td>21</td><td>295</td><td>2024</td><td>10</td><td>27</td><td>301</td><td>0</td><td>0</td><td>4</td><td>10</td><td>5</td><td>5</td><td>5</td><td>5</td><td>0</td><td>&quot;46&quot;</td><td>&quot;47&quot;</td><td>192.0</td><td>192.0</td><td>2023-10-01</td></tr><tr><td>&quot;inn999737&quot;</td><td>117</td><td>12.015922</td><td>0</td><td>2</td><td>98545.9375</td><td>1</td><td>2</td><td>11.498288</td><td>0</td><td>0</td><td>0</td><td>3</td><td>186555.453125</td><td>1</td><td>3</td><td>12.136489</td><td>0</td><td>0</td><td>0</td><td>88009.507812</td><td>1.6487882e7</td><td>null</td><td>null</td><td>null</td><td>3</td><td>137581.09375</td><td>1</td><td>1</td><td>11.831976</td><td>0</td><td>0</td><td>0</td><td>4</td><td>2.4040e6</td><td>3</td><td>3</td><td>&hellip;</td><td>null</td><td>null</td><td>null</td><td>null</td><td>null</td><td>null</td><td>null</td><td>null</td><td>null</td><td>null</td><td>null</td><td>null</td><td>null</td><td>2024-10-21</td><td>2024-10-27</td><td>2024</td><td>10</td><td>21</td><td>295</td><td>2024</td><td>10</td><td>27</td><td>301</td><td>0</td><td>0</td><td>4</td><td>10</td><td>5</td><td>5</td><td>5</td><td>5</td><td>1</td><td>&quot;46&quot;</td><td>&quot;22&quot;</td><td>96.0</td><td>96.0</td><td>2023-10-01</td></tr><tr><td>&quot;inn999759&quot;</td><td>117</td><td>16.694366</td><td>0</td><td>116</td><td>9.263653e6</td><td>5</td><td>71</td><td>16.041609</td><td>59</td><td>61</td><td>61</td><td>61</td><td>6.909095e6</td><td>6</td><td>38</td><td>15.748349</td><td>83</td><td>10</td><td>46</td><td>-2.3546e6</td><td>2464.0</td><td>null</td><td>null</td><td>null</td><td>115</td><td>1.1391876e7</td><td>7</td><td>73</td><td>16.248411</td><td>64</td><td>24</td><td>55</td><td>76</td><td>1.0130926e7</td><td>6</td><td>41</td><td>&hellip;</td><td>null</td><td>null</td><td>null</td><td>null</td><td>null</td><td>null</td><td>null</td><td>null</td><td>null</td><td>null</td><td>null</td><td>null</td><td>null</td><td>2024-10-21</td><td>2024-10-27</td><td>2024</td><td>10</td><td>21</td><td>295</td><td>2024</td><td>10</td><td>27</td><td>301</td><td>0</td><td>0</td><td>4</td><td>10</td><td>5</td><td>5</td><td>5</td><td>5</td><td>1</td><td>&quot;70&quot;</td><td>&quot;25&quot;</td><td>144.0</td><td>144.0</td><td>2023-10-01</td></tr><tr><td>&quot;inn999886&quot;</td><td>117</td><td>15.85258</td><td>0</td><td>65</td><td>2.5935594e7</td><td>6</td><td>29</td><td>17.071127</td><td>23</td><td>0</td><td>35</td><td>82</td><td>2.474821e7</td><td>7</td><td>42</td><td>17.024263</td><td>6</td><td>0</td><td>12</td><td>-1.1874e6</td><td>9.55054336e8</td><td>null</td><td>null</td><td>null</td><td>61</td><td>1.4882548e7</td><td>6</td><td>27</td><td>16.515699</td><td>41</td><td>7</td><td>18</td><td>75</td><td>3.3610216e7</td><td>5</td><td>45</td><td>&hellip;</td><td>null</td><td>null</td><td>null</td><td>null</td><td>null</td><td>null</td><td>null</td><td>null</td><td>null</td><td>null</td><td>null</td><td>null</td><td>null</td><td>2024-10-21</td><td>2024-10-27</td><td>2024</td><td>10</td><td>21</td><td>295</td><td>2024</td><td>10</td><td>27</td><td>301</td><td>0</td><td>0</td><td>4</td><td>10</td><td>5</td><td>5</td><td>5</td><td>5</td><td>1</td><td>&quot;22&quot;</td><td>&quot;45&quot;</td><td>192.0</td><td>192.0</td><td>2023-10-01</td></tr></tbody></table></div>"
          },
          "metadata": {}
        }
      ],
      "execution_count": null
    },
    {
      "id": "1cbf66f7",
      "cell_type": "code",
      "source": [
        "XX"
      ],
      "metadata": {
        "trusted": true,
        "execution": {
          "iopub.status.busy": "2025-04-01T16:10:53.141325Z",
          "iopub.execute_input": "2025-04-01T16:10:53.141680Z",
          "iopub.status.idle": "2025-04-01T16:10:53.157973Z",
          "shell.execute_reply.started": "2025-04-01T16:10:53.141655Z",
          "shell.execute_reply": "2025-04-01T16:10:53.156778Z"
        },
        "id": "1cbf66f7",
        "outputId": "373d513d-522c-4b8d-fb3b-aceac81f20fc"
      },
      "outputs": [
        {
          "execution_count": 76,
          "output_type": "execute_result",
          "data": {
            "text/plain": "shape: (623_556, 304)\n┌────────────┬──────┬───────────┬──────┬───┬─────────────┬─────────────┬─────────────┬─────────────┐\n│ inn_id     ┆ week ┆ target    ┆ sign ┆ … ┆ main_okved_ ┆ diff_datope ┆ diff_datope ┆ report_date │\n│ ---        ┆ ---  ┆ ---       ┆ ---  ┆   ┆ group       ┆ n_report_da ┆ n_report_da ┆ _min        │\n│ str        ┆ i16  ┆ f32       ┆ i8   ┆   ┆ ---         ┆ te_flg      ┆ te_flg_m…   ┆ ---         │\n│            ┆      ┆           ┆      ┆   ┆ str         ┆ ---         ┆ ---         ┆ date        │\n│            ┆      ┆           ┆      ┆   ┆             ┆ f64         ┆ f64         ┆             │\n╞════════════╪══════╪═══════════╪══════╪═══╪═════════════╪═════════════╪═════════════╪═════════════╡\n│ inn1000051 ┆ 106  ┆ 11.974568 ┆ 0    ┆ … ┆ 68          ┆ 96.0        ┆ 48.0        ┆ 2023-10-01  │\n│ inn1000246 ┆ 106  ┆ 15.428097 ┆ 0    ┆ … ┆ 17          ┆ 144.0       ┆ 96.0        ┆ 2023-10-01  │\n│ inn1000281 ┆ 106  ┆ 13.42759  ┆ 0    ┆ … ┆ 20          ┆ 192.0       ┆ 192.0       ┆ 2023-10-01  │\n│ inn1000367 ┆ 106  ┆ 14.230289 ┆ 0    ┆ … ┆ 25          ┆ 96.0        ┆ 96.0        ┆ 2023-10-01  │\n│ inn1000409 ┆ 106  ┆ 11.684277 ┆ 0    ┆ … ┆ 68          ┆ 192.0       ┆ 192.0       ┆ 2023-10-01  │\n│ …          ┆ …    ┆ …         ┆ …    ┆ … ┆ …           ┆ …           ┆ …           ┆ …           │\n│ inn999585  ┆ 117  ┆ 14.627742 ┆ 0    ┆ … ┆ 35          ┆ 192.0       ┆ 192.0       ┆ 2023-10-01  │\n│ inn999624  ┆ 117  ┆ 12.159358 ┆ 0    ┆ … ┆ 47          ┆ 192.0       ┆ 192.0       ┆ 2023-10-01  │\n│ inn999737  ┆ 117  ┆ 12.015922 ┆ 0    ┆ … ┆ 22          ┆ 96.0        ┆ 96.0        ┆ 2023-10-01  │\n│ inn999759  ┆ 117  ┆ 16.694366 ┆ 0    ┆ … ┆ 25          ┆ 144.0       ┆ 144.0       ┆ 2023-10-01  │\n│ inn999886  ┆ 117  ┆ 15.85258  ┆ 0    ┆ … ┆ 45          ┆ 192.0       ┆ 192.0       ┆ 2023-10-01  │\n└────────────┴──────┴───────────┴──────┴───┴─────────────┴─────────────┴─────────────┴─────────────┘",
            "text/html": "<div><style>\n.dataframe > thead > tr,\n.dataframe > tbody > tr {\n  text-align: right;\n  white-space: pre-wrap;\n}\n</style>\n<small>shape: (623_556, 304)</small><table border=\"1\" class=\"dataframe\"><thead><tr><th>inn_id</th><th>week</th><th>target</th><th>sign</th><th>out_vtb_trns_count</th><th>out_vtb_trns_amount</th><th>out_vtb_date</th><th>out_vtb_cinn</th><th>out_vtb_trns_amount_log</th><th>out_vtbip_trns_count</th><th>out_vtbip_trns_amount</th><th>out_vtbip_cinn</th><th>in_vtb_trns_count</th><th>in_vtb_trns_amount</th><th>in_vtb_date</th><th>in_vtb_cinn</th><th>in_vtb_trns_amount_log</th><th>in_vtbip_trns_count</th><th>in_vtbip_trns_amount</th><th>in_vtbip_cinn</th><th>cum</th><th>cumsum</th><th>target_1</th><th>target_2</th><th>target_3</th><th>out_vtb_trns_count_02</th><th>out_vtb_trns_amount_02</th><th>out_vtb_date_02</th><th>out_vtb_cinn_02</th><th>out_vtb_trns_amount_log_02</th><th>out_vtbip_trns_count_02</th><th>out_vtbip_trns_amount_02</th><th>out_vtbip_cinn_02</th><th>in_vtb_trns_count_02</th><th>in_vtb_trns_amount_02</th><th>in_vtb_date_02</th><th>in_vtb_cinn_02</th><th>&hellip;</th><th>out_vtb_trns_amount_log_16</th><th>out_vtbip_trns_count_16</th><th>out_vtbip_trns_amount_16</th><th>out_vtbip_cinn_16</th><th>in_vtb_trns_count_16</th><th>in_vtb_trns_amount_16</th><th>in_vtb_date_16</th><th>in_vtb_cinn_16</th><th>in_vtb_trns_amount_log_16</th><th>in_vtbip_trns_count_16</th><th>in_vtbip_trns_amount_16</th><th>in_vtbip_cinn_16</th><th>cum_16</th><th>d1</th><th>d2</th><th>year1</th><th>month1</th><th>day1</th><th>dy1</th><th>year2</th><th>month2</th><th>day2</th><th>dy2</th><th>m</th><th>y</th><th>day2_</th><th>day1_</th><th>w7</th><th>w7__3</th><th>w7__2</th><th>w7__1</th><th>ipul</th><th>id_region</th><th>main_okved_group</th><th>diff_datopen_report_date_flg</th><th>diff_datopen_report_date_flg_min</th><th>report_date_min</th></tr><tr><td>str</td><td>i16</td><td>f32</td><td>i8</td><td>u16</td><td>f32</td><td>u8</td><td>u16</td><td>f32</td><td>u8</td><td>u8</td><td>u8</td><td>u16</td><td>f32</td><td>u8</td><td>u16</td><td>f32</td><td>u8</td><td>u8</td><td>u8</td><td>f32</td><td>f32</td><td>f32</td><td>f32</td><td>f32</td><td>u16</td><td>f32</td><td>u8</td><td>u16</td><td>f32</td><td>u8</td><td>u8</td><td>u8</td><td>u16</td><td>f32</td><td>u8</td><td>u16</td><td>&hellip;</td><td>f32</td><td>u8</td><td>u8</td><td>u8</td><td>u16</td><td>f32</td><td>u8</td><td>u16</td><td>f32</td><td>u8</td><td>u8</td><td>u8</td><td>f32</td><td>date</td><td>date</td><td>i16</td><td>i8</td><td>i8</td><td>i16</td><td>i16</td><td>i8</td><td>i8</td><td>i16</td><td>i8</td><td>i8</td><td>i8</td><td>i8</td><td>i16</td><td>i16</td><td>i16</td><td>i16</td><td>i8</td><td>str</td><td>str</td><td>f64</td><td>f64</td><td>date</td></tr></thead><tbody><tr><td>&quot;inn1000051&quot;</td><td>106</td><td>11.974568</td><td>0</td><td>null</td><td>null</td><td>null</td><td>null</td><td>null</td><td>null</td><td>null</td><td>null</td><td>null</td><td>null</td><td>null</td><td>null</td><td>null</td><td>null</td><td>null</td><td>null</td><td>null</td><td>3.8968428e7</td><td>10.961955</td><td>8.964775</td><td>14.73538</td><td>null</td><td>null</td><td>null</td><td>null</td><td>null</td><td>null</td><td>null</td><td>null</td><td>null</td><td>null</td><td>null</td><td>null</td><td>&hellip;</td><td>null</td><td>null</td><td>null</td><td>null</td><td>null</td><td>null</td><td>null</td><td>null</td><td>null</td><td>null</td><td>null</td><td>null</td><td>null</td><td>2024-08-05</td><td>2024-08-11</td><td>2024</td><td>8</td><td>5</td><td>218</td><td>2024</td><td>8</td><td>11</td><td>224</td><td>0</td><td>0</td><td>20</td><td>26</td><td>5</td><td>5</td><td>5</td><td>0</td><td>0</td><td>&quot;45&quot;</td><td>&quot;68&quot;</td><td>96.0</td><td>48.0</td><td>2023-10-01</td></tr><tr><td>&quot;inn1000246&quot;</td><td>106</td><td>15.428097</td><td>0</td><td>null</td><td>null</td><td>null</td><td>null</td><td>null</td><td>null</td><td>null</td><td>null</td><td>null</td><td>null</td><td>null</td><td>null</td><td>null</td><td>null</td><td>null</td><td>null</td><td>null</td><td>1.7447134e7</td><td>15.234889</td><td>15.695794</td><td>15.480073</td><td>null</td><td>null</td><td>null</td><td>null</td><td>null</td><td>null</td><td>null</td><td>null</td><td>null</td><td>null</td><td>null</td><td>null</td><td>&hellip;</td><td>null</td><td>null</td><td>null</td><td>null</td><td>null</td><td>null</td><td>null</td><td>null</td><td>null</td><td>null</td><td>null</td><td>null</td><td>null</td><td>2024-08-05</td><td>2024-08-11</td><td>2024</td><td>8</td><td>5</td><td>218</td><td>2024</td><td>8</td><td>11</td><td>224</td><td>0</td><td>0</td><td>20</td><td>26</td><td>5</td><td>5</td><td>5</td><td>0</td><td>1</td><td>&quot;33&quot;</td><td>&quot;17&quot;</td><td>144.0</td><td>96.0</td><td>2023-10-01</td></tr><tr><td>&quot;inn1000281&quot;</td><td>106</td><td>13.42759</td><td>0</td><td>null</td><td>null</td><td>null</td><td>null</td><td>null</td><td>null</td><td>null</td><td>null</td><td>null</td><td>null</td><td>null</td><td>null</td><td>null</td><td>null</td><td>null</td><td>null</td><td>null</td><td>1.11045432e8</td><td>11.808892</td><td>10.818419</td><td>11.780949</td><td>null</td><td>null</td><td>null</td><td>null</td><td>null</td><td>null</td><td>null</td><td>null</td><td>null</td><td>null</td><td>null</td><td>null</td><td>&hellip;</td><td>null</td><td>null</td><td>null</td><td>null</td><td>null</td><td>null</td><td>null</td><td>null</td><td>null</td><td>null</td><td>null</td><td>null</td><td>null</td><td>2024-08-05</td><td>2024-08-11</td><td>2024</td><td>8</td><td>5</td><td>218</td><td>2024</td><td>8</td><td>11</td><td>224</td><td>0</td><td>0</td><td>20</td><td>26</td><td>5</td><td>5</td><td>5</td><td>0</td><td>1</td><td>&quot;40&quot;</td><td>&quot;20&quot;</td><td>192.0</td><td>192.0</td><td>2023-10-01</td></tr><tr><td>&quot;inn1000367&quot;</td><td>106</td><td>14.230289</td><td>0</td><td>null</td><td>null</td><td>null</td><td>null</td><td>null</td><td>null</td><td>null</td><td>null</td><td>null</td><td>null</td><td>null</td><td>null</td><td>null</td><td>null</td><td>null</td><td>null</td><td>null</td><td>8.9215408e7</td><td>12.26573</td><td>12.371948</td><td>13.723753</td><td>null</td><td>null</td><td>null</td><td>null</td><td>null</td><td>null</td><td>null</td><td>null</td><td>null</td><td>null</td><td>null</td><td>null</td><td>&hellip;</td><td>null</td><td>null</td><td>null</td><td>null</td><td>null</td><td>null</td><td>null</td><td>null</td><td>null</td><td>null</td><td>null</td><td>null</td><td>null</td><td>2024-08-05</td><td>2024-08-11</td><td>2024</td><td>8</td><td>5</td><td>218</td><td>2024</td><td>8</td><td>11</td><td>224</td><td>0</td><td>0</td><td>20</td><td>26</td><td>5</td><td>5</td><td>5</td><td>0</td><td>1</td><td>&quot;41&quot;</td><td>&quot;25&quot;</td><td>96.0</td><td>96.0</td><td>2023-10-01</td></tr><tr><td>&quot;inn1000409&quot;</td><td>106</td><td>11.684277</td><td>0</td><td>null</td><td>null</td><td>null</td><td>null</td><td>null</td><td>null</td><td>null</td><td>null</td><td>null</td><td>null</td><td>null</td><td>null</td><td>null</td><td>null</td><td>null</td><td>null</td><td>null</td><td>0.0</td><td>11.801395</td><td>13.371939</td><td>13.130376</td><td>null</td><td>null</td><td>null</td><td>null</td><td>null</td><td>null</td><td>null</td><td>null</td><td>null</td><td>null</td><td>null</td><td>null</td><td>&hellip;</td><td>null</td><td>null</td><td>null</td><td>null</td><td>null</td><td>null</td><td>null</td><td>null</td><td>null</td><td>null</td><td>null</td><td>null</td><td>null</td><td>2024-08-05</td><td>2024-08-11</td><td>2024</td><td>8</td><td>5</td><td>218</td><td>2024</td><td>8</td><td>11</td><td>224</td><td>0</td><td>0</td><td>20</td><td>26</td><td>5</td><td>5</td><td>5</td><td>0</td><td>0</td><td>&quot;45&quot;</td><td>&quot;68&quot;</td><td>192.0</td><td>192.0</td><td>2023-10-01</td></tr><tr><td>&hellip;</td><td>&hellip;</td><td>&hellip;</td><td>&hellip;</td><td>&hellip;</td><td>&hellip;</td><td>&hellip;</td><td>&hellip;</td><td>&hellip;</td><td>&hellip;</td><td>&hellip;</td><td>&hellip;</td><td>&hellip;</td><td>&hellip;</td><td>&hellip;</td><td>&hellip;</td><td>&hellip;</td><td>&hellip;</td><td>&hellip;</td><td>&hellip;</td><td>&hellip;</td><td>&hellip;</td><td>&hellip;</td><td>&hellip;</td><td>&hellip;</td><td>&hellip;</td><td>&hellip;</td><td>&hellip;</td><td>&hellip;</td><td>&hellip;</td><td>&hellip;</td><td>&hellip;</td><td>&hellip;</td><td>&hellip;</td><td>&hellip;</td><td>&hellip;</td><td>&hellip;</td><td>&hellip;</td><td>&hellip;</td><td>&hellip;</td><td>&hellip;</td><td>&hellip;</td><td>&hellip;</td><td>&hellip;</td><td>&hellip;</td><td>&hellip;</td><td>&hellip;</td><td>&hellip;</td><td>&hellip;</td><td>&hellip;</td><td>&hellip;</td><td>&hellip;</td><td>&hellip;</td><td>&hellip;</td><td>&hellip;</td><td>&hellip;</td><td>&hellip;</td><td>&hellip;</td><td>&hellip;</td><td>&hellip;</td><td>&hellip;</td><td>&hellip;</td><td>&hellip;</td><td>&hellip;</td><td>&hellip;</td><td>&hellip;</td><td>&hellip;</td><td>&hellip;</td><td>&hellip;</td><td>&hellip;</td><td>&hellip;</td><td>&hellip;</td><td>&hellip;</td><td>&hellip;</td><td>&hellip;</td></tr><tr><td>&quot;inn999585&quot;</td><td>117</td><td>14.627742</td><td>0</td><td>25</td><td>5504869.5</td><td>5</td><td>16</td><td>15.521144</td><td>71</td><td>18</td><td>111</td><td>18</td><td>2.339953e6</td><td>5</td><td>3</td><td>14.665642</td><td>14</td><td>40</td><td>84</td><td>-3.1649e6</td><td>0.0</td><td>null</td><td>null</td><td>null</td><td>22</td><td>8.487523e6</td><td>7</td><td>12</td><td>15.954108</td><td>81</td><td>0</td><td>42</td><td>40</td><td>4125528.5</td><td>6</td><td>3</td><td>&hellip;</td><td>null</td><td>null</td><td>null</td><td>null</td><td>null</td><td>null</td><td>null</td><td>null</td><td>null</td><td>null</td><td>null</td><td>null</td><td>null</td><td>2024-10-21</td><td>2024-10-27</td><td>2024</td><td>10</td><td>21</td><td>295</td><td>2024</td><td>10</td><td>27</td><td>301</td><td>0</td><td>0</td><td>4</td><td>10</td><td>5</td><td>5</td><td>5</td><td>5</td><td>1</td><td>&quot;70&quot;</td><td>&quot;35&quot;</td><td>192.0</td><td>192.0</td><td>2023-10-01</td></tr><tr><td>&quot;inn999624&quot;</td><td>117</td><td>12.159358</td><td>0</td><td>6</td><td>162348.109375</td><td>3</td><td>6</td><td>11.997504</td><td>0</td><td>0</td><td>0</td><td>0</td><td>0.0</td><td>0</td><td>0</td><td>0.0</td><td>0</td><td>0</td><td>0</td><td>-162348.109375</td><td>0.0</td><td>null</td><td>null</td><td>null</td><td>14</td><td>300970.84375</td><td>2</td><td>10</td><td>12.614772</td><td>0</td><td>0</td><td>0</td><td>0</td><td>0.0</td><td>0</td><td>0</td><td>&hellip;</td><td>null</td><td>null</td><td>null</td><td>null</td><td>null</td><td>null</td><td>null</td><td>null</td><td>null</td><td>null</td><td>null</td><td>null</td><td>null</td><td>2024-10-21</td><td>2024-10-27</td><td>2024</td><td>10</td><td>21</td><td>295</td><td>2024</td><td>10</td><td>27</td><td>301</td><td>0</td><td>0</td><td>4</td><td>10</td><td>5</td><td>5</td><td>5</td><td>5</td><td>0</td><td>&quot;46&quot;</td><td>&quot;47&quot;</td><td>192.0</td><td>192.0</td><td>2023-10-01</td></tr><tr><td>&quot;inn999737&quot;</td><td>117</td><td>12.015922</td><td>0</td><td>2</td><td>98545.9375</td><td>1</td><td>2</td><td>11.498288</td><td>0</td><td>0</td><td>0</td><td>3</td><td>186555.453125</td><td>1</td><td>3</td><td>12.136489</td><td>0</td><td>0</td><td>0</td><td>88009.507812</td><td>1.6487882e7</td><td>null</td><td>null</td><td>null</td><td>3</td><td>137581.09375</td><td>1</td><td>1</td><td>11.831976</td><td>0</td><td>0</td><td>0</td><td>4</td><td>2.4040e6</td><td>3</td><td>3</td><td>&hellip;</td><td>null</td><td>null</td><td>null</td><td>null</td><td>null</td><td>null</td><td>null</td><td>null</td><td>null</td><td>null</td><td>null</td><td>null</td><td>null</td><td>2024-10-21</td><td>2024-10-27</td><td>2024</td><td>10</td><td>21</td><td>295</td><td>2024</td><td>10</td><td>27</td><td>301</td><td>0</td><td>0</td><td>4</td><td>10</td><td>5</td><td>5</td><td>5</td><td>5</td><td>1</td><td>&quot;46&quot;</td><td>&quot;22&quot;</td><td>96.0</td><td>96.0</td><td>2023-10-01</td></tr><tr><td>&quot;inn999759&quot;</td><td>117</td><td>16.694366</td><td>0</td><td>116</td><td>9.263653e6</td><td>5</td><td>71</td><td>16.041609</td><td>59</td><td>61</td><td>61</td><td>61</td><td>6.909095e6</td><td>6</td><td>38</td><td>15.748349</td><td>83</td><td>10</td><td>46</td><td>-2.3546e6</td><td>2464.0</td><td>null</td><td>null</td><td>null</td><td>115</td><td>1.1391876e7</td><td>7</td><td>73</td><td>16.248411</td><td>64</td><td>24</td><td>55</td><td>76</td><td>1.0130926e7</td><td>6</td><td>41</td><td>&hellip;</td><td>null</td><td>null</td><td>null</td><td>null</td><td>null</td><td>null</td><td>null</td><td>null</td><td>null</td><td>null</td><td>null</td><td>null</td><td>null</td><td>2024-10-21</td><td>2024-10-27</td><td>2024</td><td>10</td><td>21</td><td>295</td><td>2024</td><td>10</td><td>27</td><td>301</td><td>0</td><td>0</td><td>4</td><td>10</td><td>5</td><td>5</td><td>5</td><td>5</td><td>1</td><td>&quot;70&quot;</td><td>&quot;25&quot;</td><td>144.0</td><td>144.0</td><td>2023-10-01</td></tr><tr><td>&quot;inn999886&quot;</td><td>117</td><td>15.85258</td><td>0</td><td>65</td><td>2.5935594e7</td><td>6</td><td>29</td><td>17.071127</td><td>23</td><td>0</td><td>35</td><td>82</td><td>2.474821e7</td><td>7</td><td>42</td><td>17.024263</td><td>6</td><td>0</td><td>12</td><td>-1.1874e6</td><td>9.55054336e8</td><td>null</td><td>null</td><td>null</td><td>61</td><td>1.4882548e7</td><td>6</td><td>27</td><td>16.515699</td><td>41</td><td>7</td><td>18</td><td>75</td><td>3.3610216e7</td><td>5</td><td>45</td><td>&hellip;</td><td>null</td><td>null</td><td>null</td><td>null</td><td>null</td><td>null</td><td>null</td><td>null</td><td>null</td><td>null</td><td>null</td><td>null</td><td>null</td><td>2024-10-21</td><td>2024-10-27</td><td>2024</td><td>10</td><td>21</td><td>295</td><td>2024</td><td>10</td><td>27</td><td>301</td><td>0</td><td>0</td><td>4</td><td>10</td><td>5</td><td>5</td><td>5</td><td>5</td><td>1</td><td>&quot;22&quot;</td><td>&quot;45&quot;</td><td>192.0</td><td>192.0</td><td>2023-10-01</td></tr></tbody></table></div>"
          },
          "metadata": {}
        }
      ],
      "execution_count": null
    },
    {
      "id": "7da788ae",
      "cell_type": "code",
      "source": [
        "XX.columns"
      ],
      "metadata": {
        "scrolled": true,
        "trusted": true,
        "execution": {
          "iopub.status.busy": "2025-04-01T16:08:00.407653Z",
          "iopub.execute_input": "2025-04-01T16:08:00.408097Z",
          "iopub.status.idle": "2025-04-01T16:08:00.425407Z",
          "shell.execute_reply.started": "2025-04-01T16:08:00.408063Z",
          "shell.execute_reply": "2025-04-01T16:08:00.423770Z"
        },
        "id": "7da788ae",
        "outputId": "bbbfc278-c1fd-4c73-c90b-4a4c93a2864e"
      },
      "outputs": [
        {
          "execution_count": 66,
          "output_type": "execute_result",
          "data": {
            "text/plain": "['inn_id',\n 'week',\n 'target',\n 'sign',\n 'out_vtb_trns_count',\n 'out_vtb_trns_amount',\n 'out_vtb_date',\n 'out_vtb_cinn',\n 'out_vtb_trns_amount_log',\n 'out_vtbip_trns_count',\n 'out_vtbip_trns_amount',\n 'out_vtbip_cinn',\n 'in_vtb_trns_count',\n 'in_vtb_trns_amount',\n 'in_vtb_date',\n 'in_vtb_cinn',\n 'in_vtb_trns_amount_log',\n 'in_vtbip_trns_count',\n 'in_vtbip_trns_amount',\n 'in_vtbip_cinn',\n 'cum',\n 'cumsum',\n 'target_1',\n 'target_2',\n 'target_3',\n 'out_vtb_trns_count_02',\n 'out_vtb_trns_amount_02',\n 'out_vtb_date_02',\n 'out_vtb_cinn_02',\n 'out_vtb_trns_amount_log_02',\n 'out_vtbip_trns_count_02',\n 'out_vtbip_trns_amount_02',\n 'out_vtbip_cinn_02',\n 'in_vtb_trns_count_02',\n 'in_vtb_trns_amount_02',\n 'in_vtb_date_02',\n 'in_vtb_cinn_02',\n 'in_vtb_trns_amount_log_02',\n 'in_vtbip_trns_count_02',\n 'in_vtbip_trns_amount_02',\n 'in_vtbip_cinn_02',\n 'cum_02',\n 'out_vtb_trns_count_03',\n 'out_vtb_trns_amount_03',\n 'out_vtb_date_03',\n 'out_vtb_cinn_03',\n 'out_vtb_trns_amount_log_03',\n 'out_vtbip_trns_count_03',\n 'out_vtbip_trns_amount_03',\n 'out_vtbip_cinn_03',\n 'in_vtb_trns_count_03',\n 'in_vtb_trns_amount_03',\n 'in_vtb_date_03',\n 'in_vtb_cinn_03',\n 'in_vtb_trns_amount_log_03',\n 'in_vtbip_trns_count_03',\n 'in_vtbip_trns_amount_03',\n 'in_vtbip_cinn_03',\n 'cum_03',\n 'out_vtb_trns_count_04',\n 'out_vtb_trns_amount_04',\n 'out_vtb_date_04',\n 'out_vtb_cinn_04',\n 'out_vtb_trns_amount_log_04',\n 'out_vtbip_trns_count_04',\n 'out_vtbip_trns_amount_04',\n 'out_vtbip_cinn_04',\n 'in_vtb_trns_count_04',\n 'in_vtb_trns_amount_04',\n 'in_vtb_date_04',\n 'in_vtb_cinn_04',\n 'in_vtb_trns_amount_log_04',\n 'in_vtbip_trns_count_04',\n 'in_vtbip_trns_amount_04',\n 'in_vtbip_cinn_04',\n 'cum_04',\n 'out_vtb_trns_count_05',\n 'out_vtb_trns_amount_05',\n 'out_vtb_date_05',\n 'out_vtb_cinn_05',\n 'out_vtb_trns_amount_log_05',\n 'out_vtbip_trns_count_05',\n 'out_vtbip_trns_amount_05',\n 'out_vtbip_cinn_05',\n 'in_vtb_trns_count_05',\n 'in_vtb_trns_amount_05',\n 'in_vtb_date_05',\n 'in_vtb_cinn_05',\n 'in_vtb_trns_amount_log_05',\n 'in_vtbip_trns_count_05',\n 'in_vtbip_trns_amount_05',\n 'in_vtbip_cinn_05',\n 'cum_05',\n 'out_vtb_trns_count_06',\n 'out_vtb_trns_amount_06',\n 'out_vtb_date_06',\n 'out_vtb_cinn_06',\n 'out_vtb_trns_amount_log_06',\n 'out_vtbip_trns_count_06',\n 'out_vtbip_trns_amount_06',\n 'out_vtbip_cinn_06',\n 'in_vtb_trns_count_06',\n 'in_vtb_trns_amount_06',\n 'in_vtb_date_06',\n 'in_vtb_cinn_06',\n 'in_vtb_trns_amount_log_06',\n 'in_vtbip_trns_count_06',\n 'in_vtbip_trns_amount_06',\n 'in_vtbip_cinn_06',\n 'cum_06',\n 'out_vtb_trns_count_07',\n 'out_vtb_trns_amount_07',\n 'out_vtb_date_07',\n 'out_vtb_cinn_07',\n 'out_vtb_trns_amount_log_07',\n 'out_vtbip_trns_count_07',\n 'out_vtbip_trns_amount_07',\n 'out_vtbip_cinn_07',\n 'in_vtb_trns_count_07',\n 'in_vtb_trns_amount_07',\n 'in_vtb_date_07',\n 'in_vtb_cinn_07',\n 'in_vtb_trns_amount_log_07',\n 'in_vtbip_trns_count_07',\n 'in_vtbip_trns_amount_07',\n 'in_vtbip_cinn_07',\n 'cum_07',\n 'out_vtb_trns_count_08',\n 'out_vtb_trns_amount_08',\n 'out_vtb_date_08',\n 'out_vtb_cinn_08',\n 'out_vtb_trns_amount_log_08',\n 'out_vtbip_trns_count_08',\n 'out_vtbip_trns_amount_08',\n 'out_vtbip_cinn_08',\n 'in_vtb_trns_count_08',\n 'in_vtb_trns_amount_08',\n 'in_vtb_date_08',\n 'in_vtb_cinn_08',\n 'in_vtb_trns_amount_log_08',\n 'in_vtbip_trns_count_08',\n 'in_vtbip_trns_amount_08',\n 'in_vtbip_cinn_08',\n 'cum_08',\n 'out_vtb_trns_count_09',\n 'out_vtb_trns_amount_09',\n 'out_vtb_date_09',\n 'out_vtb_cinn_09',\n 'out_vtb_trns_amount_log_09',\n 'out_vtbip_trns_count_09',\n 'out_vtbip_trns_amount_09',\n 'out_vtbip_cinn_09',\n 'in_vtb_trns_count_09',\n 'in_vtb_trns_amount_09',\n 'in_vtb_date_09',\n 'in_vtb_cinn_09',\n 'in_vtb_trns_amount_log_09',\n 'in_vtbip_trns_count_09',\n 'in_vtbip_trns_amount_09',\n 'in_vtbip_cinn_09',\n 'cum_09',\n 'out_vtb_trns_count_10',\n 'out_vtb_trns_amount_10',\n 'out_vtb_date_10',\n 'out_vtb_cinn_10',\n 'out_vtb_trns_amount_log_10',\n 'out_vtbip_trns_count_10',\n 'out_vtbip_trns_amount_10',\n 'out_vtbip_cinn_10',\n 'in_vtb_trns_count_10',\n 'in_vtb_trns_amount_10',\n 'in_vtb_date_10',\n 'in_vtb_cinn_10',\n 'in_vtb_trns_amount_log_10',\n 'in_vtbip_trns_count_10',\n 'in_vtbip_trns_amount_10',\n 'in_vtbip_cinn_10',\n 'cum_10',\n 'out_vtb_trns_count_11',\n 'out_vtb_trns_amount_11',\n 'out_vtb_date_11',\n 'out_vtb_cinn_11',\n 'out_vtb_trns_amount_log_11',\n 'out_vtbip_trns_count_11',\n 'out_vtbip_trns_amount_11',\n 'out_vtbip_cinn_11',\n 'in_vtb_trns_count_11',\n 'in_vtb_trns_amount_11',\n 'in_vtb_date_11',\n 'in_vtb_cinn_11',\n 'in_vtb_trns_amount_log_11',\n 'in_vtbip_trns_count_11',\n 'in_vtbip_trns_amount_11',\n 'in_vtbip_cinn_11',\n 'cum_11',\n 'out_vtb_trns_count_12',\n 'out_vtb_trns_amount_12',\n 'out_vtb_date_12',\n 'out_vtb_cinn_12',\n 'out_vtb_trns_amount_log_12',\n 'out_vtbip_trns_count_12',\n 'out_vtbip_trns_amount_12',\n 'out_vtbip_cinn_12',\n 'in_vtb_trns_count_12',\n 'in_vtb_trns_amount_12',\n 'in_vtb_date_12',\n 'in_vtb_cinn_12',\n 'in_vtb_trns_amount_log_12',\n 'in_vtbip_trns_count_12',\n 'in_vtbip_trns_amount_12',\n 'in_vtbip_cinn_12',\n 'cum_12',\n 'out_vtb_trns_count_13',\n 'out_vtb_trns_amount_13',\n 'out_vtb_date_13',\n 'out_vtb_cinn_13',\n 'out_vtb_trns_amount_log_13',\n 'out_vtbip_trns_count_13',\n 'out_vtbip_trns_amount_13',\n 'out_vtbip_cinn_13',\n 'in_vtb_trns_count_13',\n 'in_vtb_trns_amount_13',\n 'in_vtb_date_13',\n 'in_vtb_cinn_13',\n 'in_vtb_trns_amount_log_13',\n 'in_vtbip_trns_count_13',\n 'in_vtbip_trns_amount_13',\n 'in_vtbip_cinn_13',\n 'cum_13',\n 'out_vtb_trns_count_14',\n 'out_vtb_trns_amount_14',\n 'out_vtb_date_14',\n 'out_vtb_cinn_14',\n 'out_vtb_trns_amount_log_14',\n 'out_vtbip_trns_count_14',\n 'out_vtbip_trns_amount_14',\n 'out_vtbip_cinn_14',\n 'in_vtb_trns_count_14',\n 'in_vtb_trns_amount_14',\n 'in_vtb_date_14',\n 'in_vtb_cinn_14',\n 'in_vtb_trns_amount_log_14',\n 'in_vtbip_trns_count_14',\n 'in_vtbip_trns_amount_14',\n 'in_vtbip_cinn_14',\n 'cum_14',\n 'out_vtb_trns_count_15',\n 'out_vtb_trns_amount_15',\n 'out_vtb_date_15',\n 'out_vtb_cinn_15',\n 'out_vtb_trns_amount_log_15',\n 'out_vtbip_trns_count_15',\n 'out_vtbip_trns_amount_15',\n 'out_vtbip_cinn_15',\n 'in_vtb_trns_count_15',\n 'in_vtb_trns_amount_15',\n 'in_vtb_date_15',\n 'in_vtb_cinn_15',\n 'in_vtb_trns_amount_log_15',\n 'in_vtbip_trns_count_15',\n 'in_vtbip_trns_amount_15',\n 'in_vtbip_cinn_15',\n 'cum_15',\n 'out_vtb_trns_count_16',\n 'out_vtb_trns_amount_16',\n 'out_vtb_date_16',\n 'out_vtb_cinn_16',\n 'out_vtb_trns_amount_log_16',\n 'out_vtbip_trns_count_16',\n 'out_vtbip_trns_amount_16',\n 'out_vtbip_cinn_16',\n 'in_vtb_trns_count_16',\n 'in_vtb_trns_amount_16',\n 'in_vtb_date_16',\n 'in_vtb_cinn_16',\n 'in_vtb_trns_amount_log_16',\n 'in_vtbip_trns_count_16',\n 'in_vtbip_trns_amount_16',\n 'in_vtbip_cinn_16',\n 'cum_16',\n 'd1',\n 'd2',\n 'year1',\n 'month1',\n 'day1',\n 'dy1',\n 'year2',\n 'month2',\n 'day2',\n 'dy2',\n 'm',\n 'y',\n 'day2_',\n 'day1_',\n 'w7',\n 'w7__3',\n 'w7__2',\n 'w7__1',\n 'ipul',\n 'id_region',\n 'main_okved_group',\n 'diff_datopen_report_date_flg',\n 'diff_datopen_report_date_flg_min',\n 'report_date_min']"
          },
          "metadata": {}
        }
      ],
      "execution_count": null
    },
    {
      "id": "d9c97715",
      "cell_type": "code",
      "source": [
        "y = XX.select(\"target\",\n",
        "              \"target_1\",\n",
        "              \"target_2\",\"target_3\"\n",
        "             ).to_numpy()\n",
        "X = XX.drop([\"target\",\"target_1\",\"target_2\",\"target_3\",\n",
        "             #\"target_\",\n",
        "             \"sign\",\n",
        "             \"d1\",\n",
        "             \"d2\",\n",
        "             #\"week\",\n",
        "             #\"inn_id\",\n",
        "             #'inn_id_02',\n",
        "             #'inn_id_03',\n",
        "             #'inn_id_04',\n",
        "             #\"report_date\"\n",
        "            ]).to_pandas()\n",
        "#X_train, X_test, y_train, y_test = train_test_split(    X, y, test_size=0.01, random_state=42)\n",
        "#border=102\n",
        "border=102\n",
        "X_train = X[X[\"week\"]<border]#.drop(\"week\",axis=1)\n",
        "y_train = y[X[\"week\"]<border]\n",
        "\n",
        "#train_data.quantize()\n",
        "#train_data = Pool(data=X[X[\"week\"]<border],#.drop(\"week\",axis=1)\n",
        "#                  label=y[X[\"week\"]<border],\n",
        "#                  cat_features=[\"inn_id\",\n",
        "#                                          \"ipul\",\n",
        "#                                          \"id_region\",\n",
        "#                                          \"main_okved_group\",\n",
        "#                                          #\"report_date\"\n",
        "#                                         ],\n",
        "#                 )\n",
        "#train_data.quantize()\n",
        "#train_data.save(\"train_data.pool\")\n",
        "\n",
        "#X_train = X.drop(\"week\",axis=1)\n",
        "#y_train = y\n",
        "\n",
        "X_test = X[X[\"week\"].isin(range(border,103))]#.drop(\"week\",axis=1)\n",
        "y_test = y[X[\"week\"].isin(range(border,103))]\n",
        "\n",
        "#test_data = Pool(data=X[X[\"week\"].isin(range(border,103))],#.drop(\"week\",axis=1)\n",
        "#                 label=y[X[\"week\"].isin(range(border,103))],\n",
        "#                 cat_features=[\"inn_id\",\"ipul\",\"id_region\",\"main_okved_group\",\n",
        "#                                          #\"report_date\"\n",
        "#                                         ],\n",
        "#                )\n",
        "#test_data.quantize()\n",
        "#test_data.save(\"test_data.pool\")\n",
        "\n",
        "#X_test = X[X[\"week\"]==border].drop(\"week\",axis=1)\n",
        "#y_test = y[X[\"week\"]==border]\n",
        "X_test"
      ],
      "metadata": {
        "trusted": true,
        "execution": {
          "iopub.status.busy": "2025-04-01T16:10:10.424135Z",
          "iopub.execute_input": "2025-04-01T16:10:10.424854Z",
          "iopub.status.idle": "2025-04-01T16:10:11.354409Z",
          "shell.execute_reply.started": "2025-04-01T16:10:10.424795Z",
          "shell.execute_reply": "2025-04-01T16:10:11.353290Z"
        },
        "id": "d9c97715",
        "outputId": "22375ad3-bf58-422a-b89d-1d096bc05af0"
      },
      "outputs": [
        {
          "execution_count": 74,
          "output_type": "execute_result",
          "data": {
            "text/plain": "Empty DataFrame\nColumns: [inn_id, week, out_vtb_trns_count, out_vtb_trns_amount, out_vtb_date, out_vtb_cinn, out_vtb_trns_amount_log, out_vtbip_trns_count, out_vtbip_trns_amount, out_vtbip_cinn, in_vtb_trns_count, in_vtb_trns_amount, in_vtb_date, in_vtb_cinn, in_vtb_trns_amount_log, in_vtbip_trns_count, in_vtbip_trns_amount, in_vtbip_cinn, cum, cumsum, out_vtb_trns_count_02, out_vtb_trns_amount_02, out_vtb_date_02, out_vtb_cinn_02, out_vtb_trns_amount_log_02, out_vtbip_trns_count_02, out_vtbip_trns_amount_02, out_vtbip_cinn_02, in_vtb_trns_count_02, in_vtb_trns_amount_02, in_vtb_date_02, in_vtb_cinn_02, in_vtb_trns_amount_log_02, in_vtbip_trns_count_02, in_vtbip_trns_amount_02, in_vtbip_cinn_02, cum_02, out_vtb_trns_count_03, out_vtb_trns_amount_03, out_vtb_date_03, out_vtb_cinn_03, out_vtb_trns_amount_log_03, out_vtbip_trns_count_03, out_vtbip_trns_amount_03, out_vtbip_cinn_03, in_vtb_trns_count_03, in_vtb_trns_amount_03, in_vtb_date_03, in_vtb_cinn_03, in_vtb_trns_amount_log_03, in_vtbip_trns_count_03, in_vtbip_trns_amount_03, in_vtbip_cinn_03, cum_03, out_vtb_trns_count_04, out_vtb_trns_amount_04, out_vtb_date_04, out_vtb_cinn_04, out_vtb_trns_amount_log_04, out_vtbip_trns_count_04, out_vtbip_trns_amount_04, out_vtbip_cinn_04, in_vtb_trns_count_04, in_vtb_trns_amount_04, in_vtb_date_04, in_vtb_cinn_04, in_vtb_trns_amount_log_04, in_vtbip_trns_count_04, in_vtbip_trns_amount_04, in_vtbip_cinn_04, cum_04, out_vtb_trns_count_05, out_vtb_trns_amount_05, out_vtb_date_05, out_vtb_cinn_05, out_vtb_trns_amount_log_05, out_vtbip_trns_count_05, out_vtbip_trns_amount_05, out_vtbip_cinn_05, in_vtb_trns_count_05, in_vtb_trns_amount_05, in_vtb_date_05, in_vtb_cinn_05, in_vtb_trns_amount_log_05, in_vtbip_trns_count_05, in_vtbip_trns_amount_05, in_vtbip_cinn_05, cum_05, out_vtb_trns_count_06, out_vtb_trns_amount_06, out_vtb_date_06, out_vtb_cinn_06, out_vtb_trns_amount_log_06, out_vtbip_trns_count_06, out_vtbip_trns_amount_06, out_vtbip_cinn_06, in_vtb_trns_count_06, in_vtb_trns_amount_06, in_vtb_date_06, in_vtb_cinn_06, ...]\nIndex: []\n\n[0 rows x 297 columns]",
            "text/html": "<div>\n<style scoped>\n    .dataframe tbody tr th:only-of-type {\n        vertical-align: middle;\n    }\n\n    .dataframe tbody tr th {\n        vertical-align: top;\n    }\n\n    .dataframe thead th {\n        text-align: right;\n    }\n</style>\n<table border=\"1\" class=\"dataframe\">\n  <thead>\n    <tr style=\"text-align: right;\">\n      <th></th>\n      <th>inn_id</th>\n      <th>week</th>\n      <th>out_vtb_trns_count</th>\n      <th>out_vtb_trns_amount</th>\n      <th>out_vtb_date</th>\n      <th>out_vtb_cinn</th>\n      <th>out_vtb_trns_amount_log</th>\n      <th>out_vtbip_trns_count</th>\n      <th>out_vtbip_trns_amount</th>\n      <th>out_vtbip_cinn</th>\n      <th>...</th>\n      <th>w7</th>\n      <th>w7__3</th>\n      <th>w7__2</th>\n      <th>w7__1</th>\n      <th>ipul</th>\n      <th>id_region</th>\n      <th>main_okved_group</th>\n      <th>diff_datopen_report_date_flg</th>\n      <th>diff_datopen_report_date_flg_min</th>\n      <th>report_date_min</th>\n    </tr>\n  </thead>\n  <tbody>\n  </tbody>\n</table>\n<p>0 rows × 297 columns</p>\n</div>"
          },
          "metadata": {}
        }
      ],
      "execution_count": null
    },
    {
      "id": "e8f97390-f22a-4cff-9dbd-2049c766e4b7",
      "cell_type": "code",
      "source": [
        "X"
      ],
      "metadata": {
        "trusted": true,
        "execution": {
          "iopub.status.busy": "2025-04-01T16:12:17.443537Z",
          "iopub.execute_input": "2025-04-01T16:12:17.444029Z",
          "iopub.status.idle": "2025-04-01T16:12:17.749582Z",
          "shell.execute_reply.started": "2025-04-01T16:12:17.443993Z",
          "shell.execute_reply": "2025-04-01T16:12:17.748121Z"
        },
        "id": "e8f97390-f22a-4cff-9dbd-2049c766e4b7",
        "outputId": "6e0adc4d-a159-466e-ccdf-4e661d46c4ae"
      },
      "outputs": [
        {
          "name": "stderr",
          "text": "/usr/local/lib/python3.10/dist-packages/pandas/io/formats/format.py:1458: RuntimeWarning: invalid value encountered in greater\n  has_large_values = (abs_vals > 1e6).any()\n/usr/local/lib/python3.10/dist-packages/pandas/io/formats/format.py:1459: RuntimeWarning: invalid value encountered in less\n  has_small_values = ((abs_vals < 10 ** (-self.digits)) & (abs_vals > 0)).any()\n/usr/local/lib/python3.10/dist-packages/pandas/io/formats/format.py:1459: RuntimeWarning: invalid value encountered in greater\n  has_small_values = ((abs_vals < 10 ** (-self.digits)) & (abs_vals > 0)).any()\n/usr/local/lib/python3.10/dist-packages/pandas/io/formats/format.py:1458: RuntimeWarning: invalid value encountered in greater\n  has_large_values = (abs_vals > 1e6).any()\n/usr/local/lib/python3.10/dist-packages/pandas/io/formats/format.py:1459: RuntimeWarning: invalid value encountered in less\n  has_small_values = ((abs_vals < 10 ** (-self.digits)) & (abs_vals > 0)).any()\n/usr/local/lib/python3.10/dist-packages/pandas/io/formats/format.py:1459: RuntimeWarning: invalid value encountered in greater\n  has_small_values = ((abs_vals < 10 ** (-self.digits)) & (abs_vals > 0)).any()\n",
          "output_type": "stream"
        },
        {
          "execution_count": 77,
          "output_type": "execute_result",
          "data": {
            "text/plain": "            inn_id  week  out_vtb_trns_count  out_vtb_trns_amount  \\\n0       inn1000051   106                 NaN                  NaN   \n1       inn1000246   106                 NaN                  NaN   \n2       inn1000281   106                 NaN                  NaN   \n3       inn1000367   106                 NaN                  NaN   \n4       inn1000409   106                 NaN                  NaN   \n...            ...   ...                 ...                  ...   \n623551   inn999585   117                25.0         5.504870e+06   \n623552   inn999624   117                 6.0         1.623481e+05   \n623553   inn999737   117                 2.0         9.854594e+04   \n623554   inn999759   117               116.0         9.263653e+06   \n623555   inn999886   117                65.0         2.593559e+07   \n\n        out_vtb_date  out_vtb_cinn  out_vtb_trns_amount_log  \\\n0                NaN           NaN                      NaN   \n1                NaN           NaN                      NaN   \n2                NaN           NaN                      NaN   \n3                NaN           NaN                      NaN   \n4                NaN           NaN                      NaN   \n...              ...           ...                      ...   \n623551           5.0          16.0                15.521144   \n623552           3.0           6.0                11.997504   \n623553           1.0           2.0                11.498288   \n623554           5.0          71.0                16.041609   \n623555           6.0          29.0                17.071127   \n\n        out_vtbip_trns_count  out_vtbip_trns_amount  out_vtbip_cinn  ...  w7  \\\n0                        NaN                    NaN             NaN  ...   5   \n1                        NaN                    NaN             NaN  ...   5   \n2                        NaN                    NaN             NaN  ...   5   \n3                        NaN                    NaN             NaN  ...   5   \n4                        NaN                    NaN             NaN  ...   5   \n...                      ...                    ...             ...  ...  ..   \n623551                  71.0                   18.0           111.0  ...   5   \n623552                   0.0                    0.0             0.0  ...   5   \n623553                   0.0                    0.0             0.0  ...   5   \n623554                  59.0                   61.0            61.0  ...   5   \n623555                  23.0                    0.0            35.0  ...   5   \n\n        w7__3  w7__2  w7__1  ipul  id_region  main_okved_group  \\\n0           5      5      0     0         45                68   \n1           5      5      0     1         33                17   \n2           5      5      0     1         40                20   \n3           5      5      0     1         41                25   \n4           5      5      0     0         45                68   \n...       ...    ...    ...   ...        ...               ...   \n623551      5      5      5     1         70                35   \n623552      5      5      5     0         46                47   \n623553      5      5      5     1         46                22   \n623554      5      5      5     1         70                25   \n623555      5      5      5     1         22                45   \n\n        diff_datopen_report_date_flg  diff_datopen_report_date_flg_min  \\\n0                               96.0                              48.0   \n1                              144.0                              96.0   \n2                              192.0                             192.0   \n3                               96.0                              96.0   \n4                              192.0                             192.0   \n...                              ...                               ...   \n623551                         192.0                             192.0   \n623552                         192.0                             192.0   \n623553                          96.0                              96.0   \n623554                         144.0                             144.0   \n623555                         192.0                             192.0   \n\n        report_date_min  \n0            2023-10-01  \n1            2023-10-01  \n2            2023-10-01  \n3            2023-10-01  \n4            2023-10-01  \n...                 ...  \n623551       2023-10-01  \n623552       2023-10-01  \n623553       2023-10-01  \n623554       2023-10-01  \n623555       2023-10-01  \n\n[623556 rows x 297 columns]",
            "text/html": "<div>\n<style scoped>\n    .dataframe tbody tr th:only-of-type {\n        vertical-align: middle;\n    }\n\n    .dataframe tbody tr th {\n        vertical-align: top;\n    }\n\n    .dataframe thead th {\n        text-align: right;\n    }\n</style>\n<table border=\"1\" class=\"dataframe\">\n  <thead>\n    <tr style=\"text-align: right;\">\n      <th></th>\n      <th>inn_id</th>\n      <th>week</th>\n      <th>out_vtb_trns_count</th>\n      <th>out_vtb_trns_amount</th>\n      <th>out_vtb_date</th>\n      <th>out_vtb_cinn</th>\n      <th>out_vtb_trns_amount_log</th>\n      <th>out_vtbip_trns_count</th>\n      <th>out_vtbip_trns_amount</th>\n      <th>out_vtbip_cinn</th>\n      <th>...</th>\n      <th>w7</th>\n      <th>w7__3</th>\n      <th>w7__2</th>\n      <th>w7__1</th>\n      <th>ipul</th>\n      <th>id_region</th>\n      <th>main_okved_group</th>\n      <th>diff_datopen_report_date_flg</th>\n      <th>diff_datopen_report_date_flg_min</th>\n      <th>report_date_min</th>\n    </tr>\n  </thead>\n  <tbody>\n    <tr>\n      <th>0</th>\n      <td>inn1000051</td>\n      <td>106</td>\n      <td>NaN</td>\n      <td>NaN</td>\n      <td>NaN</td>\n      <td>NaN</td>\n      <td>NaN</td>\n      <td>NaN</td>\n      <td>NaN</td>\n      <td>NaN</td>\n      <td>...</td>\n      <td>5</td>\n      <td>5</td>\n      <td>5</td>\n      <td>0</td>\n      <td>0</td>\n      <td>45</td>\n      <td>68</td>\n      <td>96.0</td>\n      <td>48.0</td>\n      <td>2023-10-01</td>\n    </tr>\n    <tr>\n      <th>1</th>\n      <td>inn1000246</td>\n      <td>106</td>\n      <td>NaN</td>\n      <td>NaN</td>\n      <td>NaN</td>\n      <td>NaN</td>\n      <td>NaN</td>\n      <td>NaN</td>\n      <td>NaN</td>\n      <td>NaN</td>\n      <td>...</td>\n      <td>5</td>\n      <td>5</td>\n      <td>5</td>\n      <td>0</td>\n      <td>1</td>\n      <td>33</td>\n      <td>17</td>\n      <td>144.0</td>\n      <td>96.0</td>\n      <td>2023-10-01</td>\n    </tr>\n    <tr>\n      <th>2</th>\n      <td>inn1000281</td>\n      <td>106</td>\n      <td>NaN</td>\n      <td>NaN</td>\n      <td>NaN</td>\n      <td>NaN</td>\n      <td>NaN</td>\n      <td>NaN</td>\n      <td>NaN</td>\n      <td>NaN</td>\n      <td>...</td>\n      <td>5</td>\n      <td>5</td>\n      <td>5</td>\n      <td>0</td>\n      <td>1</td>\n      <td>40</td>\n      <td>20</td>\n      <td>192.0</td>\n      <td>192.0</td>\n      <td>2023-10-01</td>\n    </tr>\n    <tr>\n      <th>3</th>\n      <td>inn1000367</td>\n      <td>106</td>\n      <td>NaN</td>\n      <td>NaN</td>\n      <td>NaN</td>\n      <td>NaN</td>\n      <td>NaN</td>\n      <td>NaN</td>\n      <td>NaN</td>\n      <td>NaN</td>\n      <td>...</td>\n      <td>5</td>\n      <td>5</td>\n      <td>5</td>\n      <td>0</td>\n      <td>1</td>\n      <td>41</td>\n      <td>25</td>\n      <td>96.0</td>\n      <td>96.0</td>\n      <td>2023-10-01</td>\n    </tr>\n    <tr>\n      <th>4</th>\n      <td>inn1000409</td>\n      <td>106</td>\n      <td>NaN</td>\n      <td>NaN</td>\n      <td>NaN</td>\n      <td>NaN</td>\n      <td>NaN</td>\n      <td>NaN</td>\n      <td>NaN</td>\n      <td>NaN</td>\n      <td>...</td>\n      <td>5</td>\n      <td>5</td>\n      <td>5</td>\n      <td>0</td>\n      <td>0</td>\n      <td>45</td>\n      <td>68</td>\n      <td>192.0</td>\n      <td>192.0</td>\n      <td>2023-10-01</td>\n    </tr>\n    <tr>\n      <th>...</th>\n      <td>...</td>\n      <td>...</td>\n      <td>...</td>\n      <td>...</td>\n      <td>...</td>\n      <td>...</td>\n      <td>...</td>\n      <td>...</td>\n      <td>...</td>\n      <td>...</td>\n      <td>...</td>\n      <td>...</td>\n      <td>...</td>\n      <td>...</td>\n      <td>...</td>\n      <td>...</td>\n      <td>...</td>\n      <td>...</td>\n      <td>...</td>\n      <td>...</td>\n      <td>...</td>\n    </tr>\n    <tr>\n      <th>623551</th>\n      <td>inn999585</td>\n      <td>117</td>\n      <td>25.0</td>\n      <td>5.504870e+06</td>\n      <td>5.0</td>\n      <td>16.0</td>\n      <td>15.521144</td>\n      <td>71.0</td>\n      <td>18.0</td>\n      <td>111.0</td>\n      <td>...</td>\n      <td>5</td>\n      <td>5</td>\n      <td>5</td>\n      <td>5</td>\n      <td>1</td>\n      <td>70</td>\n      <td>35</td>\n      <td>192.0</td>\n      <td>192.0</td>\n      <td>2023-10-01</td>\n    </tr>\n    <tr>\n      <th>623552</th>\n      <td>inn999624</td>\n      <td>117</td>\n      <td>6.0</td>\n      <td>1.623481e+05</td>\n      <td>3.0</td>\n      <td>6.0</td>\n      <td>11.997504</td>\n      <td>0.0</td>\n      <td>0.0</td>\n      <td>0.0</td>\n      <td>...</td>\n      <td>5</td>\n      <td>5</td>\n      <td>5</td>\n      <td>5</td>\n      <td>0</td>\n      <td>46</td>\n      <td>47</td>\n      <td>192.0</td>\n      <td>192.0</td>\n      <td>2023-10-01</td>\n    </tr>\n    <tr>\n      <th>623553</th>\n      <td>inn999737</td>\n      <td>117</td>\n      <td>2.0</td>\n      <td>9.854594e+04</td>\n      <td>1.0</td>\n      <td>2.0</td>\n      <td>11.498288</td>\n      <td>0.0</td>\n      <td>0.0</td>\n      <td>0.0</td>\n      <td>...</td>\n      <td>5</td>\n      <td>5</td>\n      <td>5</td>\n      <td>5</td>\n      <td>1</td>\n      <td>46</td>\n      <td>22</td>\n      <td>96.0</td>\n      <td>96.0</td>\n      <td>2023-10-01</td>\n    </tr>\n    <tr>\n      <th>623554</th>\n      <td>inn999759</td>\n      <td>117</td>\n      <td>116.0</td>\n      <td>9.263653e+06</td>\n      <td>5.0</td>\n      <td>71.0</td>\n      <td>16.041609</td>\n      <td>59.0</td>\n      <td>61.0</td>\n      <td>61.0</td>\n      <td>...</td>\n      <td>5</td>\n      <td>5</td>\n      <td>5</td>\n      <td>5</td>\n      <td>1</td>\n      <td>70</td>\n      <td>25</td>\n      <td>144.0</td>\n      <td>144.0</td>\n      <td>2023-10-01</td>\n    </tr>\n    <tr>\n      <th>623555</th>\n      <td>inn999886</td>\n      <td>117</td>\n      <td>65.0</td>\n      <td>2.593559e+07</td>\n      <td>6.0</td>\n      <td>29.0</td>\n      <td>17.071127</td>\n      <td>23.0</td>\n      <td>0.0</td>\n      <td>35.0</td>\n      <td>...</td>\n      <td>5</td>\n      <td>5</td>\n      <td>5</td>\n      <td>5</td>\n      <td>1</td>\n      <td>22</td>\n      <td>45</td>\n      <td>192.0</td>\n      <td>192.0</td>\n      <td>2023-10-01</td>\n    </tr>\n  </tbody>\n</table>\n<p>623556 rows × 297 columns</p>\n</div>"
          },
          "metadata": {}
        }
      ],
      "execution_count": null
    }
  ]
}